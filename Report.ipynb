{
  "nbformat": 4,
  "nbformat_minor": 5,
  "metadata": {
    "kernelspec": {
      "display_name": "Python 3",
      "language": "python",
      "name": "python3"
    },
    "language_info": {
      "codemirror_mode": {
        "name": "ipython",
        "version": 3
      },
      "file_extension": ".py",
      "mimetype": "text/x-python",
      "name": "python",
      "nbconvert_exporter": "python",
      "pygments_lexer": "ipython3",
      "version": "3.6.9"
    },
    "toc": {
      "base_numbering": 1,
      "nav_menu": {},
      "number_sections": true,
      "sideBar": true,
      "skip_h1_title": false,
      "title_cell": "Table of Contents",
      "title_sidebar": "Contents",
      "toc_cell": false,
      "toc_position": {
        "height": "calc(100% - 180px)",
        "left": "10px",
        "top": "150px",
        "width": "176px"
      },
      "toc_section_display": true,
      "toc_window_display": true
    },
    "colab": {
      "name": "Report.ipynb",
      "provenance": [],
      "collapsed_sections": [],
      "machine_shape": "hm",
      "toc_visible": true,
      "include_colab_link": true
    }
  },
  "cells": [
    {
      "cell_type": "markdown",
      "metadata": {
        "id": "view-in-github",
        "colab_type": "text"
      },
      "source": [
        "<a href=\"https://colab.research.google.com/github/thinnguyenqb/KHDLUD-Nhom05/blob/master/Report.ipynb\" target=\"_parent\"><img src=\"https://colab.research.google.com/assets/colab-badge.svg\" alt=\"Open In Colab\"/></a>"
      ]
    },
    {
      "cell_type": "markdown",
      "metadata": {
        "id": "7c42327a"
      },
      "source": [
        "![logo](https://drive.google.com/uc?export=view&id=1KGNBBRRabYfB1zOj94zVtKtVnx2vFB6f)"
      ],
      "id": "7c42327a"
    },
    {
      "cell_type": "markdown",
      "metadata": {
        "heading_collapsed": true,
        "id": "cbd62bbe"
      },
      "source": [
        "# Giới thiệu nhóm"
      ],
      "id": "cbd62bbe"
    },
    {
      "cell_type": "markdown",
      "metadata": {
        "hidden": true,
        "id": "e9adffc4"
      },
      "source": [
        "| MSSV | Full Name | ID Github |\n",
        "| ---- | ---- | -------- |\n",
        "| 1612835 | Bùi Trọng Xuyến | btxuyenhcmus |\n",
        "| 18120563 | Hứa Phú Thành | huasen07 |\n",
        "| 1712391 | Trần Bảo Duy | duytran1999 |\n",
        "| 1712787 | Nguyễn Văn Thìn | thinnguyenqb |\n",
        "\n",
        "[https://github.com/thinnguyenqb/KHDLUD-Nhom05.git](https://github.com/thinnguyenqb/KHDLUD-Nhom05.git)"
      ],
      "id": "e9adffc4"
    },
    {
      "cell_type": "markdown",
      "metadata": {
        "hidden": true,
        "id": "38f6e37f"
      },
      "source": [
        "![Footer-logo](https://drive.google.com/uc?export=view&id=17aEQ6johMz7h-OV_zfsxx3F11NcsWXAN)"
      ],
      "id": "38f6e37f"
    },
    {
      "cell_type": "markdown",
      "metadata": {
        "heading_collapsed": true,
        "id": "5cf6faf5"
      },
      "source": [
        "# Giới thiệu bài toán"
      ],
      "id": "5cf6faf5"
    },
    {
      "cell_type": "markdown",
      "metadata": {
        "hidden": true,
        "id": "fe0785e0"
      },
      "source": [
        "![banner](https://drive.google.com/uc?export=view&id=1pL0j1Nakl2rwa0CI06uwB2ylyuqOvwka)"
      ],
      "id": "fe0785e0"
    },
    {
      "cell_type": "markdown",
      "metadata": {
        "hidden": true,
        "id": "fc361dcb"
      },
      "source": [
        "## Sơ lược về cuộc thi"
      ],
      "id": "fc361dcb"
    },
    {
      "cell_type": "markdown",
      "metadata": {
        "hidden": true,
        "id": "c91bbe23"
      },
      "source": [
        "`Walmart` là một trong các chợ thương mại điện tử lớn hàng đầu ở USA, với lượng `volume` sản phẩm bán ra cực kì lớn của mình. Cuộc thi được đưa ra với mục tiêu thách thức các team sử dụng các thuật toán nâng cao để đưa ra được dự đoán chính xác nhất về lượng hàng hóa bán ra trong một chuỗi thời gian tương lai tiếp theo."
      ],
      "id": "c91bbe23"
    },
    {
      "cell_type": "markdown",
      "metadata": {
        "hidden": true,
        "id": "0392af46"
      },
      "source": [
        "`M5` bắt đầu vào ngày `02/03/2020` và kết thúc ngày `30/06/2020`. Tổ chức trên nền tảng công nghệ `Kaggle`."
      ],
      "id": "0392af46"
    },
    {
      "cell_type": "markdown",
      "metadata": {
        "hidden": true,
        "id": "f2b0af30"
      },
      "source": [
        "`M5` tổ chức thành 2 cuộc thi nhỏ chạy song song trên `kaggle` và cùng sử dụng chung một  bộ dữ liệu.\n",
        "\n",
        "- Cuộc thi đầu tiên có tên gọi là `M5 Forecasting Competition – Accuracy` với mục tiêu là dự đoán doanh số bán hàng trong 28 ngày kế tiếp cho các sản phẩm tại các cửa hàng Walmart. (*Cụ thể hơn là dự đoán số lượng bán ra của một mặt hàng trong một ngày của 28 ngày kế tiếp => Từ đó cửa hàng sẽ biết được số lượng hàng nhập vào để bán, tránh được tồn kho*)\n",
        "- Cuộc thi thứ hai có tên gọi là `M5 Forecasting Competition – Uncertainty` với mục tiêu là dự đoán xác xuất."
      ],
      "id": "f2b0af30"
    },
    {
      "cell_type": "code",
      "source": [
        ""
      ],
      "metadata": {
        "id": "tQMR0-I50EZD"
      },
      "id": "tQMR0-I50EZD",
      "execution_count": null,
      "outputs": []
    },
    {
      "cell_type": "markdown",
      "metadata": {
        "hidden": true,
        "id": "05385414"
      },
      "source": [
        "Cuộc thi kết thúc với sự tham gia của `5.558` teams"
      ],
      "id": "05385414"
    },
    {
      "cell_type": "markdown",
      "metadata": {
        "heading_collapsed": true,
        "hidden": true,
        "id": "70e1240e"
      },
      "source": [
        "## Dữ liệu đầu vào\n",
        "\n",
        "- `calendar.csv`\n",
        "- `sales_train_validation.csv`\n",
        "- `sell_prices.csv`\n",
        "- `sales_train_evaluation.csv`"
      ],
      "id": "70e1240e"
    },
    {
      "cell_type": "markdown",
      "metadata": {
        "heading_collapsed": true,
        "hidden": true,
        "id": "696224d6"
      },
      "source": [
        "## Dữ liệu đầu ra\n",
        "\n",
        "- `submission.csv`"
      ],
      "id": "696224d6"
    },
    {
      "cell_type": "markdown",
      "metadata": {
        "id": "7871ff5c"
      },
      "source": [
        "# Tập dữ liệu"
      ],
      "id": "7871ff5c"
    },
    {
      "cell_type": "code",
      "metadata": {
        "id": "atZFrTa-BVZv",
        "colab": {
          "base_uri": "https://localhost:8080/"
        },
        "outputId": "1b4a240f-1a83-4375-afdb-e55a7e25f648"
      },
      "source": [
        "from google.colab import drive\n",
        "drive.mount('/content/drive')\n",
        "#!find /content/drive\n",
        "%cd /content/drive/MyDrive/KHDLUD/input"
      ],
      "id": "atZFrTa-BVZv",
      "execution_count": 1,
      "outputs": [
        {
          "output_type": "stream",
          "name": "stdout",
          "text": [
            "Drive already mounted at /content/drive; to attempt to forcibly remount, call drive.mount(\"/content/drive\", force_remount=True).\n",
            "/content/drive/.shortcut-targets-by-id/162NSyrwjXoKLVN79CInPyD8lzPAUzNdG/KHDLUD/input\n"
          ]
        }
      ]
    },
    {
      "cell_type": "code",
      "metadata": {
        "colab": {
          "base_uri": "https://localhost:8080/"
        },
        "id": "u84kKiw-EE8g",
        "outputId": "7c7b3e28-8851-4143-daa0-869db87cb7ec"
      },
      "source": [
        "!ls"
      ],
      "id": "u84kKiw-EE8g",
      "execution_count": 2,
      "outputs": [
        {
          "output_type": "stream",
          "name": "stdout",
          "text": [
            " calendar.csv\t        kaggle.json\t     sales_train_evaluation.csv\n",
            " final_data_2.pkl       my_new_data_1.pkl    sales_train_validation.csv\n",
            " final_data.pkl         my_new_model_6.csv   sample_submission.csv\n",
            " final_model.lgb        my_new_model_6.lgb   sell_prices.csv\n",
            " final_submission.csv   my_new_model_7.csv   test_3_lgb_model.pkl\n",
            "'kaggle (1).json'       my_new_model_8.lgb\n"
          ]
        }
      ]
    },
    {
      "cell_type": "markdown",
      "metadata": {
        "id": "633d6bc1"
      },
      "source": [
        "![Dataset-hir](https://drive.google.com/uc?export=view&id=1l2ouDSWCf2TjPMCIVANuEP7gxvvDCgb9)"
      ],
      "id": "633d6bc1"
    },
    {
      "cell_type": "markdown",
      "metadata": {
        "id": "b7a4ed56"
      },
      "source": [
        "Tập dữ liệu `M5`, được cung cấp rộng rãi bởi `Walmart`, liên quan đến doanh số bán hàng đơn vị của các sản phẩm khác nhau được bán ở Hoa Kỳ, được tổ chức dưới dạng chuỗi thời gian được nhóm lại. Cụ thể hơn, tập dữ liệu liên quan đến doanh số bán hàng theo đơn vị của `3.049 sản phẩm`, được phân loại thành `3 danh mục` sản phẩm (Sở thích, Thực phẩm và Gia dụng) và `7 phòng ban sản phẩm`, trong đó các danh mục nêu trên được tách riêng. Các sản phẩm được bán trên mười cửa hàng, đặt tại `3 Bang` (California, Texas và Wisconsin)."
      ],
      "id": "b7a4ed56"
    },
    {
      "cell_type": "code",
      "metadata": {
        "id": "64d63dad"
      },
      "source": [
        "import pandas as pd"
      ],
      "id": "64d63dad",
      "execution_count": 3,
      "outputs": []
    },
    {
      "cell_type": "markdown",
      "metadata": {
        "id": "c12135b8"
      },
      "source": [
        "## Calendar.csv\n",
        "\n",
        "- `data`: Ngày ở địng dạng y-m-d\n",
        "- `wm_yr_wk`: id tuần mà ngày thuộc về\n",
        "- `weekday`: Loại ngày trong tuần (Monday, ….)\n",
        "- `wday`: Id của ngày trong tuần bắt đầu từ thứ 7\n",
        "- `month`: tháng\n",
        "- `year`: năm\n",
        "- `event_name_1`: Nếu ngày có sự kiện, thì tên sự kiện \n",
        "- `event_type_1`:Nếu ngày có sự kiện, thì loại sự kiện\n",
        "- `event_name_2`: Nếu ngày có sự kiện thứ hai, thì tên sự kiện\n",
        "- `event_type_2`: Nếu ngày có sự kiện thứ hai, thì loại sự kiện\n",
        "- `snap_CA,snap_TX, snap_WI`: giá trị nhị phân cho biết cửa hàng CA,TX,WI có cho phép mua SNAP^3 vào ngày được cho phép hay không ? Nếu cho phép là 1."
      ],
      "id": "c12135b8"
    },
    {
      "cell_type": "code",
      "metadata": {
        "id": "2c960397",
        "colab": {
          "base_uri": "https://localhost:8080/",
          "height": 250
        },
        "outputId": "c4ee08cd-f17f-435f-8dbd-47aaf1f5b085"
      },
      "source": [
        "calendar = pd.read_csv('calendar.csv')\n",
        "calendar.head(5)"
      ],
      "id": "2c960397",
      "execution_count": 4,
      "outputs": [
        {
          "output_type": "execute_result",
          "data": {
            "text/html": [
              "\n",
              "  <div id=\"df-e3beabff-e268-4824-8d01-4994edf89aa4\">\n",
              "    <div class=\"colab-df-container\">\n",
              "      <div>\n",
              "<style scoped>\n",
              "    .dataframe tbody tr th:only-of-type {\n",
              "        vertical-align: middle;\n",
              "    }\n",
              "\n",
              "    .dataframe tbody tr th {\n",
              "        vertical-align: top;\n",
              "    }\n",
              "\n",
              "    .dataframe thead th {\n",
              "        text-align: right;\n",
              "    }\n",
              "</style>\n",
              "<table border=\"1\" class=\"dataframe\">\n",
              "  <thead>\n",
              "    <tr style=\"text-align: right;\">\n",
              "      <th></th>\n",
              "      <th>date</th>\n",
              "      <th>wm_yr_wk</th>\n",
              "      <th>weekday</th>\n",
              "      <th>wday</th>\n",
              "      <th>month</th>\n",
              "      <th>year</th>\n",
              "      <th>d</th>\n",
              "      <th>event_name_1</th>\n",
              "      <th>event_type_1</th>\n",
              "      <th>event_name_2</th>\n",
              "      <th>event_type_2</th>\n",
              "      <th>snap_CA</th>\n",
              "      <th>snap_TX</th>\n",
              "      <th>snap_WI</th>\n",
              "    </tr>\n",
              "  </thead>\n",
              "  <tbody>\n",
              "    <tr>\n",
              "      <th>0</th>\n",
              "      <td>2011-01-29</td>\n",
              "      <td>11101</td>\n",
              "      <td>Saturday</td>\n",
              "      <td>1</td>\n",
              "      <td>1</td>\n",
              "      <td>2011</td>\n",
              "      <td>d_1</td>\n",
              "      <td>NaN</td>\n",
              "      <td>NaN</td>\n",
              "      <td>NaN</td>\n",
              "      <td>NaN</td>\n",
              "      <td>0</td>\n",
              "      <td>0</td>\n",
              "      <td>0</td>\n",
              "    </tr>\n",
              "    <tr>\n",
              "      <th>1</th>\n",
              "      <td>2011-01-30</td>\n",
              "      <td>11101</td>\n",
              "      <td>Sunday</td>\n",
              "      <td>2</td>\n",
              "      <td>1</td>\n",
              "      <td>2011</td>\n",
              "      <td>d_2</td>\n",
              "      <td>NaN</td>\n",
              "      <td>NaN</td>\n",
              "      <td>NaN</td>\n",
              "      <td>NaN</td>\n",
              "      <td>0</td>\n",
              "      <td>0</td>\n",
              "      <td>0</td>\n",
              "    </tr>\n",
              "    <tr>\n",
              "      <th>2</th>\n",
              "      <td>2011-01-31</td>\n",
              "      <td>11101</td>\n",
              "      <td>Monday</td>\n",
              "      <td>3</td>\n",
              "      <td>1</td>\n",
              "      <td>2011</td>\n",
              "      <td>d_3</td>\n",
              "      <td>NaN</td>\n",
              "      <td>NaN</td>\n",
              "      <td>NaN</td>\n",
              "      <td>NaN</td>\n",
              "      <td>0</td>\n",
              "      <td>0</td>\n",
              "      <td>0</td>\n",
              "    </tr>\n",
              "    <tr>\n",
              "      <th>3</th>\n",
              "      <td>2011-02-01</td>\n",
              "      <td>11101</td>\n",
              "      <td>Tuesday</td>\n",
              "      <td>4</td>\n",
              "      <td>2</td>\n",
              "      <td>2011</td>\n",
              "      <td>d_4</td>\n",
              "      <td>NaN</td>\n",
              "      <td>NaN</td>\n",
              "      <td>NaN</td>\n",
              "      <td>NaN</td>\n",
              "      <td>1</td>\n",
              "      <td>1</td>\n",
              "      <td>0</td>\n",
              "    </tr>\n",
              "    <tr>\n",
              "      <th>4</th>\n",
              "      <td>2011-02-02</td>\n",
              "      <td>11101</td>\n",
              "      <td>Wednesday</td>\n",
              "      <td>5</td>\n",
              "      <td>2</td>\n",
              "      <td>2011</td>\n",
              "      <td>d_5</td>\n",
              "      <td>NaN</td>\n",
              "      <td>NaN</td>\n",
              "      <td>NaN</td>\n",
              "      <td>NaN</td>\n",
              "      <td>1</td>\n",
              "      <td>0</td>\n",
              "      <td>1</td>\n",
              "    </tr>\n",
              "  </tbody>\n",
              "</table>\n",
              "</div>\n",
              "      <button class=\"colab-df-convert\" onclick=\"convertToInteractive('df-e3beabff-e268-4824-8d01-4994edf89aa4')\"\n",
              "              title=\"Convert this dataframe to an interactive table.\"\n",
              "              style=\"display:none;\">\n",
              "        \n",
              "  <svg xmlns=\"http://www.w3.org/2000/svg\" height=\"24px\"viewBox=\"0 0 24 24\"\n",
              "       width=\"24px\">\n",
              "    <path d=\"M0 0h24v24H0V0z\" fill=\"none\"/>\n",
              "    <path d=\"M18.56 5.44l.94 2.06.94-2.06 2.06-.94-2.06-.94-.94-2.06-.94 2.06-2.06.94zm-11 1L8.5 8.5l.94-2.06 2.06-.94-2.06-.94L8.5 2.5l-.94 2.06-2.06.94zm10 10l.94 2.06.94-2.06 2.06-.94-2.06-.94-.94-2.06-.94 2.06-2.06.94z\"/><path d=\"M17.41 7.96l-1.37-1.37c-.4-.4-.92-.59-1.43-.59-.52 0-1.04.2-1.43.59L10.3 9.45l-7.72 7.72c-.78.78-.78 2.05 0 2.83L4 21.41c.39.39.9.59 1.41.59.51 0 1.02-.2 1.41-.59l7.78-7.78 2.81-2.81c.8-.78.8-2.07 0-2.86zM5.41 20L4 18.59l7.72-7.72 1.47 1.35L5.41 20z\"/>\n",
              "  </svg>\n",
              "      </button>\n",
              "      \n",
              "  <style>\n",
              "    .colab-df-container {\n",
              "      display:flex;\n",
              "      flex-wrap:wrap;\n",
              "      gap: 12px;\n",
              "    }\n",
              "\n",
              "    .colab-df-convert {\n",
              "      background-color: #E8F0FE;\n",
              "      border: none;\n",
              "      border-radius: 50%;\n",
              "      cursor: pointer;\n",
              "      display: none;\n",
              "      fill: #1967D2;\n",
              "      height: 32px;\n",
              "      padding: 0 0 0 0;\n",
              "      width: 32px;\n",
              "    }\n",
              "\n",
              "    .colab-df-convert:hover {\n",
              "      background-color: #E2EBFA;\n",
              "      box-shadow: 0px 1px 2px rgba(60, 64, 67, 0.3), 0px 1px 3px 1px rgba(60, 64, 67, 0.15);\n",
              "      fill: #174EA6;\n",
              "    }\n",
              "\n",
              "    [theme=dark] .colab-df-convert {\n",
              "      background-color: #3B4455;\n",
              "      fill: #D2E3FC;\n",
              "    }\n",
              "\n",
              "    [theme=dark] .colab-df-convert:hover {\n",
              "      background-color: #434B5C;\n",
              "      box-shadow: 0px 1px 3px 1px rgba(0, 0, 0, 0.15);\n",
              "      filter: drop-shadow(0px 1px 2px rgba(0, 0, 0, 0.3));\n",
              "      fill: #FFFFFF;\n",
              "    }\n",
              "  </style>\n",
              "\n",
              "      <script>\n",
              "        const buttonEl =\n",
              "          document.querySelector('#df-e3beabff-e268-4824-8d01-4994edf89aa4 button.colab-df-convert');\n",
              "        buttonEl.style.display =\n",
              "          google.colab.kernel.accessAllowed ? 'block' : 'none';\n",
              "\n",
              "        async function convertToInteractive(key) {\n",
              "          const element = document.querySelector('#df-e3beabff-e268-4824-8d01-4994edf89aa4');\n",
              "          const dataTable =\n",
              "            await google.colab.kernel.invokeFunction('convertToInteractive',\n",
              "                                                     [key], {});\n",
              "          if (!dataTable) return;\n",
              "\n",
              "          const docLinkHtml = 'Like what you see? Visit the ' +\n",
              "            '<a target=\"_blank\" href=https://colab.research.google.com/notebooks/data_table.ipynb>data table notebook</a>'\n",
              "            + ' to learn more about interactive tables.';\n",
              "          element.innerHTML = '';\n",
              "          dataTable['output_type'] = 'display_data';\n",
              "          await google.colab.output.renderOutput(dataTable, element);\n",
              "          const docLink = document.createElement('div');\n",
              "          docLink.innerHTML = docLinkHtml;\n",
              "          element.appendChild(docLink);\n",
              "        }\n",
              "      </script>\n",
              "    </div>\n",
              "  </div>\n",
              "  "
            ],
            "text/plain": [
              "         date  wm_yr_wk    weekday  ...  snap_CA  snap_TX  snap_WI\n",
              "0  2011-01-29     11101   Saturday  ...        0        0        0\n",
              "1  2011-01-30     11101     Sunday  ...        0        0        0\n",
              "2  2011-01-31     11101     Monday  ...        0        0        0\n",
              "3  2011-02-01     11101    Tuesday  ...        1        1        0\n",
              "4  2011-02-02     11101  Wednesday  ...        1        0        1\n",
              "\n",
              "[5 rows x 14 columns]"
            ]
          },
          "metadata": {},
          "execution_count": 4
        }
      ]
    },
    {
      "cell_type": "code",
      "metadata": {
        "id": "386c7ace",
        "colab": {
          "base_uri": "https://localhost:8080/"
        },
        "outputId": "f45a28ec-29d6-43f2-83cc-e378952768bf"
      },
      "source": [
        "calendar.info()"
      ],
      "id": "386c7ace",
      "execution_count": 5,
      "outputs": [
        {
          "output_type": "stream",
          "name": "stdout",
          "text": [
            "<class 'pandas.core.frame.DataFrame'>\n",
            "RangeIndex: 1969 entries, 0 to 1968\n",
            "Data columns (total 14 columns):\n",
            " #   Column        Non-Null Count  Dtype \n",
            "---  ------        --------------  ----- \n",
            " 0   date          1969 non-null   object\n",
            " 1   wm_yr_wk      1969 non-null   int64 \n",
            " 2   weekday       1969 non-null   object\n",
            " 3   wday          1969 non-null   int64 \n",
            " 4   month         1969 non-null   int64 \n",
            " 5   year          1969 non-null   int64 \n",
            " 6   d             1969 non-null   object\n",
            " 7   event_name_1  162 non-null    object\n",
            " 8   event_type_1  162 non-null    object\n",
            " 9   event_name_2  5 non-null      object\n",
            " 10  event_type_2  5 non-null      object\n",
            " 11  snap_CA       1969 non-null   int64 \n",
            " 12  snap_TX       1969 non-null   int64 \n",
            " 13  snap_WI       1969 non-null   int64 \n",
            "dtypes: int64(7), object(7)\n",
            "memory usage: 215.5+ KB\n"
          ]
        }
      ]
    },
    {
      "cell_type": "markdown",
      "metadata": {
        "id": "d71f3691"
      },
      "source": [
        "## Sell_prices.csv\n",
        "\n",
        "- `store_id`: mã cửa hàng\n",
        "- `item_id`: mã mặt hàng\n",
        "- `wm_yr_wk`: id của tuần chứa ngày\n",
        "- `sell_price`: giá bán"
      ],
      "id": "d71f3691"
    },
    {
      "cell_type": "code",
      "metadata": {
        "id": "9058631f",
        "colab": {
          "base_uri": "https://localhost:8080/",
          "height": 206
        },
        "outputId": "f8a2753e-e188-4f3c-dc9d-498313b62e4a"
      },
      "source": [
        "sell_prices = pd.read_csv('sell_prices.csv')\n",
        "sell_prices.head(5)"
      ],
      "id": "9058631f",
      "execution_count": 6,
      "outputs": [
        {
          "output_type": "execute_result",
          "data": {
            "text/html": [
              "\n",
              "  <div id=\"df-9c4fff1a-dcb0-4a14-8446-5cb79b053d8e\">\n",
              "    <div class=\"colab-df-container\">\n",
              "      <div>\n",
              "<style scoped>\n",
              "    .dataframe tbody tr th:only-of-type {\n",
              "        vertical-align: middle;\n",
              "    }\n",
              "\n",
              "    .dataframe tbody tr th {\n",
              "        vertical-align: top;\n",
              "    }\n",
              "\n",
              "    .dataframe thead th {\n",
              "        text-align: right;\n",
              "    }\n",
              "</style>\n",
              "<table border=\"1\" class=\"dataframe\">\n",
              "  <thead>\n",
              "    <tr style=\"text-align: right;\">\n",
              "      <th></th>\n",
              "      <th>store_id</th>\n",
              "      <th>item_id</th>\n",
              "      <th>wm_yr_wk</th>\n",
              "      <th>sell_price</th>\n",
              "    </tr>\n",
              "  </thead>\n",
              "  <tbody>\n",
              "    <tr>\n",
              "      <th>0</th>\n",
              "      <td>CA_1</td>\n",
              "      <td>HOBBIES_1_001</td>\n",
              "      <td>11325</td>\n",
              "      <td>9.58</td>\n",
              "    </tr>\n",
              "    <tr>\n",
              "      <th>1</th>\n",
              "      <td>CA_1</td>\n",
              "      <td>HOBBIES_1_001</td>\n",
              "      <td>11326</td>\n",
              "      <td>9.58</td>\n",
              "    </tr>\n",
              "    <tr>\n",
              "      <th>2</th>\n",
              "      <td>CA_1</td>\n",
              "      <td>HOBBIES_1_001</td>\n",
              "      <td>11327</td>\n",
              "      <td>8.26</td>\n",
              "    </tr>\n",
              "    <tr>\n",
              "      <th>3</th>\n",
              "      <td>CA_1</td>\n",
              "      <td>HOBBIES_1_001</td>\n",
              "      <td>11328</td>\n",
              "      <td>8.26</td>\n",
              "    </tr>\n",
              "    <tr>\n",
              "      <th>4</th>\n",
              "      <td>CA_1</td>\n",
              "      <td>HOBBIES_1_001</td>\n",
              "      <td>11329</td>\n",
              "      <td>8.26</td>\n",
              "    </tr>\n",
              "  </tbody>\n",
              "</table>\n",
              "</div>\n",
              "      <button class=\"colab-df-convert\" onclick=\"convertToInteractive('df-9c4fff1a-dcb0-4a14-8446-5cb79b053d8e')\"\n",
              "              title=\"Convert this dataframe to an interactive table.\"\n",
              "              style=\"display:none;\">\n",
              "        \n",
              "  <svg xmlns=\"http://www.w3.org/2000/svg\" height=\"24px\"viewBox=\"0 0 24 24\"\n",
              "       width=\"24px\">\n",
              "    <path d=\"M0 0h24v24H0V0z\" fill=\"none\"/>\n",
              "    <path d=\"M18.56 5.44l.94 2.06.94-2.06 2.06-.94-2.06-.94-.94-2.06-.94 2.06-2.06.94zm-11 1L8.5 8.5l.94-2.06 2.06-.94-2.06-.94L8.5 2.5l-.94 2.06-2.06.94zm10 10l.94 2.06.94-2.06 2.06-.94-2.06-.94-.94-2.06-.94 2.06-2.06.94z\"/><path d=\"M17.41 7.96l-1.37-1.37c-.4-.4-.92-.59-1.43-.59-.52 0-1.04.2-1.43.59L10.3 9.45l-7.72 7.72c-.78.78-.78 2.05 0 2.83L4 21.41c.39.39.9.59 1.41.59.51 0 1.02-.2 1.41-.59l7.78-7.78 2.81-2.81c.8-.78.8-2.07 0-2.86zM5.41 20L4 18.59l7.72-7.72 1.47 1.35L5.41 20z\"/>\n",
              "  </svg>\n",
              "      </button>\n",
              "      \n",
              "  <style>\n",
              "    .colab-df-container {\n",
              "      display:flex;\n",
              "      flex-wrap:wrap;\n",
              "      gap: 12px;\n",
              "    }\n",
              "\n",
              "    .colab-df-convert {\n",
              "      background-color: #E8F0FE;\n",
              "      border: none;\n",
              "      border-radius: 50%;\n",
              "      cursor: pointer;\n",
              "      display: none;\n",
              "      fill: #1967D2;\n",
              "      height: 32px;\n",
              "      padding: 0 0 0 0;\n",
              "      width: 32px;\n",
              "    }\n",
              "\n",
              "    .colab-df-convert:hover {\n",
              "      background-color: #E2EBFA;\n",
              "      box-shadow: 0px 1px 2px rgba(60, 64, 67, 0.3), 0px 1px 3px 1px rgba(60, 64, 67, 0.15);\n",
              "      fill: #174EA6;\n",
              "    }\n",
              "\n",
              "    [theme=dark] .colab-df-convert {\n",
              "      background-color: #3B4455;\n",
              "      fill: #D2E3FC;\n",
              "    }\n",
              "\n",
              "    [theme=dark] .colab-df-convert:hover {\n",
              "      background-color: #434B5C;\n",
              "      box-shadow: 0px 1px 3px 1px rgba(0, 0, 0, 0.15);\n",
              "      filter: drop-shadow(0px 1px 2px rgba(0, 0, 0, 0.3));\n",
              "      fill: #FFFFFF;\n",
              "    }\n",
              "  </style>\n",
              "\n",
              "      <script>\n",
              "        const buttonEl =\n",
              "          document.querySelector('#df-9c4fff1a-dcb0-4a14-8446-5cb79b053d8e button.colab-df-convert');\n",
              "        buttonEl.style.display =\n",
              "          google.colab.kernel.accessAllowed ? 'block' : 'none';\n",
              "\n",
              "        async function convertToInteractive(key) {\n",
              "          const element = document.querySelector('#df-9c4fff1a-dcb0-4a14-8446-5cb79b053d8e');\n",
              "          const dataTable =\n",
              "            await google.colab.kernel.invokeFunction('convertToInteractive',\n",
              "                                                     [key], {});\n",
              "          if (!dataTable) return;\n",
              "\n",
              "          const docLinkHtml = 'Like what you see? Visit the ' +\n",
              "            '<a target=\"_blank\" href=https://colab.research.google.com/notebooks/data_table.ipynb>data table notebook</a>'\n",
              "            + ' to learn more about interactive tables.';\n",
              "          element.innerHTML = '';\n",
              "          dataTable['output_type'] = 'display_data';\n",
              "          await google.colab.output.renderOutput(dataTable, element);\n",
              "          const docLink = document.createElement('div');\n",
              "          docLink.innerHTML = docLinkHtml;\n",
              "          element.appendChild(docLink);\n",
              "        }\n",
              "      </script>\n",
              "    </div>\n",
              "  </div>\n",
              "  "
            ],
            "text/plain": [
              "  store_id        item_id  wm_yr_wk  sell_price\n",
              "0     CA_1  HOBBIES_1_001     11325        9.58\n",
              "1     CA_1  HOBBIES_1_001     11326        9.58\n",
              "2     CA_1  HOBBIES_1_001     11327        8.26\n",
              "3     CA_1  HOBBIES_1_001     11328        8.26\n",
              "4     CA_1  HOBBIES_1_001     11329        8.26"
            ]
          },
          "metadata": {},
          "execution_count": 6
        }
      ]
    },
    {
      "cell_type": "code",
      "metadata": {
        "id": "cd5df0d2",
        "colab": {
          "base_uri": "https://localhost:8080/"
        },
        "outputId": "dda91cb4-00f3-48f6-d5a7-d21537f7d922"
      },
      "source": [
        "sell_prices.info()"
      ],
      "id": "cd5df0d2",
      "execution_count": 7,
      "outputs": [
        {
          "output_type": "stream",
          "name": "stdout",
          "text": [
            "<class 'pandas.core.frame.DataFrame'>\n",
            "RangeIndex: 6841121 entries, 0 to 6841120\n",
            "Data columns (total 4 columns):\n",
            " #   Column      Dtype  \n",
            "---  ------      -----  \n",
            " 0   store_id    object \n",
            " 1   item_id     object \n",
            " 2   wm_yr_wk    int64  \n",
            " 3   sell_price  float64\n",
            "dtypes: float64(1), int64(1), object(2)\n",
            "memory usage: 208.8+ MB\n"
          ]
        }
      ]
    },
    {
      "cell_type": "markdown",
      "metadata": {
        "id": "315f9757"
      },
      "source": [
        "## Sales_train_evaluation.csv / sales_train_validation.csv\n",
        "\n",
        "- `id`: mã\n",
        "- `item_id`: mã sản phẩm\n",
        "- `dept_id`: mã khu vực/ vùng\n",
        "- `cat_id`: mã loại\n",
        "- `store_id`: mã cửa hàng\n",
        "- `state_id`: mã tiểu bang\n",
        "- `[d_1,d_1913]`: dữ liệu bán hàng"
      ],
      "id": "315f9757"
    },
    {
      "cell_type": "code",
      "metadata": {
        "id": "ee8d27fe",
        "colab": {
          "base_uri": "https://localhost:8080/",
          "height": 299
        },
        "outputId": "e2174f43-863d-404a-d5a3-ade7b77df664"
      },
      "source": [
        "sales_train_evaluation = pd.read_csv('sales_train_evaluation.csv')\n",
        "sales_train_evaluation.head(5)"
      ],
      "id": "ee8d27fe",
      "execution_count": 8,
      "outputs": [
        {
          "output_type": "execute_result",
          "data": {
            "text/html": [
              "\n",
              "  <div id=\"df-1e918d7f-3f11-4968-a67c-850f78be899b\">\n",
              "    <div class=\"colab-df-container\">\n",
              "      <div>\n",
              "<style scoped>\n",
              "    .dataframe tbody tr th:only-of-type {\n",
              "        vertical-align: middle;\n",
              "    }\n",
              "\n",
              "    .dataframe tbody tr th {\n",
              "        vertical-align: top;\n",
              "    }\n",
              "\n",
              "    .dataframe thead th {\n",
              "        text-align: right;\n",
              "    }\n",
              "</style>\n",
              "<table border=\"1\" class=\"dataframe\">\n",
              "  <thead>\n",
              "    <tr style=\"text-align: right;\">\n",
              "      <th></th>\n",
              "      <th>id</th>\n",
              "      <th>item_id</th>\n",
              "      <th>dept_id</th>\n",
              "      <th>cat_id</th>\n",
              "      <th>store_id</th>\n",
              "      <th>state_id</th>\n",
              "      <th>d_1</th>\n",
              "      <th>d_2</th>\n",
              "      <th>d_3</th>\n",
              "      <th>d_4</th>\n",
              "      <th>d_5</th>\n",
              "      <th>d_6</th>\n",
              "      <th>d_7</th>\n",
              "      <th>d_8</th>\n",
              "      <th>d_9</th>\n",
              "      <th>d_10</th>\n",
              "      <th>d_11</th>\n",
              "      <th>d_12</th>\n",
              "      <th>d_13</th>\n",
              "      <th>d_14</th>\n",
              "      <th>d_15</th>\n",
              "      <th>d_16</th>\n",
              "      <th>d_17</th>\n",
              "      <th>d_18</th>\n",
              "      <th>d_19</th>\n",
              "      <th>d_20</th>\n",
              "      <th>d_21</th>\n",
              "      <th>d_22</th>\n",
              "      <th>d_23</th>\n",
              "      <th>d_24</th>\n",
              "      <th>d_25</th>\n",
              "      <th>d_26</th>\n",
              "      <th>d_27</th>\n",
              "      <th>d_28</th>\n",
              "      <th>d_29</th>\n",
              "      <th>d_30</th>\n",
              "      <th>d_31</th>\n",
              "      <th>d_32</th>\n",
              "      <th>d_33</th>\n",
              "      <th>d_34</th>\n",
              "      <th>...</th>\n",
              "      <th>d_1902</th>\n",
              "      <th>d_1903</th>\n",
              "      <th>d_1904</th>\n",
              "      <th>d_1905</th>\n",
              "      <th>d_1906</th>\n",
              "      <th>d_1907</th>\n",
              "      <th>d_1908</th>\n",
              "      <th>d_1909</th>\n",
              "      <th>d_1910</th>\n",
              "      <th>d_1911</th>\n",
              "      <th>d_1912</th>\n",
              "      <th>d_1913</th>\n",
              "      <th>d_1914</th>\n",
              "      <th>d_1915</th>\n",
              "      <th>d_1916</th>\n",
              "      <th>d_1917</th>\n",
              "      <th>d_1918</th>\n",
              "      <th>d_1919</th>\n",
              "      <th>d_1920</th>\n",
              "      <th>d_1921</th>\n",
              "      <th>d_1922</th>\n",
              "      <th>d_1923</th>\n",
              "      <th>d_1924</th>\n",
              "      <th>d_1925</th>\n",
              "      <th>d_1926</th>\n",
              "      <th>d_1927</th>\n",
              "      <th>d_1928</th>\n",
              "      <th>d_1929</th>\n",
              "      <th>d_1930</th>\n",
              "      <th>d_1931</th>\n",
              "      <th>d_1932</th>\n",
              "      <th>d_1933</th>\n",
              "      <th>d_1934</th>\n",
              "      <th>d_1935</th>\n",
              "      <th>d_1936</th>\n",
              "      <th>d_1937</th>\n",
              "      <th>d_1938</th>\n",
              "      <th>d_1939</th>\n",
              "      <th>d_1940</th>\n",
              "      <th>d_1941</th>\n",
              "    </tr>\n",
              "  </thead>\n",
              "  <tbody>\n",
              "    <tr>\n",
              "      <th>0</th>\n",
              "      <td>HOBBIES_1_001_CA_1_evaluation</td>\n",
              "      <td>HOBBIES_1_001</td>\n",
              "      <td>HOBBIES_1</td>\n",
              "      <td>HOBBIES</td>\n",
              "      <td>CA_1</td>\n",
              "      <td>CA</td>\n",
              "      <td>0</td>\n",
              "      <td>0</td>\n",
              "      <td>0</td>\n",
              "      <td>0</td>\n",
              "      <td>0</td>\n",
              "      <td>0</td>\n",
              "      <td>0</td>\n",
              "      <td>0</td>\n",
              "      <td>0</td>\n",
              "      <td>0</td>\n",
              "      <td>0</td>\n",
              "      <td>0</td>\n",
              "      <td>0</td>\n",
              "      <td>0</td>\n",
              "      <td>0</td>\n",
              "      <td>0</td>\n",
              "      <td>0</td>\n",
              "      <td>0</td>\n",
              "      <td>0</td>\n",
              "      <td>0</td>\n",
              "      <td>0</td>\n",
              "      <td>0</td>\n",
              "      <td>0</td>\n",
              "      <td>0</td>\n",
              "      <td>0</td>\n",
              "      <td>0</td>\n",
              "      <td>0</td>\n",
              "      <td>0</td>\n",
              "      <td>0</td>\n",
              "      <td>0</td>\n",
              "      <td>0</td>\n",
              "      <td>0</td>\n",
              "      <td>0</td>\n",
              "      <td>0</td>\n",
              "      <td>...</td>\n",
              "      <td>0</td>\n",
              "      <td>1</td>\n",
              "      <td>1</td>\n",
              "      <td>3</td>\n",
              "      <td>0</td>\n",
              "      <td>1</td>\n",
              "      <td>1</td>\n",
              "      <td>1</td>\n",
              "      <td>3</td>\n",
              "      <td>0</td>\n",
              "      <td>1</td>\n",
              "      <td>1</td>\n",
              "      <td>0</td>\n",
              "      <td>0</td>\n",
              "      <td>0</td>\n",
              "      <td>2</td>\n",
              "      <td>0</td>\n",
              "      <td>3</td>\n",
              "      <td>5</td>\n",
              "      <td>0</td>\n",
              "      <td>0</td>\n",
              "      <td>1</td>\n",
              "      <td>1</td>\n",
              "      <td>0</td>\n",
              "      <td>2</td>\n",
              "      <td>1</td>\n",
              "      <td>2</td>\n",
              "      <td>2</td>\n",
              "      <td>1</td>\n",
              "      <td>0</td>\n",
              "      <td>2</td>\n",
              "      <td>4</td>\n",
              "      <td>0</td>\n",
              "      <td>0</td>\n",
              "      <td>0</td>\n",
              "      <td>0</td>\n",
              "      <td>3</td>\n",
              "      <td>3</td>\n",
              "      <td>0</td>\n",
              "      <td>1</td>\n",
              "    </tr>\n",
              "    <tr>\n",
              "      <th>1</th>\n",
              "      <td>HOBBIES_1_002_CA_1_evaluation</td>\n",
              "      <td>HOBBIES_1_002</td>\n",
              "      <td>HOBBIES_1</td>\n",
              "      <td>HOBBIES</td>\n",
              "      <td>CA_1</td>\n",
              "      <td>CA</td>\n",
              "      <td>0</td>\n",
              "      <td>0</td>\n",
              "      <td>0</td>\n",
              "      <td>0</td>\n",
              "      <td>0</td>\n",
              "      <td>0</td>\n",
              "      <td>0</td>\n",
              "      <td>0</td>\n",
              "      <td>0</td>\n",
              "      <td>0</td>\n",
              "      <td>0</td>\n",
              "      <td>0</td>\n",
              "      <td>0</td>\n",
              "      <td>0</td>\n",
              "      <td>0</td>\n",
              "      <td>0</td>\n",
              "      <td>0</td>\n",
              "      <td>0</td>\n",
              "      <td>0</td>\n",
              "      <td>0</td>\n",
              "      <td>0</td>\n",
              "      <td>0</td>\n",
              "      <td>0</td>\n",
              "      <td>0</td>\n",
              "      <td>0</td>\n",
              "      <td>0</td>\n",
              "      <td>0</td>\n",
              "      <td>0</td>\n",
              "      <td>0</td>\n",
              "      <td>0</td>\n",
              "      <td>0</td>\n",
              "      <td>0</td>\n",
              "      <td>0</td>\n",
              "      <td>0</td>\n",
              "      <td>...</td>\n",
              "      <td>0</td>\n",
              "      <td>0</td>\n",
              "      <td>0</td>\n",
              "      <td>0</td>\n",
              "      <td>0</td>\n",
              "      <td>0</td>\n",
              "      <td>0</td>\n",
              "      <td>1</td>\n",
              "      <td>0</td>\n",
              "      <td>0</td>\n",
              "      <td>0</td>\n",
              "      <td>0</td>\n",
              "      <td>0</td>\n",
              "      <td>1</td>\n",
              "      <td>0</td>\n",
              "      <td>0</td>\n",
              "      <td>0</td>\n",
              "      <td>0</td>\n",
              "      <td>0</td>\n",
              "      <td>0</td>\n",
              "      <td>0</td>\n",
              "      <td>1</td>\n",
              "      <td>0</td>\n",
              "      <td>0</td>\n",
              "      <td>0</td>\n",
              "      <td>0</td>\n",
              "      <td>0</td>\n",
              "      <td>0</td>\n",
              "      <td>0</td>\n",
              "      <td>0</td>\n",
              "      <td>0</td>\n",
              "      <td>1</td>\n",
              "      <td>2</td>\n",
              "      <td>1</td>\n",
              "      <td>1</td>\n",
              "      <td>0</td>\n",
              "      <td>0</td>\n",
              "      <td>0</td>\n",
              "      <td>0</td>\n",
              "      <td>0</td>\n",
              "    </tr>\n",
              "    <tr>\n",
              "      <th>2</th>\n",
              "      <td>HOBBIES_1_003_CA_1_evaluation</td>\n",
              "      <td>HOBBIES_1_003</td>\n",
              "      <td>HOBBIES_1</td>\n",
              "      <td>HOBBIES</td>\n",
              "      <td>CA_1</td>\n",
              "      <td>CA</td>\n",
              "      <td>0</td>\n",
              "      <td>0</td>\n",
              "      <td>0</td>\n",
              "      <td>0</td>\n",
              "      <td>0</td>\n",
              "      <td>0</td>\n",
              "      <td>0</td>\n",
              "      <td>0</td>\n",
              "      <td>0</td>\n",
              "      <td>0</td>\n",
              "      <td>0</td>\n",
              "      <td>0</td>\n",
              "      <td>0</td>\n",
              "      <td>0</td>\n",
              "      <td>0</td>\n",
              "      <td>0</td>\n",
              "      <td>0</td>\n",
              "      <td>0</td>\n",
              "      <td>0</td>\n",
              "      <td>0</td>\n",
              "      <td>0</td>\n",
              "      <td>0</td>\n",
              "      <td>0</td>\n",
              "      <td>0</td>\n",
              "      <td>0</td>\n",
              "      <td>0</td>\n",
              "      <td>0</td>\n",
              "      <td>0</td>\n",
              "      <td>0</td>\n",
              "      <td>0</td>\n",
              "      <td>0</td>\n",
              "      <td>0</td>\n",
              "      <td>0</td>\n",
              "      <td>0</td>\n",
              "      <td>...</td>\n",
              "      <td>1</td>\n",
              "      <td>2</td>\n",
              "      <td>2</td>\n",
              "      <td>1</td>\n",
              "      <td>2</td>\n",
              "      <td>1</td>\n",
              "      <td>1</td>\n",
              "      <td>1</td>\n",
              "      <td>0</td>\n",
              "      <td>1</td>\n",
              "      <td>1</td>\n",
              "      <td>1</td>\n",
              "      <td>0</td>\n",
              "      <td>0</td>\n",
              "      <td>1</td>\n",
              "      <td>1</td>\n",
              "      <td>0</td>\n",
              "      <td>2</td>\n",
              "      <td>1</td>\n",
              "      <td>0</td>\n",
              "      <td>0</td>\n",
              "      <td>0</td>\n",
              "      <td>0</td>\n",
              "      <td>2</td>\n",
              "      <td>1</td>\n",
              "      <td>3</td>\n",
              "      <td>0</td>\n",
              "      <td>0</td>\n",
              "      <td>1</td>\n",
              "      <td>0</td>\n",
              "      <td>1</td>\n",
              "      <td>0</td>\n",
              "      <td>2</td>\n",
              "      <td>0</td>\n",
              "      <td>0</td>\n",
              "      <td>0</td>\n",
              "      <td>2</td>\n",
              "      <td>3</td>\n",
              "      <td>0</td>\n",
              "      <td>1</td>\n",
              "    </tr>\n",
              "    <tr>\n",
              "      <th>3</th>\n",
              "      <td>HOBBIES_1_004_CA_1_evaluation</td>\n",
              "      <td>HOBBIES_1_004</td>\n",
              "      <td>HOBBIES_1</td>\n",
              "      <td>HOBBIES</td>\n",
              "      <td>CA_1</td>\n",
              "      <td>CA</td>\n",
              "      <td>0</td>\n",
              "      <td>0</td>\n",
              "      <td>0</td>\n",
              "      <td>0</td>\n",
              "      <td>0</td>\n",
              "      <td>0</td>\n",
              "      <td>0</td>\n",
              "      <td>0</td>\n",
              "      <td>0</td>\n",
              "      <td>0</td>\n",
              "      <td>0</td>\n",
              "      <td>0</td>\n",
              "      <td>0</td>\n",
              "      <td>0</td>\n",
              "      <td>0</td>\n",
              "      <td>0</td>\n",
              "      <td>0</td>\n",
              "      <td>0</td>\n",
              "      <td>0</td>\n",
              "      <td>0</td>\n",
              "      <td>0</td>\n",
              "      <td>0</td>\n",
              "      <td>0</td>\n",
              "      <td>0</td>\n",
              "      <td>0</td>\n",
              "      <td>0</td>\n",
              "      <td>0</td>\n",
              "      <td>0</td>\n",
              "      <td>0</td>\n",
              "      <td>0</td>\n",
              "      <td>0</td>\n",
              "      <td>0</td>\n",
              "      <td>0</td>\n",
              "      <td>0</td>\n",
              "      <td>...</td>\n",
              "      <td>3</td>\n",
              "      <td>0</td>\n",
              "      <td>1</td>\n",
              "      <td>0</td>\n",
              "      <td>5</td>\n",
              "      <td>4</td>\n",
              "      <td>1</td>\n",
              "      <td>0</td>\n",
              "      <td>1</td>\n",
              "      <td>3</td>\n",
              "      <td>7</td>\n",
              "      <td>2</td>\n",
              "      <td>0</td>\n",
              "      <td>0</td>\n",
              "      <td>1</td>\n",
              "      <td>2</td>\n",
              "      <td>4</td>\n",
              "      <td>1</td>\n",
              "      <td>6</td>\n",
              "      <td>4</td>\n",
              "      <td>0</td>\n",
              "      <td>0</td>\n",
              "      <td>0</td>\n",
              "      <td>2</td>\n",
              "      <td>2</td>\n",
              "      <td>4</td>\n",
              "      <td>2</td>\n",
              "      <td>1</td>\n",
              "      <td>1</td>\n",
              "      <td>1</td>\n",
              "      <td>1</td>\n",
              "      <td>1</td>\n",
              "      <td>0</td>\n",
              "      <td>4</td>\n",
              "      <td>0</td>\n",
              "      <td>1</td>\n",
              "      <td>3</td>\n",
              "      <td>0</td>\n",
              "      <td>2</td>\n",
              "      <td>6</td>\n",
              "    </tr>\n",
              "    <tr>\n",
              "      <th>4</th>\n",
              "      <td>HOBBIES_1_005_CA_1_evaluation</td>\n",
              "      <td>HOBBIES_1_005</td>\n",
              "      <td>HOBBIES_1</td>\n",
              "      <td>HOBBIES</td>\n",
              "      <td>CA_1</td>\n",
              "      <td>CA</td>\n",
              "      <td>0</td>\n",
              "      <td>0</td>\n",
              "      <td>0</td>\n",
              "      <td>0</td>\n",
              "      <td>0</td>\n",
              "      <td>0</td>\n",
              "      <td>0</td>\n",
              "      <td>0</td>\n",
              "      <td>0</td>\n",
              "      <td>0</td>\n",
              "      <td>0</td>\n",
              "      <td>0</td>\n",
              "      <td>0</td>\n",
              "      <td>0</td>\n",
              "      <td>0</td>\n",
              "      <td>0</td>\n",
              "      <td>0</td>\n",
              "      <td>0</td>\n",
              "      <td>0</td>\n",
              "      <td>0</td>\n",
              "      <td>0</td>\n",
              "      <td>0</td>\n",
              "      <td>0</td>\n",
              "      <td>0</td>\n",
              "      <td>0</td>\n",
              "      <td>0</td>\n",
              "      <td>0</td>\n",
              "      <td>0</td>\n",
              "      <td>0</td>\n",
              "      <td>0</td>\n",
              "      <td>0</td>\n",
              "      <td>0</td>\n",
              "      <td>0</td>\n",
              "      <td>0</td>\n",
              "      <td>...</td>\n",
              "      <td>1</td>\n",
              "      <td>1</td>\n",
              "      <td>2</td>\n",
              "      <td>1</td>\n",
              "      <td>1</td>\n",
              "      <td>0</td>\n",
              "      <td>1</td>\n",
              "      <td>1</td>\n",
              "      <td>2</td>\n",
              "      <td>2</td>\n",
              "      <td>2</td>\n",
              "      <td>4</td>\n",
              "      <td>1</td>\n",
              "      <td>0</td>\n",
              "      <td>2</td>\n",
              "      <td>3</td>\n",
              "      <td>1</td>\n",
              "      <td>0</td>\n",
              "      <td>3</td>\n",
              "      <td>2</td>\n",
              "      <td>3</td>\n",
              "      <td>1</td>\n",
              "      <td>1</td>\n",
              "      <td>3</td>\n",
              "      <td>2</td>\n",
              "      <td>3</td>\n",
              "      <td>2</td>\n",
              "      <td>2</td>\n",
              "      <td>2</td>\n",
              "      <td>2</td>\n",
              "      <td>0</td>\n",
              "      <td>0</td>\n",
              "      <td>0</td>\n",
              "      <td>2</td>\n",
              "      <td>1</td>\n",
              "      <td>0</td>\n",
              "      <td>0</td>\n",
              "      <td>2</td>\n",
              "      <td>1</td>\n",
              "      <td>0</td>\n",
              "    </tr>\n",
              "  </tbody>\n",
              "</table>\n",
              "<p>5 rows × 1947 columns</p>\n",
              "</div>\n",
              "      <button class=\"colab-df-convert\" onclick=\"convertToInteractive('df-1e918d7f-3f11-4968-a67c-850f78be899b')\"\n",
              "              title=\"Convert this dataframe to an interactive table.\"\n",
              "              style=\"display:none;\">\n",
              "        \n",
              "  <svg xmlns=\"http://www.w3.org/2000/svg\" height=\"24px\"viewBox=\"0 0 24 24\"\n",
              "       width=\"24px\">\n",
              "    <path d=\"M0 0h24v24H0V0z\" fill=\"none\"/>\n",
              "    <path d=\"M18.56 5.44l.94 2.06.94-2.06 2.06-.94-2.06-.94-.94-2.06-.94 2.06-2.06.94zm-11 1L8.5 8.5l.94-2.06 2.06-.94-2.06-.94L8.5 2.5l-.94 2.06-2.06.94zm10 10l.94 2.06.94-2.06 2.06-.94-2.06-.94-.94-2.06-.94 2.06-2.06.94z\"/><path d=\"M17.41 7.96l-1.37-1.37c-.4-.4-.92-.59-1.43-.59-.52 0-1.04.2-1.43.59L10.3 9.45l-7.72 7.72c-.78.78-.78 2.05 0 2.83L4 21.41c.39.39.9.59 1.41.59.51 0 1.02-.2 1.41-.59l7.78-7.78 2.81-2.81c.8-.78.8-2.07 0-2.86zM5.41 20L4 18.59l7.72-7.72 1.47 1.35L5.41 20z\"/>\n",
              "  </svg>\n",
              "      </button>\n",
              "      \n",
              "  <style>\n",
              "    .colab-df-container {\n",
              "      display:flex;\n",
              "      flex-wrap:wrap;\n",
              "      gap: 12px;\n",
              "    }\n",
              "\n",
              "    .colab-df-convert {\n",
              "      background-color: #E8F0FE;\n",
              "      border: none;\n",
              "      border-radius: 50%;\n",
              "      cursor: pointer;\n",
              "      display: none;\n",
              "      fill: #1967D2;\n",
              "      height: 32px;\n",
              "      padding: 0 0 0 0;\n",
              "      width: 32px;\n",
              "    }\n",
              "\n",
              "    .colab-df-convert:hover {\n",
              "      background-color: #E2EBFA;\n",
              "      box-shadow: 0px 1px 2px rgba(60, 64, 67, 0.3), 0px 1px 3px 1px rgba(60, 64, 67, 0.15);\n",
              "      fill: #174EA6;\n",
              "    }\n",
              "\n",
              "    [theme=dark] .colab-df-convert {\n",
              "      background-color: #3B4455;\n",
              "      fill: #D2E3FC;\n",
              "    }\n",
              "\n",
              "    [theme=dark] .colab-df-convert:hover {\n",
              "      background-color: #434B5C;\n",
              "      box-shadow: 0px 1px 3px 1px rgba(0, 0, 0, 0.15);\n",
              "      filter: drop-shadow(0px 1px 2px rgba(0, 0, 0, 0.3));\n",
              "      fill: #FFFFFF;\n",
              "    }\n",
              "  </style>\n",
              "\n",
              "      <script>\n",
              "        const buttonEl =\n",
              "          document.querySelector('#df-1e918d7f-3f11-4968-a67c-850f78be899b button.colab-df-convert');\n",
              "        buttonEl.style.display =\n",
              "          google.colab.kernel.accessAllowed ? 'block' : 'none';\n",
              "\n",
              "        async function convertToInteractive(key) {\n",
              "          const element = document.querySelector('#df-1e918d7f-3f11-4968-a67c-850f78be899b');\n",
              "          const dataTable =\n",
              "            await google.colab.kernel.invokeFunction('convertToInteractive',\n",
              "                                                     [key], {});\n",
              "          if (!dataTable) return;\n",
              "\n",
              "          const docLinkHtml = 'Like what you see? Visit the ' +\n",
              "            '<a target=\"_blank\" href=https://colab.research.google.com/notebooks/data_table.ipynb>data table notebook</a>'\n",
              "            + ' to learn more about interactive tables.';\n",
              "          element.innerHTML = '';\n",
              "          dataTable['output_type'] = 'display_data';\n",
              "          await google.colab.output.renderOutput(dataTable, element);\n",
              "          const docLink = document.createElement('div');\n",
              "          docLink.innerHTML = docLinkHtml;\n",
              "          element.appendChild(docLink);\n",
              "        }\n",
              "      </script>\n",
              "    </div>\n",
              "  </div>\n",
              "  "
            ],
            "text/plain": [
              "                              id        item_id  ... d_1940 d_1941\n",
              "0  HOBBIES_1_001_CA_1_evaluation  HOBBIES_1_001  ...      0      1\n",
              "1  HOBBIES_1_002_CA_1_evaluation  HOBBIES_1_002  ...      0      0\n",
              "2  HOBBIES_1_003_CA_1_evaluation  HOBBIES_1_003  ...      0      1\n",
              "3  HOBBIES_1_004_CA_1_evaluation  HOBBIES_1_004  ...      2      6\n",
              "4  HOBBIES_1_005_CA_1_evaluation  HOBBIES_1_005  ...      1      0\n",
              "\n",
              "[5 rows x 1947 columns]"
            ]
          },
          "metadata": {},
          "execution_count": 8
        }
      ]
    },
    {
      "cell_type": "code",
      "metadata": {
        "id": "e08f4ece",
        "colab": {
          "base_uri": "https://localhost:8080/"
        },
        "outputId": "666ff0c0-aa7f-4f9f-fa14-99b67562529e"
      },
      "source": [
        "sales_train_evaluation.info()"
      ],
      "id": "e08f4ece",
      "execution_count": 9,
      "outputs": [
        {
          "output_type": "stream",
          "name": "stdout",
          "text": [
            "<class 'pandas.core.frame.DataFrame'>\n",
            "RangeIndex: 30490 entries, 0 to 30489\n",
            "Columns: 1947 entries, id to d_1941\n",
            "dtypes: int64(1941), object(6)\n",
            "memory usage: 452.9+ MB\n"
          ]
        }
      ]
    },
    {
      "cell_type": "markdown",
      "metadata": {
        "id": "275f05e1"
      },
      "source": [
        "## Sample_submission.csv"
      ],
      "id": "275f05e1"
    },
    {
      "cell_type": "code",
      "metadata": {
        "id": "b6575f9f",
        "colab": {
          "base_uri": "https://localhost:8080/",
          "height": 270
        },
        "outputId": "d449d33b-1571-4aa4-a419-ff98fe88d87d"
      },
      "source": [
        "sample_submission_ = pd.read_csv('sample_submission.csv')\n",
        "sample_submission_.head(5)"
      ],
      "id": "b6575f9f",
      "execution_count": 10,
      "outputs": [
        {
          "output_type": "execute_result",
          "data": {
            "text/html": [
              "\n",
              "  <div id=\"df-ff257415-bce3-4c3d-8115-976fc4b46605\">\n",
              "    <div class=\"colab-df-container\">\n",
              "      <div>\n",
              "<style scoped>\n",
              "    .dataframe tbody tr th:only-of-type {\n",
              "        vertical-align: middle;\n",
              "    }\n",
              "\n",
              "    .dataframe tbody tr th {\n",
              "        vertical-align: top;\n",
              "    }\n",
              "\n",
              "    .dataframe thead th {\n",
              "        text-align: right;\n",
              "    }\n",
              "</style>\n",
              "<table border=\"1\" class=\"dataframe\">\n",
              "  <thead>\n",
              "    <tr style=\"text-align: right;\">\n",
              "      <th></th>\n",
              "      <th>id</th>\n",
              "      <th>F1</th>\n",
              "      <th>F2</th>\n",
              "      <th>F3</th>\n",
              "      <th>F4</th>\n",
              "      <th>F5</th>\n",
              "      <th>F6</th>\n",
              "      <th>F7</th>\n",
              "      <th>F8</th>\n",
              "      <th>F9</th>\n",
              "      <th>F10</th>\n",
              "      <th>F11</th>\n",
              "      <th>F12</th>\n",
              "      <th>F13</th>\n",
              "      <th>F14</th>\n",
              "      <th>F15</th>\n",
              "      <th>F16</th>\n",
              "      <th>F17</th>\n",
              "      <th>F18</th>\n",
              "      <th>F19</th>\n",
              "      <th>F20</th>\n",
              "      <th>F21</th>\n",
              "      <th>F22</th>\n",
              "      <th>F23</th>\n",
              "      <th>F24</th>\n",
              "      <th>F25</th>\n",
              "      <th>F26</th>\n",
              "      <th>F27</th>\n",
              "      <th>F28</th>\n",
              "    </tr>\n",
              "  </thead>\n",
              "  <tbody>\n",
              "    <tr>\n",
              "      <th>0</th>\n",
              "      <td>HOBBIES_1_001_CA_1_validation</td>\n",
              "      <td>0</td>\n",
              "      <td>0</td>\n",
              "      <td>0</td>\n",
              "      <td>0</td>\n",
              "      <td>0</td>\n",
              "      <td>0</td>\n",
              "      <td>0</td>\n",
              "      <td>0</td>\n",
              "      <td>0</td>\n",
              "      <td>0</td>\n",
              "      <td>0</td>\n",
              "      <td>0</td>\n",
              "      <td>0</td>\n",
              "      <td>0</td>\n",
              "      <td>0</td>\n",
              "      <td>0</td>\n",
              "      <td>0</td>\n",
              "      <td>0</td>\n",
              "      <td>0</td>\n",
              "      <td>0</td>\n",
              "      <td>0</td>\n",
              "      <td>0</td>\n",
              "      <td>0</td>\n",
              "      <td>0</td>\n",
              "      <td>0</td>\n",
              "      <td>0</td>\n",
              "      <td>0</td>\n",
              "      <td>0</td>\n",
              "    </tr>\n",
              "    <tr>\n",
              "      <th>1</th>\n",
              "      <td>HOBBIES_1_002_CA_1_validation</td>\n",
              "      <td>0</td>\n",
              "      <td>0</td>\n",
              "      <td>0</td>\n",
              "      <td>0</td>\n",
              "      <td>0</td>\n",
              "      <td>0</td>\n",
              "      <td>0</td>\n",
              "      <td>0</td>\n",
              "      <td>0</td>\n",
              "      <td>0</td>\n",
              "      <td>0</td>\n",
              "      <td>0</td>\n",
              "      <td>0</td>\n",
              "      <td>0</td>\n",
              "      <td>0</td>\n",
              "      <td>0</td>\n",
              "      <td>0</td>\n",
              "      <td>0</td>\n",
              "      <td>0</td>\n",
              "      <td>0</td>\n",
              "      <td>0</td>\n",
              "      <td>0</td>\n",
              "      <td>0</td>\n",
              "      <td>0</td>\n",
              "      <td>0</td>\n",
              "      <td>0</td>\n",
              "      <td>0</td>\n",
              "      <td>0</td>\n",
              "    </tr>\n",
              "    <tr>\n",
              "      <th>2</th>\n",
              "      <td>HOBBIES_1_003_CA_1_validation</td>\n",
              "      <td>0</td>\n",
              "      <td>0</td>\n",
              "      <td>0</td>\n",
              "      <td>0</td>\n",
              "      <td>0</td>\n",
              "      <td>0</td>\n",
              "      <td>0</td>\n",
              "      <td>0</td>\n",
              "      <td>0</td>\n",
              "      <td>0</td>\n",
              "      <td>0</td>\n",
              "      <td>0</td>\n",
              "      <td>0</td>\n",
              "      <td>0</td>\n",
              "      <td>0</td>\n",
              "      <td>0</td>\n",
              "      <td>0</td>\n",
              "      <td>0</td>\n",
              "      <td>0</td>\n",
              "      <td>0</td>\n",
              "      <td>0</td>\n",
              "      <td>0</td>\n",
              "      <td>0</td>\n",
              "      <td>0</td>\n",
              "      <td>0</td>\n",
              "      <td>0</td>\n",
              "      <td>0</td>\n",
              "      <td>0</td>\n",
              "    </tr>\n",
              "    <tr>\n",
              "      <th>3</th>\n",
              "      <td>HOBBIES_1_004_CA_1_validation</td>\n",
              "      <td>0</td>\n",
              "      <td>0</td>\n",
              "      <td>0</td>\n",
              "      <td>0</td>\n",
              "      <td>0</td>\n",
              "      <td>0</td>\n",
              "      <td>0</td>\n",
              "      <td>0</td>\n",
              "      <td>0</td>\n",
              "      <td>0</td>\n",
              "      <td>0</td>\n",
              "      <td>0</td>\n",
              "      <td>0</td>\n",
              "      <td>0</td>\n",
              "      <td>0</td>\n",
              "      <td>0</td>\n",
              "      <td>0</td>\n",
              "      <td>0</td>\n",
              "      <td>0</td>\n",
              "      <td>0</td>\n",
              "      <td>0</td>\n",
              "      <td>0</td>\n",
              "      <td>0</td>\n",
              "      <td>0</td>\n",
              "      <td>0</td>\n",
              "      <td>0</td>\n",
              "      <td>0</td>\n",
              "      <td>0</td>\n",
              "    </tr>\n",
              "    <tr>\n",
              "      <th>4</th>\n",
              "      <td>HOBBIES_1_005_CA_1_validation</td>\n",
              "      <td>0</td>\n",
              "      <td>0</td>\n",
              "      <td>0</td>\n",
              "      <td>0</td>\n",
              "      <td>0</td>\n",
              "      <td>0</td>\n",
              "      <td>0</td>\n",
              "      <td>0</td>\n",
              "      <td>0</td>\n",
              "      <td>0</td>\n",
              "      <td>0</td>\n",
              "      <td>0</td>\n",
              "      <td>0</td>\n",
              "      <td>0</td>\n",
              "      <td>0</td>\n",
              "      <td>0</td>\n",
              "      <td>0</td>\n",
              "      <td>0</td>\n",
              "      <td>0</td>\n",
              "      <td>0</td>\n",
              "      <td>0</td>\n",
              "      <td>0</td>\n",
              "      <td>0</td>\n",
              "      <td>0</td>\n",
              "      <td>0</td>\n",
              "      <td>0</td>\n",
              "      <td>0</td>\n",
              "      <td>0</td>\n",
              "    </tr>\n",
              "  </tbody>\n",
              "</table>\n",
              "</div>\n",
              "      <button class=\"colab-df-convert\" onclick=\"convertToInteractive('df-ff257415-bce3-4c3d-8115-976fc4b46605')\"\n",
              "              title=\"Convert this dataframe to an interactive table.\"\n",
              "              style=\"display:none;\">\n",
              "        \n",
              "  <svg xmlns=\"http://www.w3.org/2000/svg\" height=\"24px\"viewBox=\"0 0 24 24\"\n",
              "       width=\"24px\">\n",
              "    <path d=\"M0 0h24v24H0V0z\" fill=\"none\"/>\n",
              "    <path d=\"M18.56 5.44l.94 2.06.94-2.06 2.06-.94-2.06-.94-.94-2.06-.94 2.06-2.06.94zm-11 1L8.5 8.5l.94-2.06 2.06-.94-2.06-.94L8.5 2.5l-.94 2.06-2.06.94zm10 10l.94 2.06.94-2.06 2.06-.94-2.06-.94-.94-2.06-.94 2.06-2.06.94z\"/><path d=\"M17.41 7.96l-1.37-1.37c-.4-.4-.92-.59-1.43-.59-.52 0-1.04.2-1.43.59L10.3 9.45l-7.72 7.72c-.78.78-.78 2.05 0 2.83L4 21.41c.39.39.9.59 1.41.59.51 0 1.02-.2 1.41-.59l7.78-7.78 2.81-2.81c.8-.78.8-2.07 0-2.86zM5.41 20L4 18.59l7.72-7.72 1.47 1.35L5.41 20z\"/>\n",
              "  </svg>\n",
              "      </button>\n",
              "      \n",
              "  <style>\n",
              "    .colab-df-container {\n",
              "      display:flex;\n",
              "      flex-wrap:wrap;\n",
              "      gap: 12px;\n",
              "    }\n",
              "\n",
              "    .colab-df-convert {\n",
              "      background-color: #E8F0FE;\n",
              "      border: none;\n",
              "      border-radius: 50%;\n",
              "      cursor: pointer;\n",
              "      display: none;\n",
              "      fill: #1967D2;\n",
              "      height: 32px;\n",
              "      padding: 0 0 0 0;\n",
              "      width: 32px;\n",
              "    }\n",
              "\n",
              "    .colab-df-convert:hover {\n",
              "      background-color: #E2EBFA;\n",
              "      box-shadow: 0px 1px 2px rgba(60, 64, 67, 0.3), 0px 1px 3px 1px rgba(60, 64, 67, 0.15);\n",
              "      fill: #174EA6;\n",
              "    }\n",
              "\n",
              "    [theme=dark] .colab-df-convert {\n",
              "      background-color: #3B4455;\n",
              "      fill: #D2E3FC;\n",
              "    }\n",
              "\n",
              "    [theme=dark] .colab-df-convert:hover {\n",
              "      background-color: #434B5C;\n",
              "      box-shadow: 0px 1px 3px 1px rgba(0, 0, 0, 0.15);\n",
              "      filter: drop-shadow(0px 1px 2px rgba(0, 0, 0, 0.3));\n",
              "      fill: #FFFFFF;\n",
              "    }\n",
              "  </style>\n",
              "\n",
              "      <script>\n",
              "        const buttonEl =\n",
              "          document.querySelector('#df-ff257415-bce3-4c3d-8115-976fc4b46605 button.colab-df-convert');\n",
              "        buttonEl.style.display =\n",
              "          google.colab.kernel.accessAllowed ? 'block' : 'none';\n",
              "\n",
              "        async function convertToInteractive(key) {\n",
              "          const element = document.querySelector('#df-ff257415-bce3-4c3d-8115-976fc4b46605');\n",
              "          const dataTable =\n",
              "            await google.colab.kernel.invokeFunction('convertToInteractive',\n",
              "                                                     [key], {});\n",
              "          if (!dataTable) return;\n",
              "\n",
              "          const docLinkHtml = 'Like what you see? Visit the ' +\n",
              "            '<a target=\"_blank\" href=https://colab.research.google.com/notebooks/data_table.ipynb>data table notebook</a>'\n",
              "            + ' to learn more about interactive tables.';\n",
              "          element.innerHTML = '';\n",
              "          dataTable['output_type'] = 'display_data';\n",
              "          await google.colab.output.renderOutput(dataTable, element);\n",
              "          const docLink = document.createElement('div');\n",
              "          docLink.innerHTML = docLinkHtml;\n",
              "          element.appendChild(docLink);\n",
              "        }\n",
              "      </script>\n",
              "    </div>\n",
              "  </div>\n",
              "  "
            ],
            "text/plain": [
              "                              id  F1  F2  F3  F4  ...  F24  F25  F26  F27  F28\n",
              "0  HOBBIES_1_001_CA_1_validation   0   0   0   0  ...    0    0    0    0    0\n",
              "1  HOBBIES_1_002_CA_1_validation   0   0   0   0  ...    0    0    0    0    0\n",
              "2  HOBBIES_1_003_CA_1_validation   0   0   0   0  ...    0    0    0    0    0\n",
              "3  HOBBIES_1_004_CA_1_validation   0   0   0   0  ...    0    0    0    0    0\n",
              "4  HOBBIES_1_005_CA_1_validation   0   0   0   0  ...    0    0    0    0    0\n",
              "\n",
              "[5 rows x 29 columns]"
            ]
          },
          "metadata": {},
          "execution_count": 10
        }
      ]
    },
    {
      "cell_type": "markdown",
      "metadata": {
        "heading_collapsed": true,
        "id": "0d435802"
      },
      "source": [
        "# Đánh giá"
      ],
      "id": "0d435802"
    },
    {
      "cell_type": "markdown",
      "metadata": {
        "hidden": true,
        "id": "f6156757"
      },
      "source": [
        "## Forecasting horizon"
      ],
      "id": "f6156757"
    },
    {
      "cell_type": "markdown",
      "metadata": {
        "hidden": true,
        "id": "abc2f85d"
      },
      "source": [
        "Cả 2 cuộc thi dự đoán điểm và dự đoán sác xuất đều có chung một tham số `h=28 days` (4 weeks ahead).\n",
        "\n",
        "Đầu tiên, các phép đo hiệu suất được tính toán riêng biệt cho từng chuỗi bằng cách lấy trung bình các giá trị của chúng trên toàn bộ `forecasting horizon` và sau đó được tính trung bình lại trên `mỗi serices` theo kiểu có trọng số  để thu được điểm số cuối cùng."
      ],
      "id": "abc2f85d"
    },
    {
      "cell_type": "markdown",
      "metadata": {
        "hidden": true,
        "id": "fc721194"
      },
      "source": [
        "## Point forecasts"
      ],
      "id": "fc721194"
    },
    {
      "cell_type": "markdown",
      "metadata": {
        "hidden": true,
        "id": "ca99a200"
      },
      "source": [
        "Độ chính xác của các dự báo điểm sẽ được đánh giá bằng cách sử dụng `Root Mean Squared Scaled Error (RMSSE)`, là một biến thể của `well-known Mean Absolute Scaled Error (MASE)` nổi tiếng được đề xuất bởi `Hyndman và Koehler (2006)`. Số đo được tính cho từng series như sau:\n",
        "\n",
        "$$RMSSE = \\sqrt{\\frac{1}{h}\\frac{\\displaystyle\\sum_{t=n+1}^{n+h} (Y_{t} - \\hat{Y}_{t})^2}{\\frac{1}{n-1}\\displaystyle\\sum_{t=2}^{n}(Y_{t} - Y_{t-1})^2}}$$\n",
        "\n",
        "Với,\n",
        "- $Y_{t}$ là giá trị thật của `series` đã kiểm tra tại thời điểm t.\n",
        "- $\\hat{Y}_{t}$ là giá trị dự đoán.\n",
        "- $n$ là kích thước của tập training (số lượng quan sát lịch sử).\n",
        "- $h$ tham số `Forecasting horizon`"
      ],
      "id": "ca99a200"
    },
    {
      "cell_type": "markdown",
      "metadata": {
        "hidden": true,
        "id": "2ce20682"
      },
      "source": [
        "Sau khi đã ước tính cho `42840 series` mối đội tham gia sẽ được sếp hạng theo số điểm `Weighted RMSSE (WRMSSE)`, công thức sẽ là:\n",
        "\n",
        "$$WRMSSE = \\displaystyle\\sum_{i=1}^{42,840} w_{i}*RMSSE$$\n",
        "\n",
        "Với, $w_{i}$ là trọng số của series thứ $i$.\n",
        "\n",
        "Độ lỗi `WRMSSE` càng thấp thì tính chính xác của thuật toán áp dụng càng cao."
      ],
      "id": "2ce20682"
    },
    {
      "cell_type": "markdown",
      "metadata": {
        "heading_collapsed": true,
        "id": "e6f803e7"
      },
      "source": [
        "# Hướng giải quyết - `LightGBM Regressor (tuya)`"
      ],
      "id": "e6f803e7"
    },
    {
      "cell_type": "markdown",
      "metadata": {
        "hidden": true,
        "id": "fa8d827c"
      },
      "source": [
        "`LightGBM` có kết quả `score` là `0.67749 (private score)`. Trong tổng số `5.558 đội` tham gia cuộc thi thì với số điểm này và vị trí thứ `458` hướng giải quyết này lọt vào `top 9% trên bảng private leaderboard`.\n",
        "![tuya-kaggle](https://drive.google.com/uc?export=view&id=1AQyGcWC44Sd-pE6XlINApXohYCBNHJGQ)"
      ],
      "id": "fa8d827c"
    },
    {
      "cell_type": "markdown",
      "metadata": {
        "hidden": true,
        "id": "ec4e532a"
      },
      "source": [
        "So sánh `LightGBM` với các thuật toán khác với dùng một input đầu vào,\n",
        "\n",
        "![comparasion](https://drive.google.com/uc?export=view&id=1d__XDCMRvmY_d2kMzsUxMXI4RKpZ8hL4)\n",
        "![comparasion2](https://drive.google.com/uc?export=view&id=1UKKa7lIMNXJJ_0rrpysArlmXIdADK9mG)\n",
        "\n",
        "Quan sát các lần submit của các thuật toán, thì dễ dàng nhận ra `LightGBM` cho kết quả tốt nhất."
      ],
      "id": "ec4e532a"
    },
    {
      "cell_type": "markdown",
      "metadata": {
        "hidden": true,
        "id": "FQLCVX7D6G6b"
      },
      "source": [
        "## Feature Engineering and Data Preprocessing"
      ],
      "id": "FQLCVX7D6G6b"
    },
    {
      "cell_type": "code",
      "metadata": {
        "colab": {
          "base_uri": "https://localhost:8080/"
        },
        "outputId": "2458630f-4da4-4c3a-ee5b-bee1a6da86ee",
        "id": "UFeVvYXj6G6c"
      },
      "source": [
        "!pip install downcast"
      ],
      "execution_count": 11,
      "outputs": [
        {
          "output_type": "stream",
          "name": "stdout",
          "text": [
            "Requirement already satisfied: downcast in /usr/local/lib/python3.7/dist-packages (0.0.8)\n"
          ]
        }
      ],
      "id": "UFeVvYXj6G6c"
    },
    {
      "cell_type": "code",
      "metadata": {
        "hidden": true,
        "id": "FkCVsLRC6G6c"
      },
      "source": [
        "import pickle\n",
        "import numpy as np\n",
        "from matplotlib import pyplot as plt\n",
        "import seaborn as sns\n",
        "import plotly.express as px\n",
        "from downcast import reduce\n",
        "from sklearn.preprocessing import LabelEncoder\n",
        "import warnings\n",
        "warnings.filterwarnings(\"ignore\")\n",
        "from tqdm import tqdm"
      ],
      "execution_count": 12,
      "outputs": [],
      "id": "FkCVsLRC6G6c"
    },
    {
      "cell_type": "markdown",
      "metadata": {
        "hidden": true,
        "id": "W3uqAe036G6d"
      },
      "source": [
        "- Thay thế giá trị NaN trong các cột `event_name` và `event_type` thành no_event\n",
        "\n",
        "\n"
      ],
      "id": "W3uqAe036G6d"
    },
    {
      "cell_type": "code",
      "metadata": {
        "hidden": true,
        "id": "TP2iX4CV6G6d"
      },
      "source": [
        "cat=['event_name_1','event_type_1','event_name_2','event_type_2']\n",
        "for i in cat:\n",
        "  calendar[i].fillna('no_event',inplace=True)"
      ],
      "execution_count": null,
      "outputs": [],
      "id": "TP2iX4CV6G6d"
    },
    {
      "cell_type": "markdown",
      "metadata": {
        "hidden": true,
        "id": "C1xRaqHr6G6d"
      },
      "source": [
        "- Thêm cột `month_day` để thể hiện giá trị ngày mấy của tháng<br>\n",
        "(Không dùng nữa vì đã thử và kết quả không tốt)"
      ],
      "id": "C1xRaqHr6G6d"
    },
    {
      "cell_type": "code",
      "metadata": {
        "hidden": true,
        "id": "o4h7psng6G6d"
      },
      "source": [
        "# m=calendar[\"date\"].tolist()\n",
        "# m=[i.split(\"-\")[2] for i in m]\n",
        "# calendar[\"month_day\"]=m\n",
        "# calendar['month_day']=calendar['month_day'].astype(np.int8)"
      ],
      "execution_count": null,
      "outputs": [],
      "id": "o4h7psng6G6d"
    },
    {
      "cell_type": "markdown",
      "metadata": {
        "hidden": true,
        "id": "NDwTFHVp6G6d"
      },
      "source": [
        "- Thêm cột `month_week_number` cho biết là tuần thứ mấy của tháng<br>\n",
        "(Không dùng nữa vì đã thử và kết quả không tốt)"
      ],
      "id": "NDwTFHVp6G6d"
    },
    {
      "cell_type": "code",
      "metadata": {
        "hidden": true,
        "id": "L0tkHaVG6G6d"
      },
      "source": [
        "# calendar['month_week_number']=(calendar['month_day']-1) // 7 + 1 \n",
        "# calendar['month_week_number']=calendar['month_week_number'].astype(np.int8)"
      ],
      "execution_count": null,
      "outputs": [],
      "id": "L0tkHaVG6G6d"
    },
    {
      "cell_type": "markdown",
      "metadata": {
        "hidden": true,
        "id": "9Dl9l-nJ6G6e"
      },
      "source": [
        "- Thêm cột `events_per_day` cho biết số lượng sự kiện trong một ngày nào đó.<br>\n",
        "(Không dùng nữa vì đã thử và kết quả không tốt)"
      ],
      "id": "9Dl9l-nJ6G6e"
    },
    {
      "cell_type": "code",
      "metadata": {
        "hidden": true,
        "id": "R2Z7hlOV6G6e"
      },
      "source": [
        "# f=lambda x: 0 if x=='no_event' else 1\n",
        "# calendar['events_per_day']=calendar['event_type_1'].map(f) \n",
        "# index=calendar.index \n",
        "# indices=index[calendar['event_type_2']!='no_event'].tolist()\n",
        "# for i in indices:\n",
        "#   calendar['events_per_day'][i]+=1\n",
        "# calendar['events_per_day']=calendar['events_per_day'].astype(np.int8)"
      ],
      "execution_count": null,
      "outputs": [],
      "id": "R2Z7hlOV6G6e"
    },
    {
      "cell_type": "code",
      "metadata": {
        "hidden": true,
        "id": "N-DL-_MA6G6e"
      },
      "source": [
        "calendar=reduce(calendar)"
      ],
      "execution_count": null,
      "outputs": [],
      "id": "N-DL-_MA6G6e"
    },
    {
      "cell_type": "code",
      "metadata": {
        "hidden": true,
        "colab": {
          "base_uri": "https://localhost:8080/",
          "height": 215
        },
        "outputId": "ed751522-1e58-4c59-aecb-69f6d27b0eca",
        "id": "d9rgRds_6G6e"
      },
      "source": [
        "calendar.head(3)"
      ],
      "execution_count": null,
      "outputs": [
        {
          "output_type": "execute_result",
          "data": {
            "text/html": [
              "<div>\n",
              "<style scoped>\n",
              "    .dataframe tbody tr th:only-of-type {\n",
              "        vertical-align: middle;\n",
              "    }\n",
              "\n",
              "    .dataframe tbody tr th {\n",
              "        vertical-align: top;\n",
              "    }\n",
              "\n",
              "    .dataframe thead th {\n",
              "        text-align: right;\n",
              "    }\n",
              "</style>\n",
              "<table border=\"1\" class=\"dataframe\">\n",
              "  <thead>\n",
              "    <tr style=\"text-align: right;\">\n",
              "      <th></th>\n",
              "      <th>date</th>\n",
              "      <th>wm_yr_wk</th>\n",
              "      <th>weekday</th>\n",
              "      <th>wday</th>\n",
              "      <th>month</th>\n",
              "      <th>year</th>\n",
              "      <th>d</th>\n",
              "      <th>event_name_1</th>\n",
              "      <th>event_type_1</th>\n",
              "      <th>event_name_2</th>\n",
              "      <th>event_type_2</th>\n",
              "      <th>snap_CA</th>\n",
              "      <th>snap_TX</th>\n",
              "      <th>snap_WI</th>\n",
              "      <th>is_weekend</th>\n",
              "      <th>month_day</th>\n",
              "      <th>month_week_number</th>\n",
              "      <th>events_per_day</th>\n",
              "    </tr>\n",
              "  </thead>\n",
              "  <tbody>\n",
              "    <tr>\n",
              "      <th>0</th>\n",
              "      <td>2011-01-29</td>\n",
              "      <td>11101</td>\n",
              "      <td>Saturday</td>\n",
              "      <td>1</td>\n",
              "      <td>1</td>\n",
              "      <td>2011</td>\n",
              "      <td>d_1</td>\n",
              "      <td>no_event</td>\n",
              "      <td>no_event</td>\n",
              "      <td>no_event</td>\n",
              "      <td>no_event</td>\n",
              "      <td>0</td>\n",
              "      <td>0</td>\n",
              "      <td>0</td>\n",
              "      <td>1</td>\n",
              "      <td>29</td>\n",
              "      <td>5</td>\n",
              "      <td>0</td>\n",
              "    </tr>\n",
              "    <tr>\n",
              "      <th>1</th>\n",
              "      <td>2011-01-30</td>\n",
              "      <td>11101</td>\n",
              "      <td>Sunday</td>\n",
              "      <td>2</td>\n",
              "      <td>1</td>\n",
              "      <td>2011</td>\n",
              "      <td>d_2</td>\n",
              "      <td>no_event</td>\n",
              "      <td>no_event</td>\n",
              "      <td>no_event</td>\n",
              "      <td>no_event</td>\n",
              "      <td>0</td>\n",
              "      <td>0</td>\n",
              "      <td>0</td>\n",
              "      <td>1</td>\n",
              "      <td>30</td>\n",
              "      <td>5</td>\n",
              "      <td>0</td>\n",
              "    </tr>\n",
              "    <tr>\n",
              "      <th>2</th>\n",
              "      <td>2011-01-31</td>\n",
              "      <td>11101</td>\n",
              "      <td>Monday</td>\n",
              "      <td>3</td>\n",
              "      <td>1</td>\n",
              "      <td>2011</td>\n",
              "      <td>d_3</td>\n",
              "      <td>no_event</td>\n",
              "      <td>no_event</td>\n",
              "      <td>no_event</td>\n",
              "      <td>no_event</td>\n",
              "      <td>0</td>\n",
              "      <td>0</td>\n",
              "      <td>0</td>\n",
              "      <td>0</td>\n",
              "      <td>31</td>\n",
              "      <td>5</td>\n",
              "      <td>0</td>\n",
              "    </tr>\n",
              "  </tbody>\n",
              "</table>\n",
              "</div>"
            ],
            "text/plain": [
              "        date  wm_yr_wk   weekday  ...  month_day  month_week_number  events_per_day\n",
              "0 2011-01-29     11101  Saturday  ...         29                  5               0\n",
              "1 2011-01-30     11101    Sunday  ...         30                  5               0\n",
              "2 2011-01-31     11101    Monday  ...         31                  5               0\n",
              "\n",
              "[3 rows x 18 columns]"
            ]
          },
          "metadata": {},
          "execution_count": 23
        }
      ],
      "id": "d9rgRds_6G6e"
    },
    {
      "cell_type": "code",
      "metadata": {
        "hidden": true,
        "id": "6DTlvdSt6G6e"
      },
      "source": [
        "sales_train_evaluation=reduce(sales_train_evaluation)"
      ],
      "execution_count": null,
      "outputs": [],
      "id": "6DTlvdSt6G6e"
    },
    {
      "cell_type": "code",
      "metadata": {
        "hidden": true,
        "id": "-Oeojarq6G6e"
      },
      "source": [
        "sell_prices=reduce(sell_prices)"
      ],
      "execution_count": null,
      "outputs": [],
      "id": "-Oeojarq6G6e"
    },
    {
      "cell_type": "code",
      "metadata": {
        "hidden": true,
        "colab": {
          "base_uri": "https://localhost:8080/"
        },
        "outputId": "ae33f76f-f023-4945-fee4-e6014d88b35f",
        "id": "BMcXiqzo6G6f"
      },
      "source": [
        "sales_train_evaluation[['id','item_id','dept_id','cat_id','store_id','state_id']].nunique()"
      ],
      "execution_count": null,
      "outputs": [
        {
          "output_type": "execute_result",
          "data": {
            "text/plain": [
              "id          30490\n",
              "item_id      3049\n",
              "dept_id         7\n",
              "cat_id          3\n",
              "store_id       10\n",
              "state_id        3\n",
              "dtype: int64"
            ]
          },
          "metadata": {},
          "execution_count": 27
        }
      ],
      "id": "BMcXiqzo6G6f"
    },
    {
      "cell_type": "markdown",
      "metadata": {
        "hidden": true,
        "id": "A1z7xflE6G6f"
      },
      "source": [
        "### Melting\n",
        "\n",
        "- To make analysis of data in table easier we can reshape the data into a more computer-friendly form using pandas in Python. pandas.melt() is one of the function to do so\n",
        "- pandas.melt() unpivots a DataFrame from wide format to long format.\n",
        "- melt() function is useful to massage a DataFrame into a format where one or more columns are identifier variables while all other columns considered measured variables are unpivoted to the row axis leaving just two non-identifier columns variable and value."
      ],
      "id": "A1z7xflE6G6f"
    },
    {
      "cell_type": "code",
      "source": [
        "df = pd.melt(sales_train_evaluation,id_vars=sales_train_evaluation.columns.values[:6],var_name=\"d\",value_name=\"demand\")\n",
        "df[\"demand\"] = df[\"demand\"].astype(\"float32\")\n",
        "df = df.merge(calendar, on='d', copy = False)\n",
        "df = df.merge(sell_prices, on=[ \"item_id\",\"store_id\", \"wm_yr_wk\"],copy = False)"
      ],
      "metadata": {
        "id": "pGemL4_ByMk_"
      },
      "execution_count": null,
      "outputs": [],
      "id": "pGemL4_ByMk_"
    },
    {
      "cell_type": "code",
      "metadata": {
        "hidden": true,
        "colab": {
          "base_uri": "https://localhost:8080/",
          "height": 215
        },
        "outputId": "a96eb528-cadb-4b9a-d3d2-13901dea56c5",
        "id": "zcoipLxa6G6f"
      },
      "source": [
        "df.head(3)"
      ],
      "execution_count": null,
      "outputs": [
        {
          "output_type": "execute_result",
          "data": {
            "text/html": [
              "<div>\n",
              "<style scoped>\n",
              "    .dataframe tbody tr th:only-of-type {\n",
              "        vertical-align: middle;\n",
              "    }\n",
              "\n",
              "    .dataframe tbody tr th {\n",
              "        vertical-align: top;\n",
              "    }\n",
              "\n",
              "    .dataframe thead th {\n",
              "        text-align: right;\n",
              "    }\n",
              "</style>\n",
              "<table border=\"1\" class=\"dataframe\">\n",
              "  <thead>\n",
              "    <tr style=\"text-align: right;\">\n",
              "      <th></th>\n",
              "      <th>id</th>\n",
              "      <th>item_id</th>\n",
              "      <th>dept_id</th>\n",
              "      <th>cat_id</th>\n",
              "      <th>store_id</th>\n",
              "      <th>state_id</th>\n",
              "      <th>d</th>\n",
              "      <th>demand</th>\n",
              "      <th>date</th>\n",
              "      <th>wm_yr_wk</th>\n",
              "      <th>weekday</th>\n",
              "      <th>wday</th>\n",
              "      <th>month</th>\n",
              "      <th>year</th>\n",
              "      <th>event_name_1</th>\n",
              "      <th>event_type_1</th>\n",
              "      <th>event_name_2</th>\n",
              "      <th>event_type_2</th>\n",
              "      <th>snap_CA</th>\n",
              "      <th>snap_TX</th>\n",
              "      <th>snap_WI</th>\n",
              "      <th>is_weekend</th>\n",
              "      <th>month_day</th>\n",
              "      <th>month_week_number</th>\n",
              "      <th>events_per_day</th>\n",
              "      <th>sell_price</th>\n",
              "    </tr>\n",
              "  </thead>\n",
              "  <tbody>\n",
              "    <tr>\n",
              "      <th>0</th>\n",
              "      <td>HOBBIES_1_001_CA_1_evaluation</td>\n",
              "      <td>HOBBIES_1_001</td>\n",
              "      <td>HOBBIES_1</td>\n",
              "      <td>HOBBIES</td>\n",
              "      <td>CA_1</td>\n",
              "      <td>CA</td>\n",
              "      <td>d_1</td>\n",
              "      <td>0</td>\n",
              "      <td>2011-01-29</td>\n",
              "      <td>11101</td>\n",
              "      <td>Saturday</td>\n",
              "      <td>1</td>\n",
              "      <td>1</td>\n",
              "      <td>2011</td>\n",
              "      <td>no_event</td>\n",
              "      <td>no_event</td>\n",
              "      <td>no_event</td>\n",
              "      <td>no_event</td>\n",
              "      <td>0</td>\n",
              "      <td>0</td>\n",
              "      <td>0</td>\n",
              "      <td>1</td>\n",
              "      <td>29</td>\n",
              "      <td>5</td>\n",
              "      <td>0</td>\n",
              "      <td>NaN</td>\n",
              "    </tr>\n",
              "    <tr>\n",
              "      <th>1</th>\n",
              "      <td>HOBBIES_1_002_CA_1_evaluation</td>\n",
              "      <td>HOBBIES_1_002</td>\n",
              "      <td>HOBBIES_1</td>\n",
              "      <td>HOBBIES</td>\n",
              "      <td>CA_1</td>\n",
              "      <td>CA</td>\n",
              "      <td>d_1</td>\n",
              "      <td>0</td>\n",
              "      <td>2011-01-29</td>\n",
              "      <td>11101</td>\n",
              "      <td>Saturday</td>\n",
              "      <td>1</td>\n",
              "      <td>1</td>\n",
              "      <td>2011</td>\n",
              "      <td>no_event</td>\n",
              "      <td>no_event</td>\n",
              "      <td>no_event</td>\n",
              "      <td>no_event</td>\n",
              "      <td>0</td>\n",
              "      <td>0</td>\n",
              "      <td>0</td>\n",
              "      <td>1</td>\n",
              "      <td>29</td>\n",
              "      <td>5</td>\n",
              "      <td>0</td>\n",
              "      <td>NaN</td>\n",
              "    </tr>\n",
              "    <tr>\n",
              "      <th>2</th>\n",
              "      <td>HOBBIES_1_003_CA_1_evaluation</td>\n",
              "      <td>HOBBIES_1_003</td>\n",
              "      <td>HOBBIES_1</td>\n",
              "      <td>HOBBIES</td>\n",
              "      <td>CA_1</td>\n",
              "      <td>CA</td>\n",
              "      <td>d_1</td>\n",
              "      <td>0</td>\n",
              "      <td>2011-01-29</td>\n",
              "      <td>11101</td>\n",
              "      <td>Saturday</td>\n",
              "      <td>1</td>\n",
              "      <td>1</td>\n",
              "      <td>2011</td>\n",
              "      <td>no_event</td>\n",
              "      <td>no_event</td>\n",
              "      <td>no_event</td>\n",
              "      <td>no_event</td>\n",
              "      <td>0</td>\n",
              "      <td>0</td>\n",
              "      <td>0</td>\n",
              "      <td>1</td>\n",
              "      <td>29</td>\n",
              "      <td>5</td>\n",
              "      <td>0</td>\n",
              "      <td>NaN</td>\n",
              "    </tr>\n",
              "  </tbody>\n",
              "</table>\n",
              "</div>"
            ],
            "text/plain": [
              "                              id        item_id  ... events_per_day sell_price\n",
              "0  HOBBIES_1_001_CA_1_evaluation  HOBBIES_1_001  ...              0        NaN\n",
              "1  HOBBIES_1_002_CA_1_evaluation  HOBBIES_1_002  ...              0        NaN\n",
              "2  HOBBIES_1_003_CA_1_evaluation  HOBBIES_1_003  ...              0        NaN\n",
              "\n",
              "[3 rows x 26 columns]"
            ]
          },
          "metadata": {},
          "execution_count": 29
        }
      ],
      "id": "zcoipLxa6G6f"
    },
    {
      "cell_type": "markdown",
      "metadata": {
        "hidden": true,
        "id": "q3PBnoek6G6g"
      },
      "source": [
        "**Cột `sell_price` chứa rất nhiều biến Nan nên điền vào chỗ Nan bằng giá trị mean.**"
      ],
      "id": "q3PBnoek6G6g"
    },
    {
      "cell_type": "code",
      "metadata": {
        "hidden": true,
        "id": "wzPHxKiq6G6g"
      },
      "source": [
        "df['sell_price']=df['sell_price'].fillna(df.groupby('id')['sell_price'].transform('mean'))"
      ],
      "execution_count": null,
      "outputs": [],
      "id": "wzPHxKiq6G6g"
    },
    {
      "cell_type": "markdown",
      "source": [
        "**Lược bớt dữ liệu trước ngày 1-1-2014 = d_1069 trước khi đưa vào xử lí (sử dụng biến wm_yr_wk với kiểu số để dễ xử lí)**<br>\n",
        "Tác giả đã lược bớt ngày sau khi hoàn thành Feature Engineering and Data Preprocessing, tuy nhiên nhóm đã xử lí trước vấn đề này để khi Feature thì dữ liệu nhẹ hơn, chạy nhanh hơn."
      ],
      "metadata": {
        "id": "NQO2O2Jr6G6f"
      },
      "id": "NQO2O2Jr6G6f"
    },
    {
      "cell_type": "code",
      "source": [
        "df.drop(df.index[df[\"wm_yr_wk\"]<11349], inplace=True)"
      ],
      "metadata": {
        "id": "BTXNvC0z6G6f"
      },
      "execution_count": null,
      "outputs": [],
      "id": "BTXNvC0z6G6f"
    },
    {
      "cell_type": "code",
      "metadata": {
        "hidden": true,
        "colab": {
          "base_uri": "https://localhost:8080/",
          "height": 215
        },
        "outputId": "10ef569c-f9f3-4361-969d-d23eebc1484f",
        "id": "fdbVOSX56G6g"
      },
      "source": [
        "df.head(3)"
      ],
      "execution_count": null,
      "outputs": [
        {
          "output_type": "execute_result",
          "data": {
            "text/html": [
              "<div>\n",
              "<style scoped>\n",
              "    .dataframe tbody tr th:only-of-type {\n",
              "        vertical-align: middle;\n",
              "    }\n",
              "\n",
              "    .dataframe tbody tr th {\n",
              "        vertical-align: top;\n",
              "    }\n",
              "\n",
              "    .dataframe thead th {\n",
              "        text-align: right;\n",
              "    }\n",
              "</style>\n",
              "<table border=\"1\" class=\"dataframe\">\n",
              "  <thead>\n",
              "    <tr style=\"text-align: right;\">\n",
              "      <th></th>\n",
              "      <th>id</th>\n",
              "      <th>item_id</th>\n",
              "      <th>dept_id</th>\n",
              "      <th>cat_id</th>\n",
              "      <th>store_id</th>\n",
              "      <th>state_id</th>\n",
              "      <th>d</th>\n",
              "      <th>demand</th>\n",
              "      <th>date</th>\n",
              "      <th>wm_yr_wk</th>\n",
              "      <th>weekday</th>\n",
              "      <th>wday</th>\n",
              "      <th>month</th>\n",
              "      <th>year</th>\n",
              "      <th>event_name_1</th>\n",
              "      <th>event_type_1</th>\n",
              "      <th>event_name_2</th>\n",
              "      <th>event_type_2</th>\n",
              "      <th>snap_CA</th>\n",
              "      <th>snap_TX</th>\n",
              "      <th>snap_WI</th>\n",
              "      <th>is_weekend</th>\n",
              "      <th>month_day</th>\n",
              "      <th>month_week_number</th>\n",
              "      <th>events_per_day</th>\n",
              "      <th>sell_price</th>\n",
              "    </tr>\n",
              "  </thead>\n",
              "  <tbody>\n",
              "    <tr>\n",
              "      <th>32441360</th>\n",
              "      <td>HOBBIES_1_001_CA_1_evaluation</td>\n",
              "      <td>HOBBIES_1_001</td>\n",
              "      <td>HOBBIES_1</td>\n",
              "      <td>HOBBIES</td>\n",
              "      <td>CA_1</td>\n",
              "      <td>CA</td>\n",
              "      <td>d_1065</td>\n",
              "      <td>0</td>\n",
              "      <td>2013-12-28</td>\n",
              "      <td>11349</td>\n",
              "      <td>Saturday</td>\n",
              "      <td>1</td>\n",
              "      <td>12</td>\n",
              "      <td>2013</td>\n",
              "      <td>no_event</td>\n",
              "      <td>no_event</td>\n",
              "      <td>no_event</td>\n",
              "      <td>no_event</td>\n",
              "      <td>0</td>\n",
              "      <td>0</td>\n",
              "      <td>0</td>\n",
              "      <td>1</td>\n",
              "      <td>28</td>\n",
              "      <td>4</td>\n",
              "      <td>0</td>\n",
              "      <td>8.257812</td>\n",
              "    </tr>\n",
              "    <tr>\n",
              "      <th>32441361</th>\n",
              "      <td>HOBBIES_1_002_CA_1_evaluation</td>\n",
              "      <td>HOBBIES_1_002</td>\n",
              "      <td>HOBBIES_1</td>\n",
              "      <td>HOBBIES</td>\n",
              "      <td>CA_1</td>\n",
              "      <td>CA</td>\n",
              "      <td>d_1065</td>\n",
              "      <td>0</td>\n",
              "      <td>2013-12-28</td>\n",
              "      <td>11349</td>\n",
              "      <td>Saturday</td>\n",
              "      <td>1</td>\n",
              "      <td>12</td>\n",
              "      <td>2013</td>\n",
              "      <td>no_event</td>\n",
              "      <td>no_event</td>\n",
              "      <td>no_event</td>\n",
              "      <td>no_event</td>\n",
              "      <td>0</td>\n",
              "      <td>0</td>\n",
              "      <td>0</td>\n",
              "      <td>1</td>\n",
              "      <td>28</td>\n",
              "      <td>4</td>\n",
              "      <td>0</td>\n",
              "      <td>3.970703</td>\n",
              "    </tr>\n",
              "    <tr>\n",
              "      <th>32441362</th>\n",
              "      <td>HOBBIES_1_003_CA_1_evaluation</td>\n",
              "      <td>HOBBIES_1_003</td>\n",
              "      <td>HOBBIES_1</td>\n",
              "      <td>HOBBIES</td>\n",
              "      <td>CA_1</td>\n",
              "      <td>CA</td>\n",
              "      <td>d_1065</td>\n",
              "      <td>0</td>\n",
              "      <td>2013-12-28</td>\n",
              "      <td>11349</td>\n",
              "      <td>Saturday</td>\n",
              "      <td>1</td>\n",
              "      <td>12</td>\n",
              "      <td>2013</td>\n",
              "      <td>no_event</td>\n",
              "      <td>no_event</td>\n",
              "      <td>no_event</td>\n",
              "      <td>no_event</td>\n",
              "      <td>0</td>\n",
              "      <td>0</td>\n",
              "      <td>0</td>\n",
              "      <td>1</td>\n",
              "      <td>28</td>\n",
              "      <td>4</td>\n",
              "      <td>0</td>\n",
              "      <td>2.970703</td>\n",
              "    </tr>\n",
              "  </tbody>\n",
              "</table>\n",
              "</div>"
            ],
            "text/plain": [
              "                                     id  ... sell_price\n",
              "32441360  HOBBIES_1_001_CA_1_evaluation  ...   8.257812\n",
              "32441361  HOBBIES_1_002_CA_1_evaluation  ...   3.970703\n",
              "32441362  HOBBIES_1_003_CA_1_evaluation  ...   2.970703\n",
              "\n",
              "[3 rows x 26 columns]"
            ]
          },
          "metadata": {},
          "execution_count": 27
        }
      ],
      "id": "fdbVOSX56G6g"
    },
    {
      "cell_type": "code",
      "source": [
        "df=reduce(df)"
      ],
      "metadata": {
        "id": "mLJg4EQ86G6g"
      },
      "execution_count": null,
      "outputs": [],
      "id": "mLJg4EQ86G6g"
    },
    {
      "cell_type": "markdown",
      "metadata": {
        "hidden": true,
        "id": "yOmVS0LK6G6g"
      },
      "source": [
        "### Lags (thay đổi)\n",
        "\n",
        "- Lag features are the classical way that time series forecasting problems are transformed into supervised learning problems.\n",
        "- Lag is expressed in a time unit & corresponds to the amount of data history we allow the model to use when making the prediction.\n",
        "- Here we have applied Lags on 'demand' column.\n",
        "- The maximum Lags taken is 70 days (Giảm xuống còn 28)"
      ],
      "id": "yOmVS0LK6G6g"
    },
    {
      "cell_type": "markdown",
      "source": [
        "**Thay đổi biến lags**"
      ],
      "metadata": {
        "id": "vhD0bC_x48xM"
      },
      "id": "vhD0bC_x48xM"
    },
    {
      "cell_type": "code",
      "metadata": {
        "hidden": true,
        "colab": {
          "base_uri": "https://localhost:8080/"
        },
        "outputId": "7da5757e-e65f-4b7d-d531-40a6464ff601",
        "id": "DBDpvju0CzcC"
      },
      "source": [
        "lags=[7,14,21,28,29,30]\n",
        "for i in tqdm(lags):\n",
        "  df['lag_'+str(i)]=df.groupby(['id'])['demand'].shift(i)\n",
        "lags=[7,14,21,28]\n",
        "for i in tqdm(lags):\n",
        "  df[\"sell_price_lag_\" + str(i)] = df.groupby([\"id\"])[\"sell_price\"].shift(i)"
      ],
      "execution_count": null,
      "outputs": [
        {
          "output_type": "stream",
          "name": "stderr",
          "text": [
            "100%|██████████| 6/6 [00:05<00:00,  1.14it/s]\n",
            "100%|██████████| 4/4 [00:03<00:00,  1.22it/s]\n"
          ]
        }
      ],
      "id": "DBDpvju0CzcC"
    },
    {
      "cell_type": "markdown",
      "metadata": {
        "hidden": true,
        "id": "J58RSRWA6G6h"
      },
      "source": [
        "### Rolling-Mean (thay đổi)\n",
        "\n",
        "- Rolling is a very useful operation for time series data.\n",
        "- Rolling means creating a rolling window with a specified size & perform calculations on data in this window which of course rolls through data.\n",
        "- Here we have computing Rolling-Mean on 'demand' column.\n",
        "- The maximum Window size taken is 42"
      ],
      "id": "J58RSRWA6G6h"
    },
    {
      "cell_type": "markdown",
      "source": [
        "**Bổ sung một số Rolling và groupby mới**"
      ],
      "metadata": {
        "id": "jpWf44JNTbBf"
      },
      "id": "jpWf44JNTbBf"
    },
    {
      "cell_type": "code",
      "metadata": {
        "hidden": true,
        "colab": {
          "base_uri": "https://localhost:8080/"
        },
        "outputId": "51632013-ca96-4cc9-c11b-7137f96f03a9",
        "id": "oX-_csgHDfXF"
      },
      "source": [
        "window=[7,14,21,28]\n",
        "for i in tqdm(window):\n",
        "  df['rolling_mean_'+str(i)] = df[[\"id\",\"demand\"]].groupby(['id'])['demand'].transform(lambda s: s.rolling(i).mean()).shift(1)\n",
        "  df['rolling_mean_'+str(i)+\"_lag_\"+str(i)] = df[[\"id\",'rolling_mean_'+str(i)]].groupby([\"id\"])['rolling_mean_'+str(i)].shift(i)"
      ],
      "execution_count": null,
      "outputs": [
        {
          "output_type": "stream",
          "name": "stderr",
          "text": [
            "100%|██████████| 4/4 [1:15:55<00:00, 1138.83s/it]\n"
          ]
        }
      ],
      "id": "oX-_csgHDfXF"
    },
    {
      "cell_type": "code",
      "source": [
        "window=[7,30,90,180]\n",
        "for i in tqdm(window):\n",
        "  df['rolling_mean_' + str(i) + '_lag_28'] = df.groupby(['id'])['demand'].transform(lambda x: x.shift(28).rolling(i).mean())"
      ],
      "metadata": {
        "id": "fcogzkNd3zpw",
        "colab": {
          "base_uri": "https://localhost:8080/"
        },
        "outputId": "8c166189-1cd4-4473-f1d8-93064de51f18"
      },
      "execution_count": null,
      "outputs": [
        {
          "output_type": "stream",
          "name": "stderr",
          "text": [
            "100%|██████████| 4/4 [1:07:24<00:00, 1011.17s/it]\n"
          ]
        }
      ],
      "id": "fcogzkNd3zpw"
    },
    {
      "cell_type": "code",
      "source": [
        "window=[7,30]\n",
        "for i in tqdm(window):\n",
        "  df['rolling_std_' + str(i) + '_lag_28'] = df.groupby(['id'])['demand'].transform(lambda x: x.shift(28).rolling(i).std())"
      ],
      "metadata": {
        "colab": {
          "base_uri": "https://localhost:8080/"
        },
        "id": "EXlXGCrzDwgX",
        "outputId": "aeef76cf-90d4-4da8-c93e-ddf18e8d0395"
      },
      "execution_count": null,
      "outputs": [
        {
          "output_type": "stream",
          "name": "stderr",
          "text": [
            "100%|██████████| 2/2 [32:47<00:00, 983.86s/it]\n"
          ]
        }
      ],
      "id": "EXlXGCrzDwgX"
    },
    {
      "cell_type": "code",
      "source": [
        "df['rolling_skew_30_lag_28']  = df.groupby(['id'])['demand'].transform(lambda x: x.shift(28).rolling(30).skew())\n",
        "df['rolling_kurt_30_lag_28']  = df.groupby(['id'])['demand'].transform(lambda x: x.shift(28).rolling(30).kurt())"
      ],
      "metadata": {
        "id": "Ks7_BYCrD2Dt"
      },
      "execution_count": null,
      "outputs": [],
      "id": "Ks7_BYCrD2Dt"
    },
    {
      "cell_type": "code",
      "source": [
        "fill=['lag_7', 'lag_14', 'lag_21', 'lag_28', 'lag_29', 'lag_30',\n",
        "       'sell_price_lag_7', 'sell_price_lag_14', 'sell_price_lag_21',\n",
        "       'sell_price_lag_28', 'rolling_mean_7', 'rolling_mean_7_lag_7',\n",
        "       'rolling_mean_14', 'rolling_mean_14_lag_14', 'rolling_mean_21',\n",
        "       'rolling_mean_21_lag_21', 'rolling_mean_28', 'rolling_mean_28_lag_28',\n",
        "       'rolling_mean_7_lag_28', 'rolling_mean_30_lag_28',\n",
        "       'rolling_mean_90_lag_28', 'rolling_mean_180_lag_28',\n",
        "       'rolling_std_7_lag_28', 'rolling_std_30_lag_28',\n",
        "       'rolling_skew_30_lag_28', 'rolling_kurt_30_lag_28']\n",
        "for i in fill:\n",
        "  df[i]=df[i].fillna(0)"
      ],
      "metadata": {
        "id": "8ENXQ7MJ6xjJ"
      },
      "id": "8ENXQ7MJ6xjJ",
      "execution_count": 14,
      "outputs": []
    },
    {
      "cell_type": "code",
      "source": [
        "df.head(3)"
      ],
      "metadata": {
        "colab": {
          "base_uri": "https://localhost:8080/",
          "height": 259
        },
        "id": "NaxwhEJcAiLG",
        "outputId": "16f9952a-114b-40cc-bfc7-9179f4e53f85"
      },
      "id": "NaxwhEJcAiLG",
      "execution_count": 17,
      "outputs": [
        {
          "output_type": "execute_result",
          "data": {
            "text/html": [
              "\n",
              "  <div id=\"df-02b88200-a4e4-4e88-9ccb-c45454962358\">\n",
              "    <div class=\"colab-df-container\">\n",
              "      <div>\n",
              "<style scoped>\n",
              "    .dataframe tbody tr th:only-of-type {\n",
              "        vertical-align: middle;\n",
              "    }\n",
              "\n",
              "    .dataframe tbody tr th {\n",
              "        vertical-align: top;\n",
              "    }\n",
              "\n",
              "    .dataframe thead th {\n",
              "        text-align: right;\n",
              "    }\n",
              "</style>\n",
              "<table border=\"1\" class=\"dataframe\">\n",
              "  <thead>\n",
              "    <tr style=\"text-align: right;\">\n",
              "      <th></th>\n",
              "      <th>id</th>\n",
              "      <th>item_id</th>\n",
              "      <th>dept_id</th>\n",
              "      <th>cat_id</th>\n",
              "      <th>store_id</th>\n",
              "      <th>state_id</th>\n",
              "      <th>d</th>\n",
              "      <th>demand</th>\n",
              "      <th>date</th>\n",
              "      <th>wm_yr_wk</th>\n",
              "      <th>weekday</th>\n",
              "      <th>wday</th>\n",
              "      <th>month</th>\n",
              "      <th>year</th>\n",
              "      <th>event_name_1</th>\n",
              "      <th>event_type_1</th>\n",
              "      <th>event_name_2</th>\n",
              "      <th>event_type_2</th>\n",
              "      <th>snap_CA</th>\n",
              "      <th>snap_TX</th>\n",
              "      <th>snap_WI</th>\n",
              "      <th>is_weekend</th>\n",
              "      <th>month_day</th>\n",
              "      <th>month_week_number</th>\n",
              "      <th>events_per_day</th>\n",
              "      <th>sell_price</th>\n",
              "      <th>lag_7</th>\n",
              "      <th>lag_14</th>\n",
              "      <th>lag_21</th>\n",
              "      <th>lag_28</th>\n",
              "      <th>lag_29</th>\n",
              "      <th>lag_30</th>\n",
              "      <th>sell_price_lag_7</th>\n",
              "      <th>sell_price_lag_14</th>\n",
              "      <th>sell_price_lag_21</th>\n",
              "      <th>sell_price_lag_28</th>\n",
              "      <th>rolling_mean_7</th>\n",
              "      <th>rolling_mean_7_lag_7</th>\n",
              "      <th>rolling_mean_14</th>\n",
              "      <th>rolling_mean_14_lag_14</th>\n",
              "      <th>rolling_mean_21</th>\n",
              "      <th>rolling_mean_21_lag_21</th>\n",
              "      <th>rolling_mean_28</th>\n",
              "      <th>rolling_mean_28_lag_28</th>\n",
              "      <th>rolling_mean_7_lag_28</th>\n",
              "      <th>rolling_mean_30_lag_28</th>\n",
              "      <th>rolling_mean_90_lag_28</th>\n",
              "      <th>rolling_mean_180_lag_28</th>\n",
              "      <th>rolling_std_7_lag_28</th>\n",
              "      <th>rolling_std_30_lag_28</th>\n",
              "      <th>rolling_skew_30_lag_28</th>\n",
              "      <th>rolling_kurt_30_lag_28</th>\n",
              "    </tr>\n",
              "  </thead>\n",
              "  <tbody>\n",
              "    <tr>\n",
              "      <th>21099162</th>\n",
              "      <td>HOBBIES_1_001_CA_1_evaluation</td>\n",
              "      <td>HOBBIES_1_001</td>\n",
              "      <td>HOBBIES_1</td>\n",
              "      <td>HOBBIES</td>\n",
              "      <td>CA_1</td>\n",
              "      <td>CA</td>\n",
              "      <td>d_1065</td>\n",
              "      <td>0.0</td>\n",
              "      <td>2013-12-28</td>\n",
              "      <td>11349</td>\n",
              "      <td>Saturday</td>\n",
              "      <td>1</td>\n",
              "      <td>12</td>\n",
              "      <td>2013</td>\n",
              "      <td>no_event</td>\n",
              "      <td>no_event</td>\n",
              "      <td>no_event</td>\n",
              "      <td>no_event</td>\n",
              "      <td>0</td>\n",
              "      <td>0</td>\n",
              "      <td>0</td>\n",
              "      <td>1</td>\n",
              "      <td>28</td>\n",
              "      <td>4</td>\n",
              "      <td>0</td>\n",
              "      <td>8.257812</td>\n",
              "      <td>0.0</td>\n",
              "      <td>0.0</td>\n",
              "      <td>0.0</td>\n",
              "      <td>0.0</td>\n",
              "      <td>0.0</td>\n",
              "      <td>0.0</td>\n",
              "      <td>0.0</td>\n",
              "      <td>0.0</td>\n",
              "      <td>0.0</td>\n",
              "      <td>0.0</td>\n",
              "      <td>0.0</td>\n",
              "      <td>0.0</td>\n",
              "      <td>0.0</td>\n",
              "      <td>0.0</td>\n",
              "      <td>0.0</td>\n",
              "      <td>0.0</td>\n",
              "      <td>0.0</td>\n",
              "      <td>0.0</td>\n",
              "      <td>0.0</td>\n",
              "      <td>0.0</td>\n",
              "      <td>0.0</td>\n",
              "      <td>0.0</td>\n",
              "      <td>0.0</td>\n",
              "      <td>0.0</td>\n",
              "      <td>0.0</td>\n",
              "      <td>0.0</td>\n",
              "    </tr>\n",
              "    <tr>\n",
              "      <th>21099163</th>\n",
              "      <td>HOBBIES_1_001_CA_1_evaluation</td>\n",
              "      <td>HOBBIES_1_001</td>\n",
              "      <td>HOBBIES_1</td>\n",
              "      <td>HOBBIES</td>\n",
              "      <td>CA_1</td>\n",
              "      <td>CA</td>\n",
              "      <td>d_1066</td>\n",
              "      <td>0.0</td>\n",
              "      <td>2013-12-29</td>\n",
              "      <td>11349</td>\n",
              "      <td>Sunday</td>\n",
              "      <td>2</td>\n",
              "      <td>12</td>\n",
              "      <td>2013</td>\n",
              "      <td>no_event</td>\n",
              "      <td>no_event</td>\n",
              "      <td>no_event</td>\n",
              "      <td>no_event</td>\n",
              "      <td>0</td>\n",
              "      <td>0</td>\n",
              "      <td>0</td>\n",
              "      <td>1</td>\n",
              "      <td>29</td>\n",
              "      <td>5</td>\n",
              "      <td>0</td>\n",
              "      <td>8.257812</td>\n",
              "      <td>0.0</td>\n",
              "      <td>0.0</td>\n",
              "      <td>0.0</td>\n",
              "      <td>0.0</td>\n",
              "      <td>0.0</td>\n",
              "      <td>0.0</td>\n",
              "      <td>0.0</td>\n",
              "      <td>0.0</td>\n",
              "      <td>0.0</td>\n",
              "      <td>0.0</td>\n",
              "      <td>0.0</td>\n",
              "      <td>0.0</td>\n",
              "      <td>0.0</td>\n",
              "      <td>0.0</td>\n",
              "      <td>0.0</td>\n",
              "      <td>0.0</td>\n",
              "      <td>0.0</td>\n",
              "      <td>0.0</td>\n",
              "      <td>0.0</td>\n",
              "      <td>0.0</td>\n",
              "      <td>0.0</td>\n",
              "      <td>0.0</td>\n",
              "      <td>0.0</td>\n",
              "      <td>0.0</td>\n",
              "      <td>0.0</td>\n",
              "      <td>0.0</td>\n",
              "    </tr>\n",
              "    <tr>\n",
              "      <th>21099164</th>\n",
              "      <td>HOBBIES_1_001_CA_1_evaluation</td>\n",
              "      <td>HOBBIES_1_001</td>\n",
              "      <td>HOBBIES_1</td>\n",
              "      <td>HOBBIES</td>\n",
              "      <td>CA_1</td>\n",
              "      <td>CA</td>\n",
              "      <td>d_1067</td>\n",
              "      <td>0.0</td>\n",
              "      <td>2013-12-30</td>\n",
              "      <td>11349</td>\n",
              "      <td>Monday</td>\n",
              "      <td>3</td>\n",
              "      <td>12</td>\n",
              "      <td>2013</td>\n",
              "      <td>no_event</td>\n",
              "      <td>no_event</td>\n",
              "      <td>no_event</td>\n",
              "      <td>no_event</td>\n",
              "      <td>0</td>\n",
              "      <td>0</td>\n",
              "      <td>0</td>\n",
              "      <td>0</td>\n",
              "      <td>30</td>\n",
              "      <td>5</td>\n",
              "      <td>0</td>\n",
              "      <td>8.257812</td>\n",
              "      <td>0.0</td>\n",
              "      <td>0.0</td>\n",
              "      <td>0.0</td>\n",
              "      <td>0.0</td>\n",
              "      <td>0.0</td>\n",
              "      <td>0.0</td>\n",
              "      <td>0.0</td>\n",
              "      <td>0.0</td>\n",
              "      <td>0.0</td>\n",
              "      <td>0.0</td>\n",
              "      <td>0.0</td>\n",
              "      <td>0.0</td>\n",
              "      <td>0.0</td>\n",
              "      <td>0.0</td>\n",
              "      <td>0.0</td>\n",
              "      <td>0.0</td>\n",
              "      <td>0.0</td>\n",
              "      <td>0.0</td>\n",
              "      <td>0.0</td>\n",
              "      <td>0.0</td>\n",
              "      <td>0.0</td>\n",
              "      <td>0.0</td>\n",
              "      <td>0.0</td>\n",
              "      <td>0.0</td>\n",
              "      <td>0.0</td>\n",
              "      <td>0.0</td>\n",
              "    </tr>\n",
              "  </tbody>\n",
              "</table>\n",
              "</div>\n",
              "      <button class=\"colab-df-convert\" onclick=\"convertToInteractive('df-02b88200-a4e4-4e88-9ccb-c45454962358')\"\n",
              "              title=\"Convert this dataframe to an interactive table.\"\n",
              "              style=\"display:none;\">\n",
              "        \n",
              "  <svg xmlns=\"http://www.w3.org/2000/svg\" height=\"24px\"viewBox=\"0 0 24 24\"\n",
              "       width=\"24px\">\n",
              "    <path d=\"M0 0h24v24H0V0z\" fill=\"none\"/>\n",
              "    <path d=\"M18.56 5.44l.94 2.06.94-2.06 2.06-.94-2.06-.94-.94-2.06-.94 2.06-2.06.94zm-11 1L8.5 8.5l.94-2.06 2.06-.94-2.06-.94L8.5 2.5l-.94 2.06-2.06.94zm10 10l.94 2.06.94-2.06 2.06-.94-2.06-.94-.94-2.06-.94 2.06-2.06.94z\"/><path d=\"M17.41 7.96l-1.37-1.37c-.4-.4-.92-.59-1.43-.59-.52 0-1.04.2-1.43.59L10.3 9.45l-7.72 7.72c-.78.78-.78 2.05 0 2.83L4 21.41c.39.39.9.59 1.41.59.51 0 1.02-.2 1.41-.59l7.78-7.78 2.81-2.81c.8-.78.8-2.07 0-2.86zM5.41 20L4 18.59l7.72-7.72 1.47 1.35L5.41 20z\"/>\n",
              "  </svg>\n",
              "      </button>\n",
              "      \n",
              "  <style>\n",
              "    .colab-df-container {\n",
              "      display:flex;\n",
              "      flex-wrap:wrap;\n",
              "      gap: 12px;\n",
              "    }\n",
              "\n",
              "    .colab-df-convert {\n",
              "      background-color: #E8F0FE;\n",
              "      border: none;\n",
              "      border-radius: 50%;\n",
              "      cursor: pointer;\n",
              "      display: none;\n",
              "      fill: #1967D2;\n",
              "      height: 32px;\n",
              "      padding: 0 0 0 0;\n",
              "      width: 32px;\n",
              "    }\n",
              "\n",
              "    .colab-df-convert:hover {\n",
              "      background-color: #E2EBFA;\n",
              "      box-shadow: 0px 1px 2px rgba(60, 64, 67, 0.3), 0px 1px 3px 1px rgba(60, 64, 67, 0.15);\n",
              "      fill: #174EA6;\n",
              "    }\n",
              "\n",
              "    [theme=dark] .colab-df-convert {\n",
              "      background-color: #3B4455;\n",
              "      fill: #D2E3FC;\n",
              "    }\n",
              "\n",
              "    [theme=dark] .colab-df-convert:hover {\n",
              "      background-color: #434B5C;\n",
              "      box-shadow: 0px 1px 3px 1px rgba(0, 0, 0, 0.15);\n",
              "      filter: drop-shadow(0px 1px 2px rgba(0, 0, 0, 0.3));\n",
              "      fill: #FFFFFF;\n",
              "    }\n",
              "  </style>\n",
              "\n",
              "      <script>\n",
              "        const buttonEl =\n",
              "          document.querySelector('#df-02b88200-a4e4-4e88-9ccb-c45454962358 button.colab-df-convert');\n",
              "        buttonEl.style.display =\n",
              "          google.colab.kernel.accessAllowed ? 'block' : 'none';\n",
              "\n",
              "        async function convertToInteractive(key) {\n",
              "          const element = document.querySelector('#df-02b88200-a4e4-4e88-9ccb-c45454962358');\n",
              "          const dataTable =\n",
              "            await google.colab.kernel.invokeFunction('convertToInteractive',\n",
              "                                                     [key], {});\n",
              "          if (!dataTable) return;\n",
              "\n",
              "          const docLinkHtml = 'Like what you see? Visit the ' +\n",
              "            '<a target=\"_blank\" href=https://colab.research.google.com/notebooks/data_table.ipynb>data table notebook</a>'\n",
              "            + ' to learn more about interactive tables.';\n",
              "          element.innerHTML = '';\n",
              "          dataTable['output_type'] = 'display_data';\n",
              "          await google.colab.output.renderOutput(dataTable, element);\n",
              "          const docLink = document.createElement('div');\n",
              "          docLink.innerHTML = docLinkHtml;\n",
              "          element.appendChild(docLink);\n",
              "        }\n",
              "      </script>\n",
              "    </div>\n",
              "  </div>\n",
              "  "
            ],
            "text/plain": [
              "                                     id  ... rolling_kurt_30_lag_28\n",
              "21099162  HOBBIES_1_001_CA_1_evaluation  ...                    0.0\n",
              "21099163  HOBBIES_1_001_CA_1_evaluation  ...                    0.0\n",
              "21099164  HOBBIES_1_001_CA_1_evaluation  ...                    0.0\n",
              "\n",
              "[3 rows x 52 columns]"
            ]
          },
          "metadata": {},
          "execution_count": 17
        }
      ]
    },
    {
      "cell_type": "code",
      "source": [
        "df = reduce(df)"
      ],
      "metadata": {
        "id": "z2622J-ZFNRd"
      },
      "execution_count": 15,
      "outputs": [],
      "id": "z2622J-ZFNRd"
    },
    {
      "cell_type": "code",
      "source": [
        "with open('final_data.pkl','wb') as f:\n",
        "     pickle.dump(df,f)"
      ],
      "metadata": {
        "id": "XsdiusNJEVo1"
      },
      "execution_count": null,
      "outputs": [],
      "id": "XsdiusNJEVo1"
    },
    {
      "cell_type": "markdown",
      "metadata": {
        "hidden": true,
        "id": "5Eb11HNV6G6j"
      },
      "source": [
        "### Label-Encoding (giữ nguyên)\n",
        "\n",
        "- Encoding refers to converting the labels into numeric form so as to convert it into the machine-readable form.\n",
        "- Machine learning algorithms can then decide in a better way on how those labels must be operated.\n",
        "- It is an important pre-processing step for the structured dataset in supervised learning"
      ],
      "id": "5Eb11HNV6G6j"
    },
    {
      "cell_type": "code",
      "metadata": {
        "hidden": true,
        "colab": {
          "base_uri": "https://localhost:8080/"
        },
        "outputId": "7dc90175-2e0d-4faa-c2dd-a460eefa7087",
        "id": "arjevEjRRrCn"
      },
      "source": [
        "labelencoder=LabelEncoder() \n",
        "category=['event_name_1','event_type_1','event_name_2','event_type_2','id','item_id','dept_id','cat_id','store_id','state_id']\n",
        "for i in tqdm(category):\n",
        "  df[i]=labelencoder.fit_transform(df[i])"
      ],
      "execution_count": 16,
      "outputs": [
        {
          "output_type": "stream",
          "name": "stderr",
          "text": [
            "100%|██████████| 10/10 [01:03<00:00,  6.32s/it]\n"
          ]
        }
      ],
      "id": "arjevEjRRrCn"
    },
    {
      "cell_type": "markdown",
      "metadata": {
        "hidden": true,
        "id": "2AWDuLFpRrCo"
      },
      "source": [
        "- Removed '_' from 'd' column values so that we can convert Categorical feature into Numerical feature easily"
      ],
      "id": "2AWDuLFpRrCo"
    },
    {
      "cell_type": "code",
      "metadata": {
        "hidden": true,
        "id": "rtR8NHc0RrCo"
      },
      "source": [
        "l=[]\n",
        "for i in df['d']:\n",
        "  l.append(i.split('_')[1])\n",
        "df['day']=l\n",
        "df['day']=df['day'].astype(np.int16)"
      ],
      "execution_count": 17,
      "outputs": [],
      "id": "rtR8NHc0RrCo"
    },
    {
      "cell_type": "code",
      "metadata": {
        "hidden": true,
        "id": "LloKTCG6RrCo",
        "colab": {
          "base_uri": "https://localhost:8080/",
          "height": 259
        },
        "outputId": "b6a9fe56-9467-49c5-8144-cb616556b82a"
      },
      "source": [
        "df.head(3)"
      ],
      "execution_count": 20,
      "outputs": [
        {
          "output_type": "execute_result",
          "data": {
            "text/html": [
              "\n",
              "  <div id=\"df-de1f253a-cccc-4279-b7c5-0d8ad776772b\">\n",
              "    <div class=\"colab-df-container\">\n",
              "      <div>\n",
              "<style scoped>\n",
              "    .dataframe tbody tr th:only-of-type {\n",
              "        vertical-align: middle;\n",
              "    }\n",
              "\n",
              "    .dataframe tbody tr th {\n",
              "        vertical-align: top;\n",
              "    }\n",
              "\n",
              "    .dataframe thead th {\n",
              "        text-align: right;\n",
              "    }\n",
              "</style>\n",
              "<table border=\"1\" class=\"dataframe\">\n",
              "  <thead>\n",
              "    <tr style=\"text-align: right;\">\n",
              "      <th></th>\n",
              "      <th>id</th>\n",
              "      <th>item_id</th>\n",
              "      <th>dept_id</th>\n",
              "      <th>cat_id</th>\n",
              "      <th>store_id</th>\n",
              "      <th>state_id</th>\n",
              "      <th>d</th>\n",
              "      <th>demand</th>\n",
              "      <th>date</th>\n",
              "      <th>wm_yr_wk</th>\n",
              "      <th>weekday</th>\n",
              "      <th>wday</th>\n",
              "      <th>month</th>\n",
              "      <th>year</th>\n",
              "      <th>event_name_1</th>\n",
              "      <th>event_type_1</th>\n",
              "      <th>event_name_2</th>\n",
              "      <th>event_type_2</th>\n",
              "      <th>snap_CA</th>\n",
              "      <th>snap_TX</th>\n",
              "      <th>snap_WI</th>\n",
              "      <th>is_weekend</th>\n",
              "      <th>month_day</th>\n",
              "      <th>month_week_number</th>\n",
              "      <th>events_per_day</th>\n",
              "      <th>sell_price</th>\n",
              "      <th>lag_7</th>\n",
              "      <th>lag_14</th>\n",
              "      <th>lag_21</th>\n",
              "      <th>lag_28</th>\n",
              "      <th>lag_29</th>\n",
              "      <th>lag_30</th>\n",
              "      <th>sell_price_lag_7</th>\n",
              "      <th>sell_price_lag_14</th>\n",
              "      <th>sell_price_lag_21</th>\n",
              "      <th>sell_price_lag_28</th>\n",
              "      <th>rolling_mean_7</th>\n",
              "      <th>rolling_mean_7_lag_7</th>\n",
              "      <th>rolling_mean_14</th>\n",
              "      <th>rolling_mean_14_lag_14</th>\n",
              "      <th>rolling_mean_21</th>\n",
              "      <th>rolling_mean_21_lag_21</th>\n",
              "      <th>rolling_mean_28</th>\n",
              "      <th>rolling_mean_28_lag_28</th>\n",
              "      <th>rolling_mean_7_lag_28</th>\n",
              "      <th>rolling_mean_30_lag_28</th>\n",
              "      <th>rolling_mean_90_lag_28</th>\n",
              "      <th>rolling_mean_180_lag_28</th>\n",
              "      <th>rolling_std_7_lag_28</th>\n",
              "      <th>rolling_std_30_lag_28</th>\n",
              "      <th>rolling_skew_30_lag_28</th>\n",
              "      <th>rolling_kurt_30_lag_28</th>\n",
              "      <th>day</th>\n",
              "    </tr>\n",
              "  </thead>\n",
              "  <tbody>\n",
              "    <tr>\n",
              "      <th>21099162</th>\n",
              "      <td>14370</td>\n",
              "      <td>1437</td>\n",
              "      <td>3</td>\n",
              "      <td>1</td>\n",
              "      <td>0</td>\n",
              "      <td>0</td>\n",
              "      <td>d_1065</td>\n",
              "      <td>0.0</td>\n",
              "      <td>2013-12-28</td>\n",
              "      <td>11349</td>\n",
              "      <td>Saturday</td>\n",
              "      <td>1</td>\n",
              "      <td>12</td>\n",
              "      <td>2013</td>\n",
              "      <td>30</td>\n",
              "      <td>4</td>\n",
              "      <td>2</td>\n",
              "      <td>2</td>\n",
              "      <td>0</td>\n",
              "      <td>0</td>\n",
              "      <td>0</td>\n",
              "      <td>1</td>\n",
              "      <td>28</td>\n",
              "      <td>4</td>\n",
              "      <td>0</td>\n",
              "      <td>8.257812</td>\n",
              "      <td>0.0</td>\n",
              "      <td>0.0</td>\n",
              "      <td>0.0</td>\n",
              "      <td>0.0</td>\n",
              "      <td>0.0</td>\n",
              "      <td>0.0</td>\n",
              "      <td>0.0</td>\n",
              "      <td>0.0</td>\n",
              "      <td>0.0</td>\n",
              "      <td>0.0</td>\n",
              "      <td>0.0</td>\n",
              "      <td>0.0</td>\n",
              "      <td>0.0</td>\n",
              "      <td>0.0</td>\n",
              "      <td>0.0</td>\n",
              "      <td>0.0</td>\n",
              "      <td>0.0</td>\n",
              "      <td>0.0</td>\n",
              "      <td>0.0</td>\n",
              "      <td>0.0</td>\n",
              "      <td>0.0</td>\n",
              "      <td>0.0</td>\n",
              "      <td>0.0</td>\n",
              "      <td>0.0</td>\n",
              "      <td>0.0</td>\n",
              "      <td>0.0</td>\n",
              "      <td>1065</td>\n",
              "    </tr>\n",
              "    <tr>\n",
              "      <th>21099163</th>\n",
              "      <td>14370</td>\n",
              "      <td>1437</td>\n",
              "      <td>3</td>\n",
              "      <td>1</td>\n",
              "      <td>0</td>\n",
              "      <td>0</td>\n",
              "      <td>d_1066</td>\n",
              "      <td>0.0</td>\n",
              "      <td>2013-12-29</td>\n",
              "      <td>11349</td>\n",
              "      <td>Sunday</td>\n",
              "      <td>2</td>\n",
              "      <td>12</td>\n",
              "      <td>2013</td>\n",
              "      <td>30</td>\n",
              "      <td>4</td>\n",
              "      <td>2</td>\n",
              "      <td>2</td>\n",
              "      <td>0</td>\n",
              "      <td>0</td>\n",
              "      <td>0</td>\n",
              "      <td>1</td>\n",
              "      <td>29</td>\n",
              "      <td>5</td>\n",
              "      <td>0</td>\n",
              "      <td>8.257812</td>\n",
              "      <td>0.0</td>\n",
              "      <td>0.0</td>\n",
              "      <td>0.0</td>\n",
              "      <td>0.0</td>\n",
              "      <td>0.0</td>\n",
              "      <td>0.0</td>\n",
              "      <td>0.0</td>\n",
              "      <td>0.0</td>\n",
              "      <td>0.0</td>\n",
              "      <td>0.0</td>\n",
              "      <td>0.0</td>\n",
              "      <td>0.0</td>\n",
              "      <td>0.0</td>\n",
              "      <td>0.0</td>\n",
              "      <td>0.0</td>\n",
              "      <td>0.0</td>\n",
              "      <td>0.0</td>\n",
              "      <td>0.0</td>\n",
              "      <td>0.0</td>\n",
              "      <td>0.0</td>\n",
              "      <td>0.0</td>\n",
              "      <td>0.0</td>\n",
              "      <td>0.0</td>\n",
              "      <td>0.0</td>\n",
              "      <td>0.0</td>\n",
              "      <td>0.0</td>\n",
              "      <td>1066</td>\n",
              "    </tr>\n",
              "    <tr>\n",
              "      <th>21099164</th>\n",
              "      <td>14370</td>\n",
              "      <td>1437</td>\n",
              "      <td>3</td>\n",
              "      <td>1</td>\n",
              "      <td>0</td>\n",
              "      <td>0</td>\n",
              "      <td>d_1067</td>\n",
              "      <td>0.0</td>\n",
              "      <td>2013-12-30</td>\n",
              "      <td>11349</td>\n",
              "      <td>Monday</td>\n",
              "      <td>3</td>\n",
              "      <td>12</td>\n",
              "      <td>2013</td>\n",
              "      <td>30</td>\n",
              "      <td>4</td>\n",
              "      <td>2</td>\n",
              "      <td>2</td>\n",
              "      <td>0</td>\n",
              "      <td>0</td>\n",
              "      <td>0</td>\n",
              "      <td>0</td>\n",
              "      <td>30</td>\n",
              "      <td>5</td>\n",
              "      <td>0</td>\n",
              "      <td>8.257812</td>\n",
              "      <td>0.0</td>\n",
              "      <td>0.0</td>\n",
              "      <td>0.0</td>\n",
              "      <td>0.0</td>\n",
              "      <td>0.0</td>\n",
              "      <td>0.0</td>\n",
              "      <td>0.0</td>\n",
              "      <td>0.0</td>\n",
              "      <td>0.0</td>\n",
              "      <td>0.0</td>\n",
              "      <td>0.0</td>\n",
              "      <td>0.0</td>\n",
              "      <td>0.0</td>\n",
              "      <td>0.0</td>\n",
              "      <td>0.0</td>\n",
              "      <td>0.0</td>\n",
              "      <td>0.0</td>\n",
              "      <td>0.0</td>\n",
              "      <td>0.0</td>\n",
              "      <td>0.0</td>\n",
              "      <td>0.0</td>\n",
              "      <td>0.0</td>\n",
              "      <td>0.0</td>\n",
              "      <td>0.0</td>\n",
              "      <td>0.0</td>\n",
              "      <td>0.0</td>\n",
              "      <td>1067</td>\n",
              "    </tr>\n",
              "  </tbody>\n",
              "</table>\n",
              "</div>\n",
              "      <button class=\"colab-df-convert\" onclick=\"convertToInteractive('df-de1f253a-cccc-4279-b7c5-0d8ad776772b')\"\n",
              "              title=\"Convert this dataframe to an interactive table.\"\n",
              "              style=\"display:none;\">\n",
              "        \n",
              "  <svg xmlns=\"http://www.w3.org/2000/svg\" height=\"24px\"viewBox=\"0 0 24 24\"\n",
              "       width=\"24px\">\n",
              "    <path d=\"M0 0h24v24H0V0z\" fill=\"none\"/>\n",
              "    <path d=\"M18.56 5.44l.94 2.06.94-2.06 2.06-.94-2.06-.94-.94-2.06-.94 2.06-2.06.94zm-11 1L8.5 8.5l.94-2.06 2.06-.94-2.06-.94L8.5 2.5l-.94 2.06-2.06.94zm10 10l.94 2.06.94-2.06 2.06-.94-2.06-.94-.94-2.06-.94 2.06-2.06.94z\"/><path d=\"M17.41 7.96l-1.37-1.37c-.4-.4-.92-.59-1.43-.59-.52 0-1.04.2-1.43.59L10.3 9.45l-7.72 7.72c-.78.78-.78 2.05 0 2.83L4 21.41c.39.39.9.59 1.41.59.51 0 1.02-.2 1.41-.59l7.78-7.78 2.81-2.81c.8-.78.8-2.07 0-2.86zM5.41 20L4 18.59l7.72-7.72 1.47 1.35L5.41 20z\"/>\n",
              "  </svg>\n",
              "      </button>\n",
              "      \n",
              "  <style>\n",
              "    .colab-df-container {\n",
              "      display:flex;\n",
              "      flex-wrap:wrap;\n",
              "      gap: 12px;\n",
              "    }\n",
              "\n",
              "    .colab-df-convert {\n",
              "      background-color: #E8F0FE;\n",
              "      border: none;\n",
              "      border-radius: 50%;\n",
              "      cursor: pointer;\n",
              "      display: none;\n",
              "      fill: #1967D2;\n",
              "      height: 32px;\n",
              "      padding: 0 0 0 0;\n",
              "      width: 32px;\n",
              "    }\n",
              "\n",
              "    .colab-df-convert:hover {\n",
              "      background-color: #E2EBFA;\n",
              "      box-shadow: 0px 1px 2px rgba(60, 64, 67, 0.3), 0px 1px 3px 1px rgba(60, 64, 67, 0.15);\n",
              "      fill: #174EA6;\n",
              "    }\n",
              "\n",
              "    [theme=dark] .colab-df-convert {\n",
              "      background-color: #3B4455;\n",
              "      fill: #D2E3FC;\n",
              "    }\n",
              "\n",
              "    [theme=dark] .colab-df-convert:hover {\n",
              "      background-color: #434B5C;\n",
              "      box-shadow: 0px 1px 3px 1px rgba(0, 0, 0, 0.15);\n",
              "      filter: drop-shadow(0px 1px 2px rgba(0, 0, 0, 0.3));\n",
              "      fill: #FFFFFF;\n",
              "    }\n",
              "  </style>\n",
              "\n",
              "      <script>\n",
              "        const buttonEl =\n",
              "          document.querySelector('#df-de1f253a-cccc-4279-b7c5-0d8ad776772b button.colab-df-convert');\n",
              "        buttonEl.style.display =\n",
              "          google.colab.kernel.accessAllowed ? 'block' : 'none';\n",
              "\n",
              "        async function convertToInteractive(key) {\n",
              "          const element = document.querySelector('#df-de1f253a-cccc-4279-b7c5-0d8ad776772b');\n",
              "          const dataTable =\n",
              "            await google.colab.kernel.invokeFunction('convertToInteractive',\n",
              "                                                     [key], {});\n",
              "          if (!dataTable) return;\n",
              "\n",
              "          const docLinkHtml = 'Like what you see? Visit the ' +\n",
              "            '<a target=\"_blank\" href=https://colab.research.google.com/notebooks/data_table.ipynb>data table notebook</a>'\n",
              "            + ' to learn more about interactive tables.';\n",
              "          element.innerHTML = '';\n",
              "          dataTable['output_type'] = 'display_data';\n",
              "          await google.colab.output.renderOutput(dataTable, element);\n",
              "          const docLink = document.createElement('div');\n",
              "          docLink.innerHTML = docLinkHtml;\n",
              "          element.appendChild(docLink);\n",
              "        }\n",
              "      </script>\n",
              "    </div>\n",
              "  </div>\n",
              "  "
            ],
            "text/plain": [
              "             id  item_id  ...  rolling_kurt_30_lag_28   day\n",
              "21099162  14370     1437  ...                     0.0  1065\n",
              "21099163  14370     1437  ...                     0.0  1066\n",
              "21099164  14370     1437  ...                     0.0  1067\n",
              "\n",
              "[3 rows x 53 columns]"
            ]
          },
          "metadata": {},
          "execution_count": 20
        }
      ],
      "id": "LloKTCG6RrCo"
    },
    {
      "cell_type": "code",
      "source": [
        "def weekend(arg):\n",
        "    if arg==1 or arg==2:\n",
        "        return 1\n",
        "    else:\n",
        "        return 0\n",
        "df['isweekend'] = df['wday'].apply(weekend)"
      ],
      "metadata": {
        "id": "h2uD68ItBfqO"
      },
      "id": "h2uD68ItBfqO",
      "execution_count": 18,
      "outputs": []
    },
    {
      "cell_type": "markdown",
      "metadata": {
        "hidden": true,
        "id": "CoS09oB36G6l"
      },
      "source": [
        "### Droping duplicate columns (giữ nguyên)\n",
        "\n",
        "- Since 'weekday' is represented by 'wday' & 'd' is represented by 'day'.\n",
        "- We already have 'month','year' thats why 'date' is also duplicate column."
      ],
      "id": "CoS09oB36G6l"
    },
    {
      "cell_type": "code",
      "metadata": {
        "hidden": true,
        "id": "NNVxgEFYFZgk"
      },
      "source": [
        "df=df.drop(['d','date','weekday'],axis=1)"
      ],
      "execution_count": 19,
      "outputs": [],
      "id": "NNVxgEFYFZgk"
    },
    {
      "cell_type": "code",
      "source": [
        "df=reduce(df)"
      ],
      "metadata": {
        "id": "KebnqwW4bTRG"
      },
      "execution_count": 20,
      "outputs": [],
      "id": "KebnqwW4bTRG"
    },
    {
      "cell_type": "code",
      "source": [
        "with open('final_data.pkl','wb') as f:\n",
        "     pickle.dump(df,f)"
      ],
      "metadata": {
        "id": "q36Jknu8wPWt"
      },
      "execution_count": 21,
      "outputs": [],
      "id": "q36Jknu8wPWt"
    },
    {
      "cell_type": "code",
      "execution_count": 13,
      "metadata": {
        "id": "_Vk4kDqTw7O4"
      },
      "outputs": [],
      "source": [
        "with open('final_data.pkl','rb') as f:\n",
        "     df = pickle.load(f)"
      ],
      "id": "_Vk4kDqTw7O4"
    },
    {
      "cell_type": "code",
      "source": [
        "df.head(3)"
      ],
      "metadata": {
        "colab": {
          "base_uri": "https://localhost:8080/",
          "height": 207
        },
        "id": "onTiqGAJAfGx",
        "outputId": "e582051a-b227-4a41-d697-c96d3001a7a0"
      },
      "id": "onTiqGAJAfGx",
      "execution_count": 23,
      "outputs": [
        {
          "output_type": "execute_result",
          "data": {
            "text/html": [
              "\n",
              "  <div id=\"df-59b97582-1748-49de-90a6-6a50f8f4b588\">\n",
              "    <div class=\"colab-df-container\">\n",
              "      <div>\n",
              "<style scoped>\n",
              "    .dataframe tbody tr th:only-of-type {\n",
              "        vertical-align: middle;\n",
              "    }\n",
              "\n",
              "    .dataframe tbody tr th {\n",
              "        vertical-align: top;\n",
              "    }\n",
              "\n",
              "    .dataframe thead th {\n",
              "        text-align: right;\n",
              "    }\n",
              "</style>\n",
              "<table border=\"1\" class=\"dataframe\">\n",
              "  <thead>\n",
              "    <tr style=\"text-align: right;\">\n",
              "      <th></th>\n",
              "      <th>id</th>\n",
              "      <th>item_id</th>\n",
              "      <th>dept_id</th>\n",
              "      <th>cat_id</th>\n",
              "      <th>store_id</th>\n",
              "      <th>state_id</th>\n",
              "      <th>demand</th>\n",
              "      <th>wm_yr_wk</th>\n",
              "      <th>wday</th>\n",
              "      <th>month</th>\n",
              "      <th>year</th>\n",
              "      <th>event_name_1</th>\n",
              "      <th>event_type_1</th>\n",
              "      <th>event_name_2</th>\n",
              "      <th>event_type_2</th>\n",
              "      <th>snap_CA</th>\n",
              "      <th>snap_TX</th>\n",
              "      <th>snap_WI</th>\n",
              "      <th>is_weekend</th>\n",
              "      <th>month_day</th>\n",
              "      <th>month_week_number</th>\n",
              "      <th>events_per_day</th>\n",
              "      <th>sell_price</th>\n",
              "      <th>lag_7</th>\n",
              "      <th>lag_14</th>\n",
              "      <th>lag_21</th>\n",
              "      <th>lag_28</th>\n",
              "      <th>lag_29</th>\n",
              "      <th>lag_30</th>\n",
              "      <th>sell_price_lag_7</th>\n",
              "      <th>sell_price_lag_14</th>\n",
              "      <th>sell_price_lag_21</th>\n",
              "      <th>sell_price_lag_28</th>\n",
              "      <th>rolling_mean_7</th>\n",
              "      <th>rolling_mean_7_lag_7</th>\n",
              "      <th>rolling_mean_14</th>\n",
              "      <th>rolling_mean_14_lag_14</th>\n",
              "      <th>rolling_mean_21</th>\n",
              "      <th>rolling_mean_21_lag_21</th>\n",
              "      <th>rolling_mean_28</th>\n",
              "      <th>rolling_mean_28_lag_28</th>\n",
              "      <th>rolling_mean_7_lag_28</th>\n",
              "      <th>rolling_mean_30_lag_28</th>\n",
              "      <th>rolling_mean_90_lag_28</th>\n",
              "      <th>rolling_mean_180_lag_28</th>\n",
              "      <th>rolling_std_7_lag_28</th>\n",
              "      <th>rolling_std_30_lag_28</th>\n",
              "      <th>rolling_skew_30_lag_28</th>\n",
              "      <th>rolling_kurt_30_lag_28</th>\n",
              "      <th>day</th>\n",
              "      <th>isweekend</th>\n",
              "    </tr>\n",
              "  </thead>\n",
              "  <tbody>\n",
              "    <tr>\n",
              "      <th>21099162</th>\n",
              "      <td>14370</td>\n",
              "      <td>1437</td>\n",
              "      <td>3</td>\n",
              "      <td>1</td>\n",
              "      <td>0</td>\n",
              "      <td>0</td>\n",
              "      <td>0.0</td>\n",
              "      <td>11349</td>\n",
              "      <td>1</td>\n",
              "      <td>12</td>\n",
              "      <td>2013</td>\n",
              "      <td>30</td>\n",
              "      <td>4</td>\n",
              "      <td>2</td>\n",
              "      <td>2</td>\n",
              "      <td>0</td>\n",
              "      <td>0</td>\n",
              "      <td>0</td>\n",
              "      <td>1</td>\n",
              "      <td>28</td>\n",
              "      <td>4</td>\n",
              "      <td>0</td>\n",
              "      <td>8.257812</td>\n",
              "      <td>0.0</td>\n",
              "      <td>0.0</td>\n",
              "      <td>0.0</td>\n",
              "      <td>0.0</td>\n",
              "      <td>0.0</td>\n",
              "      <td>0.0</td>\n",
              "      <td>0.0</td>\n",
              "      <td>0.0</td>\n",
              "      <td>0.0</td>\n",
              "      <td>0.0</td>\n",
              "      <td>0.0</td>\n",
              "      <td>0.0</td>\n",
              "      <td>0.0</td>\n",
              "      <td>0.0</td>\n",
              "      <td>0.0</td>\n",
              "      <td>0.0</td>\n",
              "      <td>0.0</td>\n",
              "      <td>0.0</td>\n",
              "      <td>0.0</td>\n",
              "      <td>0.0</td>\n",
              "      <td>0.0</td>\n",
              "      <td>0.0</td>\n",
              "      <td>0.0</td>\n",
              "      <td>0.0</td>\n",
              "      <td>0.0</td>\n",
              "      <td>0.0</td>\n",
              "      <td>1065</td>\n",
              "      <td>1</td>\n",
              "    </tr>\n",
              "    <tr>\n",
              "      <th>21099163</th>\n",
              "      <td>14370</td>\n",
              "      <td>1437</td>\n",
              "      <td>3</td>\n",
              "      <td>1</td>\n",
              "      <td>0</td>\n",
              "      <td>0</td>\n",
              "      <td>0.0</td>\n",
              "      <td>11349</td>\n",
              "      <td>2</td>\n",
              "      <td>12</td>\n",
              "      <td>2013</td>\n",
              "      <td>30</td>\n",
              "      <td>4</td>\n",
              "      <td>2</td>\n",
              "      <td>2</td>\n",
              "      <td>0</td>\n",
              "      <td>0</td>\n",
              "      <td>0</td>\n",
              "      <td>1</td>\n",
              "      <td>29</td>\n",
              "      <td>5</td>\n",
              "      <td>0</td>\n",
              "      <td>8.257812</td>\n",
              "      <td>0.0</td>\n",
              "      <td>0.0</td>\n",
              "      <td>0.0</td>\n",
              "      <td>0.0</td>\n",
              "      <td>0.0</td>\n",
              "      <td>0.0</td>\n",
              "      <td>0.0</td>\n",
              "      <td>0.0</td>\n",
              "      <td>0.0</td>\n",
              "      <td>0.0</td>\n",
              "      <td>0.0</td>\n",
              "      <td>0.0</td>\n",
              "      <td>0.0</td>\n",
              "      <td>0.0</td>\n",
              "      <td>0.0</td>\n",
              "      <td>0.0</td>\n",
              "      <td>0.0</td>\n",
              "      <td>0.0</td>\n",
              "      <td>0.0</td>\n",
              "      <td>0.0</td>\n",
              "      <td>0.0</td>\n",
              "      <td>0.0</td>\n",
              "      <td>0.0</td>\n",
              "      <td>0.0</td>\n",
              "      <td>0.0</td>\n",
              "      <td>0.0</td>\n",
              "      <td>1066</td>\n",
              "      <td>1</td>\n",
              "    </tr>\n",
              "    <tr>\n",
              "      <th>21099164</th>\n",
              "      <td>14370</td>\n",
              "      <td>1437</td>\n",
              "      <td>3</td>\n",
              "      <td>1</td>\n",
              "      <td>0</td>\n",
              "      <td>0</td>\n",
              "      <td>0.0</td>\n",
              "      <td>11349</td>\n",
              "      <td>3</td>\n",
              "      <td>12</td>\n",
              "      <td>2013</td>\n",
              "      <td>30</td>\n",
              "      <td>4</td>\n",
              "      <td>2</td>\n",
              "      <td>2</td>\n",
              "      <td>0</td>\n",
              "      <td>0</td>\n",
              "      <td>0</td>\n",
              "      <td>0</td>\n",
              "      <td>30</td>\n",
              "      <td>5</td>\n",
              "      <td>0</td>\n",
              "      <td>8.257812</td>\n",
              "      <td>0.0</td>\n",
              "      <td>0.0</td>\n",
              "      <td>0.0</td>\n",
              "      <td>0.0</td>\n",
              "      <td>0.0</td>\n",
              "      <td>0.0</td>\n",
              "      <td>0.0</td>\n",
              "      <td>0.0</td>\n",
              "      <td>0.0</td>\n",
              "      <td>0.0</td>\n",
              "      <td>0.0</td>\n",
              "      <td>0.0</td>\n",
              "      <td>0.0</td>\n",
              "      <td>0.0</td>\n",
              "      <td>0.0</td>\n",
              "      <td>0.0</td>\n",
              "      <td>0.0</td>\n",
              "      <td>0.0</td>\n",
              "      <td>0.0</td>\n",
              "      <td>0.0</td>\n",
              "      <td>0.0</td>\n",
              "      <td>0.0</td>\n",
              "      <td>0.0</td>\n",
              "      <td>0.0</td>\n",
              "      <td>0.0</td>\n",
              "      <td>0.0</td>\n",
              "      <td>1067</td>\n",
              "      <td>0</td>\n",
              "    </tr>\n",
              "  </tbody>\n",
              "</table>\n",
              "</div>\n",
              "      <button class=\"colab-df-convert\" onclick=\"convertToInteractive('df-59b97582-1748-49de-90a6-6a50f8f4b588')\"\n",
              "              title=\"Convert this dataframe to an interactive table.\"\n",
              "              style=\"display:none;\">\n",
              "        \n",
              "  <svg xmlns=\"http://www.w3.org/2000/svg\" height=\"24px\"viewBox=\"0 0 24 24\"\n",
              "       width=\"24px\">\n",
              "    <path d=\"M0 0h24v24H0V0z\" fill=\"none\"/>\n",
              "    <path d=\"M18.56 5.44l.94 2.06.94-2.06 2.06-.94-2.06-.94-.94-2.06-.94 2.06-2.06.94zm-11 1L8.5 8.5l.94-2.06 2.06-.94-2.06-.94L8.5 2.5l-.94 2.06-2.06.94zm10 10l.94 2.06.94-2.06 2.06-.94-2.06-.94-.94-2.06-.94 2.06-2.06.94z\"/><path d=\"M17.41 7.96l-1.37-1.37c-.4-.4-.92-.59-1.43-.59-.52 0-1.04.2-1.43.59L10.3 9.45l-7.72 7.72c-.78.78-.78 2.05 0 2.83L4 21.41c.39.39.9.59 1.41.59.51 0 1.02-.2 1.41-.59l7.78-7.78 2.81-2.81c.8-.78.8-2.07 0-2.86zM5.41 20L4 18.59l7.72-7.72 1.47 1.35L5.41 20z\"/>\n",
              "  </svg>\n",
              "      </button>\n",
              "      \n",
              "  <style>\n",
              "    .colab-df-container {\n",
              "      display:flex;\n",
              "      flex-wrap:wrap;\n",
              "      gap: 12px;\n",
              "    }\n",
              "\n",
              "    .colab-df-convert {\n",
              "      background-color: #E8F0FE;\n",
              "      border: none;\n",
              "      border-radius: 50%;\n",
              "      cursor: pointer;\n",
              "      display: none;\n",
              "      fill: #1967D2;\n",
              "      height: 32px;\n",
              "      padding: 0 0 0 0;\n",
              "      width: 32px;\n",
              "    }\n",
              "\n",
              "    .colab-df-convert:hover {\n",
              "      background-color: #E2EBFA;\n",
              "      box-shadow: 0px 1px 2px rgba(60, 64, 67, 0.3), 0px 1px 3px 1px rgba(60, 64, 67, 0.15);\n",
              "      fill: #174EA6;\n",
              "    }\n",
              "\n",
              "    [theme=dark] .colab-df-convert {\n",
              "      background-color: #3B4455;\n",
              "      fill: #D2E3FC;\n",
              "    }\n",
              "\n",
              "    [theme=dark] .colab-df-convert:hover {\n",
              "      background-color: #434B5C;\n",
              "      box-shadow: 0px 1px 3px 1px rgba(0, 0, 0, 0.15);\n",
              "      filter: drop-shadow(0px 1px 2px rgba(0, 0, 0, 0.3));\n",
              "      fill: #FFFFFF;\n",
              "    }\n",
              "  </style>\n",
              "\n",
              "      <script>\n",
              "        const buttonEl =\n",
              "          document.querySelector('#df-59b97582-1748-49de-90a6-6a50f8f4b588 button.colab-df-convert');\n",
              "        buttonEl.style.display =\n",
              "          google.colab.kernel.accessAllowed ? 'block' : 'none';\n",
              "\n",
              "        async function convertToInteractive(key) {\n",
              "          const element = document.querySelector('#df-59b97582-1748-49de-90a6-6a50f8f4b588');\n",
              "          const dataTable =\n",
              "            await google.colab.kernel.invokeFunction('convertToInteractive',\n",
              "                                                     [key], {});\n",
              "          if (!dataTable) return;\n",
              "\n",
              "          const docLinkHtml = 'Like what you see? Visit the ' +\n",
              "            '<a target=\"_blank\" href=https://colab.research.google.com/notebooks/data_table.ipynb>data table notebook</a>'\n",
              "            + ' to learn more about interactive tables.';\n",
              "          element.innerHTML = '';\n",
              "          dataTable['output_type'] = 'display_data';\n",
              "          await google.colab.output.renderOutput(dataTable, element);\n",
              "          const docLink = document.createElement('div');\n",
              "          docLink.innerHTML = docLinkHtml;\n",
              "          element.appendChild(docLink);\n",
              "        }\n",
              "      </script>\n",
              "    </div>\n",
              "  </div>\n",
              "  "
            ],
            "text/plain": [
              "             id  item_id  dept_id  ...  rolling_kurt_30_lag_28   day  isweekend\n",
              "21099162  14370     1437        3  ...                     0.0  1065          1\n",
              "21099163  14370     1437        3  ...                     0.0  1066          1\n",
              "21099164  14370     1437        3  ...                     0.0  1067          0\n",
              "\n",
              "[3 rows x 51 columns]"
            ]
          },
          "metadata": {},
          "execution_count": 23
        }
      ]
    },
    {
      "cell_type": "code",
      "source": [
        "df.shape"
      ],
      "metadata": {
        "colab": {
          "base_uri": "https://localhost:8080/"
        },
        "id": "zcK6M7baBUtr",
        "outputId": "ab46ea41-0ca9-43de-e158-8289dfc7d79d"
      },
      "id": "zcK6M7baBUtr",
      "execution_count": 22,
      "outputs": [
        {
          "output_type": "execute_result",
          "data": {
            "text/plain": [
              "(25782515, 51)"
            ]
          },
          "metadata": {},
          "execution_count": 22
        }
      ]
    },
    {
      "cell_type": "markdown",
      "metadata": {
        "id": "jz0p0KrMWUeb"
      },
      "source": [
        "## ML Models"
      ],
      "id": "jz0p0KrMWUeb"
    },
    {
      "cell_type": "markdown",
      "source": [
        "Lấy một số Feature cần thiết để đào tạo mô hình"
      ],
      "metadata": {
        "id": "wnb3u07S_mBI"
      },
      "id": "wnb3u07S_mBI"
    },
    {
      "cell_type": "code",
      "source": [
        "features = ['item_id', 'cat_id', 'state_id', 'year', 'month', 'day', 'wday' , 'event_name_1', 'event_type_1', 'event_name_2', 'event_type_2', \n",
        "            'snap_CA', 'snap_TX', 'snap_WI', 'sell_price', 'lag_7', 'lag_14', 'isweekend',\n",
        "            'lag_21', 'lag_28', 'lag_29', 'lag_30', 'sell_price_lag_7',\n",
        "            'sell_price_lag_14', 'sell_price_lag_21', 'sell_price_lag_28',\n",
        "            'rolling_mean_7', 'rolling_mean_7_lag_7', 'rolling_mean_14',\n",
        "            'rolling_mean_14_lag_14', 'rolling_mean_21', 'rolling_mean_21_lag_21',\n",
        "            'rolling_mean_28', 'rolling_mean_28_lag_28', 'rolling_mean_7_lag_28',\n",
        "            'rolling_mean_30_lag_28', 'rolling_mean_90_lag_28',\n",
        "            'rolling_mean_180_lag_28', 'rolling_std_7_lag_28',\n",
        "            'rolling_std_30_lag_28', 'rolling_skew_30_lag_28',\n",
        "            'rolling_kurt_30_lag_28','demand'\n",
        "           ]\n",
        "df = df[features]"
      ],
      "metadata": {
        "id": "zLhNDJnM7FHI"
      },
      "id": "zLhNDJnM7FHI",
      "execution_count": 24,
      "outputs": []
    },
    {
      "cell_type": "markdown",
      "metadata": {
        "id": "056QacQRXkQv"
      },
      "source": [
        "* Tách dữ liệu thành 3 tập Train/Test/Validation \n",
        "\n",
        "  * Train: kéo dài đến **d_1885**\n",
        "\n",
        "  * Validation: Từ **d_1886** đến **d_1914**\n",
        "\n",
        "  * Test: Từ **d_1914** đến **d_1941**"
      ],
      "id": "056QacQRXkQv"
    },
    {
      "cell_type": "code",
      "metadata": {
        "colab": {
          "base_uri": "https://localhost:8080/"
        },
        "outputId": "32f7e06c-f0ce-4470-cf83-0d7cfc7ce803",
        "id": "-ks_gXz-XkQv"
      },
      "source": [
        "l=[]\n",
        "for i in range(1886,1914):\n",
        "  l.append(i)\n",
        "\n",
        "x_train=df.loc[df['day']<=1885]\n",
        "x_valid=df.loc[df['day'].isin(l)]\n",
        "x_test=df.loc[df['day']>=1914]\n",
        "\n",
        "y_train=x_train['demand']\n",
        "y_valid=x_valid['demand']\n",
        "y_test=x_test['demand']\n",
        "\n",
        "x_train=x_train.drop(['demand'],axis=1)\n",
        "x_valid=x_valid.drop(['demand'],axis=1)\n",
        "x_test=x_test.drop(['demand'],axis=1)\n",
        "\n",
        "print(\"x_train {}\".format(x_train.shape),\"  y_train {}\".format(y_train.shape))\n",
        "print(\"\\nx_valid {}\".format(x_valid.shape),\"  y_valid {}\".format(y_valid.shape))\n",
        "print(\"\\nx_test {}\".format(x_test.shape),\"  y_test {}\".format(y_test.shape))"
      ],
      "execution_count": 25,
      "outputs": [
        {
          "output_type": "stream",
          "name": "stdout",
          "text": [
            "x_train (24075075, 42)   y_train (24075075,)\n",
            "\n",
            "x_valid (853720, 42)   y_valid (853720,)\n",
            "\n",
            "x_test (853720, 42)   y_test (853720,)\n"
          ]
        }
      ],
      "id": "-ks_gXz-XkQv"
    },
    {
      "cell_type": "code",
      "source": [
        "import gc\n",
        "del df\n",
        "gc.collect()"
      ],
      "metadata": {
        "id": "jhd-FjKIyaIM",
        "colab": {
          "base_uri": "https://localhost:8080/"
        },
        "outputId": "76b8da4a-cd84-4ea9-a11e-b53b7eab9093"
      },
      "id": "jhd-FjKIyaIM",
      "execution_count": 26,
      "outputs": [
        {
          "output_type": "execute_result",
          "data": {
            "text/plain": [
              "50"
            ]
          },
          "metadata": {},
          "execution_count": 26
        }
      ]
    },
    {
      "cell_type": "markdown",
      "metadata": {
        "heading_collapsed": true,
        "hidden": true,
        "id": "47e18b23"
      },
      "source": [
        "## LightGBM Regressor"
      ],
      "id": "47e18b23"
    },
    {
      "cell_type": "markdown",
      "metadata": {
        "hidden": true,
        "id": "68d0e100"
      },
      "source": [
        "`LightGBM` là một khung tăng cường độ dốc gradient dựa trên thuật toán cây phân cấp.\n",
        "\n",
        "`LightGBM` phát triển cây theo chiều dọc trong khi các thuật toán cây khác phát triển theo chiều ngang. Nghĩa là LightGBM sẽ phát triển theo nút lá, còn các thuật toán sẽ phát triển hết các node trên các cấp. Nó sẽ chọn lá với delta loss lớn nhất để phát triển, khi phát triển như vậy thì leaf-wise sẽ giảm thiểu tổn thất nhiều hơn so với level-wise.\n",
        "\n",
        "Cây ở LGBM xây dựng theo nhiều lần và mỗi cây mới được sử dụng để sửa “lỗi” \n",
        "của các cây trước đó. Như vậy sẽ nhanh chóng và mạnh mẽ, tuy nhiên cũng dễ bị over-fitting.\n",
        "\n",
        "![leaf-wise](https://drive.google.com/uc?export=view&id=1gW5hO0yp0l_-AAFuPQh9Bh52t3cmnFvg)\n",
        "![level-wise](https://drive.google.com/uc?export=view&id=1XxRzXrnyCYGlAlSarKlVxQp2-RFGWBOy)"
      ],
      "id": "68d0e100"
    },
    {
      "cell_type": "markdown",
      "metadata": {
        "hidden": true,
        "id": "23813fd8"
      },
      "source": [
        "`LightGBM` bắt đầu bằng từ light bởi vì tốc độ của nó rất nhanh. Kèm theo đó lightGBM có thể xử lý được dữ liệu lớn mà chỉ tiêu tốn ít bộ nhớ (RAM) để chạy nó. Và một lý do nữa mà khiến nó phổ biến là vì thuật toán tập trung vào sự chính xác của kết quả.\n",
        "\n",
        "Và điều đặt biệt lưu ý là không nên sử dụng LightGBM với lượng dữ liệu nhỏ, vì lightGBM rất dễ xảy ra hiện tượng overfiting với các tập dữ liệu có kích thước nhỏ. Dùng cho data hơn 10,000 dòng.\n",
        "\n",
        "LightGBM có hơn 100 tham số."
      ],
      "id": "23813fd8"
    },
    {
      "cell_type": "markdown",
      "metadata": {
        "hidden": true,
        "id": "38fe1075"
      },
      "source": [
        "### Control parameters\n",
        "\n",
        "- `max_depth`: độ sâu lớn nhất của cây, tham số này giúm xử lý vấn đề overfiting. Bất khi nào bạn thấy model của bạn bị overfiting hãy giảm tham số này.\n",
        "- `min_data_in_leaf`: số lượng dữ liệu nhỏ nhất mà một lá có thể có. Nó cũng được dùng để giải quyết overfiting.\n",
        "- `feature_fraction`: dùng để tăng cường. Ví dụ: 0.8 nghĩa là LightGBM sẽ chọn ra 80% các tham số ngẫu nhiên cho mỗi lần build tree.\n",
        "- `bagging_fraction`: dùng để chỉ định phần dữ liệu sẽ được sử dụng cho mỗi lần lặp lại và thường được sử dụng để tăng tốc quá trình đào tạo.\n",
        "- `early_stopping_round`: Tham số này thì dùng để tăng tốc độ phân tích cho mô hình. Mô hình sẽ ngừng đào tạo nếu một chỉ số của một dữ liệu không cải thiện trong số vòng của tham số Early_stopping_round đã đặt, giúp không lặp lại quá trình đào tạo nhiều lần mà không có kết quả cải thiện.\n",
        "- `lambda`: lambda chỉ định chính quy hóa. Giá trị nằm trong khoảng từ 0 đến 1. Nhằm tránh Overfitting.\n",
        "- `min_gain_to_split`: dùng để xác định mức tăng tối thiểu để thực hiện phân tách nhánh. Nó có thể được sử dụng để kiểm soát số lượng phân tách mà có hiệu quả trong cây.\n",
        "- `max_cat_group`: Khi số lượng phân loại là lớn, việc tìm kiếm điểm phân tách trên đó dễ gây ra hiện tượng over-fitting. Vì vậy, LightGBM hợp nhất chúng thành các nhóm ‘max_cat_group’ và tìm các điểm phân tách trên ranh giới nhóm, mặc định: 64."
      ],
      "id": "38fe1075"
    },
    {
      "cell_type": "markdown",
      "metadata": {
        "hidden": true,
        "id": "c5ac1a76"
      },
      "source": [
        "### Core parameters"
      ],
      "id": "c5ac1a76"
    },
    {
      "cell_type": "markdown",
      "metadata": {
        "id": "qzwoNGCaJQ5z"
      },
      "source": [
        "- `Task`: Tham số để chỉ định tác vụ bạn muốn thực hiện trên dữ liệu, có thể là huấn luyện hoặc dự đoán.\n",
        "- `application`: Đây là tham số quan trọng nhất và chỉ định ứng dụng cho mô hình của bạn, tức là bài toán hồi quy hay bài toán phân loại. LightGBM theo mặc định sẽ coi mô hình là một mô hình hồi quy.\n",
        "- `boosting`: xác định loại thuật toán bạn muốn chạy, mặc định là: gdbt\n",
        "- `num_boost_round`: Số lần lặp lại thúc đẩy, thường là 100 trở lên.\n",
        "- `learning_rate`: Điều này quyết định tác động của mỗi cây đến kết quả cuối cùng. GBM hoạt động bằng cách bắt đầu với ước tính ban đầu được cập nhật bằng cách sử dụng đầu ra của mỗi cây. Tham số này kiểm soát mức độ của thay đổi này trong các ước tính. Giá trị thường là: 0,1, 0,001, 0,003…\n",
        "- `num_leaves`: số lá trong toàn bộ cây, mặc định: 31\n",
        "- `device`: CPU hoặc GPU.\n"
      ],
      "id": "qzwoNGCaJQ5z"
    },
    {
      "cell_type": "markdown",
      "metadata": {
        "id": "2FcwSa-1Wtvv"
      },
      "source": [
        "### Train"
      ],
      "id": "2FcwSa-1Wtvv"
    },
    {
      "cell_type": "code",
      "source": [
        "from lightgbm import LGBMRegressor"
      ],
      "metadata": {
        "id": "RIBWCou7XkQv"
      },
      "execution_count": 27,
      "outputs": [],
      "id": "RIBWCou7XkQv"
    },
    {
      "cell_type": "code",
      "source": [
        "def rmse(pred,value):\n",
        "    return np.sqrt(((pred-value)**2).mean())"
      ],
      "metadata": {
        "id": "HyUKn5MYXkQw"
      },
      "execution_count": 28,
      "outputs": [],
      "id": "HyUKn5MYXkQw"
    },
    {
      "cell_type": "code",
      "source": [
        "%%time\n",
        "learning_rate=0.034 \n",
        "max_depth=66\n",
        "num_leaves=224\n",
        "lgb=LGBMRegressor(learning_rate=learning_rate,max_depth=max_depth,num_leaves=num_leaves, boosting_type = 'gbdt',\n",
        "    metric =  'rmse',\n",
        "    objective = 'regression',\n",
        "    n_jobs = -1,\n",
        "    seed = 236, \n",
        "    num_boost_round = 150)\n",
        "lgb.fit(x_train,y_train)\n",
        "y_pred=lgb.predict(x_valid)\n",
        "print(\"learning_rate: {}\".format(learning_rate),\"  max_depth: {}\".format(max_depth),\"  num_leaves: {}\".format(num_leaves),\"  Rmse: {}\".format(rmse(y_pred,y_valid)))"
      ],
      "metadata": {
        "id": "IT3viJXL9NLH"
      },
      "execution_count": null,
      "outputs": [],
      "id": "IT3viJXL9NLH"
    },
    {
      "cell_type": "markdown",
      "source": [
        "**Thời gian train model khá nhanh tầm 6 ~ 7 phút**<br>\n",
        "**Tốn thời gian chủ yếu ở phần xử lí dữ liệu mất từ 3 ~ 4 tiếng**"
      ],
      "metadata": {
        "id": "NRPGlHas-m5k"
      },
      "id": "NRPGlHas-m5k"
    },
    {
      "cell_type": "code",
      "source": [
        "with open('final_model.lgb','wb') as f:\n",
        "     pickle.dump(lgb,f)"
      ],
      "metadata": {
        "id": "gnYJ5U-aiL9h"
      },
      "id": "gnYJ5U-aiL9h",
      "execution_count": null,
      "outputs": []
    },
    {
      "cell_type": "code",
      "execution_count": null,
      "metadata": {
        "colab": {
          "base_uri": "https://localhost:8080/",
          "height": 627
        },
        "id": "XmUR3d9L1pSx",
        "outputId": "35c03369-2a39-4c04-ecd5-03091ff5c66c"
      },
      "outputs": [
        {
          "output_type": "display_data",
          "data": {
            "image/png": "[encoded data removed]",
            "text/plain": [
              "<Figure size 576x720 with 1 Axes>"
            ]
          },
          "metadata": {
            "needs_background": "light"
          }
        }
      ],
      "source": [
        "features=x_train.columns\n",
        "imp=lgb.feature_importances_\n",
        "indices=(np.argsort(imp))[5:]\n",
        "plt.figure(figsize=(8,10))\n",
        "plt.title('Feature Importance',fontsize=14)\n",
        "plt.barh(range(len(indices)),imp[indices],color='r')\n",
        "plt.yticks(range(len(indices)),[features[i] for i in indices])\n",
        "plt.xlabel('Relative Importance',fontsize=14)\n",
        "plt.show()"
      ],
      "id": "XmUR3d9L1pSx"
    },
    {
      "cell_type": "code",
      "source": [
        "sales_train_eval=pd.read_csv('sales_train_evaluation.csv')"
      ],
      "metadata": {
        "id": "T16sf0gsXkQw"
      },
      "execution_count": null,
      "outputs": [],
      "id": "T16sf0gsXkQw"
    },
    {
      "cell_type": "code",
      "metadata": {
        "id": "5efZdYFAXkQw"
      },
      "source": [
        "s1=pd.DataFrame()\n",
        "s2=pd.DataFrame()\n",
        "s1['id']=sales_train_eval['id'] \n",
        "j=1\n",
        "for i in range(1914,1942):\n",
        "  s1['F'+str(j)]=lgb.predict(x_test[x_test['day']==(i)]) \n",
        "  j+=1\n",
        "s1[\"id\"]=s1[\"id\"].apply(lambda x: x.replace('evaluation','validation'))\n",
        "s2=s1.copy()\n",
        "s2[\"id\"]=s1[\"id\"].apply(lambda x: x.replace('validation','evaluation'))\n",
        "submit_LGBM_Regressor=pd.concat([s1,s2]).reset_index().drop(['index'],axis=1)"
      ],
      "execution_count": null,
      "outputs": [],
      "id": "5efZdYFAXkQw"
    },
    {
      "cell_type": "code",
      "metadata": {
        "id": "tfirvBhtXkQx"
      },
      "source": [
        "submit_LGBM_Regressor.head()"
      ],
      "execution_count": null,
      "outputs": [],
      "id": "tfirvBhtXkQx"
    },
    {
      "cell_type": "code",
      "metadata": {
        "id": "MfFqZYLwXkQx"
      },
      "source": [
        "submit_LGBM_Regressor.to_csv(\"final_model.csv\",index=False)"
      ],
      "execution_count": null,
      "outputs": [],
      "id": "MfFqZYLwXkQx"
    },
    {
      "cell_type": "markdown",
      "source": [
        "## Submit Kaggle"
      ],
      "metadata": {
        "id": "KQ249Knlymyb"
      },
      "id": "KQ249Knlymyb"
    },
    {
      "cell_type": "code",
      "source": [
        "from google.colab import files\n",
        "files.upload()"
      ],
      "metadata": {
        "id": "lneMFujTZpQB"
      },
      "execution_count": null,
      "outputs": [],
      "id": "lneMFujTZpQB"
    },
    {
      "cell_type": "code",
      "source": [
        "!mkdir -p ~/.kaggle\n",
        "!cp kaggle.json ~/.kaggle/"
      ],
      "metadata": {
        "id": "wbYcqB_3aNlh"
      },
      "execution_count": null,
      "outputs": [],
      "id": "wbYcqB_3aNlh"
    },
    {
      "cell_type": "code",
      "source": [
        "!kaggle competitions submit -c m5-forecasting-accuracy -f final_model.csv -m \"\""
      ],
      "metadata": {
        "colab": {
          "base_uri": "https://localhost:8080/"
        },
        "id": "v8_cG7d6XiZ1",
        "outputId": "3cc2095b-ce24-4c9e-c58d-7837a184b7c7"
      },
      "execution_count": null,
      "outputs": [
        {
          "output_type": "stream",
          "name": "stdout",
          "text": [
            "Warning: Looks like you're using an outdated API Version, please consider updating (server 1.5.12 / client 1.5.4)\n",
            "100% 33.1M/33.1M [00:07<00:00, 4.35MB/s]\n",
            "Successfully submitted to M5 Forecasting - Accuracy"
          ]
        }
      ],
      "id": "v8_cG7d6XiZ1"
    },
    {
      "cell_type": "markdown",
      "source": [
        "**Private Score:** Cải thiện tốt nhất hiện tại: 0.65359 (trước đó: 0.67380, thời gian Feature đã tăng lên 1 tiếng khi thêm một vài cột tuy nhiên vẫn ít hơn thời gian tác giả làm 1 tiếng)<br>\n",
        "Điểm gốc tác giả: 0.67749"
      ],
      "metadata": {
        "id": "r1j6ldlmy1nS"
      },
      "id": "r1j6ldlmy1nS"
    }
  ]
}