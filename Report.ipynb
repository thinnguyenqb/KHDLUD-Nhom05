{
  "nbformat": 4,
  "nbformat_minor": 5,
  "metadata": {
    "kernelspec": {
      "display_name": "Python 3",
      "language": "python",
      "name": "python3"
    },
    "language_info": {
      "codemirror_mode": {
        "name": "ipython",
        "version": 3
      },
      "file_extension": ".py",
      "mimetype": "text/x-python",
      "name": "python",
      "nbconvert_exporter": "python",
      "pygments_lexer": "ipython3",
      "version": "3.6.9"
    },
    "toc": {
      "base_numbering": 1,
      "nav_menu": {},
      "number_sections": true,
      "sideBar": true,
      "skip_h1_title": false,
      "title_cell": "Table of Contents",
      "title_sidebar": "Contents",
      "toc_cell": false,
      "toc_position": {
        "height": "calc(100% - 180px)",
        "left": "10px",
        "top": "150px",
        "width": "176px"
      },
      "toc_section_display": true,
      "toc_window_display": true
    },
    "colab": {
      "name": "Report.ipynb",
      "provenance": [],
      "collapsed_sections": [
        "fc361dcb",
        "7871ff5c",
        "0d435802",
        "e6f803e7",
        "A1z7xflE6G6f",
        "yOmVS0LK6G6g",
        "J58RSRWA6G6h",
        "5Eb11HNV6G6j",
        "CoS09oB36G6l",
        "jz0p0KrMWUeb",
        "47e18b23",
        "KQ249Knlymyb"
      ],
      "machine_shape": "hm",
      "toc_visible": true,
      "include_colab_link": true
    }
  },
  "cells": [
    {
      "cell_type": "markdown",
      "metadata": {
        "id": "view-in-github",
        "colab_type": "text"
      },
      "source": [
        "<a href=\"https://colab.research.google.com/github/thinnguyenqb/KHDLUD-Nhom05/blob/master/Report.ipynb\" target=\"_parent\"><img src=\"https://colab.research.google.com/assets/colab-badge.svg\" alt=\"Open In Colab\"/></a>"
      ]
    },
    {
      "cell_type": "markdown",
      "metadata": {
        "id": "7c42327a"
      },
      "source": [
        "![logo](https://drive.google.com/uc?export=view&id=1KGNBBRRabYfB1zOj94zVtKtVnx2vFB6f)"
      ],
      "id": "7c42327a"
    },
    {
      "cell_type": "markdown",
      "metadata": {
        "heading_collapsed": true,
        "id": "cbd62bbe"
      },
      "source": [
        "# Giới thiệu nhóm"
      ],
      "id": "cbd62bbe"
    },
    {
      "cell_type": "markdown",
      "metadata": {
        "hidden": true,
        "id": "e9adffc4"
      },
      "source": [
        "| MSSV | Full Name | ID Github |\n",
        "| ---- | ---- | -------- |\n",
        "| 1612835 | Bùi Trọng Xuyến | btxuyenhcmus |\n",
        "| 18120563 | Hứa Phú Thành | huasen07 |\n",
        "| 1712391 | Trần Bảo Duy | duytran1999 |\n",
        "| 1712787 | Nguyễn Văn Thìn | thinnguyenqb |\n",
        "\n",
        "[https://github.com/thinnguyenqb/KHDLUD-Nhom05.git](https://github.com/thinnguyenqb/KHDLUD-Nhom05.git)"
      ],
      "id": "e9adffc4"
    },
    {
      "cell_type": "markdown",
      "metadata": {
        "hidden": true,
        "id": "38f6e37f"
      },
      "source": [
        "![Footer-logo](https://drive.google.com/uc?export=view&id=17aEQ6johMz7h-OV_zfsxx3F11NcsWXAN)"
      ],
      "id": "38f6e37f"
    },
    {
      "cell_type": "markdown",
      "metadata": {
        "heading_collapsed": true,
        "id": "5cf6faf5"
      },
      "source": [
        "# Giới thiệu bài toán"
      ],
      "id": "5cf6faf5"
    },
    {
      "cell_type": "markdown",
      "metadata": {
        "hidden": true,
        "id": "fe0785e0"
      },
      "source": [
        "![banner](https://drive.google.com/uc?export=view&id=1pL0j1Nakl2rwa0CI06uwB2ylyuqOvwka)"
      ],
      "id": "fe0785e0"
    },
    {
      "cell_type": "markdown",
      "metadata": {
        "hidden": true,
        "id": "fc361dcb"
      },
      "source": [
        "## Sơ lược về cuộc thi"
      ],
      "id": "fc361dcb"
    },
    {
      "cell_type": "markdown",
      "metadata": {
        "hidden": true,
        "id": "c91bbe23"
      },
      "source": [
        "`Walmart` là một trong các chợ thương mại điện tử lớn hàng đầu ở USA, với lượng `volume` sản phẩm bán ra cực kì lớn của mình. Cuộc thi được đưa ra với mục tiêu thách thức các team sử dụng các thuật toán nâng cao để đưa ra được dự đoán chính xác nhất về lượng hàng hóa bán ra trong một chuỗi thời gian tương lai tiếp theo."
      ],
      "id": "c91bbe23"
    },
    {
      "cell_type": "markdown",
      "metadata": {
        "hidden": true,
        "id": "0392af46"
      },
      "source": [
        "`M5` bắt đầu vào ngày `02/03/2020` và kết thúc ngày `30/06/2020`. Tổ chức trên nền tảng công nghệ `Kaggle`."
      ],
      "id": "0392af46"
    },
    {
      "cell_type": "markdown",
      "metadata": {
        "hidden": true,
        "id": "f2b0af30"
      },
      "source": [
        "`M5` tổ chức thành 2 cuộc thi nhỏ chạy song song trên `kaggle` và cùng sử dụng chung một  bộ dữ liệu.\n",
        "\n",
        "- Cuộc thi đầu tiên có tên gọi là `M5 Forecasting Competition – Accuracy` với mục tiêu là dự đoán doanh số bán hàng trong 28 ngày kế tiếp cho các sản phẩm tại các cửa hàng Walmart.\n",
        "- Cuộc thi thứ hai có tên gọi là `M5 Forecasting Competition – Uncertainty` với mục tiêu là dự đoán sác xuất."
      ],
      "id": "f2b0af30"
    },
    {
      "cell_type": "markdown",
      "metadata": {
        "hidden": true,
        "id": "05385414"
      },
      "source": [
        "Cuộc thi kết thúc với sự tham gia của `5.558` teams"
      ],
      "id": "05385414"
    },
    {
      "cell_type": "markdown",
      "metadata": {
        "heading_collapsed": true,
        "hidden": true,
        "id": "70e1240e"
      },
      "source": [
        "## Dữ liệu đầu vào\n",
        "\n",
        "- `calendar.csv`\n",
        "- `sales_train_validation.csv`\n",
        "- `sell_prices.csv`\n",
        "- `sales_train_evaluation.csv`"
      ],
      "id": "70e1240e"
    },
    {
      "cell_type": "markdown",
      "metadata": {
        "heading_collapsed": true,
        "hidden": true,
        "id": "696224d6"
      },
      "source": [
        "## Dữ liệu đầu ra\n",
        "\n",
        "- `submission.csv`"
      ],
      "id": "696224d6"
    },
    {
      "cell_type": "markdown",
      "metadata": {
        "id": "7871ff5c"
      },
      "source": [
        "# Tập dữ liệu"
      ],
      "id": "7871ff5c"
    },
    {
      "cell_type": "code",
      "metadata": {
        "id": "atZFrTa-BVZv",
        "colab": {
          "base_uri": "https://localhost:8080/"
        },
        "outputId": "d1604ffa-53ab-4fb1-d799-2340d26a6db3"
      },
      "source": [
        "from google.colab import drive\n",
        "drive.mount('/content/drive')\n",
        "#!find /content/drive\n",
        "%cd /content/drive/MyDrive/KHDLUD/input"
      ],
      "id": "atZFrTa-BVZv",
      "execution_count": null,
      "outputs": [
        {
          "output_type": "stream",
          "name": "stdout",
          "text": [
            "Mounted at /content/drive\n",
            "/content/drive/.shortcut-targets-by-id/162NSyrwjXoKLVN79CInPyD8lzPAUzNdG/KHDLUD/input\n"
          ]
        }
      ]
    },
    {
      "cell_type": "code",
      "metadata": {
        "colab": {
          "base_uri": "https://localhost:8080/"
        },
        "id": "u84kKiw-EE8g",
        "outputId": "63d6cbd7-cf38-40b7-9d7a-f20fe0e8cc82"
      },
      "source": [
        "!ls"
      ],
      "id": "u84kKiw-EE8g",
      "execution_count": null,
      "outputs": [
        {
          "output_type": "stream",
          "name": "stdout",
          "text": [
            "calendar.csv\t       sales_train_evaluation.csv  sell_prices.csv\n",
            "data_final.pkl\t       sales_train_validation.csv  test_3.png\n",
            "drop_all_nan_data.pkl  sample_submission.csv\n"
          ]
        }
      ]
    },
    {
      "cell_type": "markdown",
      "metadata": {
        "id": "633d6bc1"
      },
      "source": [
        "![Dataset-hir](https://drive.google.com/uc?export=view&id=1l2ouDSWCf2TjPMCIVANuEP7gxvvDCgb9)"
      ],
      "id": "633d6bc1"
    },
    {
      "cell_type": "markdown",
      "metadata": {
        "id": "b7a4ed56"
      },
      "source": [
        "Tập dữ liệu `M5`, được cung cấp rộng rãi bởi `Walmart`, liên quan đến doanh số bán hàng đơn vị của các sản phẩm khác nhau được bán ở Hoa Kỳ, được tổ chức dưới dạng chuỗi thời gian được nhóm lại. Cụ thể hơn, tập dữ liệu liên quan đến doanh số bán hàng theo đơn vị của `3.049 sản phẩm`, được phân loại thành `3 danh mục` sản phẩm (Sở thích, Thực phẩm và Gia dụng) và `7 phòng ban sản phẩm`, trong đó các danh mục nêu trên được tách riêng. Các sản phẩm được bán trên mười cửa hàng, đặt tại `3 Bang` (CA, TX và WI)."
      ],
      "id": "b7a4ed56"
    },
    {
      "cell_type": "code",
      "metadata": {
        "id": "64d63dad"
      },
      "source": [
        "import pandas as pd"
      ],
      "id": "64d63dad",
      "execution_count": null,
      "outputs": []
    },
    {
      "cell_type": "markdown",
      "metadata": {
        "id": "c12135b8"
      },
      "source": [
        "## Calendar.csv\n",
        "\n",
        "- `data`: Ngày ở địng dạng y-m-d\n",
        "- `wm_yr_wk`: id tuần mà ngày thuộc về\n",
        "- `weekday`: Loại ngày trong tuần (Monday, ….)\n",
        "- `wday`: Id của ngày trong tuần bắt đầu từ thứ 7\n",
        "- `month`: tháng\n",
        "- `year`: năm\n",
        "- `event_name_1`: Nếu ngày có sự kiện, thì tên sự kiện \n",
        "- `event_type_1`:Nếu ngày có sự kiện, thì loại sự kiện\n",
        "- `event_name_2`: Nếu ngày có sự kiện thứ hai, thì tên sự kiện\n",
        "- `event_type_2`: Nếu ngày có sự kiện thứ hai, thì loại sự kiện\n",
        "- `snap_CA,snap_TX, snap_WI`: giá trị nhị phân cho biết cửa hàng CA,TX,WI có cho phép mua SNAP^3 vào ngày được cho phép hay không ? Nếu cho phép là 1."
      ],
      "id": "c12135b8"
    },
    {
      "cell_type": "code",
      "metadata": {
        "id": "2c960397",
        "colab": {
          "base_uri": "https://localhost:8080/",
          "height": 313
        },
        "outputId": "574e70a6-f6da-4bae-a835-8cb5afc28f1a"
      },
      "source": [
        "calendar_ = pd.read_csv('calendar.csv')\n",
        "calendar_.head(5)"
      ],
      "id": "2c960397",
      "execution_count": null,
      "outputs": [
        {
          "output_type": "execute_result",
          "data": {
            "text/html": [
              "<div>\n",
              "<style scoped>\n",
              "    .dataframe tbody tr th:only-of-type {\n",
              "        vertical-align: middle;\n",
              "    }\n",
              "\n",
              "    .dataframe tbody tr th {\n",
              "        vertical-align: top;\n",
              "    }\n",
              "\n",
              "    .dataframe thead th {\n",
              "        text-align: right;\n",
              "    }\n",
              "</style>\n",
              "<table border=\"1\" class=\"dataframe\">\n",
              "  <thead>\n",
              "    <tr style=\"text-align: right;\">\n",
              "      <th></th>\n",
              "      <th>date</th>\n",
              "      <th>wm_yr_wk</th>\n",
              "      <th>weekday</th>\n",
              "      <th>wday</th>\n",
              "      <th>month</th>\n",
              "      <th>year</th>\n",
              "      <th>d</th>\n",
              "      <th>event_name_1</th>\n",
              "      <th>event_type_1</th>\n",
              "      <th>event_name_2</th>\n",
              "      <th>event_type_2</th>\n",
              "      <th>snap_CA</th>\n",
              "      <th>snap_TX</th>\n",
              "      <th>snap_WI</th>\n",
              "    </tr>\n",
              "  </thead>\n",
              "  <tbody>\n",
              "    <tr>\n",
              "      <th>0</th>\n",
              "      <td>2011-01-29</td>\n",
              "      <td>11101</td>\n",
              "      <td>Saturday</td>\n",
              "      <td>1</td>\n",
              "      <td>1</td>\n",
              "      <td>2011</td>\n",
              "      <td>d_1</td>\n",
              "      <td>NaN</td>\n",
              "      <td>NaN</td>\n",
              "      <td>NaN</td>\n",
              "      <td>NaN</td>\n",
              "      <td>0</td>\n",
              "      <td>0</td>\n",
              "      <td>0</td>\n",
              "    </tr>\n",
              "    <tr>\n",
              "      <th>1</th>\n",
              "      <td>2011-01-30</td>\n",
              "      <td>11101</td>\n",
              "      <td>Sunday</td>\n",
              "      <td>2</td>\n",
              "      <td>1</td>\n",
              "      <td>2011</td>\n",
              "      <td>d_2</td>\n",
              "      <td>NaN</td>\n",
              "      <td>NaN</td>\n",
              "      <td>NaN</td>\n",
              "      <td>NaN</td>\n",
              "      <td>0</td>\n",
              "      <td>0</td>\n",
              "      <td>0</td>\n",
              "    </tr>\n",
              "    <tr>\n",
              "      <th>2</th>\n",
              "      <td>2011-01-31</td>\n",
              "      <td>11101</td>\n",
              "      <td>Monday</td>\n",
              "      <td>3</td>\n",
              "      <td>1</td>\n",
              "      <td>2011</td>\n",
              "      <td>d_3</td>\n",
              "      <td>NaN</td>\n",
              "      <td>NaN</td>\n",
              "      <td>NaN</td>\n",
              "      <td>NaN</td>\n",
              "      <td>0</td>\n",
              "      <td>0</td>\n",
              "      <td>0</td>\n",
              "    </tr>\n",
              "    <tr>\n",
              "      <th>3</th>\n",
              "      <td>2011-02-01</td>\n",
              "      <td>11101</td>\n",
              "      <td>Tuesday</td>\n",
              "      <td>4</td>\n",
              "      <td>2</td>\n",
              "      <td>2011</td>\n",
              "      <td>d_4</td>\n",
              "      <td>NaN</td>\n",
              "      <td>NaN</td>\n",
              "      <td>NaN</td>\n",
              "      <td>NaN</td>\n",
              "      <td>1</td>\n",
              "      <td>1</td>\n",
              "      <td>0</td>\n",
              "    </tr>\n",
              "    <tr>\n",
              "      <th>4</th>\n",
              "      <td>2011-02-02</td>\n",
              "      <td>11101</td>\n",
              "      <td>Wednesday</td>\n",
              "      <td>5</td>\n",
              "      <td>2</td>\n",
              "      <td>2011</td>\n",
              "      <td>d_5</td>\n",
              "      <td>NaN</td>\n",
              "      <td>NaN</td>\n",
              "      <td>NaN</td>\n",
              "      <td>NaN</td>\n",
              "      <td>1</td>\n",
              "      <td>0</td>\n",
              "      <td>1</td>\n",
              "    </tr>\n",
              "  </tbody>\n",
              "</table>\n",
              "</div>"
            ],
            "text/plain": [
              "         date  wm_yr_wk    weekday  ...  snap_CA  snap_TX  snap_WI\n",
              "0  2011-01-29     11101   Saturday  ...        0        0        0\n",
              "1  2011-01-30     11101     Sunday  ...        0        0        0\n",
              "2  2011-01-31     11101     Monday  ...        0        0        0\n",
              "3  2011-02-01     11101    Tuesday  ...        1        1        0\n",
              "4  2011-02-02     11101  Wednesday  ...        1        0        1\n",
              "\n",
              "[5 rows x 14 columns]"
            ]
          },
          "metadata": {},
          "execution_count": 8
        }
      ]
    },
    {
      "cell_type": "code",
      "metadata": {
        "id": "386c7ace",
        "colab": {
          "base_uri": "https://localhost:8080/"
        },
        "outputId": "95cadac9-1103-4a59-daa6-3debb5bff5c1"
      },
      "source": [
        "calendar_.info()"
      ],
      "id": "386c7ace",
      "execution_count": null,
      "outputs": [
        {
          "output_type": "stream",
          "name": "stdout",
          "text": [
            "<class 'pandas.core.frame.DataFrame'>\n",
            "RangeIndex: 1969 entries, 0 to 1968\n",
            "Data columns (total 14 columns):\n",
            " #   Column        Non-Null Count  Dtype \n",
            "---  ------        --------------  ----- \n",
            " 0   date          1969 non-null   object\n",
            " 1   wm_yr_wk      1969 non-null   int64 \n",
            " 2   weekday       1969 non-null   object\n",
            " 3   wday          1969 non-null   int64 \n",
            " 4   month         1969 non-null   int64 \n",
            " 5   year          1969 non-null   int64 \n",
            " 6   d             1969 non-null   object\n",
            " 7   event_name_1  162 non-null    object\n",
            " 8   event_type_1  162 non-null    object\n",
            " 9   event_name_2  5 non-null      object\n",
            " 10  event_type_2  5 non-null      object\n",
            " 11  snap_CA       1969 non-null   int64 \n",
            " 12  snap_TX       1969 non-null   int64 \n",
            " 13  snap_WI       1969 non-null   int64 \n",
            "dtypes: int64(7), object(7)\n",
            "memory usage: 215.5+ KB\n"
          ]
        }
      ]
    },
    {
      "cell_type": "markdown",
      "metadata": {
        "id": "d71f3691"
      },
      "source": [
        "## Sell_prices.csv\n",
        "\n",
        "- `store_id`: mã cửa hàng\n",
        "- `item_id`: mã mặt hàng\n",
        "- `wm_yr_wk`: id của tuần chứa ngày\n",
        "- `sell_price`: giá bán"
      ],
      "id": "d71f3691"
    },
    {
      "cell_type": "code",
      "metadata": {
        "id": "9058631f",
        "colab": {
          "base_uri": "https://localhost:8080/",
          "height": 206
        },
        "outputId": "cb05cd16-006d-4e2f-b6df-d04397d1a40a"
      },
      "source": [
        "sell_prices_ = pd.read_csv('sell_prices.csv')\n",
        "sell_prices_.head(5)"
      ],
      "id": "9058631f",
      "execution_count": null,
      "outputs": [
        {
          "output_type": "execute_result",
          "data": {
            "text/html": [
              "<div>\n",
              "<style scoped>\n",
              "    .dataframe tbody tr th:only-of-type {\n",
              "        vertical-align: middle;\n",
              "    }\n",
              "\n",
              "    .dataframe tbody tr th {\n",
              "        vertical-align: top;\n",
              "    }\n",
              "\n",
              "    .dataframe thead th {\n",
              "        text-align: right;\n",
              "    }\n",
              "</style>\n",
              "<table border=\"1\" class=\"dataframe\">\n",
              "  <thead>\n",
              "    <tr style=\"text-align: right;\">\n",
              "      <th></th>\n",
              "      <th>store_id</th>\n",
              "      <th>item_id</th>\n",
              "      <th>wm_yr_wk</th>\n",
              "      <th>sell_price</th>\n",
              "    </tr>\n",
              "  </thead>\n",
              "  <tbody>\n",
              "    <tr>\n",
              "      <th>0</th>\n",
              "      <td>CA_1</td>\n",
              "      <td>HOBBIES_1_001</td>\n",
              "      <td>11325</td>\n",
              "      <td>9.58</td>\n",
              "    </tr>\n",
              "    <tr>\n",
              "      <th>1</th>\n",
              "      <td>CA_1</td>\n",
              "      <td>HOBBIES_1_001</td>\n",
              "      <td>11326</td>\n",
              "      <td>9.58</td>\n",
              "    </tr>\n",
              "    <tr>\n",
              "      <th>2</th>\n",
              "      <td>CA_1</td>\n",
              "      <td>HOBBIES_1_001</td>\n",
              "      <td>11327</td>\n",
              "      <td>8.26</td>\n",
              "    </tr>\n",
              "    <tr>\n",
              "      <th>3</th>\n",
              "      <td>CA_1</td>\n",
              "      <td>HOBBIES_1_001</td>\n",
              "      <td>11328</td>\n",
              "      <td>8.26</td>\n",
              "    </tr>\n",
              "    <tr>\n",
              "      <th>4</th>\n",
              "      <td>CA_1</td>\n",
              "      <td>HOBBIES_1_001</td>\n",
              "      <td>11329</td>\n",
              "      <td>8.26</td>\n",
              "    </tr>\n",
              "  </tbody>\n",
              "</table>\n",
              "</div>"
            ],
            "text/plain": [
              "  store_id        item_id  wm_yr_wk  sell_price\n",
              "0     CA_1  HOBBIES_1_001     11325        9.58\n",
              "1     CA_1  HOBBIES_1_001     11326        9.58\n",
              "2     CA_1  HOBBIES_1_001     11327        8.26\n",
              "3     CA_1  HOBBIES_1_001     11328        8.26\n",
              "4     CA_1  HOBBIES_1_001     11329        8.26"
            ]
          },
          "metadata": {},
          "execution_count": 10
        }
      ]
    },
    {
      "cell_type": "code",
      "metadata": {
        "id": "cd5df0d2",
        "colab": {
          "base_uri": "https://localhost:8080/"
        },
        "outputId": "3dbcad3a-524b-4233-a11a-3b412b1ccb50"
      },
      "source": [
        "sell_prices_.info()"
      ],
      "id": "cd5df0d2",
      "execution_count": null,
      "outputs": [
        {
          "output_type": "stream",
          "name": "stdout",
          "text": [
            "<class 'pandas.core.frame.DataFrame'>\n",
            "RangeIndex: 6841121 entries, 0 to 6841120\n",
            "Data columns (total 4 columns):\n",
            " #   Column      Dtype  \n",
            "---  ------      -----  \n",
            " 0   store_id    object \n",
            " 1   item_id     object \n",
            " 2   wm_yr_wk    int64  \n",
            " 3   sell_price  float64\n",
            "dtypes: float64(1), int64(1), object(2)\n",
            "memory usage: 208.8+ MB\n"
          ]
        }
      ]
    },
    {
      "cell_type": "markdown",
      "metadata": {
        "id": "315f9757"
      },
      "source": [
        "## Sales_train_evaluation.csv / sales_train_validation.csv\n",
        "\n",
        "- `id`: mã\n",
        "- `item_id`: mã sản phẩm\n",
        "- `dept_id`: mã khu vực/ vùng\n",
        "- `cat_id`: mã loại\n",
        "- `store_id`: mã cửa hàng\n",
        "- `state_id`: mã tiểu bang\n",
        "- `[d_1,d_1913]`: dữ liệu bán hàng"
      ],
      "id": "315f9757"
    },
    {
      "cell_type": "code",
      "metadata": {
        "id": "ee8d27fe",
        "colab": {
          "base_uri": "https://localhost:8080/",
          "height": 255
        },
        "outputId": "e0ff5837-c842-4f89-f3fb-480e5719c3c8"
      },
      "source": [
        "sales_train_evaluation_ = pd.read_csv('sales_train_evaluation.csv')\n",
        "sales_train_evaluation_.head(5)"
      ],
      "id": "ee8d27fe",
      "execution_count": null,
      "outputs": [
        {
          "output_type": "execute_result",
          "data": {
            "text/html": [
              "<div>\n",
              "<style scoped>\n",
              "    .dataframe tbody tr th:only-of-type {\n",
              "        vertical-align: middle;\n",
              "    }\n",
              "\n",
              "    .dataframe tbody tr th {\n",
              "        vertical-align: top;\n",
              "    }\n",
              "\n",
              "    .dataframe thead th {\n",
              "        text-align: right;\n",
              "    }\n",
              "</style>\n",
              "<table border=\"1\" class=\"dataframe\">\n",
              "  <thead>\n",
              "    <tr style=\"text-align: right;\">\n",
              "      <th></th>\n",
              "      <th>id</th>\n",
              "      <th>item_id</th>\n",
              "      <th>dept_id</th>\n",
              "      <th>cat_id</th>\n",
              "      <th>store_id</th>\n",
              "      <th>state_id</th>\n",
              "      <th>d_1</th>\n",
              "      <th>d_2</th>\n",
              "      <th>d_3</th>\n",
              "      <th>d_4</th>\n",
              "      <th>d_5</th>\n",
              "      <th>d_6</th>\n",
              "      <th>d_7</th>\n",
              "      <th>d_8</th>\n",
              "      <th>d_9</th>\n",
              "      <th>d_10</th>\n",
              "      <th>d_11</th>\n",
              "      <th>d_12</th>\n",
              "      <th>d_13</th>\n",
              "      <th>d_14</th>\n",
              "      <th>d_15</th>\n",
              "      <th>d_16</th>\n",
              "      <th>d_17</th>\n",
              "      <th>d_18</th>\n",
              "      <th>d_19</th>\n",
              "      <th>d_20</th>\n",
              "      <th>d_21</th>\n",
              "      <th>d_22</th>\n",
              "      <th>d_23</th>\n",
              "      <th>d_24</th>\n",
              "      <th>d_25</th>\n",
              "      <th>d_26</th>\n",
              "      <th>d_27</th>\n",
              "      <th>d_28</th>\n",
              "      <th>d_29</th>\n",
              "      <th>d_30</th>\n",
              "      <th>d_31</th>\n",
              "      <th>d_32</th>\n",
              "      <th>d_33</th>\n",
              "      <th>d_34</th>\n",
              "      <th>...</th>\n",
              "      <th>d_1902</th>\n",
              "      <th>d_1903</th>\n",
              "      <th>d_1904</th>\n",
              "      <th>d_1905</th>\n",
              "      <th>d_1906</th>\n",
              "      <th>d_1907</th>\n",
              "      <th>d_1908</th>\n",
              "      <th>d_1909</th>\n",
              "      <th>d_1910</th>\n",
              "      <th>d_1911</th>\n",
              "      <th>d_1912</th>\n",
              "      <th>d_1913</th>\n",
              "      <th>d_1914</th>\n",
              "      <th>d_1915</th>\n",
              "      <th>d_1916</th>\n",
              "      <th>d_1917</th>\n",
              "      <th>d_1918</th>\n",
              "      <th>d_1919</th>\n",
              "      <th>d_1920</th>\n",
              "      <th>d_1921</th>\n",
              "      <th>d_1922</th>\n",
              "      <th>d_1923</th>\n",
              "      <th>d_1924</th>\n",
              "      <th>d_1925</th>\n",
              "      <th>d_1926</th>\n",
              "      <th>d_1927</th>\n",
              "      <th>d_1928</th>\n",
              "      <th>d_1929</th>\n",
              "      <th>d_1930</th>\n",
              "      <th>d_1931</th>\n",
              "      <th>d_1932</th>\n",
              "      <th>d_1933</th>\n",
              "      <th>d_1934</th>\n",
              "      <th>d_1935</th>\n",
              "      <th>d_1936</th>\n",
              "      <th>d_1937</th>\n",
              "      <th>d_1938</th>\n",
              "      <th>d_1939</th>\n",
              "      <th>d_1940</th>\n",
              "      <th>d_1941</th>\n",
              "    </tr>\n",
              "  </thead>\n",
              "  <tbody>\n",
              "    <tr>\n",
              "      <th>0</th>\n",
              "      <td>HOBBIES_1_001_CA_1_evaluation</td>\n",
              "      <td>HOBBIES_1_001</td>\n",
              "      <td>HOBBIES_1</td>\n",
              "      <td>HOBBIES</td>\n",
              "      <td>CA_1</td>\n",
              "      <td>CA</td>\n",
              "      <td>0</td>\n",
              "      <td>0</td>\n",
              "      <td>0</td>\n",
              "      <td>0</td>\n",
              "      <td>0</td>\n",
              "      <td>0</td>\n",
              "      <td>0</td>\n",
              "      <td>0</td>\n",
              "      <td>0</td>\n",
              "      <td>0</td>\n",
              "      <td>0</td>\n",
              "      <td>0</td>\n",
              "      <td>0</td>\n",
              "      <td>0</td>\n",
              "      <td>0</td>\n",
              "      <td>0</td>\n",
              "      <td>0</td>\n",
              "      <td>0</td>\n",
              "      <td>0</td>\n",
              "      <td>0</td>\n",
              "      <td>0</td>\n",
              "      <td>0</td>\n",
              "      <td>0</td>\n",
              "      <td>0</td>\n",
              "      <td>0</td>\n",
              "      <td>0</td>\n",
              "      <td>0</td>\n",
              "      <td>0</td>\n",
              "      <td>0</td>\n",
              "      <td>0</td>\n",
              "      <td>0</td>\n",
              "      <td>0</td>\n",
              "      <td>0</td>\n",
              "      <td>0</td>\n",
              "      <td>...</td>\n",
              "      <td>0</td>\n",
              "      <td>1</td>\n",
              "      <td>1</td>\n",
              "      <td>3</td>\n",
              "      <td>0</td>\n",
              "      <td>1</td>\n",
              "      <td>1</td>\n",
              "      <td>1</td>\n",
              "      <td>3</td>\n",
              "      <td>0</td>\n",
              "      <td>1</td>\n",
              "      <td>1</td>\n",
              "      <td>0</td>\n",
              "      <td>0</td>\n",
              "      <td>0</td>\n",
              "      <td>2</td>\n",
              "      <td>0</td>\n",
              "      <td>3</td>\n",
              "      <td>5</td>\n",
              "      <td>0</td>\n",
              "      <td>0</td>\n",
              "      <td>1</td>\n",
              "      <td>1</td>\n",
              "      <td>0</td>\n",
              "      <td>2</td>\n",
              "      <td>1</td>\n",
              "      <td>2</td>\n",
              "      <td>2</td>\n",
              "      <td>1</td>\n",
              "      <td>0</td>\n",
              "      <td>2</td>\n",
              "      <td>4</td>\n",
              "      <td>0</td>\n",
              "      <td>0</td>\n",
              "      <td>0</td>\n",
              "      <td>0</td>\n",
              "      <td>3</td>\n",
              "      <td>3</td>\n",
              "      <td>0</td>\n",
              "      <td>1</td>\n",
              "    </tr>\n",
              "    <tr>\n",
              "      <th>1</th>\n",
              "      <td>HOBBIES_1_002_CA_1_evaluation</td>\n",
              "      <td>HOBBIES_1_002</td>\n",
              "      <td>HOBBIES_1</td>\n",
              "      <td>HOBBIES</td>\n",
              "      <td>CA_1</td>\n",
              "      <td>CA</td>\n",
              "      <td>0</td>\n",
              "      <td>0</td>\n",
              "      <td>0</td>\n",
              "      <td>0</td>\n",
              "      <td>0</td>\n",
              "      <td>0</td>\n",
              "      <td>0</td>\n",
              "      <td>0</td>\n",
              "      <td>0</td>\n",
              "      <td>0</td>\n",
              "      <td>0</td>\n",
              "      <td>0</td>\n",
              "      <td>0</td>\n",
              "      <td>0</td>\n",
              "      <td>0</td>\n",
              "      <td>0</td>\n",
              "      <td>0</td>\n",
              "      <td>0</td>\n",
              "      <td>0</td>\n",
              "      <td>0</td>\n",
              "      <td>0</td>\n",
              "      <td>0</td>\n",
              "      <td>0</td>\n",
              "      <td>0</td>\n",
              "      <td>0</td>\n",
              "      <td>0</td>\n",
              "      <td>0</td>\n",
              "      <td>0</td>\n",
              "      <td>0</td>\n",
              "      <td>0</td>\n",
              "      <td>0</td>\n",
              "      <td>0</td>\n",
              "      <td>0</td>\n",
              "      <td>0</td>\n",
              "      <td>...</td>\n",
              "      <td>0</td>\n",
              "      <td>0</td>\n",
              "      <td>0</td>\n",
              "      <td>0</td>\n",
              "      <td>0</td>\n",
              "      <td>0</td>\n",
              "      <td>0</td>\n",
              "      <td>1</td>\n",
              "      <td>0</td>\n",
              "      <td>0</td>\n",
              "      <td>0</td>\n",
              "      <td>0</td>\n",
              "      <td>0</td>\n",
              "      <td>1</td>\n",
              "      <td>0</td>\n",
              "      <td>0</td>\n",
              "      <td>0</td>\n",
              "      <td>0</td>\n",
              "      <td>0</td>\n",
              "      <td>0</td>\n",
              "      <td>0</td>\n",
              "      <td>1</td>\n",
              "      <td>0</td>\n",
              "      <td>0</td>\n",
              "      <td>0</td>\n",
              "      <td>0</td>\n",
              "      <td>0</td>\n",
              "      <td>0</td>\n",
              "      <td>0</td>\n",
              "      <td>0</td>\n",
              "      <td>0</td>\n",
              "      <td>1</td>\n",
              "      <td>2</td>\n",
              "      <td>1</td>\n",
              "      <td>1</td>\n",
              "      <td>0</td>\n",
              "      <td>0</td>\n",
              "      <td>0</td>\n",
              "      <td>0</td>\n",
              "      <td>0</td>\n",
              "    </tr>\n",
              "    <tr>\n",
              "      <th>2</th>\n",
              "      <td>HOBBIES_1_003_CA_1_evaluation</td>\n",
              "      <td>HOBBIES_1_003</td>\n",
              "      <td>HOBBIES_1</td>\n",
              "      <td>HOBBIES</td>\n",
              "      <td>CA_1</td>\n",
              "      <td>CA</td>\n",
              "      <td>0</td>\n",
              "      <td>0</td>\n",
              "      <td>0</td>\n",
              "      <td>0</td>\n",
              "      <td>0</td>\n",
              "      <td>0</td>\n",
              "      <td>0</td>\n",
              "      <td>0</td>\n",
              "      <td>0</td>\n",
              "      <td>0</td>\n",
              "      <td>0</td>\n",
              "      <td>0</td>\n",
              "      <td>0</td>\n",
              "      <td>0</td>\n",
              "      <td>0</td>\n",
              "      <td>0</td>\n",
              "      <td>0</td>\n",
              "      <td>0</td>\n",
              "      <td>0</td>\n",
              "      <td>0</td>\n",
              "      <td>0</td>\n",
              "      <td>0</td>\n",
              "      <td>0</td>\n",
              "      <td>0</td>\n",
              "      <td>0</td>\n",
              "      <td>0</td>\n",
              "      <td>0</td>\n",
              "      <td>0</td>\n",
              "      <td>0</td>\n",
              "      <td>0</td>\n",
              "      <td>0</td>\n",
              "      <td>0</td>\n",
              "      <td>0</td>\n",
              "      <td>0</td>\n",
              "      <td>...</td>\n",
              "      <td>1</td>\n",
              "      <td>2</td>\n",
              "      <td>2</td>\n",
              "      <td>1</td>\n",
              "      <td>2</td>\n",
              "      <td>1</td>\n",
              "      <td>1</td>\n",
              "      <td>1</td>\n",
              "      <td>0</td>\n",
              "      <td>1</td>\n",
              "      <td>1</td>\n",
              "      <td>1</td>\n",
              "      <td>0</td>\n",
              "      <td>0</td>\n",
              "      <td>1</td>\n",
              "      <td>1</td>\n",
              "      <td>0</td>\n",
              "      <td>2</td>\n",
              "      <td>1</td>\n",
              "      <td>0</td>\n",
              "      <td>0</td>\n",
              "      <td>0</td>\n",
              "      <td>0</td>\n",
              "      <td>2</td>\n",
              "      <td>1</td>\n",
              "      <td>3</td>\n",
              "      <td>0</td>\n",
              "      <td>0</td>\n",
              "      <td>1</td>\n",
              "      <td>0</td>\n",
              "      <td>1</td>\n",
              "      <td>0</td>\n",
              "      <td>2</td>\n",
              "      <td>0</td>\n",
              "      <td>0</td>\n",
              "      <td>0</td>\n",
              "      <td>2</td>\n",
              "      <td>3</td>\n",
              "      <td>0</td>\n",
              "      <td>1</td>\n",
              "    </tr>\n",
              "    <tr>\n",
              "      <th>3</th>\n",
              "      <td>HOBBIES_1_004_CA_1_evaluation</td>\n",
              "      <td>HOBBIES_1_004</td>\n",
              "      <td>HOBBIES_1</td>\n",
              "      <td>HOBBIES</td>\n",
              "      <td>CA_1</td>\n",
              "      <td>CA</td>\n",
              "      <td>0</td>\n",
              "      <td>0</td>\n",
              "      <td>0</td>\n",
              "      <td>0</td>\n",
              "      <td>0</td>\n",
              "      <td>0</td>\n",
              "      <td>0</td>\n",
              "      <td>0</td>\n",
              "      <td>0</td>\n",
              "      <td>0</td>\n",
              "      <td>0</td>\n",
              "      <td>0</td>\n",
              "      <td>0</td>\n",
              "      <td>0</td>\n",
              "      <td>0</td>\n",
              "      <td>0</td>\n",
              "      <td>0</td>\n",
              "      <td>0</td>\n",
              "      <td>0</td>\n",
              "      <td>0</td>\n",
              "      <td>0</td>\n",
              "      <td>0</td>\n",
              "      <td>0</td>\n",
              "      <td>0</td>\n",
              "      <td>0</td>\n",
              "      <td>0</td>\n",
              "      <td>0</td>\n",
              "      <td>0</td>\n",
              "      <td>0</td>\n",
              "      <td>0</td>\n",
              "      <td>0</td>\n",
              "      <td>0</td>\n",
              "      <td>0</td>\n",
              "      <td>0</td>\n",
              "      <td>...</td>\n",
              "      <td>3</td>\n",
              "      <td>0</td>\n",
              "      <td>1</td>\n",
              "      <td>0</td>\n",
              "      <td>5</td>\n",
              "      <td>4</td>\n",
              "      <td>1</td>\n",
              "      <td>0</td>\n",
              "      <td>1</td>\n",
              "      <td>3</td>\n",
              "      <td>7</td>\n",
              "      <td>2</td>\n",
              "      <td>0</td>\n",
              "      <td>0</td>\n",
              "      <td>1</td>\n",
              "      <td>2</td>\n",
              "      <td>4</td>\n",
              "      <td>1</td>\n",
              "      <td>6</td>\n",
              "      <td>4</td>\n",
              "      <td>0</td>\n",
              "      <td>0</td>\n",
              "      <td>0</td>\n",
              "      <td>2</td>\n",
              "      <td>2</td>\n",
              "      <td>4</td>\n",
              "      <td>2</td>\n",
              "      <td>1</td>\n",
              "      <td>1</td>\n",
              "      <td>1</td>\n",
              "      <td>1</td>\n",
              "      <td>1</td>\n",
              "      <td>0</td>\n",
              "      <td>4</td>\n",
              "      <td>0</td>\n",
              "      <td>1</td>\n",
              "      <td>3</td>\n",
              "      <td>0</td>\n",
              "      <td>2</td>\n",
              "      <td>6</td>\n",
              "    </tr>\n",
              "    <tr>\n",
              "      <th>4</th>\n",
              "      <td>HOBBIES_1_005_CA_1_evaluation</td>\n",
              "      <td>HOBBIES_1_005</td>\n",
              "      <td>HOBBIES_1</td>\n",
              "      <td>HOBBIES</td>\n",
              "      <td>CA_1</td>\n",
              "      <td>CA</td>\n",
              "      <td>0</td>\n",
              "      <td>0</td>\n",
              "      <td>0</td>\n",
              "      <td>0</td>\n",
              "      <td>0</td>\n",
              "      <td>0</td>\n",
              "      <td>0</td>\n",
              "      <td>0</td>\n",
              "      <td>0</td>\n",
              "      <td>0</td>\n",
              "      <td>0</td>\n",
              "      <td>0</td>\n",
              "      <td>0</td>\n",
              "      <td>0</td>\n",
              "      <td>0</td>\n",
              "      <td>0</td>\n",
              "      <td>0</td>\n",
              "      <td>0</td>\n",
              "      <td>0</td>\n",
              "      <td>0</td>\n",
              "      <td>0</td>\n",
              "      <td>0</td>\n",
              "      <td>0</td>\n",
              "      <td>0</td>\n",
              "      <td>0</td>\n",
              "      <td>0</td>\n",
              "      <td>0</td>\n",
              "      <td>0</td>\n",
              "      <td>0</td>\n",
              "      <td>0</td>\n",
              "      <td>0</td>\n",
              "      <td>0</td>\n",
              "      <td>0</td>\n",
              "      <td>0</td>\n",
              "      <td>...</td>\n",
              "      <td>1</td>\n",
              "      <td>1</td>\n",
              "      <td>2</td>\n",
              "      <td>1</td>\n",
              "      <td>1</td>\n",
              "      <td>0</td>\n",
              "      <td>1</td>\n",
              "      <td>1</td>\n",
              "      <td>2</td>\n",
              "      <td>2</td>\n",
              "      <td>2</td>\n",
              "      <td>4</td>\n",
              "      <td>1</td>\n",
              "      <td>0</td>\n",
              "      <td>2</td>\n",
              "      <td>3</td>\n",
              "      <td>1</td>\n",
              "      <td>0</td>\n",
              "      <td>3</td>\n",
              "      <td>2</td>\n",
              "      <td>3</td>\n",
              "      <td>1</td>\n",
              "      <td>1</td>\n",
              "      <td>3</td>\n",
              "      <td>2</td>\n",
              "      <td>3</td>\n",
              "      <td>2</td>\n",
              "      <td>2</td>\n",
              "      <td>2</td>\n",
              "      <td>2</td>\n",
              "      <td>0</td>\n",
              "      <td>0</td>\n",
              "      <td>0</td>\n",
              "      <td>2</td>\n",
              "      <td>1</td>\n",
              "      <td>0</td>\n",
              "      <td>0</td>\n",
              "      <td>2</td>\n",
              "      <td>1</td>\n",
              "      <td>0</td>\n",
              "    </tr>\n",
              "  </tbody>\n",
              "</table>\n",
              "<p>5 rows × 1947 columns</p>\n",
              "</div>"
            ],
            "text/plain": [
              "                              id        item_id  ... d_1940 d_1941\n",
              "0  HOBBIES_1_001_CA_1_evaluation  HOBBIES_1_001  ...      0      1\n",
              "1  HOBBIES_1_002_CA_1_evaluation  HOBBIES_1_002  ...      0      0\n",
              "2  HOBBIES_1_003_CA_1_evaluation  HOBBIES_1_003  ...      0      1\n",
              "3  HOBBIES_1_004_CA_1_evaluation  HOBBIES_1_004  ...      2      6\n",
              "4  HOBBIES_1_005_CA_1_evaluation  HOBBIES_1_005  ...      1      0\n",
              "\n",
              "[5 rows x 1947 columns]"
            ]
          },
          "metadata": {},
          "execution_count": 12
        }
      ]
    },
    {
      "cell_type": "code",
      "metadata": {
        "id": "e08f4ece",
        "colab": {
          "base_uri": "https://localhost:8080/"
        },
        "outputId": "cbddfe64-04e5-45a8-fe7f-7af48f0e6124"
      },
      "source": [
        "sales_train_evaluation_.info()"
      ],
      "id": "e08f4ece",
      "execution_count": null,
      "outputs": [
        {
          "output_type": "stream",
          "name": "stdout",
          "text": [
            "<class 'pandas.core.frame.DataFrame'>\n",
            "RangeIndex: 30490 entries, 0 to 30489\n",
            "Columns: 1947 entries, id to d_1941\n",
            "dtypes: int64(1941), object(6)\n",
            "memory usage: 452.9+ MB\n"
          ]
        }
      ]
    },
    {
      "cell_type": "markdown",
      "metadata": {
        "id": "275f05e1"
      },
      "source": [
        "## Sample_submission.csv"
      ],
      "id": "275f05e1"
    },
    {
      "cell_type": "code",
      "metadata": {
        "id": "b6575f9f",
        "colab": {
          "base_uri": "https://localhost:8080/",
          "height": 226
        },
        "outputId": "aa967712-7783-430b-f31d-f0f876f78dfc"
      },
      "source": [
        "sample_submission_ = pd.read_csv('sample_submission.csv')\n",
        "sample_submission_.head(5)"
      ],
      "id": "b6575f9f",
      "execution_count": null,
      "outputs": [
        {
          "output_type": "execute_result",
          "data": {
            "text/html": [
              "<div>\n",
              "<style scoped>\n",
              "    .dataframe tbody tr th:only-of-type {\n",
              "        vertical-align: middle;\n",
              "    }\n",
              "\n",
              "    .dataframe tbody tr th {\n",
              "        vertical-align: top;\n",
              "    }\n",
              "\n",
              "    .dataframe thead th {\n",
              "        text-align: right;\n",
              "    }\n",
              "</style>\n",
              "<table border=\"1\" class=\"dataframe\">\n",
              "  <thead>\n",
              "    <tr style=\"text-align: right;\">\n",
              "      <th></th>\n",
              "      <th>id</th>\n",
              "      <th>F1</th>\n",
              "      <th>F2</th>\n",
              "      <th>F3</th>\n",
              "      <th>F4</th>\n",
              "      <th>F5</th>\n",
              "      <th>F6</th>\n",
              "      <th>F7</th>\n",
              "      <th>F8</th>\n",
              "      <th>F9</th>\n",
              "      <th>F10</th>\n",
              "      <th>F11</th>\n",
              "      <th>F12</th>\n",
              "      <th>F13</th>\n",
              "      <th>F14</th>\n",
              "      <th>F15</th>\n",
              "      <th>F16</th>\n",
              "      <th>F17</th>\n",
              "      <th>F18</th>\n",
              "      <th>F19</th>\n",
              "      <th>F20</th>\n",
              "      <th>F21</th>\n",
              "      <th>F22</th>\n",
              "      <th>F23</th>\n",
              "      <th>F24</th>\n",
              "      <th>F25</th>\n",
              "      <th>F26</th>\n",
              "      <th>F27</th>\n",
              "      <th>F28</th>\n",
              "    </tr>\n",
              "  </thead>\n",
              "  <tbody>\n",
              "    <tr>\n",
              "      <th>0</th>\n",
              "      <td>HOBBIES_1_001_CA_1_validation</td>\n",
              "      <td>0</td>\n",
              "      <td>0</td>\n",
              "      <td>0</td>\n",
              "      <td>0</td>\n",
              "      <td>0</td>\n",
              "      <td>0</td>\n",
              "      <td>0</td>\n",
              "      <td>0</td>\n",
              "      <td>0</td>\n",
              "      <td>0</td>\n",
              "      <td>0</td>\n",
              "      <td>0</td>\n",
              "      <td>0</td>\n",
              "      <td>0</td>\n",
              "      <td>0</td>\n",
              "      <td>0</td>\n",
              "      <td>0</td>\n",
              "      <td>0</td>\n",
              "      <td>0</td>\n",
              "      <td>0</td>\n",
              "      <td>0</td>\n",
              "      <td>0</td>\n",
              "      <td>0</td>\n",
              "      <td>0</td>\n",
              "      <td>0</td>\n",
              "      <td>0</td>\n",
              "      <td>0</td>\n",
              "      <td>0</td>\n",
              "    </tr>\n",
              "    <tr>\n",
              "      <th>1</th>\n",
              "      <td>HOBBIES_1_002_CA_1_validation</td>\n",
              "      <td>0</td>\n",
              "      <td>0</td>\n",
              "      <td>0</td>\n",
              "      <td>0</td>\n",
              "      <td>0</td>\n",
              "      <td>0</td>\n",
              "      <td>0</td>\n",
              "      <td>0</td>\n",
              "      <td>0</td>\n",
              "      <td>0</td>\n",
              "      <td>0</td>\n",
              "      <td>0</td>\n",
              "      <td>0</td>\n",
              "      <td>0</td>\n",
              "      <td>0</td>\n",
              "      <td>0</td>\n",
              "      <td>0</td>\n",
              "      <td>0</td>\n",
              "      <td>0</td>\n",
              "      <td>0</td>\n",
              "      <td>0</td>\n",
              "      <td>0</td>\n",
              "      <td>0</td>\n",
              "      <td>0</td>\n",
              "      <td>0</td>\n",
              "      <td>0</td>\n",
              "      <td>0</td>\n",
              "      <td>0</td>\n",
              "    </tr>\n",
              "    <tr>\n",
              "      <th>2</th>\n",
              "      <td>HOBBIES_1_003_CA_1_validation</td>\n",
              "      <td>0</td>\n",
              "      <td>0</td>\n",
              "      <td>0</td>\n",
              "      <td>0</td>\n",
              "      <td>0</td>\n",
              "      <td>0</td>\n",
              "      <td>0</td>\n",
              "      <td>0</td>\n",
              "      <td>0</td>\n",
              "      <td>0</td>\n",
              "      <td>0</td>\n",
              "      <td>0</td>\n",
              "      <td>0</td>\n",
              "      <td>0</td>\n",
              "      <td>0</td>\n",
              "      <td>0</td>\n",
              "      <td>0</td>\n",
              "      <td>0</td>\n",
              "      <td>0</td>\n",
              "      <td>0</td>\n",
              "      <td>0</td>\n",
              "      <td>0</td>\n",
              "      <td>0</td>\n",
              "      <td>0</td>\n",
              "      <td>0</td>\n",
              "      <td>0</td>\n",
              "      <td>0</td>\n",
              "      <td>0</td>\n",
              "    </tr>\n",
              "    <tr>\n",
              "      <th>3</th>\n",
              "      <td>HOBBIES_1_004_CA_1_validation</td>\n",
              "      <td>0</td>\n",
              "      <td>0</td>\n",
              "      <td>0</td>\n",
              "      <td>0</td>\n",
              "      <td>0</td>\n",
              "      <td>0</td>\n",
              "      <td>0</td>\n",
              "      <td>0</td>\n",
              "      <td>0</td>\n",
              "      <td>0</td>\n",
              "      <td>0</td>\n",
              "      <td>0</td>\n",
              "      <td>0</td>\n",
              "      <td>0</td>\n",
              "      <td>0</td>\n",
              "      <td>0</td>\n",
              "      <td>0</td>\n",
              "      <td>0</td>\n",
              "      <td>0</td>\n",
              "      <td>0</td>\n",
              "      <td>0</td>\n",
              "      <td>0</td>\n",
              "      <td>0</td>\n",
              "      <td>0</td>\n",
              "      <td>0</td>\n",
              "      <td>0</td>\n",
              "      <td>0</td>\n",
              "      <td>0</td>\n",
              "    </tr>\n",
              "    <tr>\n",
              "      <th>4</th>\n",
              "      <td>HOBBIES_1_005_CA_1_validation</td>\n",
              "      <td>0</td>\n",
              "      <td>0</td>\n",
              "      <td>0</td>\n",
              "      <td>0</td>\n",
              "      <td>0</td>\n",
              "      <td>0</td>\n",
              "      <td>0</td>\n",
              "      <td>0</td>\n",
              "      <td>0</td>\n",
              "      <td>0</td>\n",
              "      <td>0</td>\n",
              "      <td>0</td>\n",
              "      <td>0</td>\n",
              "      <td>0</td>\n",
              "      <td>0</td>\n",
              "      <td>0</td>\n",
              "      <td>0</td>\n",
              "      <td>0</td>\n",
              "      <td>0</td>\n",
              "      <td>0</td>\n",
              "      <td>0</td>\n",
              "      <td>0</td>\n",
              "      <td>0</td>\n",
              "      <td>0</td>\n",
              "      <td>0</td>\n",
              "      <td>0</td>\n",
              "      <td>0</td>\n",
              "      <td>0</td>\n",
              "    </tr>\n",
              "  </tbody>\n",
              "</table>\n",
              "</div>"
            ],
            "text/plain": [
              "                              id  F1  F2  F3  F4  ...  F24  F25  F26  F27  F28\n",
              "0  HOBBIES_1_001_CA_1_validation   0   0   0   0  ...    0    0    0    0    0\n",
              "1  HOBBIES_1_002_CA_1_validation   0   0   0   0  ...    0    0    0    0    0\n",
              "2  HOBBIES_1_003_CA_1_validation   0   0   0   0  ...    0    0    0    0    0\n",
              "3  HOBBIES_1_004_CA_1_validation   0   0   0   0  ...    0    0    0    0    0\n",
              "4  HOBBIES_1_005_CA_1_validation   0   0   0   0  ...    0    0    0    0    0\n",
              "\n",
              "[5 rows x 29 columns]"
            ]
          },
          "metadata": {},
          "execution_count": 14
        }
      ]
    },
    {
      "cell_type": "markdown",
      "metadata": {
        "heading_collapsed": true,
        "id": "0d435802"
      },
      "source": [
        "# Đánh giá"
      ],
      "id": "0d435802"
    },
    {
      "cell_type": "markdown",
      "metadata": {
        "hidden": true,
        "id": "f6156757"
      },
      "source": [
        "## Forecasting horizon"
      ],
      "id": "f6156757"
    },
    {
      "cell_type": "markdown",
      "metadata": {
        "hidden": true,
        "id": "abc2f85d"
      },
      "source": [
        "Cả 2 cuộc thi dự đoán điểm và dự đoán sác xuất đều có chung một tham số `h=28 days` (4 weeks ahead).\n",
        "\n",
        "Đầu tiên, các phép đo hiệu suất được tính toán riêng biệt cho từng chuỗi bằng cách lấy trung bình các giá trị của chúng trên toàn bộ `forecasting horizon` và sau đó được tính trung bình lại trên `mỗi serices` theo kiểu có trọng số  để thu được điểm số cuối cùng."
      ],
      "id": "abc2f85d"
    },
    {
      "cell_type": "markdown",
      "metadata": {
        "hidden": true,
        "id": "fc721194"
      },
      "source": [
        "## Point forecasts"
      ],
      "id": "fc721194"
    },
    {
      "cell_type": "markdown",
      "metadata": {
        "hidden": true,
        "id": "ca99a200"
      },
      "source": [
        "Độ chính xác của các dự báo điểm sẽ được đánh giá bằng cách sử dụng `Root Mean Squared Scaled Error (RMSSE)`, là một biến thể của `well-known Mean Absolute Scaled Error (MASE)` nổi tiếng được đề xuất bởi `Hyndman và Koehler (2006)`. Số đo được tính cho từng series như sau:\n",
        "\n",
        "$$RMSSE = \\sqrt{\\frac{1}{h}\\frac{\\displaystyle\\sum_{t=n+1}^{n+h} (Y_{t} - \\hat{Y}_{t})^2}{\\frac{1}{n-1}\\displaystyle\\sum_{t=2}^{n}(Y_{t} - Y_{t-1})^2}}$$\n",
        "\n",
        "Với,\n",
        "- $Y_{t}$ là giá trị thật của `series` đã kiểm tra tại thời điểm t.\n",
        "- $\\hat{Y}_{t}$ là giá trị dự đoán.\n",
        "- $n$ là kích thước của tập training (số lượng quan sát lịch sử).\n",
        "- $h$ tham số `Forecasting horizon`"
      ],
      "id": "ca99a200"
    },
    {
      "cell_type": "markdown",
      "metadata": {
        "hidden": true,
        "id": "2ce20682"
      },
      "source": [
        "Sau khi đã ước tính cho `42840 series` mối đội tham gia sẽ được sếp hạng theo số điểm `Weighted RMSSE (WRMSSE)`, công thức sẽ là:\n",
        "\n",
        "$$WRMSSE = \\displaystyle\\sum_{i=1}^{42,840} w_{i}*RMSSE$$\n",
        "\n",
        "Với, $w_{i}$ là trọng số của series thứ $i$.\n",
        "\n",
        "Độ lỗi `WRMSSE` càng thấp thì tính chính xác của thuật toán áp dụng càng cao."
      ],
      "id": "2ce20682"
    },
    {
      "cell_type": "markdown",
      "metadata": {
        "heading_collapsed": true,
        "id": "e6f803e7"
      },
      "source": [
        "# Hướng giải quyết - `LightGBM Regressor (tuya)`"
      ],
      "id": "e6f803e7"
    },
    {
      "cell_type": "markdown",
      "metadata": {
        "hidden": true,
        "id": "fa8d827c"
      },
      "source": [
        "`LightGBM` có kết quả `score` là `0.67749 (private score)`. Trong tổng số `5.558 đội` tham gia cuộc thi thì với số điểm này và vị trí thứ `458` hướng giải quyết này lọt vào `top 9% trên bảng private leaderboard`.\n",
        "![tuya-kaggle](https://drive.google.com/uc?export=view&id=1AQyGcWC44Sd-pE6XlINApXohYCBNHJGQ)"
      ],
      "id": "fa8d827c"
    },
    {
      "cell_type": "markdown",
      "metadata": {
        "hidden": true,
        "id": "ec4e532a"
      },
      "source": [
        "So sánh `LightGBM` với các thuật toán khác với dùng một input đầu vào,\n",
        "\n",
        "![comparasion](https://drive.google.com/uc?export=view&id=1d__XDCMRvmY_d2kMzsUxMXI4RKpZ8hL4)\n",
        "![comparasion2](https://drive.google.com/uc?export=view&id=1UKKa7lIMNXJJ_0rrpysArlmXIdADK9mG)\n",
        "\n",
        "Quan sát các lần submit của các thuật toán, thì dễ dàng nhận ra `LightGBM` cho kết quả tốt nhất."
      ],
      "id": "ec4e532a"
    },
    {
      "cell_type": "markdown",
      "metadata": {
        "hidden": true,
        "id": "FQLCVX7D6G6b"
      },
      "source": [
        "## Feature Engineering and Data Preprocessing"
      ],
      "id": "FQLCVX7D6G6b"
    },
    {
      "cell_type": "code",
      "metadata": {
        "colab": {
          "base_uri": "https://localhost:8080/"
        },
        "outputId": "f0e80127-15cb-4b3e-9033-e3df454c41d6",
        "id": "UFeVvYXj6G6c"
      },
      "source": [
        "!pip install downcast"
      ],
      "execution_count": null,
      "outputs": [
        {
          "output_type": "stream",
          "name": "stdout",
          "text": [
            "Collecting downcast\n",
            "  Downloading downcast-0.0.8-py3-none-any.whl (3.3 kB)\n",
            "Installing collected packages: downcast\n",
            "Successfully installed downcast-0.0.8\n"
          ]
        }
      ],
      "id": "UFeVvYXj6G6c"
    },
    {
      "cell_type": "code",
      "metadata": {
        "hidden": true,
        "id": "FkCVsLRC6G6c"
      },
      "source": [
        "import pickle\n",
        "import numpy as np\n",
        "from matplotlib import pyplot as plt\n",
        "import seaborn as sns\n",
        "import plotly.express as px\n",
        "from downcast import reduce\n",
        "from sklearn.preprocessing import LabelEncoder\n",
        "import warnings\n",
        "warnings.filterwarnings(\"ignore\")\n",
        "from tqdm import tqdm"
      ],
      "execution_count": null,
      "outputs": [],
      "id": "FkCVsLRC6G6c"
    },
    {
      "cell_type": "markdown",
      "metadata": {
        "hidden": true,
        "id": "W3uqAe036G6d"
      },
      "source": [
        "- Replace 'NaN' values by 'no_event' in event columns"
      ],
      "id": "W3uqAe036G6d"
    },
    {
      "cell_type": "code",
      "metadata": {
        "hidden": true,
        "id": "TP2iX4CV6G6d"
      },
      "source": [
        "cat=['event_name_1','event_type_1','event_name_2','event_type_2']\n",
        "for i in cat:\n",
        "  calendar_[i].fillna('no_event',inplace=True)"
      ],
      "execution_count": null,
      "outputs": [],
      "id": "TP2iX4CV6G6d"
    },
    {
      "cell_type": "markdown",
      "metadata": {
        "hidden": true,
        "id": "n37J9-NX6G6d"
      },
      "source": [
        "- Adding feature 'is_weekend' which tells about that day is weekend or not"
      ],
      "id": "n37J9-NX6G6d"
    },
    {
      "cell_type": "code",
      "metadata": {
        "hidden": true,
        "id": "58dFbg5W6G6d"
      },
      "source": [
        "f=lambda x: 1 if x<=2 else 0\n",
        "#https://stackoverflow.com/questions/21608228/conditional-replace-pandas\n",
        "calendar_['is_weekend']=calendar_['wday'].map(f) \n",
        "calendar_['is_weekend']=calendar_['is_weekend'].astype(np.int8)"
      ],
      "execution_count": null,
      "outputs": [],
      "id": "58dFbg5W6G6d"
    },
    {
      "cell_type": "markdown",
      "metadata": {
        "hidden": true,
        "id": "C1xRaqHr6G6d"
      },
      "source": [
        "- Adding feature 'month_day' which tells day of the month"
      ],
      "id": "C1xRaqHr6G6d"
    },
    {
      "cell_type": "code",
      "metadata": {
        "hidden": true,
        "id": "o4h7psng6G6d"
      },
      "source": [
        "m=calendar_[\"date\"].tolist()\n",
        "m=[i.split(\"-\")[2] for i in m]\n",
        "calendar_[\"month_day\"]=m\n",
        "calendar_['month_day']=calendar_['month_day'].astype(np.int8)"
      ],
      "execution_count": null,
      "outputs": [],
      "id": "o4h7psng6G6d"
    },
    {
      "cell_type": "markdown",
      "metadata": {
        "hidden": true,
        "id": "NDwTFHVp6G6d"
      },
      "source": [
        "- Adding feature 'month_week_number' which tells which week of the month"
      ],
      "id": "NDwTFHVp6G6d"
    },
    {
      "cell_type": "code",
      "metadata": {
        "hidden": true,
        "id": "L0tkHaVG6G6d"
      },
      "source": [
        "#https://stackoverflow.com/questions/3806473/python-week-number-of-the-month\n",
        "calendar_['month_week_number']=(calendar_['month_day']-1) // 7 + 1 \n",
        "calendar_['month_week_number']=calendar_['month_week_number'].astype(np.int8)"
      ],
      "execution_count": null,
      "outputs": [],
      "id": "L0tkHaVG6G6d"
    },
    {
      "cell_type": "markdown",
      "metadata": {
        "hidden": true,
        "id": "9Dl9l-nJ6G6e"
      },
      "source": [
        "- Adding feature 'events_per_day' which tells us number of events on particular day"
      ],
      "id": "9Dl9l-nJ6G6e"
    },
    {
      "cell_type": "code",
      "metadata": {
        "hidden": true,
        "id": "R2Z7hlOV6G6e"
      },
      "source": [
        "f=lambda x: 0 if x=='no_event' else 1\n",
        "#https://stackoverflow.com/questions/21608228/conditional-replace-pandas\n",
        "calendar_['events_per_day']=calendar_['event_type_1'].map(f) \n",
        "#https://www.kite.com/python/answers/how-to-get-the-indices-of-rows-in-a-pandas-dataframe-which-satisfy-a-given-condition-in-python\n",
        "index=calendar_.index \n",
        "indices=index[calendar_['event_type_2']!='no_event'].tolist()\n",
        "for i in indices:\n",
        "  calendar_['events_per_day'][i]+=1\n",
        "calendar_['events_per_day']=calendar_['events_per_day'].astype(np.int8)"
      ],
      "execution_count": null,
      "outputs": [],
      "id": "R2Z7hlOV6G6e"
    },
    {
      "cell_type": "code",
      "metadata": {
        "hidden": true,
        "id": "N-DL-_MA6G6e"
      },
      "source": [
        "calendar_=reduce(calendar_)"
      ],
      "execution_count": null,
      "outputs": [],
      "id": "N-DL-_MA6G6e"
    },
    {
      "cell_type": "code",
      "metadata": {
        "hidden": true,
        "colab": {
          "base_uri": "https://localhost:8080/",
          "height": 215
        },
        "outputId": "ed751522-1e58-4c59-aecb-69f6d27b0eca",
        "id": "d9rgRds_6G6e"
      },
      "source": [
        "calendar_.head(3)"
      ],
      "execution_count": null,
      "outputs": [
        {
          "output_type": "execute_result",
          "data": {
            "text/html": [
              "<div>\n",
              "<style scoped>\n",
              "    .dataframe tbody tr th:only-of-type {\n",
              "        vertical-align: middle;\n",
              "    }\n",
              "\n",
              "    .dataframe tbody tr th {\n",
              "        vertical-align: top;\n",
              "    }\n",
              "\n",
              "    .dataframe thead th {\n",
              "        text-align: right;\n",
              "    }\n",
              "</style>\n",
              "<table border=\"1\" class=\"dataframe\">\n",
              "  <thead>\n",
              "    <tr style=\"text-align: right;\">\n",
              "      <th></th>\n",
              "      <th>date</th>\n",
              "      <th>wm_yr_wk</th>\n",
              "      <th>weekday</th>\n",
              "      <th>wday</th>\n",
              "      <th>month</th>\n",
              "      <th>year</th>\n",
              "      <th>d</th>\n",
              "      <th>event_name_1</th>\n",
              "      <th>event_type_1</th>\n",
              "      <th>event_name_2</th>\n",
              "      <th>event_type_2</th>\n",
              "      <th>snap_CA</th>\n",
              "      <th>snap_TX</th>\n",
              "      <th>snap_WI</th>\n",
              "      <th>is_weekend</th>\n",
              "      <th>month_day</th>\n",
              "      <th>month_week_number</th>\n",
              "      <th>events_per_day</th>\n",
              "    </tr>\n",
              "  </thead>\n",
              "  <tbody>\n",
              "    <tr>\n",
              "      <th>0</th>\n",
              "      <td>2011-01-29</td>\n",
              "      <td>11101</td>\n",
              "      <td>Saturday</td>\n",
              "      <td>1</td>\n",
              "      <td>1</td>\n",
              "      <td>2011</td>\n",
              "      <td>d_1</td>\n",
              "      <td>no_event</td>\n",
              "      <td>no_event</td>\n",
              "      <td>no_event</td>\n",
              "      <td>no_event</td>\n",
              "      <td>0</td>\n",
              "      <td>0</td>\n",
              "      <td>0</td>\n",
              "      <td>1</td>\n",
              "      <td>29</td>\n",
              "      <td>5</td>\n",
              "      <td>0</td>\n",
              "    </tr>\n",
              "    <tr>\n",
              "      <th>1</th>\n",
              "      <td>2011-01-30</td>\n",
              "      <td>11101</td>\n",
              "      <td>Sunday</td>\n",
              "      <td>2</td>\n",
              "      <td>1</td>\n",
              "      <td>2011</td>\n",
              "      <td>d_2</td>\n",
              "      <td>no_event</td>\n",
              "      <td>no_event</td>\n",
              "      <td>no_event</td>\n",
              "      <td>no_event</td>\n",
              "      <td>0</td>\n",
              "      <td>0</td>\n",
              "      <td>0</td>\n",
              "      <td>1</td>\n",
              "      <td>30</td>\n",
              "      <td>5</td>\n",
              "      <td>0</td>\n",
              "    </tr>\n",
              "    <tr>\n",
              "      <th>2</th>\n",
              "      <td>2011-01-31</td>\n",
              "      <td>11101</td>\n",
              "      <td>Monday</td>\n",
              "      <td>3</td>\n",
              "      <td>1</td>\n",
              "      <td>2011</td>\n",
              "      <td>d_3</td>\n",
              "      <td>no_event</td>\n",
              "      <td>no_event</td>\n",
              "      <td>no_event</td>\n",
              "      <td>no_event</td>\n",
              "      <td>0</td>\n",
              "      <td>0</td>\n",
              "      <td>0</td>\n",
              "      <td>0</td>\n",
              "      <td>31</td>\n",
              "      <td>5</td>\n",
              "      <td>0</td>\n",
              "    </tr>\n",
              "  </tbody>\n",
              "</table>\n",
              "</div>"
            ],
            "text/plain": [
              "        date  wm_yr_wk   weekday  ...  month_day  month_week_number  events_per_day\n",
              "0 2011-01-29     11101  Saturday  ...         29                  5               0\n",
              "1 2011-01-30     11101    Sunday  ...         30                  5               0\n",
              "2 2011-01-31     11101    Monday  ...         31                  5               0\n",
              "\n",
              "[3 rows x 18 columns]"
            ]
          },
          "metadata": {},
          "execution_count": 23
        }
      ],
      "id": "d9rgRds_6G6e"
    },
    {
      "cell_type": "code",
      "metadata": {
        "hidden": true,
        "id": "6DTlvdSt6G6e"
      },
      "source": [
        "sales_train_evaluation_=reduce(sales_train_evaluation_)"
      ],
      "execution_count": null,
      "outputs": [],
      "id": "6DTlvdSt6G6e"
    },
    {
      "cell_type": "code",
      "metadata": {
        "hidden": true,
        "id": "-Oeojarq6G6e"
      },
      "source": [
        "sell_prices_=reduce(sell_prices_)"
      ],
      "execution_count": null,
      "outputs": [],
      "id": "-Oeojarq6G6e"
    },
    {
      "cell_type": "code",
      "metadata": {
        "hidden": true,
        "colab": {
          "base_uri": "https://localhost:8080/"
        },
        "outputId": "dc9c4536-c936-463d-c142-17ceeac40ca4",
        "id": "owetBWdw6G6e"
      },
      "source": [
        "calendar_['date'].nunique()"
      ],
      "execution_count": null,
      "outputs": [
        {
          "output_type": "execute_result",
          "data": {
            "text/plain": [
              "1969"
            ]
          },
          "metadata": {},
          "execution_count": 26
        }
      ],
      "id": "owetBWdw6G6e"
    },
    {
      "cell_type": "markdown",
      "metadata": {
        "hidden": true,
        "id": "zKRLD_wz6G6f"
      },
      "source": [
        "- No of days data present is 1969"
      ],
      "id": "zKRLD_wz6G6f"
    },
    {
      "cell_type": "code",
      "metadata": {
        "hidden": true,
        "colab": {
          "base_uri": "https://localhost:8080/"
        },
        "outputId": "ae33f76f-f023-4945-fee4-e6014d88b35f",
        "id": "BMcXiqzo6G6f"
      },
      "source": [
        "sales_train_evaluation_[['id','item_id','dept_id','cat_id','store_id','state_id']].nunique()"
      ],
      "execution_count": null,
      "outputs": [
        {
          "output_type": "execute_result",
          "data": {
            "text/plain": [
              "id          30490\n",
              "item_id      3049\n",
              "dept_id         7\n",
              "cat_id          3\n",
              "store_id       10\n",
              "state_id        3\n",
              "dtype: int64"
            ]
          },
          "metadata": {},
          "execution_count": 27
        }
      ],
      "id": "BMcXiqzo6G6f"
    },
    {
      "cell_type": "markdown",
      "metadata": {
        "hidden": true,
        "id": "A1z7xflE6G6f"
      },
      "source": [
        "### Melting (thay đổi)\n",
        "\n",
        "- To make analysis of data in table easier we can reshape the data into a more computer-friendly form using pandas in Python. pandas.melt() is one of the function to do so\n",
        "- pandas.melt() unpivots a DataFrame from wide format to long format.\n",
        "- melt() function is useful to massage a DataFrame into a format where one or more columns are identifier variables while all other columns considered measured variables are unpivoted to the row axis leaving just two non-identifier columns variable and value."
      ],
      "id": "A1z7xflE6G6f"
    },
    {
      "cell_type": "code",
      "metadata": {
        "hidden": true,
        "id": "4JJwAhz06G6f"
      },
      "source": [
        "#https://pandas.pydata.org/docs/reference/api/pandas.melt.html\n",
        "#https://pandas.pydata.org/docs/reference/api/pandas.DataFrame.merge.html\n",
        "sales=pd.melt(sales_train_evaluation_,id_vars=['id','item_id','dept_id','cat_id','store_id','state_id'],var_name='d',value_name='demand')\n",
        "sales=pd.merge(sales,calendar_,on='d',how='left')\n",
        "sales=pd.merge(sales,sell_prices_,on=['item_id','store_id','wm_yr_wk'],how='left')"
      ],
      "execution_count": null,
      "outputs": [],
      "id": "4JJwAhz06G6f"
    },
    {
      "cell_type": "code",
      "metadata": {
        "hidden": true,
        "colab": {
          "base_uri": "https://localhost:8080/",
          "height": 215
        },
        "outputId": "a96eb528-cadb-4b9a-d3d2-13901dea56c5",
        "id": "zcoipLxa6G6f"
      },
      "source": [
        "sales.head(3)"
      ],
      "execution_count": null,
      "outputs": [
        {
          "output_type": "execute_result",
          "data": {
            "text/html": [
              "<div>\n",
              "<style scoped>\n",
              "    .dataframe tbody tr th:only-of-type {\n",
              "        vertical-align: middle;\n",
              "    }\n",
              "\n",
              "    .dataframe tbody tr th {\n",
              "        vertical-align: top;\n",
              "    }\n",
              "\n",
              "    .dataframe thead th {\n",
              "        text-align: right;\n",
              "    }\n",
              "</style>\n",
              "<table border=\"1\" class=\"dataframe\">\n",
              "  <thead>\n",
              "    <tr style=\"text-align: right;\">\n",
              "      <th></th>\n",
              "      <th>id</th>\n",
              "      <th>item_id</th>\n",
              "      <th>dept_id</th>\n",
              "      <th>cat_id</th>\n",
              "      <th>store_id</th>\n",
              "      <th>state_id</th>\n",
              "      <th>d</th>\n",
              "      <th>demand</th>\n",
              "      <th>date</th>\n",
              "      <th>wm_yr_wk</th>\n",
              "      <th>weekday</th>\n",
              "      <th>wday</th>\n",
              "      <th>month</th>\n",
              "      <th>year</th>\n",
              "      <th>event_name_1</th>\n",
              "      <th>event_type_1</th>\n",
              "      <th>event_name_2</th>\n",
              "      <th>event_type_2</th>\n",
              "      <th>snap_CA</th>\n",
              "      <th>snap_TX</th>\n",
              "      <th>snap_WI</th>\n",
              "      <th>is_weekend</th>\n",
              "      <th>month_day</th>\n",
              "      <th>month_week_number</th>\n",
              "      <th>events_per_day</th>\n",
              "      <th>sell_price</th>\n",
              "    </tr>\n",
              "  </thead>\n",
              "  <tbody>\n",
              "    <tr>\n",
              "      <th>0</th>\n",
              "      <td>HOBBIES_1_001_CA_1_evaluation</td>\n",
              "      <td>HOBBIES_1_001</td>\n",
              "      <td>HOBBIES_1</td>\n",
              "      <td>HOBBIES</td>\n",
              "      <td>CA_1</td>\n",
              "      <td>CA</td>\n",
              "      <td>d_1</td>\n",
              "      <td>0</td>\n",
              "      <td>2011-01-29</td>\n",
              "      <td>11101</td>\n",
              "      <td>Saturday</td>\n",
              "      <td>1</td>\n",
              "      <td>1</td>\n",
              "      <td>2011</td>\n",
              "      <td>no_event</td>\n",
              "      <td>no_event</td>\n",
              "      <td>no_event</td>\n",
              "      <td>no_event</td>\n",
              "      <td>0</td>\n",
              "      <td>0</td>\n",
              "      <td>0</td>\n",
              "      <td>1</td>\n",
              "      <td>29</td>\n",
              "      <td>5</td>\n",
              "      <td>0</td>\n",
              "      <td>NaN</td>\n",
              "    </tr>\n",
              "    <tr>\n",
              "      <th>1</th>\n",
              "      <td>HOBBIES_1_002_CA_1_evaluation</td>\n",
              "      <td>HOBBIES_1_002</td>\n",
              "      <td>HOBBIES_1</td>\n",
              "      <td>HOBBIES</td>\n",
              "      <td>CA_1</td>\n",
              "      <td>CA</td>\n",
              "      <td>d_1</td>\n",
              "      <td>0</td>\n",
              "      <td>2011-01-29</td>\n",
              "      <td>11101</td>\n",
              "      <td>Saturday</td>\n",
              "      <td>1</td>\n",
              "      <td>1</td>\n",
              "      <td>2011</td>\n",
              "      <td>no_event</td>\n",
              "      <td>no_event</td>\n",
              "      <td>no_event</td>\n",
              "      <td>no_event</td>\n",
              "      <td>0</td>\n",
              "      <td>0</td>\n",
              "      <td>0</td>\n",
              "      <td>1</td>\n",
              "      <td>29</td>\n",
              "      <td>5</td>\n",
              "      <td>0</td>\n",
              "      <td>NaN</td>\n",
              "    </tr>\n",
              "    <tr>\n",
              "      <th>2</th>\n",
              "      <td>HOBBIES_1_003_CA_1_evaluation</td>\n",
              "      <td>HOBBIES_1_003</td>\n",
              "      <td>HOBBIES_1</td>\n",
              "      <td>HOBBIES</td>\n",
              "      <td>CA_1</td>\n",
              "      <td>CA</td>\n",
              "      <td>d_1</td>\n",
              "      <td>0</td>\n",
              "      <td>2011-01-29</td>\n",
              "      <td>11101</td>\n",
              "      <td>Saturday</td>\n",
              "      <td>1</td>\n",
              "      <td>1</td>\n",
              "      <td>2011</td>\n",
              "      <td>no_event</td>\n",
              "      <td>no_event</td>\n",
              "      <td>no_event</td>\n",
              "      <td>no_event</td>\n",
              "      <td>0</td>\n",
              "      <td>0</td>\n",
              "      <td>0</td>\n",
              "      <td>1</td>\n",
              "      <td>29</td>\n",
              "      <td>5</td>\n",
              "      <td>0</td>\n",
              "      <td>NaN</td>\n",
              "    </tr>\n",
              "  </tbody>\n",
              "</table>\n",
              "</div>"
            ],
            "text/plain": [
              "                              id        item_id  ... events_per_day sell_price\n",
              "0  HOBBIES_1_001_CA_1_evaluation  HOBBIES_1_001  ...              0        NaN\n",
              "1  HOBBIES_1_002_CA_1_evaluation  HOBBIES_1_002  ...              0        NaN\n",
              "2  HOBBIES_1_003_CA_1_evaluation  HOBBIES_1_003  ...              0        NaN\n",
              "\n",
              "[3 rows x 26 columns]"
            ]
          },
          "metadata": {},
          "execution_count": 29
        }
      ],
      "id": "zcoipLxa6G6f"
    },
    {
      "cell_type": "markdown",
      "source": [
        "**Lược bớt dữ liệu trước ngày 1-1-2014 = d_1069 trước khi đưa vào xử lí (sử dụng biến wm_yr_wk với kiểu số để dễ xử lí)**"
      ],
      "metadata": {
        "id": "NQO2O2Jr6G6f"
      },
      "id": "NQO2O2Jr6G6f"
    },
    {
      "cell_type": "code",
      "source": [
        "sales.drop(sales.index[sales[\"wm_yr_wk\"]<11349], inplace=True)"
      ],
      "metadata": {
        "id": "BTXNvC0z6G6f"
      },
      "execution_count": null,
      "outputs": [],
      "id": "BTXNvC0z6G6f"
    },
    {
      "cell_type": "code",
      "source": [
        "sales.info()"
      ],
      "metadata": {
        "colab": {
          "base_uri": "https://localhost:8080/"
        },
        "outputId": "4f2ceec8-c4f4-401f-95ce-40cc07b2a42b",
        "id": "mLJg4EQ86G6g"
      },
      "execution_count": null,
      "outputs": [
        {
          "output_type": "stream",
          "name": "stdout",
          "text": [
            "<class 'pandas.core.frame.DataFrame'>\n",
            "Int64Index: 26739730 entries, 32441360 to 59181089\n",
            "Data columns (total 26 columns):\n",
            " #   Column             Dtype         \n",
            "---  ------             -----         \n",
            " 0   id                 category      \n",
            " 1   item_id            category      \n",
            " 2   dept_id            category      \n",
            " 3   cat_id             category      \n",
            " 4   store_id           category      \n",
            " 5   state_id           category      \n",
            " 6   d                  object        \n",
            " 7   demand             int16         \n",
            " 8   date               datetime64[ns]\n",
            " 9   wm_yr_wk           int16         \n",
            " 10  weekday            category      \n",
            " 11  wday               int8          \n",
            " 12  month              int8          \n",
            " 13  year               int16         \n",
            " 14  event_name_1       category      \n",
            " 15  event_type_1       category      \n",
            " 16  event_name_2       category      \n",
            " 17  event_type_2       category      \n",
            " 18  snap_CA            int8          \n",
            " 19  snap_TX            int8          \n",
            " 20  snap_WI            int8          \n",
            " 21  is_weekend         int8          \n",
            " 22  month_day          int8          \n",
            " 23  month_week_number  int8          \n",
            " 24  events_per_day     int8          \n",
            " 25  sell_price         float16       \n",
            "dtypes: category(11), datetime64[ns](1), float16(1), int16(3), int8(9), object(1)\n",
            "memory usage: 1.3+ GB\n"
          ]
        }
      ],
      "id": "mLJg4EQ86G6g"
    },
    {
      "cell_type": "markdown",
      "metadata": {
        "hidden": true,
        "id": "q3PBnoek6G6g"
      },
      "source": [
        "**Cột `sell_price` chứa rất nhiều biến Nan nên điền vào chỗ Nan bằng giá trị mean.**"
      ],
      "id": "q3PBnoek6G6g"
    },
    {
      "cell_type": "code",
      "metadata": {
        "hidden": true,
        "id": "wzPHxKiq6G6g"
      },
      "source": [
        "sales['sell_price']=sales['sell_price'].fillna(sales.groupby('id')['sell_price'].transform('mean'))"
      ],
      "execution_count": null,
      "outputs": [],
      "id": "wzPHxKiq6G6g"
    },
    {
      "cell_type": "code",
      "metadata": {
        "hidden": true,
        "colab": {
          "base_uri": "https://localhost:8080/",
          "height": 215
        },
        "outputId": "10ef569c-f9f3-4361-969d-d23eebc1484f",
        "id": "fdbVOSX56G6g"
      },
      "source": [
        "sales.head(3)"
      ],
      "execution_count": null,
      "outputs": [
        {
          "output_type": "execute_result",
          "data": {
            "text/html": [
              "<div>\n",
              "<style scoped>\n",
              "    .dataframe tbody tr th:only-of-type {\n",
              "        vertical-align: middle;\n",
              "    }\n",
              "\n",
              "    .dataframe tbody tr th {\n",
              "        vertical-align: top;\n",
              "    }\n",
              "\n",
              "    .dataframe thead th {\n",
              "        text-align: right;\n",
              "    }\n",
              "</style>\n",
              "<table border=\"1\" class=\"dataframe\">\n",
              "  <thead>\n",
              "    <tr style=\"text-align: right;\">\n",
              "      <th></th>\n",
              "      <th>id</th>\n",
              "      <th>item_id</th>\n",
              "      <th>dept_id</th>\n",
              "      <th>cat_id</th>\n",
              "      <th>store_id</th>\n",
              "      <th>state_id</th>\n",
              "      <th>d</th>\n",
              "      <th>demand</th>\n",
              "      <th>date</th>\n",
              "      <th>wm_yr_wk</th>\n",
              "      <th>weekday</th>\n",
              "      <th>wday</th>\n",
              "      <th>month</th>\n",
              "      <th>year</th>\n",
              "      <th>event_name_1</th>\n",
              "      <th>event_type_1</th>\n",
              "      <th>event_name_2</th>\n",
              "      <th>event_type_2</th>\n",
              "      <th>snap_CA</th>\n",
              "      <th>snap_TX</th>\n",
              "      <th>snap_WI</th>\n",
              "      <th>is_weekend</th>\n",
              "      <th>month_day</th>\n",
              "      <th>month_week_number</th>\n",
              "      <th>events_per_day</th>\n",
              "      <th>sell_price</th>\n",
              "    </tr>\n",
              "  </thead>\n",
              "  <tbody>\n",
              "    <tr>\n",
              "      <th>32441360</th>\n",
              "      <td>HOBBIES_1_001_CA_1_evaluation</td>\n",
              "      <td>HOBBIES_1_001</td>\n",
              "      <td>HOBBIES_1</td>\n",
              "      <td>HOBBIES</td>\n",
              "      <td>CA_1</td>\n",
              "      <td>CA</td>\n",
              "      <td>d_1065</td>\n",
              "      <td>0</td>\n",
              "      <td>2013-12-28</td>\n",
              "      <td>11349</td>\n",
              "      <td>Saturday</td>\n",
              "      <td>1</td>\n",
              "      <td>12</td>\n",
              "      <td>2013</td>\n",
              "      <td>no_event</td>\n",
              "      <td>no_event</td>\n",
              "      <td>no_event</td>\n",
              "      <td>no_event</td>\n",
              "      <td>0</td>\n",
              "      <td>0</td>\n",
              "      <td>0</td>\n",
              "      <td>1</td>\n",
              "      <td>28</td>\n",
              "      <td>4</td>\n",
              "      <td>0</td>\n",
              "      <td>8.257812</td>\n",
              "    </tr>\n",
              "    <tr>\n",
              "      <th>32441361</th>\n",
              "      <td>HOBBIES_1_002_CA_1_evaluation</td>\n",
              "      <td>HOBBIES_1_002</td>\n",
              "      <td>HOBBIES_1</td>\n",
              "      <td>HOBBIES</td>\n",
              "      <td>CA_1</td>\n",
              "      <td>CA</td>\n",
              "      <td>d_1065</td>\n",
              "      <td>0</td>\n",
              "      <td>2013-12-28</td>\n",
              "      <td>11349</td>\n",
              "      <td>Saturday</td>\n",
              "      <td>1</td>\n",
              "      <td>12</td>\n",
              "      <td>2013</td>\n",
              "      <td>no_event</td>\n",
              "      <td>no_event</td>\n",
              "      <td>no_event</td>\n",
              "      <td>no_event</td>\n",
              "      <td>0</td>\n",
              "      <td>0</td>\n",
              "      <td>0</td>\n",
              "      <td>1</td>\n",
              "      <td>28</td>\n",
              "      <td>4</td>\n",
              "      <td>0</td>\n",
              "      <td>3.970703</td>\n",
              "    </tr>\n",
              "    <tr>\n",
              "      <th>32441362</th>\n",
              "      <td>HOBBIES_1_003_CA_1_evaluation</td>\n",
              "      <td>HOBBIES_1_003</td>\n",
              "      <td>HOBBIES_1</td>\n",
              "      <td>HOBBIES</td>\n",
              "      <td>CA_1</td>\n",
              "      <td>CA</td>\n",
              "      <td>d_1065</td>\n",
              "      <td>0</td>\n",
              "      <td>2013-12-28</td>\n",
              "      <td>11349</td>\n",
              "      <td>Saturday</td>\n",
              "      <td>1</td>\n",
              "      <td>12</td>\n",
              "      <td>2013</td>\n",
              "      <td>no_event</td>\n",
              "      <td>no_event</td>\n",
              "      <td>no_event</td>\n",
              "      <td>no_event</td>\n",
              "      <td>0</td>\n",
              "      <td>0</td>\n",
              "      <td>0</td>\n",
              "      <td>1</td>\n",
              "      <td>28</td>\n",
              "      <td>4</td>\n",
              "      <td>0</td>\n",
              "      <td>2.970703</td>\n",
              "    </tr>\n",
              "  </tbody>\n",
              "</table>\n",
              "</div>"
            ],
            "text/plain": [
              "                                     id  ... sell_price\n",
              "32441360  HOBBIES_1_001_CA_1_evaluation  ...   8.257812\n",
              "32441361  HOBBIES_1_002_CA_1_evaluation  ...   3.970703\n",
              "32441362  HOBBIES_1_003_CA_1_evaluation  ...   2.970703\n",
              "\n",
              "[3 rows x 26 columns]"
            ]
          },
          "metadata": {},
          "execution_count": 27
        }
      ],
      "id": "fdbVOSX56G6g"
    },
    {
      "cell_type": "code",
      "metadata": {
        "hidden": true,
        "id": "QjUVy0X46G6g"
      },
      "source": [
        "sales=reduce(sales)"
      ],
      "execution_count": null,
      "outputs": [],
      "id": "QjUVy0X46G6g"
    },
    {
      "cell_type": "markdown",
      "metadata": {
        "hidden": true,
        "id": "yOmVS0LK6G6g"
      },
      "source": [
        "### Lags (thay đổi)\n",
        "\n",
        "- Lag features are the classical way that time series forecasting problems are transformed into supervised learning problems.\n",
        "- Lag is expressed in a time unit & corresponds to the amount of data history we allow the model to use when making the prediction.\n",
        "- Here we have applied Lags on 'demand' column.\n",
        "- The maximum Lags taken is 70 days (Giảm xuống còn 28)"
      ],
      "id": "yOmVS0LK6G6g"
    },
    {
      "cell_type": "markdown",
      "source": [
        "**Giảm số biến lags còn 4, thêm lag cho cột `sell_price`**"
      ],
      "metadata": {
        "id": "vhD0bC_x48xM"
      },
      "id": "vhD0bC_x48xM"
    },
    {
      "cell_type": "code",
      "metadata": {
        "hidden": true,
        "colab": {
          "base_uri": "https://localhost:8080/"
        },
        "outputId": "e2337f1e-8fd1-4976-b7fe-a80db3d86a6e",
        "id": "MIpb2lOX6G6g"
      },
      "source": [
        "#https://stackoverflow.com/questions/20410312/how-to-create-a-lagged-data-structure-using-pandas-dataframe\n",
        "lags=[7,14,21,28]\n",
        "for i in tqdm(lags):\n",
        "  sales['lag_'+str(i)]=sales.groupby(['id'])['demand'].shift(i)\n",
        "  sales[\"sell_price_lag_\" + str(i)] = sales.groupby([\"id\"])[\"sell_price\"].shift(i)"
      ],
      "execution_count": null,
      "outputs": [
        {
          "output_type": "stream",
          "name": "stderr",
          "text": [
            "100%|██████████| 4/4 [00:10<00:00,  2.55s/it]\n"
          ]
        }
      ],
      "id": "MIpb2lOX6G6g"
    },
    {
      "cell_type": "code",
      "metadata": {
        "hidden": true,
        "colab": {
          "base_uri": "https://localhost:8080/",
          "height": 215
        },
        "outputId": "7b5ca145-32a9-42de-d482-a5e6dc0d5c25",
        "id": "J89wne1Z6G6h"
      },
      "source": [
        "sales.head(3)"
      ],
      "execution_count": null,
      "outputs": [
        {
          "output_type": "execute_result",
          "data": {
            "text/html": [
              "<div>\n",
              "<style scoped>\n",
              "    .dataframe tbody tr th:only-of-type {\n",
              "        vertical-align: middle;\n",
              "    }\n",
              "\n",
              "    .dataframe tbody tr th {\n",
              "        vertical-align: top;\n",
              "    }\n",
              "\n",
              "    .dataframe thead th {\n",
              "        text-align: right;\n",
              "    }\n",
              "</style>\n",
              "<table border=\"1\" class=\"dataframe\">\n",
              "  <thead>\n",
              "    <tr style=\"text-align: right;\">\n",
              "      <th></th>\n",
              "      <th>id</th>\n",
              "      <th>item_id</th>\n",
              "      <th>dept_id</th>\n",
              "      <th>cat_id</th>\n",
              "      <th>store_id</th>\n",
              "      <th>state_id</th>\n",
              "      <th>d</th>\n",
              "      <th>demand</th>\n",
              "      <th>date</th>\n",
              "      <th>wm_yr_wk</th>\n",
              "      <th>weekday</th>\n",
              "      <th>wday</th>\n",
              "      <th>month</th>\n",
              "      <th>year</th>\n",
              "      <th>event_name_1</th>\n",
              "      <th>event_type_1</th>\n",
              "      <th>event_name_2</th>\n",
              "      <th>event_type_2</th>\n",
              "      <th>snap_CA</th>\n",
              "      <th>snap_TX</th>\n",
              "      <th>snap_WI</th>\n",
              "      <th>is_weekend</th>\n",
              "      <th>month_day</th>\n",
              "      <th>month_week_number</th>\n",
              "      <th>events_per_day</th>\n",
              "      <th>sell_price</th>\n",
              "      <th>lag_7</th>\n",
              "      <th>sell_price_lag_7</th>\n",
              "      <th>lag_14</th>\n",
              "      <th>sell_price_lag_14</th>\n",
              "      <th>lag_21</th>\n",
              "      <th>sell_price_lag_21</th>\n",
              "      <th>lag_28</th>\n",
              "      <th>sell_price_lag_28</th>\n",
              "    </tr>\n",
              "  </thead>\n",
              "  <tbody>\n",
              "    <tr>\n",
              "      <th>32441360</th>\n",
              "      <td>HOBBIES_1_001_CA_1_evaluation</td>\n",
              "      <td>HOBBIES_1_001</td>\n",
              "      <td>HOBBIES_1</td>\n",
              "      <td>HOBBIES</td>\n",
              "      <td>CA_1</td>\n",
              "      <td>CA</td>\n",
              "      <td>d_1065</td>\n",
              "      <td>0</td>\n",
              "      <td>2013-12-28</td>\n",
              "      <td>11349</td>\n",
              "      <td>Saturday</td>\n",
              "      <td>1</td>\n",
              "      <td>12</td>\n",
              "      <td>2013</td>\n",
              "      <td>no_event</td>\n",
              "      <td>no_event</td>\n",
              "      <td>no_event</td>\n",
              "      <td>no_event</td>\n",
              "      <td>0</td>\n",
              "      <td>0</td>\n",
              "      <td>0</td>\n",
              "      <td>1</td>\n",
              "      <td>28</td>\n",
              "      <td>4</td>\n",
              "      <td>0</td>\n",
              "      <td>8.257812</td>\n",
              "      <td>NaN</td>\n",
              "      <td>NaN</td>\n",
              "      <td>NaN</td>\n",
              "      <td>NaN</td>\n",
              "      <td>NaN</td>\n",
              "      <td>NaN</td>\n",
              "      <td>NaN</td>\n",
              "      <td>NaN</td>\n",
              "    </tr>\n",
              "    <tr>\n",
              "      <th>32441361</th>\n",
              "      <td>HOBBIES_1_002_CA_1_evaluation</td>\n",
              "      <td>HOBBIES_1_002</td>\n",
              "      <td>HOBBIES_1</td>\n",
              "      <td>HOBBIES</td>\n",
              "      <td>CA_1</td>\n",
              "      <td>CA</td>\n",
              "      <td>d_1065</td>\n",
              "      <td>0</td>\n",
              "      <td>2013-12-28</td>\n",
              "      <td>11349</td>\n",
              "      <td>Saturday</td>\n",
              "      <td>1</td>\n",
              "      <td>12</td>\n",
              "      <td>2013</td>\n",
              "      <td>no_event</td>\n",
              "      <td>no_event</td>\n",
              "      <td>no_event</td>\n",
              "      <td>no_event</td>\n",
              "      <td>0</td>\n",
              "      <td>0</td>\n",
              "      <td>0</td>\n",
              "      <td>1</td>\n",
              "      <td>28</td>\n",
              "      <td>4</td>\n",
              "      <td>0</td>\n",
              "      <td>3.970703</td>\n",
              "      <td>NaN</td>\n",
              "      <td>NaN</td>\n",
              "      <td>NaN</td>\n",
              "      <td>NaN</td>\n",
              "      <td>NaN</td>\n",
              "      <td>NaN</td>\n",
              "      <td>NaN</td>\n",
              "      <td>NaN</td>\n",
              "    </tr>\n",
              "    <tr>\n",
              "      <th>32441362</th>\n",
              "      <td>HOBBIES_1_003_CA_1_evaluation</td>\n",
              "      <td>HOBBIES_1_003</td>\n",
              "      <td>HOBBIES_1</td>\n",
              "      <td>HOBBIES</td>\n",
              "      <td>CA_1</td>\n",
              "      <td>CA</td>\n",
              "      <td>d_1065</td>\n",
              "      <td>0</td>\n",
              "      <td>2013-12-28</td>\n",
              "      <td>11349</td>\n",
              "      <td>Saturday</td>\n",
              "      <td>1</td>\n",
              "      <td>12</td>\n",
              "      <td>2013</td>\n",
              "      <td>no_event</td>\n",
              "      <td>no_event</td>\n",
              "      <td>no_event</td>\n",
              "      <td>no_event</td>\n",
              "      <td>0</td>\n",
              "      <td>0</td>\n",
              "      <td>0</td>\n",
              "      <td>1</td>\n",
              "      <td>28</td>\n",
              "      <td>4</td>\n",
              "      <td>0</td>\n",
              "      <td>2.970703</td>\n",
              "      <td>NaN</td>\n",
              "      <td>NaN</td>\n",
              "      <td>NaN</td>\n",
              "      <td>NaN</td>\n",
              "      <td>NaN</td>\n",
              "      <td>NaN</td>\n",
              "      <td>NaN</td>\n",
              "      <td>NaN</td>\n",
              "    </tr>\n",
              "  </tbody>\n",
              "</table>\n",
              "</div>"
            ],
            "text/plain": [
              "                                     id  ... sell_price_lag_28\n",
              "32441360  HOBBIES_1_001_CA_1_evaluation  ...               NaN\n",
              "32441361  HOBBIES_1_002_CA_1_evaluation  ...               NaN\n",
              "32441362  HOBBIES_1_003_CA_1_evaluation  ...               NaN\n",
              "\n",
              "[3 rows x 34 columns]"
            ]
          },
          "metadata": {},
          "execution_count": 29
        }
      ],
      "id": "J89wne1Z6G6h"
    },
    {
      "cell_type": "markdown",
      "metadata": {
        "hidden": true,
        "id": "J58RSRWA6G6h"
      },
      "source": [
        "### Rolling-Mean (thay đổi)\n",
        "\n",
        "- Rolling is a very useful operation for time series data.\n",
        "- Rolling means creating a rolling window with a specified size & perform calculations on data in this window which of course rolls through data.\n",
        "- Here we have computing Rolling-Mean on 'demand' column.\n",
        "- The maximum Window size taken is 42"
      ],
      "id": "J58RSRWA6G6h"
    },
    {
      "cell_type": "markdown",
      "source": [
        "**Thêm hai cột mới gồm Rolling_mean_lag và sell_price_rolling_mean  (Giảm số biến win xuống còn 4)**"
      ],
      "metadata": {
        "id": "U6KTRu6-4or4"
      },
      "id": "U6KTRu6-4or4"
    },
    {
      "cell_type": "code",
      "metadata": {
        "hidden": true,
        "colab": {
          "base_uri": "https://localhost:8080/"
        },
        "outputId": "5e08ae16-69ca-413f-ff29-a4fe276d1e5a",
        "id": "lQeIalSj6G6h"
      },
      "source": [
        "#https://stackoverflow.com/questions/13996302/python-rolling-functions-for-groupby-object\n",
        "##https://www.geeksforgeeks.org/python-pandas-dataframe-transform/\n",
        "window=[7,14,21,28]\n",
        "for i in tqdm(window):\n",
        "  sales['rolling_mean_'+str(i)]=sales.groupby(['id'])['demand'].transform(lambda s: s.rolling(i).mean())\n",
        "  sales['rolling_mean_'+str(i)+\"_lag_\"+str(i)] = sales.groupby(\"id\")['rolling_mean_'+str(i)].shift(i)\n",
        "  sales['sell_price_rolling_mean_'+str(i)] = sales.groupby(['id'])['sell_price'].transform(lambda x: x.rolling(i).mean())"
      ],
      "execution_count": null,
      "outputs": [
        {
          "output_type": "stream",
          "name": "stderr",
          "text": [
            "100%|██████████| 4/4 [2:21:40<00:00, 2125.08s/it]\n"
          ]
        }
      ],
      "id": "lQeIalSj6G6h"
    },
    {
      "cell_type": "code",
      "source": [
        "sales.head(5)"
      ],
      "metadata": {
        "colab": {
          "base_uri": "https://localhost:8080/",
          "height": 313
        },
        "outputId": "0704d307-306f-420f-e3b9-6eab47c47be8",
        "id": "SXPVfGhB6G6i"
      },
      "execution_count": null,
      "outputs": [
        {
          "output_type": "execute_result",
          "data": {
            "text/html": [
              "<div>\n",
              "<style scoped>\n",
              "    .dataframe tbody tr th:only-of-type {\n",
              "        vertical-align: middle;\n",
              "    }\n",
              "\n",
              "    .dataframe tbody tr th {\n",
              "        vertical-align: top;\n",
              "    }\n",
              "\n",
              "    .dataframe thead th {\n",
              "        text-align: right;\n",
              "    }\n",
              "</style>\n",
              "<table border=\"1\" class=\"dataframe\">\n",
              "  <thead>\n",
              "    <tr style=\"text-align: right;\">\n",
              "      <th></th>\n",
              "      <th>id</th>\n",
              "      <th>item_id</th>\n",
              "      <th>dept_id</th>\n",
              "      <th>cat_id</th>\n",
              "      <th>store_id</th>\n",
              "      <th>state_id</th>\n",
              "      <th>d</th>\n",
              "      <th>demand</th>\n",
              "      <th>date</th>\n",
              "      <th>wm_yr_wk</th>\n",
              "      <th>weekday</th>\n",
              "      <th>wday</th>\n",
              "      <th>month</th>\n",
              "      <th>year</th>\n",
              "      <th>event_name_1</th>\n",
              "      <th>event_type_1</th>\n",
              "      <th>event_name_2</th>\n",
              "      <th>event_type_2</th>\n",
              "      <th>snap_CA</th>\n",
              "      <th>snap_TX</th>\n",
              "      <th>snap_WI</th>\n",
              "      <th>is_weekend</th>\n",
              "      <th>month_day</th>\n",
              "      <th>month_week_number</th>\n",
              "      <th>events_per_day</th>\n",
              "      <th>sell_price</th>\n",
              "      <th>lag_7</th>\n",
              "      <th>sell_price_lag_7</th>\n",
              "      <th>lag_14</th>\n",
              "      <th>sell_price_lag_14</th>\n",
              "      <th>lag_21</th>\n",
              "      <th>sell_price_lag_21</th>\n",
              "      <th>lag_28</th>\n",
              "      <th>sell_price_lag_28</th>\n",
              "      <th>rolling_mean_7</th>\n",
              "      <th>rolling_mean_7_lag_7</th>\n",
              "      <th>sell_price_rolling_mean_7</th>\n",
              "      <th>rolling_mean_14</th>\n",
              "      <th>rolling_mean_14_lag_14</th>\n",
              "      <th>sell_price_rolling_mean_14</th>\n",
              "      <th>rolling_mean_21</th>\n",
              "      <th>rolling_mean_21_lag_21</th>\n",
              "      <th>sell_price_rolling_mean_21</th>\n",
              "      <th>rolling_mean_28</th>\n",
              "      <th>rolling_mean_28_lag_28</th>\n",
              "      <th>sell_price_rolling_mean_28</th>\n",
              "    </tr>\n",
              "  </thead>\n",
              "  <tbody>\n",
              "    <tr>\n",
              "      <th>32441360</th>\n",
              "      <td>HOBBIES_1_001_CA_1_evaluation</td>\n",
              "      <td>HOBBIES_1_001</td>\n",
              "      <td>HOBBIES_1</td>\n",
              "      <td>HOBBIES</td>\n",
              "      <td>CA_1</td>\n",
              "      <td>CA</td>\n",
              "      <td>d_1065</td>\n",
              "      <td>0</td>\n",
              "      <td>2013-12-28</td>\n",
              "      <td>11349</td>\n",
              "      <td>Saturday</td>\n",
              "      <td>1</td>\n",
              "      <td>12</td>\n",
              "      <td>2013</td>\n",
              "      <td>no_event</td>\n",
              "      <td>no_event</td>\n",
              "      <td>no_event</td>\n",
              "      <td>no_event</td>\n",
              "      <td>0</td>\n",
              "      <td>0</td>\n",
              "      <td>0</td>\n",
              "      <td>1</td>\n",
              "      <td>28</td>\n",
              "      <td>4</td>\n",
              "      <td>0</td>\n",
              "      <td>8.257812</td>\n",
              "      <td>NaN</td>\n",
              "      <td>NaN</td>\n",
              "      <td>NaN</td>\n",
              "      <td>NaN</td>\n",
              "      <td>NaN</td>\n",
              "      <td>NaN</td>\n",
              "      <td>NaN</td>\n",
              "      <td>NaN</td>\n",
              "      <td>NaN</td>\n",
              "      <td>NaN</td>\n",
              "      <td>NaN</td>\n",
              "      <td>NaN</td>\n",
              "      <td>NaN</td>\n",
              "      <td>NaN</td>\n",
              "      <td>NaN</td>\n",
              "      <td>NaN</td>\n",
              "      <td>NaN</td>\n",
              "      <td>NaN</td>\n",
              "      <td>NaN</td>\n",
              "      <td>NaN</td>\n",
              "    </tr>\n",
              "    <tr>\n",
              "      <th>32441361</th>\n",
              "      <td>HOBBIES_1_002_CA_1_evaluation</td>\n",
              "      <td>HOBBIES_1_002</td>\n",
              "      <td>HOBBIES_1</td>\n",
              "      <td>HOBBIES</td>\n",
              "      <td>CA_1</td>\n",
              "      <td>CA</td>\n",
              "      <td>d_1065</td>\n",
              "      <td>0</td>\n",
              "      <td>2013-12-28</td>\n",
              "      <td>11349</td>\n",
              "      <td>Saturday</td>\n",
              "      <td>1</td>\n",
              "      <td>12</td>\n",
              "      <td>2013</td>\n",
              "      <td>no_event</td>\n",
              "      <td>no_event</td>\n",
              "      <td>no_event</td>\n",
              "      <td>no_event</td>\n",
              "      <td>0</td>\n",
              "      <td>0</td>\n",
              "      <td>0</td>\n",
              "      <td>1</td>\n",
              "      <td>28</td>\n",
              "      <td>4</td>\n",
              "      <td>0</td>\n",
              "      <td>3.970703</td>\n",
              "      <td>NaN</td>\n",
              "      <td>NaN</td>\n",
              "      <td>NaN</td>\n",
              "      <td>NaN</td>\n",
              "      <td>NaN</td>\n",
              "      <td>NaN</td>\n",
              "      <td>NaN</td>\n",
              "      <td>NaN</td>\n",
              "      <td>NaN</td>\n",
              "      <td>NaN</td>\n",
              "      <td>NaN</td>\n",
              "      <td>NaN</td>\n",
              "      <td>NaN</td>\n",
              "      <td>NaN</td>\n",
              "      <td>NaN</td>\n",
              "      <td>NaN</td>\n",
              "      <td>NaN</td>\n",
              "      <td>NaN</td>\n",
              "      <td>NaN</td>\n",
              "      <td>NaN</td>\n",
              "    </tr>\n",
              "    <tr>\n",
              "      <th>32441362</th>\n",
              "      <td>HOBBIES_1_003_CA_1_evaluation</td>\n",
              "      <td>HOBBIES_1_003</td>\n",
              "      <td>HOBBIES_1</td>\n",
              "      <td>HOBBIES</td>\n",
              "      <td>CA_1</td>\n",
              "      <td>CA</td>\n",
              "      <td>d_1065</td>\n",
              "      <td>0</td>\n",
              "      <td>2013-12-28</td>\n",
              "      <td>11349</td>\n",
              "      <td>Saturday</td>\n",
              "      <td>1</td>\n",
              "      <td>12</td>\n",
              "      <td>2013</td>\n",
              "      <td>no_event</td>\n",
              "      <td>no_event</td>\n",
              "      <td>no_event</td>\n",
              "      <td>no_event</td>\n",
              "      <td>0</td>\n",
              "      <td>0</td>\n",
              "      <td>0</td>\n",
              "      <td>1</td>\n",
              "      <td>28</td>\n",
              "      <td>4</td>\n",
              "      <td>0</td>\n",
              "      <td>2.970703</td>\n",
              "      <td>NaN</td>\n",
              "      <td>NaN</td>\n",
              "      <td>NaN</td>\n",
              "      <td>NaN</td>\n",
              "      <td>NaN</td>\n",
              "      <td>NaN</td>\n",
              "      <td>NaN</td>\n",
              "      <td>NaN</td>\n",
              "      <td>NaN</td>\n",
              "      <td>NaN</td>\n",
              "      <td>NaN</td>\n",
              "      <td>NaN</td>\n",
              "      <td>NaN</td>\n",
              "      <td>NaN</td>\n",
              "      <td>NaN</td>\n",
              "      <td>NaN</td>\n",
              "      <td>NaN</td>\n",
              "      <td>NaN</td>\n",
              "      <td>NaN</td>\n",
              "      <td>NaN</td>\n",
              "    </tr>\n",
              "    <tr>\n",
              "      <th>32441363</th>\n",
              "      <td>HOBBIES_1_004_CA_1_evaluation</td>\n",
              "      <td>HOBBIES_1_004</td>\n",
              "      <td>HOBBIES_1</td>\n",
              "      <td>HOBBIES</td>\n",
              "      <td>CA_1</td>\n",
              "      <td>CA</td>\n",
              "      <td>d_1065</td>\n",
              "      <td>10</td>\n",
              "      <td>2013-12-28</td>\n",
              "      <td>11349</td>\n",
              "      <td>Saturday</td>\n",
              "      <td>1</td>\n",
              "      <td>12</td>\n",
              "      <td>2013</td>\n",
              "      <td>no_event</td>\n",
              "      <td>no_event</td>\n",
              "      <td>no_event</td>\n",
              "      <td>no_event</td>\n",
              "      <td>0</td>\n",
              "      <td>0</td>\n",
              "      <td>0</td>\n",
              "      <td>1</td>\n",
              "      <td>28</td>\n",
              "      <td>4</td>\n",
              "      <td>0</td>\n",
              "      <td>4.640625</td>\n",
              "      <td>NaN</td>\n",
              "      <td>NaN</td>\n",
              "      <td>NaN</td>\n",
              "      <td>NaN</td>\n",
              "      <td>NaN</td>\n",
              "      <td>NaN</td>\n",
              "      <td>NaN</td>\n",
              "      <td>NaN</td>\n",
              "      <td>NaN</td>\n",
              "      <td>NaN</td>\n",
              "      <td>NaN</td>\n",
              "      <td>NaN</td>\n",
              "      <td>NaN</td>\n",
              "      <td>NaN</td>\n",
              "      <td>NaN</td>\n",
              "      <td>NaN</td>\n",
              "      <td>NaN</td>\n",
              "      <td>NaN</td>\n",
              "      <td>NaN</td>\n",
              "      <td>NaN</td>\n",
              "    </tr>\n",
              "    <tr>\n",
              "      <th>32441364</th>\n",
              "      <td>HOBBIES_1_005_CA_1_evaluation</td>\n",
              "      <td>HOBBIES_1_005</td>\n",
              "      <td>HOBBIES_1</td>\n",
              "      <td>HOBBIES</td>\n",
              "      <td>CA_1</td>\n",
              "      <td>CA</td>\n",
              "      <td>d_1065</td>\n",
              "      <td>0</td>\n",
              "      <td>2013-12-28</td>\n",
              "      <td>11349</td>\n",
              "      <td>Saturday</td>\n",
              "      <td>1</td>\n",
              "      <td>12</td>\n",
              "      <td>2013</td>\n",
              "      <td>no_event</td>\n",
              "      <td>no_event</td>\n",
              "      <td>no_event</td>\n",
              "      <td>no_event</td>\n",
              "      <td>0</td>\n",
              "      <td>0</td>\n",
              "      <td>0</td>\n",
              "      <td>1</td>\n",
              "      <td>28</td>\n",
              "      <td>4</td>\n",
              "      <td>0</td>\n",
              "      <td>3.080078</td>\n",
              "      <td>NaN</td>\n",
              "      <td>NaN</td>\n",
              "      <td>NaN</td>\n",
              "      <td>NaN</td>\n",
              "      <td>NaN</td>\n",
              "      <td>NaN</td>\n",
              "      <td>NaN</td>\n",
              "      <td>NaN</td>\n",
              "      <td>NaN</td>\n",
              "      <td>NaN</td>\n",
              "      <td>NaN</td>\n",
              "      <td>NaN</td>\n",
              "      <td>NaN</td>\n",
              "      <td>NaN</td>\n",
              "      <td>NaN</td>\n",
              "      <td>NaN</td>\n",
              "      <td>NaN</td>\n",
              "      <td>NaN</td>\n",
              "      <td>NaN</td>\n",
              "      <td>NaN</td>\n",
              "    </tr>\n",
              "  </tbody>\n",
              "</table>\n",
              "</div>"
            ],
            "text/plain": [
              "                                     id  ... sell_price_rolling_mean_28\n",
              "32441360  HOBBIES_1_001_CA_1_evaluation  ...                        NaN\n",
              "32441361  HOBBIES_1_002_CA_1_evaluation  ...                        NaN\n",
              "32441362  HOBBIES_1_003_CA_1_evaluation  ...                        NaN\n",
              "32441363  HOBBIES_1_004_CA_1_evaluation  ...                        NaN\n",
              "32441364  HOBBIES_1_005_CA_1_evaluation  ...                        NaN\n",
              "\n",
              "[5 rows x 46 columns]"
            ]
          },
          "metadata": {},
          "execution_count": 35
        }
      ],
      "id": "SXPVfGhB6G6i"
    },
    {
      "cell_type": "code",
      "source": [
        "with open('original_lag_win_data.pkl','wb') as f:\n",
        "     pickle.dump(sales,f)"
      ],
      "metadata": {
        "id": "k6mh_Er06G6i"
      },
      "execution_count": null,
      "outputs": [],
      "id": "k6mh_Er06G6i"
    },
    {
      "cell_type": "markdown",
      "metadata": {
        "hidden": true,
        "id": "wE2VrfWX6G6i"
      },
      "source": [
        "- Drop all 'NaN' in 'rolling_ mean' features"
      ],
      "id": "wE2VrfWX6G6i"
    },
    {
      "cell_type": "code",
      "source": [
        "sales.dropna(inplace=True)"
      ],
      "metadata": {
        "id": "8fpEHzYu6G6j"
      },
      "execution_count": null,
      "outputs": [],
      "id": "8fpEHzYu6G6j"
    },
    {
      "cell_type": "code",
      "metadata": {
        "hidden": true,
        "id": "d7P0mmYo6G6j"
      },
      "source": [
        "sales=reduce(sales)"
      ],
      "execution_count": null,
      "outputs": [],
      "id": "d7P0mmYo6G6j"
    },
    {
      "cell_type": "code",
      "metadata": {
        "hidden": true,
        "colab": {
          "base_uri": "https://localhost:8080/",
          "height": 163
        },
        "outputId": "73ba1ae5-96e2-439e-cb12-c2f53811360b",
        "id": "oUmTq7f56G6j"
      },
      "source": [
        "df.head(3)"
      ],
      "execution_count": null,
      "outputs": [
        {
          "output_type": "execute_result",
          "data": {
            "text/html": [
              "<div>\n",
              "<style scoped>\n",
              "    .dataframe tbody tr th:only-of-type {\n",
              "        vertical-align: middle;\n",
              "    }\n",
              "\n",
              "    .dataframe tbody tr th {\n",
              "        vertical-align: top;\n",
              "    }\n",
              "\n",
              "    .dataframe thead th {\n",
              "        text-align: right;\n",
              "    }\n",
              "</style>\n",
              "<table border=\"1\" class=\"dataframe\">\n",
              "  <thead>\n",
              "    <tr style=\"text-align: right;\">\n",
              "      <th></th>\n",
              "      <th>demand</th>\n",
              "      <th>wm_yr_wk</th>\n",
              "      <th>wday</th>\n",
              "      <th>month</th>\n",
              "      <th>year</th>\n",
              "      <th>snap_CA</th>\n",
              "      <th>snap_TX</th>\n",
              "      <th>snap_WI</th>\n",
              "      <th>is_weekend</th>\n",
              "      <th>month_day</th>\n",
              "      <th>month_week_number</th>\n",
              "      <th>events_per_day</th>\n",
              "      <th>sell_price</th>\n",
              "      <th>lag_7</th>\n",
              "      <th>sell_price_lag_7</th>\n",
              "      <th>lag_14</th>\n",
              "      <th>sell_price_lag_14</th>\n",
              "      <th>lag_21</th>\n",
              "      <th>sell_price_lag_21</th>\n",
              "      <th>lag_28</th>\n",
              "      <th>sell_price_lag_28</th>\n",
              "      <th>rolling_mean_7</th>\n",
              "      <th>rolling_mean_7_lag_7</th>\n",
              "      <th>sell_price_rolling_mean_7</th>\n",
              "      <th>rolling_mean_14</th>\n",
              "      <th>rolling_mean_14_lag_14</th>\n",
              "      <th>sell_price_rolling_mean_14</th>\n",
              "      <th>rolling_mean_21</th>\n",
              "      <th>rolling_mean_21_lag_21</th>\n",
              "      <th>sell_price_rolling_mean_21</th>\n",
              "      <th>rolling_mean_28</th>\n",
              "      <th>rolling_mean_28_lag_28</th>\n",
              "      <th>sell_price_rolling_mean_28</th>\n",
              "      <th>event_name_1_</th>\n",
              "      <th>event_type_1_</th>\n",
              "      <th>event_name_2_</th>\n",
              "      <th>event_type_2_</th>\n",
              "      <th>id_</th>\n",
              "      <th>item_id_</th>\n",
              "      <th>dept_id_</th>\n",
              "      <th>cat_id_</th>\n",
              "      <th>store_id_</th>\n",
              "      <th>state_id_</th>\n",
              "      <th>day</th>\n",
              "    </tr>\n",
              "  </thead>\n",
              "  <tbody>\n",
              "    <tr>\n",
              "      <th>34118310</th>\n",
              "      <td>1</td>\n",
              "      <td>11403</td>\n",
              "      <td>7</td>\n",
              "      <td>2</td>\n",
              "      <td>2014</td>\n",
              "      <td>0</td>\n",
              "      <td>0</td>\n",
              "      <td>0</td>\n",
              "      <td>0</td>\n",
              "      <td>21</td>\n",
              "      <td>3</td>\n",
              "      <td>0</td>\n",
              "      <td>8.257812</td>\n",
              "      <td>0.0</td>\n",
              "      <td>8.257812</td>\n",
              "      <td>1.0</td>\n",
              "      <td>8.257812</td>\n",
              "      <td>0.0</td>\n",
              "      <td>8.257812</td>\n",
              "      <td>0.0</td>\n",
              "      <td>8.257812</td>\n",
              "      <td>0.856934</td>\n",
              "      <td>0.285645</td>\n",
              "      <td>8.257812</td>\n",
              "      <td>0.571289</td>\n",
              "      <td>0.285645</td>\n",
              "      <td>8.257812</td>\n",
              "      <td>0.476074</td>\n",
              "      <td>0.333252</td>\n",
              "      <td>8.257812</td>\n",
              "      <td>0.428467</td>\n",
              "      <td>0.357178</td>\n",
              "      <td>8.257812</td>\n",
              "      <td>30</td>\n",
              "      <td>4</td>\n",
              "      <td>2</td>\n",
              "      <td>2</td>\n",
              "      <td>14370</td>\n",
              "      <td>1437</td>\n",
              "      <td>3</td>\n",
              "      <td>1</td>\n",
              "      <td>0</td>\n",
              "      <td>0</td>\n",
              "      <td>1120</td>\n",
              "    </tr>\n",
              "    <tr>\n",
              "      <th>34118311</th>\n",
              "      <td>0</td>\n",
              "      <td>11403</td>\n",
              "      <td>7</td>\n",
              "      <td>2</td>\n",
              "      <td>2014</td>\n",
              "      <td>0</td>\n",
              "      <td>0</td>\n",
              "      <td>0</td>\n",
              "      <td>0</td>\n",
              "      <td>21</td>\n",
              "      <td>3</td>\n",
              "      <td>0</td>\n",
              "      <td>3.970703</td>\n",
              "      <td>0.0</td>\n",
              "      <td>3.970703</td>\n",
              "      <td>0.0</td>\n",
              "      <td>3.970703</td>\n",
              "      <td>0.0</td>\n",
              "      <td>3.970703</td>\n",
              "      <td>0.0</td>\n",
              "      <td>3.970703</td>\n",
              "      <td>0.142822</td>\n",
              "      <td>0.000000</td>\n",
              "      <td>3.970703</td>\n",
              "      <td>0.071411</td>\n",
              "      <td>0.142822</td>\n",
              "      <td>3.970703</td>\n",
              "      <td>0.142822</td>\n",
              "      <td>0.000000</td>\n",
              "      <td>3.970703</td>\n",
              "      <td>0.107117</td>\n",
              "      <td>0.035706</td>\n",
              "      <td>3.970703</td>\n",
              "      <td>30</td>\n",
              "      <td>4</td>\n",
              "      <td>2</td>\n",
              "      <td>2</td>\n",
              "      <td>14380</td>\n",
              "      <td>1438</td>\n",
              "      <td>3</td>\n",
              "      <td>1</td>\n",
              "      <td>0</td>\n",
              "      <td>0</td>\n",
              "      <td>1120</td>\n",
              "    </tr>\n",
              "    <tr>\n",
              "      <th>34118312</th>\n",
              "      <td>1</td>\n",
              "      <td>11403</td>\n",
              "      <td>7</td>\n",
              "      <td>2</td>\n",
              "      <td>2014</td>\n",
              "      <td>0</td>\n",
              "      <td>0</td>\n",
              "      <td>0</td>\n",
              "      <td>0</td>\n",
              "      <td>21</td>\n",
              "      <td>3</td>\n",
              "      <td>0</td>\n",
              "      <td>2.970703</td>\n",
              "      <td>1.0</td>\n",
              "      <td>2.970703</td>\n",
              "      <td>3.0</td>\n",
              "      <td>2.970703</td>\n",
              "      <td>0.0</td>\n",
              "      <td>2.970703</td>\n",
              "      <td>0.0</td>\n",
              "      <td>2.970703</td>\n",
              "      <td>0.571289</td>\n",
              "      <td>0.571289</td>\n",
              "      <td>2.970703</td>\n",
              "      <td>0.571289</td>\n",
              "      <td>0.214233</td>\n",
              "      <td>2.970703</td>\n",
              "      <td>0.523926</td>\n",
              "      <td>0.000000</td>\n",
              "      <td>2.970703</td>\n",
              "      <td>0.392822</td>\n",
              "      <td>0.000000</td>\n",
              "      <td>2.970703</td>\n",
              "      <td>30</td>\n",
              "      <td>4</td>\n",
              "      <td>2</td>\n",
              "      <td>2</td>\n",
              "      <td>14390</td>\n",
              "      <td>1439</td>\n",
              "      <td>3</td>\n",
              "      <td>1</td>\n",
              "      <td>0</td>\n",
              "      <td>0</td>\n",
              "      <td>1120</td>\n",
              "    </tr>\n",
              "  </tbody>\n",
              "</table>\n",
              "</div>"
            ],
            "text/plain": [
              "          demand  wm_yr_wk  wday  month  ...  cat_id_  store_id_  state_id_   day\n",
              "34118310       1     11403     7      2  ...        1          0          0  1120\n",
              "34118311       0     11403     7      2  ...        1          0          0  1120\n",
              "34118312       1     11403     7      2  ...        1          0          0  1120\n",
              "\n",
              "[3 rows x 44 columns]"
            ]
          },
          "metadata": {},
          "execution_count": 50
        }
      ],
      "id": "oUmTq7f56G6j"
    },
    {
      "cell_type": "markdown",
      "metadata": {
        "hidden": true,
        "id": "5Eb11HNV6G6j"
      },
      "source": [
        "### Label-Encoding (giữ nguyên)\n",
        "\n",
        "- Encoding refers to converting the labels into numeric form so as to convert it into the machine-readable form.\n",
        "- Machine learning algorithms can then decide in a better way on how those labels must be operated.\n",
        "- It is an important pre-processing step for the structured dataset in supervised learning"
      ],
      "id": "5Eb11HNV6G6j"
    },
    {
      "cell_type": "code",
      "metadata": {
        "hidden": true,
        "colab": {
          "base_uri": "https://localhost:8080/"
        },
        "outputId": "ed2575cb-dac6-4070-bc7b-cc354aba8fb9",
        "id": "hCJPa0mm6G6j"
      },
      "source": [
        "#https://www.mygreatlearning.com/blog/label-encoding-in-python/\n",
        "labelencoder=LabelEncoder() \n",
        "category=['event_name_1','event_type_1','event_name_2','event_type_2','id','item_id','dept_id','cat_id','store_id','state_id']\n",
        "for i in tqdm(category):\n",
        "  sales[i+'_']=labelencoder.fit_transform(sales[i])"
      ],
      "execution_count": null,
      "outputs": [
        {
          "output_type": "stream",
          "name": "stderr",
          "text": [
            "100%|██████████| 10/10 [01:00<00:00,  6.04s/it]\n"
          ]
        }
      ],
      "id": "hCJPa0mm6G6j"
    },
    {
      "cell_type": "markdown",
      "metadata": {
        "hidden": true,
        "id": "VYh-cOuL6G6j"
      },
      "source": [
        "- Drop all the categorical columns bcoz we already added coresponding columns with label-encoding"
      ],
      "id": "VYh-cOuL6G6j"
    },
    {
      "cell_type": "code",
      "metadata": {
        "hidden": true,
        "id": "GSycTx_06G6k"
      },
      "source": [
        "sales=sales.drop(['event_name_1','event_type_1','event_name_2','event_type_2','id','item_id','dept_id','cat_id','store_id','state_id'],axis = 1)"
      ],
      "execution_count": null,
      "outputs": [],
      "id": "GSycTx_06G6k"
    },
    {
      "cell_type": "code",
      "metadata": {
        "hidden": true,
        "colab": {
          "base_uri": "https://localhost:8080/",
          "height": 215
        },
        "outputId": "8592d349-d151-4b69-953b-c12e67a79478",
        "id": "zejjqar46G6k"
      },
      "source": [
        "sales.head(3)"
      ],
      "execution_count": null,
      "outputs": [
        {
          "output_type": "execute_result",
          "data": {
            "text/html": [
              "<div>\n",
              "<style scoped>\n",
              "    .dataframe tbody tr th:only-of-type {\n",
              "        vertical-align: middle;\n",
              "    }\n",
              "\n",
              "    .dataframe tbody tr th {\n",
              "        vertical-align: top;\n",
              "    }\n",
              "\n",
              "    .dataframe thead th {\n",
              "        text-align: right;\n",
              "    }\n",
              "</style>\n",
              "<table border=\"1\" class=\"dataframe\">\n",
              "  <thead>\n",
              "    <tr style=\"text-align: right;\">\n",
              "      <th></th>\n",
              "      <th>d</th>\n",
              "      <th>demand</th>\n",
              "      <th>date</th>\n",
              "      <th>wm_yr_wk</th>\n",
              "      <th>weekday</th>\n",
              "      <th>wday</th>\n",
              "      <th>month</th>\n",
              "      <th>year</th>\n",
              "      <th>snap_CA</th>\n",
              "      <th>snap_TX</th>\n",
              "      <th>snap_WI</th>\n",
              "      <th>is_weekend</th>\n",
              "      <th>month_day</th>\n",
              "      <th>month_week_number</th>\n",
              "      <th>events_per_day</th>\n",
              "      <th>sell_price</th>\n",
              "      <th>lag_7</th>\n",
              "      <th>sell_price_lag_7</th>\n",
              "      <th>lag_14</th>\n",
              "      <th>sell_price_lag_14</th>\n",
              "      <th>lag_21</th>\n",
              "      <th>sell_price_lag_21</th>\n",
              "      <th>lag_28</th>\n",
              "      <th>sell_price_lag_28</th>\n",
              "      <th>rolling_mean_7</th>\n",
              "      <th>rolling_mean_7_lag_7</th>\n",
              "      <th>sell_price_rolling_mean_7</th>\n",
              "      <th>rolling_mean_14</th>\n",
              "      <th>rolling_mean_14_lag_14</th>\n",
              "      <th>sell_price_rolling_mean_14</th>\n",
              "      <th>rolling_mean_21</th>\n",
              "      <th>rolling_mean_21_lag_21</th>\n",
              "      <th>sell_price_rolling_mean_21</th>\n",
              "      <th>rolling_mean_28</th>\n",
              "      <th>rolling_mean_28_lag_28</th>\n",
              "      <th>sell_price_rolling_mean_28</th>\n",
              "      <th>event_name_1_</th>\n",
              "      <th>event_type_1_</th>\n",
              "      <th>event_name_2_</th>\n",
              "      <th>event_type_2_</th>\n",
              "      <th>id_</th>\n",
              "      <th>item_id_</th>\n",
              "      <th>dept_id_</th>\n",
              "      <th>cat_id_</th>\n",
              "      <th>store_id_</th>\n",
              "      <th>state_id_</th>\n",
              "    </tr>\n",
              "  </thead>\n",
              "  <tbody>\n",
              "    <tr>\n",
              "      <th>34118310</th>\n",
              "      <td>d_1120</td>\n",
              "      <td>1</td>\n",
              "      <td>2014-02-21</td>\n",
              "      <td>11403</td>\n",
              "      <td>Friday</td>\n",
              "      <td>7</td>\n",
              "      <td>2</td>\n",
              "      <td>2014</td>\n",
              "      <td>0</td>\n",
              "      <td>0</td>\n",
              "      <td>0</td>\n",
              "      <td>0</td>\n",
              "      <td>21</td>\n",
              "      <td>3</td>\n",
              "      <td>0</td>\n",
              "      <td>8.257812</td>\n",
              "      <td>0.0</td>\n",
              "      <td>8.257812</td>\n",
              "      <td>1.0</td>\n",
              "      <td>8.257812</td>\n",
              "      <td>0.0</td>\n",
              "      <td>8.257812</td>\n",
              "      <td>0.0</td>\n",
              "      <td>8.257812</td>\n",
              "      <td>0.856934</td>\n",
              "      <td>0.285645</td>\n",
              "      <td>8.257812</td>\n",
              "      <td>0.571289</td>\n",
              "      <td>0.285645</td>\n",
              "      <td>8.257812</td>\n",
              "      <td>0.476074</td>\n",
              "      <td>0.333252</td>\n",
              "      <td>8.257812</td>\n",
              "      <td>0.428467</td>\n",
              "      <td>0.357178</td>\n",
              "      <td>8.257812</td>\n",
              "      <td>30</td>\n",
              "      <td>4</td>\n",
              "      <td>2</td>\n",
              "      <td>2</td>\n",
              "      <td>14370</td>\n",
              "      <td>1437</td>\n",
              "      <td>3</td>\n",
              "      <td>1</td>\n",
              "      <td>0</td>\n",
              "      <td>0</td>\n",
              "    </tr>\n",
              "    <tr>\n",
              "      <th>34118311</th>\n",
              "      <td>d_1120</td>\n",
              "      <td>0</td>\n",
              "      <td>2014-02-21</td>\n",
              "      <td>11403</td>\n",
              "      <td>Friday</td>\n",
              "      <td>7</td>\n",
              "      <td>2</td>\n",
              "      <td>2014</td>\n",
              "      <td>0</td>\n",
              "      <td>0</td>\n",
              "      <td>0</td>\n",
              "      <td>0</td>\n",
              "      <td>21</td>\n",
              "      <td>3</td>\n",
              "      <td>0</td>\n",
              "      <td>3.970703</td>\n",
              "      <td>0.0</td>\n",
              "      <td>3.970703</td>\n",
              "      <td>0.0</td>\n",
              "      <td>3.970703</td>\n",
              "      <td>0.0</td>\n",
              "      <td>3.970703</td>\n",
              "      <td>0.0</td>\n",
              "      <td>3.970703</td>\n",
              "      <td>0.142822</td>\n",
              "      <td>0.000000</td>\n",
              "      <td>3.970703</td>\n",
              "      <td>0.071411</td>\n",
              "      <td>0.142822</td>\n",
              "      <td>3.970703</td>\n",
              "      <td>0.142822</td>\n",
              "      <td>0.000000</td>\n",
              "      <td>3.970703</td>\n",
              "      <td>0.107117</td>\n",
              "      <td>0.035706</td>\n",
              "      <td>3.970703</td>\n",
              "      <td>30</td>\n",
              "      <td>4</td>\n",
              "      <td>2</td>\n",
              "      <td>2</td>\n",
              "      <td>14380</td>\n",
              "      <td>1438</td>\n",
              "      <td>3</td>\n",
              "      <td>1</td>\n",
              "      <td>0</td>\n",
              "      <td>0</td>\n",
              "    </tr>\n",
              "    <tr>\n",
              "      <th>34118312</th>\n",
              "      <td>d_1120</td>\n",
              "      <td>1</td>\n",
              "      <td>2014-02-21</td>\n",
              "      <td>11403</td>\n",
              "      <td>Friday</td>\n",
              "      <td>7</td>\n",
              "      <td>2</td>\n",
              "      <td>2014</td>\n",
              "      <td>0</td>\n",
              "      <td>0</td>\n",
              "      <td>0</td>\n",
              "      <td>0</td>\n",
              "      <td>21</td>\n",
              "      <td>3</td>\n",
              "      <td>0</td>\n",
              "      <td>2.970703</td>\n",
              "      <td>1.0</td>\n",
              "      <td>2.970703</td>\n",
              "      <td>3.0</td>\n",
              "      <td>2.970703</td>\n",
              "      <td>0.0</td>\n",
              "      <td>2.970703</td>\n",
              "      <td>0.0</td>\n",
              "      <td>2.970703</td>\n",
              "      <td>0.571289</td>\n",
              "      <td>0.571289</td>\n",
              "      <td>2.970703</td>\n",
              "      <td>0.571289</td>\n",
              "      <td>0.214233</td>\n",
              "      <td>2.970703</td>\n",
              "      <td>0.523926</td>\n",
              "      <td>0.000000</td>\n",
              "      <td>2.970703</td>\n",
              "      <td>0.392822</td>\n",
              "      <td>0.000000</td>\n",
              "      <td>2.970703</td>\n",
              "      <td>30</td>\n",
              "      <td>4</td>\n",
              "      <td>2</td>\n",
              "      <td>2</td>\n",
              "      <td>14390</td>\n",
              "      <td>1439</td>\n",
              "      <td>3</td>\n",
              "      <td>1</td>\n",
              "      <td>0</td>\n",
              "      <td>0</td>\n",
              "    </tr>\n",
              "  </tbody>\n",
              "</table>\n",
              "</div>"
            ],
            "text/plain": [
              "               d  demand       date  ...  cat_id_ store_id_  state_id_\n",
              "34118310  d_1120       1 2014-02-21  ...        1         0          0\n",
              "34118311  d_1120       0 2014-02-21  ...        1         0          0\n",
              "34118312  d_1120       1 2014-02-21  ...        1         0          0\n",
              "\n",
              "[3 rows x 46 columns]"
            ]
          },
          "metadata": {},
          "execution_count": 24
        }
      ],
      "id": "zejjqar46G6k"
    },
    {
      "cell_type": "code",
      "metadata": {
        "hidden": true,
        "id": "ES9XbdCh6G6k"
      },
      "source": [
        "sales=reduce(sales)"
      ],
      "execution_count": null,
      "outputs": [],
      "id": "ES9XbdCh6G6k"
    },
    {
      "cell_type": "markdown",
      "metadata": {
        "hidden": true,
        "id": "qaEgK4976G6k"
      },
      "source": [
        "- Removed '_' from 'd' column values so that we can convert Categorical feature into Numerical feature easily"
      ],
      "id": "qaEgK4976G6k"
    },
    {
      "cell_type": "code",
      "metadata": {
        "hidden": true,
        "id": "tjpHEEX66G6l"
      },
      "source": [
        "l=[]\n",
        "for i in sales['d']:\n",
        "  l.append(i.split('_')[1])\n",
        "sales['day']=l\n",
        "#https://stackoverflow.com/questions/15891038/change-column-type-in-pandas\n",
        "sales['day']=sales['day'].astype(np.int16)"
      ],
      "execution_count": null,
      "outputs": [],
      "id": "tjpHEEX66G6l"
    },
    {
      "cell_type": "markdown",
      "metadata": {
        "hidden": true,
        "id": "CoS09oB36G6l"
      },
      "source": [
        "### Droping duplicate columns (giữ nguyên)\n",
        "\n",
        "- Since 'weekday' is represented by 'wday' & 'd' is represented by 'day'.\n",
        "- We already have 'month','year' thats why 'date' is also duplicate column."
      ],
      "id": "CoS09oB36G6l"
    },
    {
      "cell_type": "code",
      "metadata": {
        "hidden": true,
        "id": "rVl2tJLb6G6l"
      },
      "source": [
        "sales=sales.drop(['d','date','weekday'],axis=1)"
      ],
      "execution_count": null,
      "outputs": [],
      "id": "rVl2tJLb6G6l"
    },
    {
      "cell_type": "code",
      "source": [
        "data_final=reduce(sales)"
      ],
      "metadata": {
        "id": "BY5kPgnL6G6l"
      },
      "execution_count": null,
      "outputs": [],
      "id": "BY5kPgnL6G6l"
    },
    {
      "cell_type": "code",
      "metadata": {
        "hidden": true,
        "colab": {
          "base_uri": "https://localhost:8080/"
        },
        "outputId": "070773ef-912b-4ac3-c37d-01f45b674d03",
        "id": "bcw0deat6G6l"
      },
      "source": [
        "data_final.info()"
      ],
      "execution_count": null,
      "outputs": [
        {
          "output_type": "stream",
          "name": "stdout",
          "text": [
            "<class 'pandas.core.frame.DataFrame'>\n",
            "Int64Index: 25062780 entries, 34118310 to 59181089\n",
            "Data columns (total 44 columns):\n",
            " #   Column                      Dtype  \n",
            "---  ------                      -----  \n",
            " 0   demand                      int16  \n",
            " 1   wm_yr_wk                    int16  \n",
            " 2   wday                        int8   \n",
            " 3   month                       int8   \n",
            " 4   year                        int16  \n",
            " 5   snap_CA                     int8   \n",
            " 6   snap_TX                     int8   \n",
            " 7   snap_WI                     int8   \n",
            " 8   is_weekend                  int8   \n",
            " 9   month_day                   int8   \n",
            " 10  month_week_number           int8   \n",
            " 11  events_per_day              int8   \n",
            " 12  sell_price                  float16\n",
            " 13  lag_7                       float16\n",
            " 14  sell_price_lag_7            float16\n",
            " 15  lag_14                      float16\n",
            " 16  sell_price_lag_14           float16\n",
            " 17  lag_21                      float16\n",
            " 18  sell_price_lag_21           float16\n",
            " 19  lag_28                      float16\n",
            " 20  sell_price_lag_28           float16\n",
            " 21  rolling_mean_7              float16\n",
            " 22  rolling_mean_7_lag_7        float16\n",
            " 23  sell_price_rolling_mean_7   float16\n",
            " 24  rolling_mean_14             float16\n",
            " 25  rolling_mean_14_lag_14      float16\n",
            " 26  sell_price_rolling_mean_14  float16\n",
            " 27  rolling_mean_21             float16\n",
            " 28  rolling_mean_21_lag_21      float16\n",
            " 29  sell_price_rolling_mean_21  float16\n",
            " 30  rolling_mean_28             float16\n",
            " 31  rolling_mean_28_lag_28      float16\n",
            " 32  sell_price_rolling_mean_28  float16\n",
            " 33  event_name_1_               int8   \n",
            " 34  event_type_1_               int8   \n",
            " 35  event_name_2_               int8   \n",
            " 36  event_type_2_               int8   \n",
            " 37  id_                         int16  \n",
            " 38  item_id_                    int16  \n",
            " 39  dept_id_                    int8   \n",
            " 40  cat_id_                     int8   \n",
            " 41  store_id_                   int8   \n",
            " 42  state_id_                   int8   \n",
            " 43  day                         int16  \n",
            "dtypes: float16(21), int16(6), int8(17)\n",
            "memory usage: 1.8 GB\n"
          ]
        }
      ],
      "id": "bcw0deat6G6l"
    },
    {
      "cell_type": "code",
      "source": [
        "with open('drop_all_nan_data.pkl','wb') as f:\n",
        "     pickle.dump(sales,f)"
      ],
      "metadata": {
        "id": "c9SyBCl26G6l"
      },
      "execution_count": null,
      "outputs": [],
      "id": "c9SyBCl26G6l"
    },
    {
      "cell_type": "markdown",
      "metadata": {
        "id": "jz0p0KrMWUeb"
      },
      "source": [
        "## ML Models"
      ],
      "id": "jz0p0KrMWUeb"
    },
    {
      "cell_type": "code",
      "metadata": {
        "id": "P7gOPX5yXkQt"
      },
      "source": [
        "with open('drop_all_nan_data.pkl','rb') as f:\n",
        "     data_final=pickle.load(f)"
      ],
      "execution_count": null,
      "outputs": [],
      "id": "P7gOPX5yXkQt"
    },
    {
      "cell_type": "code",
      "metadata": {
        "colab": {
          "base_uri": "https://localhost:8080/"
        },
        "outputId": "ef6e63b1-6354-4f8c-eeda-4bebe82bb802",
        "id": "D5Lpg3juXkQt"
      },
      "source": [
        "data_final.shape"
      ],
      "execution_count": null,
      "outputs": [
        {
          "output_type": "execute_result",
          "data": {
            "text/plain": [
              "(25062780, 44)"
            ]
          },
          "metadata": {},
          "execution_count": 5
        }
      ],
      "id": "D5Lpg3juXkQt"
    },
    {
      "cell_type": "code",
      "metadata": {
        "id": "jXQcC7j9XkQv"
      },
      "source": [
        "df = data_final"
      ],
      "execution_count": null,
      "outputs": [],
      "id": "jXQcC7j9XkQv"
    },
    {
      "cell_type": "markdown",
      "metadata": {
        "id": "056QacQRXkQv"
      },
      "source": [
        "* Divide data into Train/Test/Validation \n",
        "\n",
        "  * Train: Till d_1885\n",
        "\n",
        "  * Validation: From d_1886 to d_1914\n",
        "\n",
        "  * Test: From d_1914 to d_1941"
      ],
      "id": "056QacQRXkQv"
    },
    {
      "cell_type": "code",
      "metadata": {
        "colab": {
          "base_uri": "https://localhost:8080/"
        },
        "outputId": "7ce26149-852b-4636-bd58-ebdda7ae189c",
        "id": "-ks_gXz-XkQv"
      },
      "source": [
        "l=[]\n",
        "for i in range(1886,1914):\n",
        "  l.append(i)\n",
        "\n",
        "x_train=df.loc[df['day']<=1885]\n",
        "x_valid=df.loc[df['day'].isin(l)]\n",
        "x_test=df.loc[df['day']>=1914]\n",
        "\n",
        "y_train=x_train['demand']\n",
        "y_valid=x_valid['demand']\n",
        "y_test=x_test['demand']\n",
        "\n",
        "x_train=x_train.drop(['demand'],axis=1)\n",
        "x_valid=x_valid.drop(['demand'],axis=1)\n",
        "x_test=x_test.drop(['demand'],axis=1)\n",
        "\n",
        "print(\"x_train {}\".format(x_train.shape),\"  y_train {}\".format(y_train.shape))\n",
        "print(\"\\nx_valid {}\".format(x_valid.shape),\"  y_valid {}\".format(y_valid.shape))\n",
        "print(\"\\nx_test {}\".format(x_test.shape),\"  y_test {}\".format(y_test.shape))"
      ],
      "execution_count": null,
      "outputs": [
        {
          "output_type": "stream",
          "name": "stdout",
          "text": [
            "x_train (23355340, 43)   y_train (23355340,)\n",
            "\n",
            "x_valid (853720, 43)   y_valid (853720,)\n",
            "\n",
            "x_test (853720, 43)   y_test (853720,)\n"
          ]
        }
      ],
      "id": "-ks_gXz-XkQv"
    },
    {
      "cell_type": "code",
      "source": [
        "import sys\n",
        "%reset_selective -f \"^df$\"\n",
        "%reset_selective -f \"^data_final$\""
      ],
      "metadata": {
        "id": "jhd-FjKIyaIM"
      },
      "id": "jhd-FjKIyaIM",
      "execution_count": null,
      "outputs": []
    },
    {
      "cell_type": "markdown",
      "metadata": {
        "heading_collapsed": true,
        "hidden": true,
        "id": "47e18b23"
      },
      "source": [
        "## LightGBM Regressor"
      ],
      "id": "47e18b23"
    },
    {
      "cell_type": "markdown",
      "metadata": {
        "hidden": true,
        "id": "68d0e100"
      },
      "source": [
        "`LightGBM` là một khung tăng cường độ dốc gradient dựa trên thuật toán cây phân cấp.\n",
        "\n",
        "`LightGBM` phát triển cây theo chiều dọc trong khi các thuật toán cây khác phát triển theo chiều ngang. Nghĩa là LightGBM sẽ phát triển theo nút lá, còn các thuật toán sẽ phát triển hết các node trên các cấp. Nó sẽ chọn lá với delta loss lớn nhất để phát triển, khi phát triển như vậy thì leaf-wise sẽ giảm thiểu tổn thất nhiều hơn so với level-wise.\n",
        "\n",
        "Cây ở LGBM xây dựng theo nhiều lần và mỗi cây mới được sử dụng để sửa “lỗi” \n",
        "của các cây trước đó. Như vậy sẽ nhanh chóng và mạnh mẽ, tuy nhiên cũng dễ bị over-fitting.\n",
        "\n",
        "![leaf-wise](https://drive.google.com/uc?export=view&id=1gW5hO0yp0l_-AAFuPQh9Bh52t3cmnFvg)\n",
        "![level-wise](https://drive.google.com/uc?export=view&id=1XxRzXrnyCYGlAlSarKlVxQp2-RFGWBOy)"
      ],
      "id": "68d0e100"
    },
    {
      "cell_type": "markdown",
      "metadata": {
        "hidden": true,
        "id": "23813fd8"
      },
      "source": [
        "`LightGBM` bắt đầu bằng từ light bởi vì tốc độ của nó rất nhanh. Kèm theo đó lightGBM có thể xử lý được dữ liệu lớn mà chỉ tiêu tốn ít bộ nhớ (RAM) để chạy nó. Và một lý do nữa mà khiến nó phổ biến là vì thuật toán tập trung vào sự chính xác của kết quả.\n",
        "\n",
        "Và điều đặt biệt lưu ý là không nên sử dụng LightGBM với lượng dữ liệu nhỏ, vì lightGBM rất dễ xảy ra hiện tượng overfiting với các tập dữ liệu có kích thước nhỏ. Dùng cho data hơn 10,000 dòng.\n",
        "\n",
        "LightGBM có hơn 100 tham số."
      ],
      "id": "23813fd8"
    },
    {
      "cell_type": "markdown",
      "metadata": {
        "hidden": true,
        "id": "38fe1075"
      },
      "source": [
        "### Control parameters\n",
        "\n",
        "- `max_depth`: độ sâu lớn nhất của cây, tham số này giúm xử lý vấn đề overfiting. Bất khi nào bạn thấy model của bạn bị overfiting hãy giảm tham số này.\n",
        "- `min_data_in_leaf`: số lượng dữ liệu nhỏ nhất mà một lá có thể có. Nó cũng được dùng để giải quyết overfiting.\n",
        "- `feature_fraction`: dùng để tăng cường. Ví dụ: 0.8 nghĩa là LightGBM sẽ chọn ra 80% các tham số ngẫu nhiên cho mỗi lần build tree.\n",
        "- `bagging_fraction`: dùng để chỉ định phần dữ liệu sẽ được sử dụng cho mỗi lần lặp lại và thường được sử dụng để tăng tốc quá trình đào tạo.\n",
        "- `early_stopping_round`: Tham số này thì dùng để tăng tốc độ phân tích cho mô hình. Mô hình sẽ ngừng đào tạo nếu một chỉ số của một dữ liệu không cải thiện trong số vòng của tham số Early_stopping_round đã đặt, giúp không lặp lại quá trình đào tạo nhiều lần mà không có kết quả cải thiện.\n",
        "- `lambda`: lambda chỉ định chính quy hóa. Giá trị nằm trong khoảng từ 0 đến 1. Nhằm tránh Overfitting.\n",
        "- `min_gain_to_split`: dùng để xác định mức tăng tối thiểu để thực hiện phân tách nhánh. Nó có thể được sử dụng để kiểm soát số lượng phân tách mà có hiệu quả trong cây.\n",
        "- `max_cat_group`: Khi số lượng phân loại là lớn, việc tìm kiếm điểm phân tách trên đó dễ gây ra hiện tượng over-fitting. Vì vậy, LightGBM hợp nhất chúng thành các nhóm ‘max_cat_group’ và tìm các điểm phân tách trên ranh giới nhóm, mặc định: 64."
      ],
      "id": "38fe1075"
    },
    {
      "cell_type": "markdown",
      "metadata": {
        "hidden": true,
        "id": "c5ac1a76"
      },
      "source": [
        "### Core parameters"
      ],
      "id": "c5ac1a76"
    },
    {
      "cell_type": "markdown",
      "metadata": {
        "id": "qzwoNGCaJQ5z"
      },
      "source": [
        "- `Task`: Tham số để chỉ định tác vụ bạn muốn thực hiện trên dữ liệu, có thể là huấn luyện hoặc dự đoán.\n",
        "- `application`: Đây là tham số quan trọng nhất và chỉ định ứng dụng cho mô hình của bạn, tức là bài toán hồi quy hay bài toán phân loại. LightGBM theo mặc định sẽ coi mô hình là một mô hình hồi quy.\n",
        "- `boosting`: xác định loại thuật toán bạn muốn chạy, mặc định là: gdbt\n",
        "- `num_boost_round`: Số lần lặp lại thúc đẩy, thường là 100 trở lên.\n",
        "- `learning_rate`: Điều này quyết định tác động của mỗi cây đến kết quả cuối cùng. GBM hoạt động bằng cách bắt đầu với ước tính ban đầu được cập nhật bằng cách sử dụng đầu ra của mỗi cây. Tham số này kiểm soát mức độ của thay đổi này trong các ước tính. Giá trị thường là: 0,1, 0,001, 0,003…\n",
        "- `num_leaves`: số lá trong toàn bộ cây, mặc định: 31\n",
        "- `device`: CPU hoặc GPU.\n"
      ],
      "id": "qzwoNGCaJQ5z"
    },
    {
      "cell_type": "markdown",
      "metadata": {
        "id": "2FcwSa-1Wtvv"
      },
      "source": [
        "### Train"
      ],
      "id": "2FcwSa-1Wtvv"
    },
    {
      "cell_type": "code",
      "source": [
        "from lightgbm import LGBMRegressor"
      ],
      "metadata": {
        "id": "RIBWCou7XkQv"
      },
      "execution_count": null,
      "outputs": [],
      "id": "RIBWCou7XkQv"
    },
    {
      "cell_type": "code",
      "source": [
        "def rmse(pred,value):\n",
        "    return np.sqrt(((pred-value)**2).mean())"
      ],
      "metadata": {
        "id": "HyUKn5MYXkQw"
      },
      "execution_count": null,
      "outputs": [],
      "id": "HyUKn5MYXkQw"
    },
    {
      "cell_type": "code",
      "source": [
        "learning_rate=0.034 \n",
        "max_depth=66 \n",
        "num_leaves=224\n",
        "lgb=LGBMRegressor(learning_rate=learning_rate,max_depth=max_depth,num_leaves=num_leaves)\n",
        "lgb.fit(x_train,y_train)\n",
        "y_pred=lgb.predict(x_valid)\n",
        "print(\"learning_rate: {}\".format(learning_rate),\"  max_depth: {}\".format(max_depth),\"  num_leaves: {}\".format(num_leaves),\"  Rmse: {}\".format(rmse(y_pred,y_valid)))"
      ],
      "metadata": {
        "colab": {
          "base_uri": "https://localhost:8080/"
        },
        "id": "0royIDWQuH1l",
        "outputId": "6fd58a99-65e2-4d33-ad4a-af211d9cc21f"
      },
      "execution_count": null,
      "outputs": [
        {
          "output_type": "stream",
          "name": "stdout",
          "text": [
            "learning_rate: 0.034   max_depth: 66   num_leaves: 224   Rmse: 1.737202791091725\n"
          ]
        }
      ],
      "id": "0royIDWQuH1l"
    },
    {
      "cell_type": "code",
      "source": [
        "sales_train_eval=pd.read_csv('sales_train_evaluation.csv')"
      ],
      "metadata": {
        "id": "T16sf0gsXkQw"
      },
      "execution_count": null,
      "outputs": [],
      "id": "T16sf0gsXkQw"
    },
    {
      "cell_type": "code",
      "metadata": {
        "id": "5efZdYFAXkQw"
      },
      "source": [
        "s1=pd.DataFrame()\n",
        "s2=pd.DataFrame()\n",
        "s1['id']=sales_train_eval['id'] \n",
        "j=1\n",
        "for i in range(1914,1942):\n",
        "  s1['F'+str(j)]=lgb.predict(x_test[x_test['day']==(i)]) \n",
        "  j+=1\n",
        "s1[\"id\"]=s1[\"id\"].apply(lambda x: x.replace('evaluation','validation'))\n",
        "s2=s1.copy()\n",
        "s2[\"id\"]=s1[\"id\"].apply(lambda x: x.replace('validation','evaluation'))\n",
        "submit_LGBM_Regressor_=pd.concat([s1,s2]).reset_index().drop(['index'],axis=1)"
      ],
      "execution_count": null,
      "outputs": [],
      "id": "5efZdYFAXkQw"
    },
    {
      "cell_type": "code",
      "metadata": {
        "colab": {
          "base_uri": "https://localhost:8080/",
          "height": 226
        },
        "id": "tfirvBhtXkQx",
        "outputId": "fdb7c759-3c1c-41aa-d5c9-6920c75391a5"
      },
      "source": [
        "submit_LGBM_Regressor_.head()"
      ],
      "execution_count": null,
      "outputs": [
        {
          "output_type": "execute_result",
          "data": {
            "text/html": [
              "<div>\n",
              "<style scoped>\n",
              "    .dataframe tbody tr th:only-of-type {\n",
              "        vertical-align: middle;\n",
              "    }\n",
              "\n",
              "    .dataframe tbody tr th {\n",
              "        vertical-align: top;\n",
              "    }\n",
              "\n",
              "    .dataframe thead th {\n",
              "        text-align: right;\n",
              "    }\n",
              "</style>\n",
              "<table border=\"1\" class=\"dataframe\">\n",
              "  <thead>\n",
              "    <tr style=\"text-align: right;\">\n",
              "      <th></th>\n",
              "      <th>id</th>\n",
              "      <th>F1</th>\n",
              "      <th>F2</th>\n",
              "      <th>F3</th>\n",
              "      <th>F4</th>\n",
              "      <th>F5</th>\n",
              "      <th>F6</th>\n",
              "      <th>F7</th>\n",
              "      <th>F8</th>\n",
              "      <th>F9</th>\n",
              "      <th>F10</th>\n",
              "      <th>F11</th>\n",
              "      <th>F12</th>\n",
              "      <th>F13</th>\n",
              "      <th>F14</th>\n",
              "      <th>F15</th>\n",
              "      <th>F16</th>\n",
              "      <th>F17</th>\n",
              "      <th>F18</th>\n",
              "      <th>F19</th>\n",
              "      <th>F20</th>\n",
              "      <th>F21</th>\n",
              "      <th>F22</th>\n",
              "      <th>F23</th>\n",
              "      <th>F24</th>\n",
              "      <th>F25</th>\n",
              "      <th>F26</th>\n",
              "      <th>F27</th>\n",
              "      <th>F28</th>\n",
              "    </tr>\n",
              "  </thead>\n",
              "  <tbody>\n",
              "    <tr>\n",
              "      <th>0</th>\n",
              "      <td>HOBBIES_1_001_CA_1_validation</td>\n",
              "      <td>0.962114</td>\n",
              "      <td>0.784472</td>\n",
              "      <td>0.674091</td>\n",
              "      <td>0.546998</td>\n",
              "      <td>0.557242</td>\n",
              "      <td>1.025453</td>\n",
              "      <td>1.735815</td>\n",
              "      <td>1.441079</td>\n",
              "      <td>1.395087</td>\n",
              "      <td>1.380657</td>\n",
              "      <td>1.270061</td>\n",
              "      <td>1.336490</td>\n",
              "      <td>1.535940</td>\n",
              "      <td>0.858100</td>\n",
              "      <td>0.962114</td>\n",
              "      <td>1.145610</td>\n",
              "      <td>1.145610</td>\n",
              "      <td>1.017762</td>\n",
              "      <td>1.336490</td>\n",
              "      <td>2.033009</td>\n",
              "      <td>1.870575</td>\n",
              "      <td>1.239836</td>\n",
              "      <td>0.915599</td>\n",
              "      <td>0.784472</td>\n",
              "      <td>1.161034</td>\n",
              "      <td>1.336490</td>\n",
              "      <td>1.025453</td>\n",
              "      <td>1.188545</td>\n",
              "    </tr>\n",
              "    <tr>\n",
              "      <th>1</th>\n",
              "      <td>HOBBIES_1_002_CA_1_validation</td>\n",
              "      <td>0.179332</td>\n",
              "      <td>0.311821</td>\n",
              "      <td>0.179332</td>\n",
              "      <td>0.179332</td>\n",
              "      <td>0.179332</td>\n",
              "      <td>0.186215</td>\n",
              "      <td>0.186215</td>\n",
              "      <td>0.179332</td>\n",
              "      <td>0.045677</td>\n",
              "      <td>0.179332</td>\n",
              "      <td>0.179332</td>\n",
              "      <td>0.179332</td>\n",
              "      <td>0.186215</td>\n",
              "      <td>0.186215</td>\n",
              "      <td>0.179332</td>\n",
              "      <td>0.179332</td>\n",
              "      <td>0.045677</td>\n",
              "      <td>0.045677</td>\n",
              "      <td>0.045677</td>\n",
              "      <td>0.186215</td>\n",
              "      <td>0.523919</td>\n",
              "      <td>0.560891</td>\n",
              "      <td>0.674091</td>\n",
              "      <td>0.710303</td>\n",
              "      <td>0.710303</td>\n",
              "      <td>0.726050</td>\n",
              "      <td>0.691800</td>\n",
              "      <td>0.348576</td>\n",
              "    </tr>\n",
              "    <tr>\n",
              "      <th>2</th>\n",
              "      <td>HOBBIES_1_003_CA_1_validation</td>\n",
              "      <td>0.699350</td>\n",
              "      <td>0.546998</td>\n",
              "      <td>0.546998</td>\n",
              "      <td>0.674091</td>\n",
              "      <td>0.557242</td>\n",
              "      <td>0.855051</td>\n",
              "      <td>0.865374</td>\n",
              "      <td>0.713671</td>\n",
              "      <td>0.698241</td>\n",
              "      <td>0.546998</td>\n",
              "      <td>0.431177</td>\n",
              "      <td>0.692022</td>\n",
              "      <td>0.691800</td>\n",
              "      <td>1.025453</td>\n",
              "      <td>0.818286</td>\n",
              "      <td>0.784472</td>\n",
              "      <td>0.915599</td>\n",
              "      <td>0.918648</td>\n",
              "      <td>0.810729</td>\n",
              "      <td>0.855051</td>\n",
              "      <td>0.693325</td>\n",
              "      <td>0.560891</td>\n",
              "      <td>0.546998</td>\n",
              "      <td>0.431177</td>\n",
              "      <td>0.674091</td>\n",
              "      <td>0.938808</td>\n",
              "      <td>1.188545</td>\n",
              "      <td>1.025453</td>\n",
              "    </tr>\n",
              "    <tr>\n",
              "      <th>3</th>\n",
              "      <td>HOBBIES_1_004_CA_1_validation</td>\n",
              "      <td>1.866811</td>\n",
              "      <td>1.598674</td>\n",
              "      <td>1.730672</td>\n",
              "      <td>1.846180</td>\n",
              "      <td>2.122545</td>\n",
              "      <td>1.708925</td>\n",
              "      <td>2.428445</td>\n",
              "      <td>2.569789</td>\n",
              "      <td>2.486811</td>\n",
              "      <td>2.088530</td>\n",
              "      <td>1.841154</td>\n",
              "      <td>1.746958</td>\n",
              "      <td>2.419191</td>\n",
              "      <td>2.014817</td>\n",
              "      <td>1.376051</td>\n",
              "      <td>1.377608</td>\n",
              "      <td>1.472240</td>\n",
              "      <td>1.598769</td>\n",
              "      <td>1.556359</td>\n",
              "      <td>1.880300</td>\n",
              "      <td>1.203968</td>\n",
              "      <td>1.264362</td>\n",
              "      <td>1.017762</td>\n",
              "      <td>1.017762</td>\n",
              "      <td>1.264502</td>\n",
              "      <td>1.225569</td>\n",
              "      <td>1.713982</td>\n",
              "      <td>2.779683</td>\n",
              "    </tr>\n",
              "    <tr>\n",
              "      <th>4</th>\n",
              "      <td>HOBBIES_1_005_CA_1_validation</td>\n",
              "      <td>1.720958</td>\n",
              "      <td>1.454432</td>\n",
              "      <td>1.634733</td>\n",
              "      <td>1.769416</td>\n",
              "      <td>1.744584</td>\n",
              "      <td>1.878419</td>\n",
              "      <td>1.750705</td>\n",
              "      <td>1.571466</td>\n",
              "      <td>1.930121</td>\n",
              "      <td>1.597919</td>\n",
              "      <td>1.364622</td>\n",
              "      <td>1.745434</td>\n",
              "      <td>2.559212</td>\n",
              "      <td>2.451189</td>\n",
              "      <td>1.994795</td>\n",
              "      <td>1.730672</td>\n",
              "      <td>1.847030</td>\n",
              "      <td>1.957236</td>\n",
              "      <td>1.746958</td>\n",
              "      <td>1.870575</td>\n",
              "      <td>1.362632</td>\n",
              "      <td>1.087053</td>\n",
              "      <td>0.915599</td>\n",
              "      <td>0.674091</td>\n",
              "      <td>0.431177</td>\n",
              "      <td>0.695071</td>\n",
              "      <td>1.028502</td>\n",
              "      <td>1.031992</td>\n",
              "    </tr>\n",
              "  </tbody>\n",
              "</table>\n",
              "</div>"
            ],
            "text/plain": [
              "                              id        F1  ...       F27       F28\n",
              "0  HOBBIES_1_001_CA_1_validation  0.962114  ...  1.025453  1.188545\n",
              "1  HOBBIES_1_002_CA_1_validation  0.179332  ...  0.691800  0.348576\n",
              "2  HOBBIES_1_003_CA_1_validation  0.699350  ...  1.188545  1.025453\n",
              "3  HOBBIES_1_004_CA_1_validation  1.866811  ...  1.713982  2.779683\n",
              "4  HOBBIES_1_005_CA_1_validation  1.720958  ...  1.028502  1.031992\n",
              "\n",
              "[5 rows x 29 columns]"
            ]
          },
          "metadata": {},
          "execution_count": 13
        }
      ],
      "id": "tfirvBhtXkQx"
    },
    {
      "cell_type": "code",
      "metadata": {
        "id": "MfFqZYLwXkQx"
      },
      "source": [
        "submit_LGBM_Regressor_.to_csv(\"submit_LGBM_Regressor_test_3.csv\",index=False)"
      ],
      "execution_count": null,
      "outputs": [],
      "id": "MfFqZYLwXkQx"
    },
    {
      "cell_type": "markdown",
      "source": [
        "## Submit Kaggle"
      ],
      "metadata": {
        "id": "KQ249Knlymyb"
      },
      "id": "KQ249Knlymyb"
    },
    {
      "cell_type": "code",
      "source": [
        "from google.colab import files\n",
        "files.upload()"
      ],
      "metadata": {
        "id": "lneMFujTZpQB"
      },
      "execution_count": null,
      "outputs": [],
      "id": "lneMFujTZpQB"
    },
    {
      "cell_type": "code",
      "source": [
        "!mkdir -p ~/.kaggle\n",
        "!cp kaggle.json ~/.kaggle/"
      ],
      "metadata": {
        "id": "wbYcqB_3aNlh"
      },
      "execution_count": null,
      "outputs": [],
      "id": "wbYcqB_3aNlh"
    },
    {
      "cell_type": "code",
      "source": [
        "!kaggle competitions submit -c m5-forecasting-accuracy -f submit_LGBM_Regressor_test_3.csv -m \"Message\""
      ],
      "metadata": {
        "colab": {
          "base_uri": "https://localhost:8080/"
        },
        "id": "v8_cG7d6XiZ1",
        "outputId": "3cc2095b-ce24-4c9e-c58d-7837a184b7c7"
      },
      "execution_count": null,
      "outputs": [
        {
          "output_type": "stream",
          "name": "stdout",
          "text": [
            "Warning: Looks like you're using an outdated API Version, please consider updating (server 1.5.12 / client 1.5.4)\n",
            "100% 33.1M/33.1M [00:07<00:00, 4.35MB/s]\n",
            "Successfully submitted to M5 Forecasting - Accuracy"
          ]
        }
      ],
      "id": "v8_cG7d6XiZ1"
    },
    {
      "cell_type": "markdown",
      "source": [
        "**Private Score:** Cải thiện tốt nhất hiện tại: 0.67380.\n",
        "Thời gian Feature ít hơn 2 tiếng.<br>\n",
        "Điểm gốc tác giả: 0.67749"
      ],
      "metadata": {
        "id": "r1j6ldlmy1nS"
      },
      "id": "r1j6ldlmy1nS"
    },
    {
      "cell_type": "markdown",
      "source": [
        "![private_score](https://drive.google.com/uc?export=view&id=1yhV5v8hV400gxy0b3__5yQ1DrkFobu25)"
      ],
      "metadata": {
        "id": "e0XRrskD1gvP"
      },
      "id": "e0XRrskD1gvP"
    }
  ]
}