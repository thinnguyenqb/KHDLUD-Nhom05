{
 "cells": [
  {
   "cell_type": "markdown",
   "metadata": {},
   "source": [
    "# Báo cáo đồ án môn \"Khoa học dữ liệu ứng dụng\"\n",
    "\n",
    "\n",
    "## 1. Nhóm 5:\n",
    "- 18120563 - Hứa Phú Thành - [huasen07](https://github.com/huasen07)\n",
    "- 1712787 - Nguyễn Văn Thìn - [thinnguyenqb](https://github.com/thinnguyenqb)\n",
    "- 1712391 - Trần Bảo Duy - [duytran1999](https://github.com/duytran1999)\n",
    "- 1612835 - Bùi Trọng Xuyến - [btxuyenhcmus](https://github.com/btxuyenhcmus)\n",
    "\n",
    "Link thùng chứa Github của nhóm: [Github](https://github.com/thinnguyenqb/KHDLUD-Nhom05)\n",
    "\n"
   ]
  },
  {
   "cell_type": "markdown",
   "metadata": {},
   "source": [
    "## 2. Mô tả bài toán"
   ]
  },
  {
   "cell_type": "markdown",
   "metadata": {},
   "source": [
    "Mô tả sơ lược về bài toán\n",
    "\n",
    "Input/Output:\n",
    "* Input:\n",
    "* Output: \n",
    "\n",
    "Link bài toán: "
   ]
  },
  {
   "cell_type": "markdown",
   "metadata": {},
   "source": [
    "## 3. Cách giải quyết bài toán"
   ]
  },
  {
   "cell_type": "markdown",
   "metadata": {},
   "source": [
    "## 4. Tài liệu tham khảo"
   ]
  }
 ],
 "metadata": {
  "language_info": {
   "name": "python"
  },
  "orig_nbformat": 4
 },
 "nbformat": 4,
 "nbformat_minor": 2
}
