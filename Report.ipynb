{
  "nbformat": 4,
  "nbformat_minor": 5,
  "metadata": {
    "kernelspec": {
      "display_name": "Python 3",
      "language": "python",
      "name": "python3"
    },
    "language_info": {
      "codemirror_mode": {
        "name": "ipython",
        "version": 3
      },
      "file_extension": ".py",
      "mimetype": "text/x-python",
      "name": "python",
      "nbconvert_exporter": "python",
      "pygments_lexer": "ipython3",
      "version": "3.6.9"
    },
    "toc": {
      "base_numbering": 1,
      "nav_menu": {},
      "number_sections": true,
      "sideBar": true,
      "skip_h1_title": false,
      "title_cell": "Table of Contents",
      "title_sidebar": "Contents",
      "toc_cell": false,
      "toc_position": {
        "height": "calc(100% - 180px)",
        "left": "10px",
        "top": "150px",
        "width": "176px"
      },
      "toc_section_display": true,
      "toc_window_display": true
    },
    "colab": {
      "name": "Report.ipynb",
      "provenance": [],
      "collapsed_sections": [],
      "machine_shape": "hm",
      "toc_visible": true,
      "include_colab_link": true
    }
  },
  "cells": [
    {
      "cell_type": "markdown",
      "metadata": {
        "id": "view-in-github",
        "colab_type": "text"
      },
      "source": [
        "<a href=\"https://colab.research.google.com/github/thinnguyenqb/KHDLUD-Nhom05/blob/master/Report.ipynb\" target=\"_parent\"><img src=\"https://colab.research.google.com/assets/colab-badge.svg\" alt=\"Open In Colab\"/></a>"
      ]
    },
    {
      "cell_type": "markdown",
      "metadata": {
        "id": "7c42327a"
      },
      "source": [
        "![logo](https://drive.google.com/uc?export=view&id=1KGNBBRRabYfB1zOj94zVtKtVnx2vFB6f)"
      ],
      "id": "7c42327a"
    },
    {
      "cell_type": "markdown",
      "metadata": {
        "heading_collapsed": true,
        "id": "cbd62bbe"
      },
      "source": [
        "# Giới thiệu nhóm"
      ],
      "id": "cbd62bbe"
    },
    {
      "cell_type": "markdown",
      "metadata": {
        "hidden": true,
        "id": "e9adffc4"
      },
      "source": [
        "| MSSV | Full Name | ID Github |\n",
        "| ---- | ---- | -------- |\n",
        "| 1612835 | Bùi Trọng Xuyến | btxuyenhcmus |\n",
        "| 18120563 | Hứa Phú Thành | huasen07 |\n",
        "| 1712391 | Trần Bảo Duy | duytran1999 |\n",
        "| 1712787 | Nguyễn Văn Thìn | thinnguyenqb |\n",
        "\n",
        "[https://github.com/thinnguyenqb/KHDLUD-Nhom05.git](https://github.com/thinnguyenqb/KHDLUD-Nhom05.git)"
      ],
      "id": "e9adffc4"
    },
    {
      "cell_type": "markdown",
      "metadata": {
        "hidden": true,
        "id": "38f6e37f"
      },
      "source": [
        "![Footer-logo](https://drive.google.com/uc?export=view&id=17aEQ6johMz7h-OV_zfsxx3F11NcsWXAN)"
      ],
      "id": "38f6e37f"
    },
    {
      "cell_type": "markdown",
      "metadata": {
        "heading_collapsed": true,
        "id": "5cf6faf5"
      },
      "source": [
        "# Giới thiệu bài toán"
      ],
      "id": "5cf6faf5"
    },
    {
      "cell_type": "markdown",
      "metadata": {
        "hidden": true,
        "id": "fe0785e0"
      },
      "source": [
        "![banner](https://drive.google.com/uc?export=view&id=1pL0j1Nakl2rwa0CI06uwB2ylyuqOvwka)"
      ],
      "id": "fe0785e0"
    },
    {
      "cell_type": "markdown",
      "metadata": {
        "hidden": true,
        "id": "fc361dcb"
      },
      "source": [
        "## Sơ lược về cuộc thi"
      ],
      "id": "fc361dcb"
    },
    {
      "cell_type": "markdown",
      "metadata": {
        "hidden": true,
        "id": "c91bbe23"
      },
      "source": [
        "`Walmart` là một trong các chợ thương mại điện tử lớn hàng đầu ở USA, với lượng `volume` sản phẩm bán ra cực kì lớn của mình. Cuộc thi được đưa ra với mục tiêu thách thức các team sử dụng các thuật toán nâng cao để đưa ra được dự đoán chính xác nhất về lượng hàng hóa bán ra trong một chuỗi thời gian tương lai tiếp theo."
      ],
      "id": "c91bbe23"
    },
    {
      "cell_type": "markdown",
      "metadata": {
        "hidden": true,
        "id": "0392af46"
      },
      "source": [
        "`M5` bắt đầu vào ngày `02/03/2020` và kết thúc ngày `30/06/2020`. Tổ chức trên nền tảng công nghệ `Kaggle`."
      ],
      "id": "0392af46"
    },
    {
      "cell_type": "markdown",
      "metadata": {
        "hidden": true,
        "id": "f2b0af30"
      },
      "source": [
        "`M5` tổ chức thành 2 cuộc thi nhỏ chạy song song trên `kaggle` và cùng sử dụng chung một  bộ dữ liệu.\n",
        "\n",
        "- Cuộc thi đầu tiên có tên gọi là `M5 Forecasting Competition – Accuracy` với mục tiêu là dự đoán doanh số bán hàng trong 28 ngày kế tiếp cho các sản phẩm tại các cửa hàng Walmart.\n",
        "- Cuộc thi thứ hai có tên gọi là `M5 Forecasting Competition – Uncertainty` với mục tiêu là dự đoán sác xuất."
      ],
      "id": "f2b0af30"
    },
    {
      "cell_type": "markdown",
      "metadata": {
        "hidden": true,
        "id": "05385414"
      },
      "source": [
        "Cuộc thi kết thúc với sự tham gia của `5.558` teams"
      ],
      "id": "05385414"
    },
    {
      "cell_type": "markdown",
      "metadata": {
        "heading_collapsed": true,
        "hidden": true,
        "id": "70e1240e"
      },
      "source": [
        "## Dữ liệu đầu vào\n",
        "\n",
        "- `calendar.csv`\n",
        "- `sales_train_validation.csv`\n",
        "- `sell_prices.csv`\n",
        "- `sales_train_evaluation.csv`"
      ],
      "id": "70e1240e"
    },
    {
      "cell_type": "markdown",
      "metadata": {
        "heading_collapsed": true,
        "hidden": true,
        "id": "696224d6"
      },
      "source": [
        "## Dữ liệu đầu ra\n",
        "\n",
        "- `submission.csv`"
      ],
      "id": "696224d6"
    },
    {
      "cell_type": "markdown",
      "metadata": {
        "id": "7871ff5c"
      },
      "source": [
        "# Tập dữ liệu"
      ],
      "id": "7871ff5c"
    },
    {
      "cell_type": "code",
      "metadata": {
        "id": "atZFrTa-BVZv",
        "colab": {
          "base_uri": "https://localhost:8080/"
        },
        "outputId": "d1604ffa-53ab-4fb1-d799-2340d26a6db3"
      },
      "source": [
        "from google.colab import drive\n",
        "drive.mount('/content/drive')\n",
        "#!find /content/drive\n",
        "%cd /content/drive/MyDrive/KHDLUD/input"
      ],
      "id": "atZFrTa-BVZv",
      "execution_count": null,
      "outputs": [
        {
          "output_type": "stream",
          "name": "stdout",
          "text": [
            "Mounted at /content/drive\n",
            "/content/drive/.shortcut-targets-by-id/162NSyrwjXoKLVN79CInPyD8lzPAUzNdG/KHDLUD/input\n"
          ]
        }
      ]
    },
    {
      "cell_type": "code",
      "metadata": {
        "colab": {
          "base_uri": "https://localhost:8080/"
        },
        "id": "u84kKiw-EE8g",
        "outputId": "63d6cbd7-cf38-40b7-9d7a-f20fe0e8cc82"
      },
      "source": [
        "!ls"
      ],
      "id": "u84kKiw-EE8g",
      "execution_count": null,
      "outputs": [
        {
          "output_type": "stream",
          "name": "stdout",
          "text": [
            "calendar.csv\t       sales_train_evaluation.csv  sell_prices.csv\n",
            "data_final.pkl\t       sales_train_validation.csv  test_3.png\n",
            "drop_all_nan_data.pkl  sample_submission.csv\n"
          ]
        }
      ]
    },
    {
      "cell_type": "markdown",
      "metadata": {
        "id": "633d6bc1"
      },
      "source": [
        "![Dataset-hir](https://drive.google.com/uc?export=view&id=1l2ouDSWCf2TjPMCIVANuEP7gxvvDCgb9)"
      ],
      "id": "633d6bc1"
    },
    {
      "cell_type": "markdown",
      "metadata": {
        "id": "b7a4ed56"
      },
      "source": [
        "Tập dữ liệu `M5`, được cung cấp rộng rãi bởi `Walmart`, liên quan đến doanh số bán hàng đơn vị của các sản phẩm khác nhau được bán ở Hoa Kỳ, được tổ chức dưới dạng chuỗi thời gian được nhóm lại. Cụ thể hơn, tập dữ liệu liên quan đến doanh số bán hàng theo đơn vị của `3.049 sản phẩm`, được phân loại thành `3 danh mục` sản phẩm (Sở thích, Thực phẩm và Gia dụng) và `7 phòng ban sản phẩm`, trong đó các danh mục nêu trên được tách riêng. Các sản phẩm được bán trên mười cửa hàng, đặt tại `3 Bang` (CA, TX và WI)."
      ],
      "id": "b7a4ed56"
    },
    {
      "cell_type": "code",
      "metadata": {
        "id": "64d63dad"
      },
      "source": [
        "import pandas as pd"
      ],
      "id": "64d63dad",
      "execution_count": null,
      "outputs": []
    },
    {
      "cell_type": "markdown",
      "metadata": {
        "id": "c12135b8"
      },
      "source": [
        "## Calendar.csv\n",
        "\n",
        "- `data`: Ngày ở địng dạng y-m-d\n",
        "- `wm_yr_wk`: id tuần mà ngày thuộc về\n",
        "- `weekday`: Loại ngày trong tuần (Monday, ….)\n",
        "- `wday`: Id của ngày trong tuần bắt đầu từ thứ 7\n",
        "- `month`: tháng\n",
        "- `year`: năm\n",
        "- `event_name_1`: Nếu ngày có sự kiện, thì tên sự kiện \n",
        "- `event_type_1`:Nếu ngày có sự kiện, thì loại sự kiện\n",
        "- `event_name_2`: Nếu ngày có sự kiện thứ hai, thì tên sự kiện\n",
        "- `event_type_2`: Nếu ngày có sự kiện thứ hai, thì loại sự kiện\n",
        "- `snap_CA,snap_TX, snap_WI`: giá trị nhị phân cho biết cửa hàng CA,TX,WI có cho phép mua SNAP^3 vào ngày được cho phép hay không ? Nếu cho phép là 1."
      ],
      "id": "c12135b8"
    },
    {
      "cell_type": "code",
      "metadata": {
        "id": "2c960397",
        "colab": {
          "base_uri": "https://localhost:8080/",
          "height": 313
        },
        "outputId": "574e70a6-f6da-4bae-a835-8cb5afc28f1a"
      },
      "source": [
        "calendar_ = pd.read_csv('calendar.csv')\n",
        "calendar_.head(5)"
      ],
      "id": "2c960397",
      "execution_count": null,
      "outputs": [
        {
          "output_type": "execute_result",
          "data": {
            "text/html": [
              "<div>\n",
              "<style scoped>\n",
              "    .dataframe tbody tr th:only-of-type {\n",
              "        vertical-align: middle;\n",
              "    }\n",
              "\n",
              "    .dataframe tbody tr th {\n",
              "        vertical-align: top;\n",
              "    }\n",
              "\n",
              "    .dataframe thead th {\n",
              "        text-align: right;\n",
              "    }\n",
              "</style>\n",
              "<table border=\"1\" class=\"dataframe\">\n",
              "  <thead>\n",
              "    <tr style=\"text-align: right;\">\n",
              "      <th></th>\n",
              "      <th>date</th>\n",
              "      <th>wm_yr_wk</th>\n",
              "      <th>weekday</th>\n",
              "      <th>wday</th>\n",
              "      <th>month</th>\n",
              "      <th>year</th>\n",
              "      <th>d</th>\n",
              "      <th>event_name_1</th>\n",
              "      <th>event_type_1</th>\n",
              "      <th>event_name_2</th>\n",
              "      <th>event_type_2</th>\n",
              "      <th>snap_CA</th>\n",
              "      <th>snap_TX</th>\n",
              "      <th>snap_WI</th>\n",
              "    </tr>\n",
              "  </thead>\n",
              "  <tbody>\n",
              "    <tr>\n",
              "      <th>0</th>\n",
              "      <td>2011-01-29</td>\n",
              "      <td>11101</td>\n",
              "      <td>Saturday</td>\n",
              "      <td>1</td>\n",
              "      <td>1</td>\n",
              "      <td>2011</td>\n",
              "      <td>d_1</td>\n",
              "      <td>NaN</td>\n",
              "      <td>NaN</td>\n",
              "      <td>NaN</td>\n",
              "      <td>NaN</td>\n",
              "      <td>0</td>\n",
              "      <td>0</td>\n",
              "      <td>0</td>\n",
              "    </tr>\n",
              "    <tr>\n",
              "      <th>1</th>\n",
              "      <td>2011-01-30</td>\n",
              "      <td>11101</td>\n",
              "      <td>Sunday</td>\n",
              "      <td>2</td>\n",
              "      <td>1</td>\n",
              "      <td>2011</td>\n",
              "      <td>d_2</td>\n",
              "      <td>NaN</td>\n",
              "      <td>NaN</td>\n",
              "      <td>NaN</td>\n",
              "      <td>NaN</td>\n",
              "      <td>0</td>\n",
              "      <td>0</td>\n",
              "      <td>0</td>\n",
              "    </tr>\n",
              "    <tr>\n",
              "      <th>2</th>\n",
              "      <td>2011-01-31</td>\n",
              "      <td>11101</td>\n",
              "      <td>Monday</td>\n",
              "      <td>3</td>\n",
              "      <td>1</td>\n",
              "      <td>2011</td>\n",
              "      <td>d_3</td>\n",
              "      <td>NaN</td>\n",
              "      <td>NaN</td>\n",
              "      <td>NaN</td>\n",
              "      <td>NaN</td>\n",
              "      <td>0</td>\n",
              "      <td>0</td>\n",
              "      <td>0</td>\n",
              "    </tr>\n",
              "    <tr>\n",
              "      <th>3</th>\n",
              "      <td>2011-02-01</td>\n",
              "      <td>11101</td>\n",
              "      <td>Tuesday</td>\n",
              "      <td>4</td>\n",
              "      <td>2</td>\n",
              "      <td>2011</td>\n",
              "      <td>d_4</td>\n",
              "      <td>NaN</td>\n",
              "      <td>NaN</td>\n",
              "      <td>NaN</td>\n",
              "      <td>NaN</td>\n",
              "      <td>1</td>\n",
              "      <td>1</td>\n",
              "      <td>0</td>\n",
              "    </tr>\n",
              "    <tr>\n",
              "      <th>4</th>\n",
              "      <td>2011-02-02</td>\n",
              "      <td>11101</td>\n",
              "      <td>Wednesday</td>\n",
              "      <td>5</td>\n",
              "      <td>2</td>\n",
              "      <td>2011</td>\n",
              "      <td>d_5</td>\n",
              "      <td>NaN</td>\n",
              "      <td>NaN</td>\n",
              "      <td>NaN</td>\n",
              "      <td>NaN</td>\n",
              "      <td>1</td>\n",
              "      <td>0</td>\n",
              "      <td>1</td>\n",
              "    </tr>\n",
              "  </tbody>\n",
              "</table>\n",
              "</div>"
            ],
            "text/plain": [
              "         date  wm_yr_wk    weekday  ...  snap_CA  snap_TX  snap_WI\n",
              "0  2011-01-29     11101   Saturday  ...        0        0        0\n",
              "1  2011-01-30     11101     Sunday  ...        0        0        0\n",
              "2  2011-01-31     11101     Monday  ...        0        0        0\n",
              "3  2011-02-01     11101    Tuesday  ...        1        1        0\n",
              "4  2011-02-02     11101  Wednesday  ...        1        0        1\n",
              "\n",
              "[5 rows x 14 columns]"
            ]
          },
          "metadata": {},
          "execution_count": 8
        }
      ]
    },
    {
      "cell_type": "code",
      "metadata": {
        "id": "386c7ace",
        "colab": {
          "base_uri": "https://localhost:8080/"
        },
        "outputId": "95cadac9-1103-4a59-daa6-3debb5bff5c1"
      },
      "source": [
        "calendar_.info()"
      ],
      "id": "386c7ace",
      "execution_count": null,
      "outputs": [
        {
          "output_type": "stream",
          "name": "stdout",
          "text": [
            "<class 'pandas.core.frame.DataFrame'>\n",
            "RangeIndex: 1969 entries, 0 to 1968\n",
            "Data columns (total 14 columns):\n",
            " #   Column        Non-Null Count  Dtype \n",
            "---  ------        --------------  ----- \n",
            " 0   date          1969 non-null   object\n",
            " 1   wm_yr_wk      1969 non-null   int64 \n",
            " 2   weekday       1969 non-null   object\n",
            " 3   wday          1969 non-null   int64 \n",
            " 4   month         1969 non-null   int64 \n",
            " 5   year          1969 non-null   int64 \n",
            " 6   d             1969 non-null   object\n",
            " 7   event_name_1  162 non-null    object\n",
            " 8   event_type_1  162 non-null    object\n",
            " 9   event_name_2  5 non-null      object\n",
            " 10  event_type_2  5 non-null      object\n",
            " 11  snap_CA       1969 non-null   int64 \n",
            " 12  snap_TX       1969 non-null   int64 \n",
            " 13  snap_WI       1969 non-null   int64 \n",
            "dtypes: int64(7), object(7)\n",
            "memory usage: 215.5+ KB\n"
          ]
        }
      ]
    },
    {
      "cell_type": "markdown",
      "metadata": {
        "id": "d71f3691"
      },
      "source": [
        "## Sell_prices.csv\n",
        "\n",
        "- `store_id`: mã cửa hàng\n",
        "- `item_id`: mã mặt hàng\n",
        "- `wm_yr_wk`: id của tuần chứa ngày\n",
        "- `sell_price`: giá bán"
      ],
      "id": "d71f3691"
    },
    {
      "cell_type": "code",
      "metadata": {
        "id": "9058631f",
        "colab": {
          "base_uri": "https://localhost:8080/",
          "height": 206
        },
        "outputId": "cb05cd16-006d-4e2f-b6df-d04397d1a40a"
      },
      "source": [
        "sell_prices_ = pd.read_csv('sell_prices.csv')\n",
        "sell_prices_.head(5)"
      ],
      "id": "9058631f",
      "execution_count": null,
      "outputs": [
        {
          "output_type": "execute_result",
          "data": {
            "text/html": [
              "<div>\n",
              "<style scoped>\n",
              "    .dataframe tbody tr th:only-of-type {\n",
              "        vertical-align: middle;\n",
              "    }\n",
              "\n",
              "    .dataframe tbody tr th {\n",
              "        vertical-align: top;\n",
              "    }\n",
              "\n",
              "    .dataframe thead th {\n",
              "        text-align: right;\n",
              "    }\n",
              "</style>\n",
              "<table border=\"1\" class=\"dataframe\">\n",
              "  <thead>\n",
              "    <tr style=\"text-align: right;\">\n",
              "      <th></th>\n",
              "      <th>store_id</th>\n",
              "      <th>item_id</th>\n",
              "      <th>wm_yr_wk</th>\n",
              "      <th>sell_price</th>\n",
              "    </tr>\n",
              "  </thead>\n",
              "  <tbody>\n",
              "    <tr>\n",
              "      <th>0</th>\n",
              "      <td>CA_1</td>\n",
              "      <td>HOBBIES_1_001</td>\n",
              "      <td>11325</td>\n",
              "      <td>9.58</td>\n",
              "    </tr>\n",
              "    <tr>\n",
              "      <th>1</th>\n",
              "      <td>CA_1</td>\n",
              "      <td>HOBBIES_1_001</td>\n",
              "      <td>11326</td>\n",
              "      <td>9.58</td>\n",
              "    </tr>\n",
              "    <tr>\n",
              "      <th>2</th>\n",
              "      <td>CA_1</td>\n",
              "      <td>HOBBIES_1_001</td>\n",
              "      <td>11327</td>\n",
              "      <td>8.26</td>\n",
              "    </tr>\n",
              "    <tr>\n",
              "      <th>3</th>\n",
              "      <td>CA_1</td>\n",
              "      <td>HOBBIES_1_001</td>\n",
              "      <td>11328</td>\n",
              "      <td>8.26</td>\n",
              "    </tr>\n",
              "    <tr>\n",
              "      <th>4</th>\n",
              "      <td>CA_1</td>\n",
              "      <td>HOBBIES_1_001</td>\n",
              "      <td>11329</td>\n",
              "      <td>8.26</td>\n",
              "    </tr>\n",
              "  </tbody>\n",
              "</table>\n",
              "</div>"
            ],
            "text/plain": [
              "  store_id        item_id  wm_yr_wk  sell_price\n",
              "0     CA_1  HOBBIES_1_001     11325        9.58\n",
              "1     CA_1  HOBBIES_1_001     11326        9.58\n",
              "2     CA_1  HOBBIES_1_001     11327        8.26\n",
              "3     CA_1  HOBBIES_1_001     11328        8.26\n",
              "4     CA_1  HOBBIES_1_001     11329        8.26"
            ]
          },
          "metadata": {},
          "execution_count": 10
        }
      ]
    },
    {
      "cell_type": "code",
      "metadata": {
        "id": "cd5df0d2",
        "colab": {
          "base_uri": "https://localhost:8080/"
        },
        "outputId": "3dbcad3a-524b-4233-a11a-3b412b1ccb50"
      },
      "source": [
        "sell_prices_.info()"
      ],
      "id": "cd5df0d2",
      "execution_count": null,
      "outputs": [
        {
          "output_type": "stream",
          "name": "stdout",
          "text": [
            "<class 'pandas.core.frame.DataFrame'>\n",
            "RangeIndex: 6841121 entries, 0 to 6841120\n",
            "Data columns (total 4 columns):\n",
            " #   Column      Dtype  \n",
            "---  ------      -----  \n",
            " 0   store_id    object \n",
            " 1   item_id     object \n",
            " 2   wm_yr_wk    int64  \n",
            " 3   sell_price  float64\n",
            "dtypes: float64(1), int64(1), object(2)\n",
            "memory usage: 208.8+ MB\n"
          ]
        }
      ]
    },
    {
      "cell_type": "markdown",
      "metadata": {
        "id": "315f9757"
      },
      "source": [
        "## Sales_train_evaluation.csv / sales_train_validation.csv\n",
        "\n",
        "- `id`: mã\n",
        "- `item_id`: mã sản phẩm\n",
        "- `dept_id`: mã khu vực/ vùng\n",
        "- `cat_id`: mã loại\n",
        "- `store_id`: mã cửa hàng\n",
        "- `state_id`: mã tiểu bang\n",
        "- `[d_1,d_1913]`: dữ liệu bán hàng"
      ],
      "id": "315f9757"
    },
    {
      "cell_type": "code",
      "metadata": {
        "id": "ee8d27fe",
        "colab": {
          "base_uri": "https://localhost:8080/",
          "height": 255
        },
        "outputId": "e0ff5837-c842-4f89-f3fb-480e5719c3c8"
      },
      "source": [
        "sales_train_evaluation_ = pd.read_csv('sales_train_evaluation.csv')\n",
        "sales_train_evaluation_.head(5)"
      ],
      "id": "ee8d27fe",
      "execution_count": null,
      "outputs": [
        {
          "output_type": "execute_result",
          "data": {
            "text/html": [
              "<div>\n",
              "<style scoped>\n",
              "    .dataframe tbody tr th:only-of-type {\n",
              "        vertical-align: middle;\n",
              "    }\n",
              "\n",
              "    .dataframe tbody tr th {\n",
              "        vertical-align: top;\n",
              "    }\n",
              "\n",
              "    .dataframe thead th {\n",
              "        text-align: right;\n",
              "    }\n",
              "</style>\n",
              "<table border=\"1\" class=\"dataframe\">\n",
              "  <thead>\n",
              "    <tr style=\"text-align: right;\">\n",
              "      <th></th>\n",
              "      <th>id</th>\n",
              "      <th>item_id</th>\n",
              "      <th>dept_id</th>\n",
              "      <th>cat_id</th>\n",
              "      <th>store_id</th>\n",
              "      <th>state_id</th>\n",
              "      <th>d_1</th>\n",
              "      <th>d_2</th>\n",
              "      <th>d_3</th>\n",
              "      <th>d_4</th>\n",
              "      <th>d_5</th>\n",
              "      <th>d_6</th>\n",
              "      <th>d_7</th>\n",
              "      <th>d_8</th>\n",
              "      <th>d_9</th>\n",
              "      <th>d_10</th>\n",
              "      <th>d_11</th>\n",
              "      <th>d_12</th>\n",
              "      <th>d_13</th>\n",
              "      <th>d_14</th>\n",
              "      <th>d_15</th>\n",
              "      <th>d_16</th>\n",
              "      <th>d_17</th>\n",
              "      <th>d_18</th>\n",
              "      <th>d_19</th>\n",
              "      <th>d_20</th>\n",
              "      <th>d_21</th>\n",
              "      <th>d_22</th>\n",
              "      <th>d_23</th>\n",
              "      <th>d_24</th>\n",
              "      <th>d_25</th>\n",
              "      <th>d_26</th>\n",
              "      <th>d_27</th>\n",
              "      <th>d_28</th>\n",
              "      <th>d_29</th>\n",
              "      <th>d_30</th>\n",
              "      <th>d_31</th>\n",
              "      <th>d_32</th>\n",
              "      <th>d_33</th>\n",
              "      <th>d_34</th>\n",
              "      <th>...</th>\n",
              "      <th>d_1902</th>\n",
              "      <th>d_1903</th>\n",
              "      <th>d_1904</th>\n",
              "      <th>d_1905</th>\n",
              "      <th>d_1906</th>\n",
              "      <th>d_1907</th>\n",
              "      <th>d_1908</th>\n",
              "      <th>d_1909</th>\n",
              "      <th>d_1910</th>\n",
              "      <th>d_1911</th>\n",
              "      <th>d_1912</th>\n",
              "      <th>d_1913</th>\n",
              "      <th>d_1914</th>\n",
              "      <th>d_1915</th>\n",
              "      <th>d_1916</th>\n",
              "      <th>d_1917</th>\n",
              "      <th>d_1918</th>\n",
              "      <th>d_1919</th>\n",
              "      <th>d_1920</th>\n",
              "      <th>d_1921</th>\n",
              "      <th>d_1922</th>\n",
              "      <th>d_1923</th>\n",
              "      <th>d_1924</th>\n",
              "      <th>d_1925</th>\n",
              "      <th>d_1926</th>\n",
              "      <th>d_1927</th>\n",
              "      <th>d_1928</th>\n",
              "      <th>d_1929</th>\n",
              "      <th>d_1930</th>\n",
              "      <th>d_1931</th>\n",
              "      <th>d_1932</th>\n",
              "      <th>d_1933</th>\n",
              "      <th>d_1934</th>\n",
              "      <th>d_1935</th>\n",
              "      <th>d_1936</th>\n",
              "      <th>d_1937</th>\n",
              "      <th>d_1938</th>\n",
              "      <th>d_1939</th>\n",
              "      <th>d_1940</th>\n",
              "      <th>d_1941</th>\n",
              "    </tr>\n",
              "  </thead>\n",
              "  <tbody>\n",
              "    <tr>\n",
              "      <th>0</th>\n",
              "      <td>HOBBIES_1_001_CA_1_evaluation</td>\n",
              "      <td>HOBBIES_1_001</td>\n",
              "      <td>HOBBIES_1</td>\n",
              "      <td>HOBBIES</td>\n",
              "      <td>CA_1</td>\n",
              "      <td>CA</td>\n",
              "      <td>0</td>\n",
              "      <td>0</td>\n",
              "      <td>0</td>\n",
              "      <td>0</td>\n",
              "      <td>0</td>\n",
              "      <td>0</td>\n",
              "      <td>0</td>\n",
              "      <td>0</td>\n",
              "      <td>0</td>\n",
              "      <td>0</td>\n",
              "      <td>0</td>\n",
              "      <td>0</td>\n",
              "      <td>0</td>\n",
              "      <td>0</td>\n",
              "      <td>0</td>\n",
              "      <td>0</td>\n",
              "      <td>0</td>\n",
              "      <td>0</td>\n",
              "      <td>0</td>\n",
              "      <td>0</td>\n",
              "      <td>0</td>\n",
              "      <td>0</td>\n",
              "      <td>0</td>\n",
              "      <td>0</td>\n",
              "      <td>0</td>\n",
              "      <td>0</td>\n",
              "      <td>0</td>\n",
              "      <td>0</td>\n",
              "      <td>0</td>\n",
              "      <td>0</td>\n",
              "      <td>0</td>\n",
              "      <td>0</td>\n",
              "      <td>0</td>\n",
              "      <td>0</td>\n",
              "      <td>...</td>\n",
              "      <td>0</td>\n",
              "      <td>1</td>\n",
              "      <td>1</td>\n",
              "      <td>3</td>\n",
              "      <td>0</td>\n",
              "      <td>1</td>\n",
              "      <td>1</td>\n",
              "      <td>1</td>\n",
              "      <td>3</td>\n",
              "      <td>0</td>\n",
              "      <td>1</td>\n",
              "      <td>1</td>\n",
              "      <td>0</td>\n",
              "      <td>0</td>\n",
              "      <td>0</td>\n",
              "      <td>2</td>\n",
              "      <td>0</td>\n",
              "      <td>3</td>\n",
              "      <td>5</td>\n",
              "      <td>0</td>\n",
              "      <td>0</td>\n",
              "      <td>1</td>\n",
              "      <td>1</td>\n",
              "      <td>0</td>\n",
              "      <td>2</td>\n",
              "      <td>1</td>\n",
              "      <td>2</td>\n",
              "      <td>2</td>\n",
              "      <td>1</td>\n",
              "      <td>0</td>\n",
              "      <td>2</td>\n",
              "      <td>4</td>\n",
              "      <td>0</td>\n",
              "      <td>0</td>\n",
              "      <td>0</td>\n",
              "      <td>0</td>\n",
              "      <td>3</td>\n",
              "      <td>3</td>\n",
              "      <td>0</td>\n",
              "      <td>1</td>\n",
              "    </tr>\n",
              "    <tr>\n",
              "      <th>1</th>\n",
              "      <td>HOBBIES_1_002_CA_1_evaluation</td>\n",
              "      <td>HOBBIES_1_002</td>\n",
              "      <td>HOBBIES_1</td>\n",
              "      <td>HOBBIES</td>\n",
              "      <td>CA_1</td>\n",
              "      <td>CA</td>\n",
              "      <td>0</td>\n",
              "      <td>0</td>\n",
              "      <td>0</td>\n",
              "      <td>0</td>\n",
              "      <td>0</td>\n",
              "      <td>0</td>\n",
              "      <td>0</td>\n",
              "      <td>0</td>\n",
              "      <td>0</td>\n",
              "      <td>0</td>\n",
              "      <td>0</td>\n",
              "      <td>0</td>\n",
              "      <td>0</td>\n",
              "      <td>0</td>\n",
              "      <td>0</td>\n",
              "      <td>0</td>\n",
              "      <td>0</td>\n",
              "      <td>0</td>\n",
              "      <td>0</td>\n",
              "      <td>0</td>\n",
              "      <td>0</td>\n",
              "      <td>0</td>\n",
              "      <td>0</td>\n",
              "      <td>0</td>\n",
              "      <td>0</td>\n",
              "      <td>0</td>\n",
              "      <td>0</td>\n",
              "      <td>0</td>\n",
              "      <td>0</td>\n",
              "      <td>0</td>\n",
              "      <td>0</td>\n",
              "      <td>0</td>\n",
              "      <td>0</td>\n",
              "      <td>0</td>\n",
              "      <td>...</td>\n",
              "      <td>0</td>\n",
              "      <td>0</td>\n",
              "      <td>0</td>\n",
              "      <td>0</td>\n",
              "      <td>0</td>\n",
              "      <td>0</td>\n",
              "      <td>0</td>\n",
              "      <td>1</td>\n",
              "      <td>0</td>\n",
              "      <td>0</td>\n",
              "      <td>0</td>\n",
              "      <td>0</td>\n",
              "      <td>0</td>\n",
              "      <td>1</td>\n",
              "      <td>0</td>\n",
              "      <td>0</td>\n",
              "      <td>0</td>\n",
              "      <td>0</td>\n",
              "      <td>0</td>\n",
              "      <td>0</td>\n",
              "      <td>0</td>\n",
              "      <td>1</td>\n",
              "      <td>0</td>\n",
              "      <td>0</td>\n",
              "      <td>0</td>\n",
              "      <td>0</td>\n",
              "      <td>0</td>\n",
              "      <td>0</td>\n",
              "      <td>0</td>\n",
              "      <td>0</td>\n",
              "      <td>0</td>\n",
              "      <td>1</td>\n",
              "      <td>2</td>\n",
              "      <td>1</td>\n",
              "      <td>1</td>\n",
              "      <td>0</td>\n",
              "      <td>0</td>\n",
              "      <td>0</td>\n",
              "      <td>0</td>\n",
              "      <td>0</td>\n",
              "    </tr>\n",
              "    <tr>\n",
              "      <th>2</th>\n",
              "      <td>HOBBIES_1_003_CA_1_evaluation</td>\n",
              "      <td>HOBBIES_1_003</td>\n",
              "      <td>HOBBIES_1</td>\n",
              "      <td>HOBBIES</td>\n",
              "      <td>CA_1</td>\n",
              "      <td>CA</td>\n",
              "      <td>0</td>\n",
              "      <td>0</td>\n",
              "      <td>0</td>\n",
              "      <td>0</td>\n",
              "      <td>0</td>\n",
              "      <td>0</td>\n",
              "      <td>0</td>\n",
              "      <td>0</td>\n",
              "      <td>0</td>\n",
              "      <td>0</td>\n",
              "      <td>0</td>\n",
              "      <td>0</td>\n",
              "      <td>0</td>\n",
              "      <td>0</td>\n",
              "      <td>0</td>\n",
              "      <td>0</td>\n",
              "      <td>0</td>\n",
              "      <td>0</td>\n",
              "      <td>0</td>\n",
              "      <td>0</td>\n",
              "      <td>0</td>\n",
              "      <td>0</td>\n",
              "      <td>0</td>\n",
              "      <td>0</td>\n",
              "      <td>0</td>\n",
              "      <td>0</td>\n",
              "      <td>0</td>\n",
              "      <td>0</td>\n",
              "      <td>0</td>\n",
              "      <td>0</td>\n",
              "      <td>0</td>\n",
              "      <td>0</td>\n",
              "      <td>0</td>\n",
              "      <td>0</td>\n",
              "      <td>...</td>\n",
              "      <td>1</td>\n",
              "      <td>2</td>\n",
              "      <td>2</td>\n",
              "      <td>1</td>\n",
              "      <td>2</td>\n",
              "      <td>1</td>\n",
              "      <td>1</td>\n",
              "      <td>1</td>\n",
              "      <td>0</td>\n",
              "      <td>1</td>\n",
              "      <td>1</td>\n",
              "      <td>1</td>\n",
              "      <td>0</td>\n",
              "      <td>0</td>\n",
              "      <td>1</td>\n",
              "      <td>1</td>\n",
              "      <td>0</td>\n",
              "      <td>2</td>\n",
              "      <td>1</td>\n",
              "      <td>0</td>\n",
              "      <td>0</td>\n",
              "      <td>0</td>\n",
              "      <td>0</td>\n",
              "      <td>2</td>\n",
              "      <td>1</td>\n",
              "      <td>3</td>\n",
              "      <td>0</td>\n",
              "      <td>0</td>\n",
              "      <td>1</td>\n",
              "      <td>0</td>\n",
              "      <td>1</td>\n",
              "      <td>0</td>\n",
              "      <td>2</td>\n",
              "      <td>0</td>\n",
              "      <td>0</td>\n",
              "      <td>0</td>\n",
              "      <td>2</td>\n",
              "      <td>3</td>\n",
              "      <td>0</td>\n",
              "      <td>1</td>\n",
              "    </tr>\n",
              "    <tr>\n",
              "      <th>3</th>\n",
              "      <td>HOBBIES_1_004_CA_1_evaluation</td>\n",
              "      <td>HOBBIES_1_004</td>\n",
              "      <td>HOBBIES_1</td>\n",
              "      <td>HOBBIES</td>\n",
              "      <td>CA_1</td>\n",
              "      <td>CA</td>\n",
              "      <td>0</td>\n",
              "      <td>0</td>\n",
              "      <td>0</td>\n",
              "      <td>0</td>\n",
              "      <td>0</td>\n",
              "      <td>0</td>\n",
              "      <td>0</td>\n",
              "      <td>0</td>\n",
              "      <td>0</td>\n",
              "      <td>0</td>\n",
              "      <td>0</td>\n",
              "      <td>0</td>\n",
              "      <td>0</td>\n",
              "      <td>0</td>\n",
              "      <td>0</td>\n",
              "      <td>0</td>\n",
              "      <td>0</td>\n",
              "      <td>0</td>\n",
              "      <td>0</td>\n",
              "      <td>0</td>\n",
              "      <td>0</td>\n",
              "      <td>0</td>\n",
              "      <td>0</td>\n",
              "      <td>0</td>\n",
              "      <td>0</td>\n",
              "      <td>0</td>\n",
              "      <td>0</td>\n",
              "      <td>0</td>\n",
              "      <td>0</td>\n",
              "      <td>0</td>\n",
              "      <td>0</td>\n",
              "      <td>0</td>\n",
              "      <td>0</td>\n",
              "      <td>0</td>\n",
              "      <td>...</td>\n",
              "      <td>3</td>\n",
              "      <td>0</td>\n",
              "      <td>1</td>\n",
              "      <td>0</td>\n",
              "      <td>5</td>\n",
              "      <td>4</td>\n",
              "      <td>1</td>\n",
              "      <td>0</td>\n",
              "      <td>1</td>\n",
              "      <td>3</td>\n",
              "      <td>7</td>\n",
              "      <td>2</td>\n",
              "      <td>0</td>\n",
              "      <td>0</td>\n",
              "      <td>1</td>\n",
              "      <td>2</td>\n",
              "      <td>4</td>\n",
              "      <td>1</td>\n",
              "      <td>6</td>\n",
              "      <td>4</td>\n",
              "      <td>0</td>\n",
              "      <td>0</td>\n",
              "      <td>0</td>\n",
              "      <td>2</td>\n",
              "      <td>2</td>\n",
              "      <td>4</td>\n",
              "      <td>2</td>\n",
              "      <td>1</td>\n",
              "      <td>1</td>\n",
              "      <td>1</td>\n",
              "      <td>1</td>\n",
              "      <td>1</td>\n",
              "      <td>0</td>\n",
              "      <td>4</td>\n",
              "      <td>0</td>\n",
              "      <td>1</td>\n",
              "      <td>3</td>\n",
              "      <td>0</td>\n",
              "      <td>2</td>\n",
              "      <td>6</td>\n",
              "    </tr>\n",
              "    <tr>\n",
              "      <th>4</th>\n",
              "      <td>HOBBIES_1_005_CA_1_evaluation</td>\n",
              "      <td>HOBBIES_1_005</td>\n",
              "      <td>HOBBIES_1</td>\n",
              "      <td>HOBBIES</td>\n",
              "      <td>CA_1</td>\n",
              "      <td>CA</td>\n",
              "      <td>0</td>\n",
              "      <td>0</td>\n",
              "      <td>0</td>\n",
              "      <td>0</td>\n",
              "      <td>0</td>\n",
              "      <td>0</td>\n",
              "      <td>0</td>\n",
              "      <td>0</td>\n",
              "      <td>0</td>\n",
              "      <td>0</td>\n",
              "      <td>0</td>\n",
              "      <td>0</td>\n",
              "      <td>0</td>\n",
              "      <td>0</td>\n",
              "      <td>0</td>\n",
              "      <td>0</td>\n",
              "      <td>0</td>\n",
              "      <td>0</td>\n",
              "      <td>0</td>\n",
              "      <td>0</td>\n",
              "      <td>0</td>\n",
              "      <td>0</td>\n",
              "      <td>0</td>\n",
              "      <td>0</td>\n",
              "      <td>0</td>\n",
              "      <td>0</td>\n",
              "      <td>0</td>\n",
              "      <td>0</td>\n",
              "      <td>0</td>\n",
              "      <td>0</td>\n",
              "      <td>0</td>\n",
              "      <td>0</td>\n",
              "      <td>0</td>\n",
              "      <td>0</td>\n",
              "      <td>...</td>\n",
              "      <td>1</td>\n",
              "      <td>1</td>\n",
              "      <td>2</td>\n",
              "      <td>1</td>\n",
              "      <td>1</td>\n",
              "      <td>0</td>\n",
              "      <td>1</td>\n",
              "      <td>1</td>\n",
              "      <td>2</td>\n",
              "      <td>2</td>\n",
              "      <td>2</td>\n",
              "      <td>4</td>\n",
              "      <td>1</td>\n",
              "      <td>0</td>\n",
              "      <td>2</td>\n",
              "      <td>3</td>\n",
              "      <td>1</td>\n",
              "      <td>0</td>\n",
              "      <td>3</td>\n",
              "      <td>2</td>\n",
              "      <td>3</td>\n",
              "      <td>1</td>\n",
              "      <td>1</td>\n",
              "      <td>3</td>\n",
              "      <td>2</td>\n",
              "      <td>3</td>\n",
              "      <td>2</td>\n",
              "      <td>2</td>\n",
              "      <td>2</td>\n",
              "      <td>2</td>\n",
              "      <td>0</td>\n",
              "      <td>0</td>\n",
              "      <td>0</td>\n",
              "      <td>2</td>\n",
              "      <td>1</td>\n",
              "      <td>0</td>\n",
              "      <td>0</td>\n",
              "      <td>2</td>\n",
              "      <td>1</td>\n",
              "      <td>0</td>\n",
              "    </tr>\n",
              "  </tbody>\n",
              "</table>\n",
              "<p>5 rows × 1947 columns</p>\n",
              "</div>"
            ],
            "text/plain": [
              "                              id        item_id  ... d_1940 d_1941\n",
              "0  HOBBIES_1_001_CA_1_evaluation  HOBBIES_1_001  ...      0      1\n",
              "1  HOBBIES_1_002_CA_1_evaluation  HOBBIES_1_002  ...      0      0\n",
              "2  HOBBIES_1_003_CA_1_evaluation  HOBBIES_1_003  ...      0      1\n",
              "3  HOBBIES_1_004_CA_1_evaluation  HOBBIES_1_004  ...      2      6\n",
              "4  HOBBIES_1_005_CA_1_evaluation  HOBBIES_1_005  ...      1      0\n",
              "\n",
              "[5 rows x 1947 columns]"
            ]
          },
          "metadata": {},
          "execution_count": 12
        }
      ]
    },
    {
      "cell_type": "code",
      "metadata": {
        "id": "e08f4ece",
        "colab": {
          "base_uri": "https://localhost:8080/"
        },
        "outputId": "cbddfe64-04e5-45a8-fe7f-7af48f0e6124"
      },
      "source": [
        "sales_train_evaluation_.info()"
      ],
      "id": "e08f4ece",
      "execution_count": null,
      "outputs": [
        {
          "output_type": "stream",
          "name": "stdout",
          "text": [
            "<class 'pandas.core.frame.DataFrame'>\n",
            "RangeIndex: 30490 entries, 0 to 30489\n",
            "Columns: 1947 entries, id to d_1941\n",
            "dtypes: int64(1941), object(6)\n",
            "memory usage: 452.9+ MB\n"
          ]
        }
      ]
    },
    {
      "cell_type": "markdown",
      "metadata": {
        "id": "275f05e1"
      },
      "source": [
        "## Sample_submission.csv"
      ],
      "id": "275f05e1"
    },
    {
      "cell_type": "code",
      "metadata": {
        "id": "b6575f9f",
        "colab": {
          "base_uri": "https://localhost:8080/",
          "height": 226
        },
        "outputId": "aa967712-7783-430b-f31d-f0f876f78dfc"
      },
      "source": [
        "sample_submission_ = pd.read_csv('sample_submission.csv')\n",
        "sample_submission_.head(5)"
      ],
      "id": "b6575f9f",
      "execution_count": null,
      "outputs": [
        {
          "output_type": "execute_result",
          "data": {
            "text/html": [
              "<div>\n",
              "<style scoped>\n",
              "    .dataframe tbody tr th:only-of-type {\n",
              "        vertical-align: middle;\n",
              "    }\n",
              "\n",
              "    .dataframe tbody tr th {\n",
              "        vertical-align: top;\n",
              "    }\n",
              "\n",
              "    .dataframe thead th {\n",
              "        text-align: right;\n",
              "    }\n",
              "</style>\n",
              "<table border=\"1\" class=\"dataframe\">\n",
              "  <thead>\n",
              "    <tr style=\"text-align: right;\">\n",
              "      <th></th>\n",
              "      <th>id</th>\n",
              "      <th>F1</th>\n",
              "      <th>F2</th>\n",
              "      <th>F3</th>\n",
              "      <th>F4</th>\n",
              "      <th>F5</th>\n",
              "      <th>F6</th>\n",
              "      <th>F7</th>\n",
              "      <th>F8</th>\n",
              "      <th>F9</th>\n",
              "      <th>F10</th>\n",
              "      <th>F11</th>\n",
              "      <th>F12</th>\n",
              "      <th>F13</th>\n",
              "      <th>F14</th>\n",
              "      <th>F15</th>\n",
              "      <th>F16</th>\n",
              "      <th>F17</th>\n",
              "      <th>F18</th>\n",
              "      <th>F19</th>\n",
              "      <th>F20</th>\n",
              "      <th>F21</th>\n",
              "      <th>F22</th>\n",
              "      <th>F23</th>\n",
              "      <th>F24</th>\n",
              "      <th>F25</th>\n",
              "      <th>F26</th>\n",
              "      <th>F27</th>\n",
              "      <th>F28</th>\n",
              "    </tr>\n",
              "  </thead>\n",
              "  <tbody>\n",
              "    <tr>\n",
              "      <th>0</th>\n",
              "      <td>HOBBIES_1_001_CA_1_validation</td>\n",
              "      <td>0</td>\n",
              "      <td>0</td>\n",
              "      <td>0</td>\n",
              "      <td>0</td>\n",
              "      <td>0</td>\n",
              "      <td>0</td>\n",
              "      <td>0</td>\n",
              "      <td>0</td>\n",
              "      <td>0</td>\n",
              "      <td>0</td>\n",
              "      <td>0</td>\n",
              "      <td>0</td>\n",
              "      <td>0</td>\n",
              "      <td>0</td>\n",
              "      <td>0</td>\n",
              "      <td>0</td>\n",
              "      <td>0</td>\n",
              "      <td>0</td>\n",
              "      <td>0</td>\n",
              "      <td>0</td>\n",
              "      <td>0</td>\n",
              "      <td>0</td>\n",
              "      <td>0</td>\n",
              "      <td>0</td>\n",
              "      <td>0</td>\n",
              "      <td>0</td>\n",
              "      <td>0</td>\n",
              "      <td>0</td>\n",
              "    </tr>\n",
              "    <tr>\n",
              "      <th>1</th>\n",
              "      <td>HOBBIES_1_002_CA_1_validation</td>\n",
              "      <td>0</td>\n",
              "      <td>0</td>\n",
              "      <td>0</td>\n",
              "      <td>0</td>\n",
              "      <td>0</td>\n",
              "      <td>0</td>\n",
              "      <td>0</td>\n",
              "      <td>0</td>\n",
              "      <td>0</td>\n",
              "      <td>0</td>\n",
              "      <td>0</td>\n",
              "      <td>0</td>\n",
              "      <td>0</td>\n",
              "      <td>0</td>\n",
              "      <td>0</td>\n",
              "      <td>0</td>\n",
              "      <td>0</td>\n",
              "      <td>0</td>\n",
              "      <td>0</td>\n",
              "      <td>0</td>\n",
              "      <td>0</td>\n",
              "      <td>0</td>\n",
              "      <td>0</td>\n",
              "      <td>0</td>\n",
              "      <td>0</td>\n",
              "      <td>0</td>\n",
              "      <td>0</td>\n",
              "      <td>0</td>\n",
              "    </tr>\n",
              "    <tr>\n",
              "      <th>2</th>\n",
              "      <td>HOBBIES_1_003_CA_1_validation</td>\n",
              "      <td>0</td>\n",
              "      <td>0</td>\n",
              "      <td>0</td>\n",
              "      <td>0</td>\n",
              "      <td>0</td>\n",
              "      <td>0</td>\n",
              "      <td>0</td>\n",
              "      <td>0</td>\n",
              "      <td>0</td>\n",
              "      <td>0</td>\n",
              "      <td>0</td>\n",
              "      <td>0</td>\n",
              "      <td>0</td>\n",
              "      <td>0</td>\n",
              "      <td>0</td>\n",
              "      <td>0</td>\n",
              "      <td>0</td>\n",
              "      <td>0</td>\n",
              "      <td>0</td>\n",
              "      <td>0</td>\n",
              "      <td>0</td>\n",
              "      <td>0</td>\n",
              "      <td>0</td>\n",
              "      <td>0</td>\n",
              "      <td>0</td>\n",
              "      <td>0</td>\n",
              "      <td>0</td>\n",
              "      <td>0</td>\n",
              "    </tr>\n",
              "    <tr>\n",
              "      <th>3</th>\n",
              "      <td>HOBBIES_1_004_CA_1_validation</td>\n",
              "      <td>0</td>\n",
              "      <td>0</td>\n",
              "      <td>0</td>\n",
              "      <td>0</td>\n",
              "      <td>0</td>\n",
              "      <td>0</td>\n",
              "      <td>0</td>\n",
              "      <td>0</td>\n",
              "      <td>0</td>\n",
              "      <td>0</td>\n",
              "      <td>0</td>\n",
              "      <td>0</td>\n",
              "      <td>0</td>\n",
              "      <td>0</td>\n",
              "      <td>0</td>\n",
              "      <td>0</td>\n",
              "      <td>0</td>\n",
              "      <td>0</td>\n",
              "      <td>0</td>\n",
              "      <td>0</td>\n",
              "      <td>0</td>\n",
              "      <td>0</td>\n",
              "      <td>0</td>\n",
              "      <td>0</td>\n",
              "      <td>0</td>\n",
              "      <td>0</td>\n",
              "      <td>0</td>\n",
              "      <td>0</td>\n",
              "    </tr>\n",
              "    <tr>\n",
              "      <th>4</th>\n",
              "      <td>HOBBIES_1_005_CA_1_validation</td>\n",
              "      <td>0</td>\n",
              "      <td>0</td>\n",
              "      <td>0</td>\n",
              "      <td>0</td>\n",
              "      <td>0</td>\n",
              "      <td>0</td>\n",
              "      <td>0</td>\n",
              "      <td>0</td>\n",
              "      <td>0</td>\n",
              "      <td>0</td>\n",
              "      <td>0</td>\n",
              "      <td>0</td>\n",
              "      <td>0</td>\n",
              "      <td>0</td>\n",
              "      <td>0</td>\n",
              "      <td>0</td>\n",
              "      <td>0</td>\n",
              "      <td>0</td>\n",
              "      <td>0</td>\n",
              "      <td>0</td>\n",
              "      <td>0</td>\n",
              "      <td>0</td>\n",
              "      <td>0</td>\n",
              "      <td>0</td>\n",
              "      <td>0</td>\n",
              "      <td>0</td>\n",
              "      <td>0</td>\n",
              "      <td>0</td>\n",
              "    </tr>\n",
              "  </tbody>\n",
              "</table>\n",
              "</div>"
            ],
            "text/plain": [
              "                              id  F1  F2  F3  F4  ...  F24  F25  F26  F27  F28\n",
              "0  HOBBIES_1_001_CA_1_validation   0   0   0   0  ...    0    0    0    0    0\n",
              "1  HOBBIES_1_002_CA_1_validation   0   0   0   0  ...    0    0    0    0    0\n",
              "2  HOBBIES_1_003_CA_1_validation   0   0   0   0  ...    0    0    0    0    0\n",
              "3  HOBBIES_1_004_CA_1_validation   0   0   0   0  ...    0    0    0    0    0\n",
              "4  HOBBIES_1_005_CA_1_validation   0   0   0   0  ...    0    0    0    0    0\n",
              "\n",
              "[5 rows x 29 columns]"
            ]
          },
          "metadata": {},
          "execution_count": 14
        }
      ]
    },
    {
      "cell_type": "markdown",
      "metadata": {
        "heading_collapsed": true,
        "id": "0d435802"
      },
      "source": [
        "# Đánh giá"
      ],
      "id": "0d435802"
    },
    {
      "cell_type": "markdown",
      "metadata": {
        "hidden": true,
        "id": "f6156757"
      },
      "source": [
        "## Forecasting horizon"
      ],
      "id": "f6156757"
    },
    {
      "cell_type": "markdown",
      "metadata": {
        "hidden": true,
        "id": "abc2f85d"
      },
      "source": [
        "Cả 2 cuộc thi dự đoán điểm và dự đoán sác xuất đều có chung một tham số `h=28 days` (4 weeks ahead).\n",
        "\n",
        "Đầu tiên, các phép đo hiệu suất được tính toán riêng biệt cho từng chuỗi bằng cách lấy trung bình các giá trị của chúng trên toàn bộ `forecasting horizon` và sau đó được tính trung bình lại trên `mỗi serices` theo kiểu có trọng số  để thu được điểm số cuối cùng."
      ],
      "id": "abc2f85d"
    },
    {
      "cell_type": "markdown",
      "metadata": {
        "hidden": true,
        "id": "fc721194"
      },
      "source": [
        "## Point forecasts"
      ],
      "id": "fc721194"
    },
    {
      "cell_type": "markdown",
      "metadata": {
        "hidden": true,
        "id": "ca99a200"
      },
      "source": [
        "Độ chính xác của các dự báo điểm sẽ được đánh giá bằng cách sử dụng `Root Mean Squared Scaled Error (RMSSE)`, là một biến thể của `well-known Mean Absolute Scaled Error (MASE)` nổi tiếng được đề xuất bởi `Hyndman và Koehler (2006)`. Số đo được tính cho từng series như sau:\n",
        "\n",
        "$$RMSSE = \\sqrt{\\frac{1}{h}\\frac{\\displaystyle\\sum_{t=n+1}^{n+h} (Y_{t} - \\hat{Y}_{t})^2}{\\frac{1}{n-1}\\displaystyle\\sum_{t=2}^{n}(Y_{t} - Y_{t-1})^2}}$$\n",
        "\n",
        "Với,\n",
        "- $Y_{t}$ là giá trị thật của `series` đã kiểm tra tại thời điểm t.\n",
        "- $\\hat{Y}_{t}$ là giá trị dự đoán.\n",
        "- $n$ là kích thước của tập training (số lượng quan sát lịch sử).\n",
        "- $h$ tham số `Forecasting horizon`"
      ],
      "id": "ca99a200"
    },
    {
      "cell_type": "markdown",
      "metadata": {
        "hidden": true,
        "id": "2ce20682"
      },
      "source": [
        "Sau khi đã ước tính cho `42840 series` mối đội tham gia sẽ được sếp hạng theo số điểm `Weighted RMSSE (WRMSSE)`, công thức sẽ là:\n",
        "\n",
        "$$WRMSSE = \\displaystyle\\sum_{i=1}^{42,840} w_{i}*RMSSE$$\n",
        "\n",
        "Với, $w_{i}$ là trọng số của series thứ $i$.\n",
        "\n",
        "Độ lỗi `WRMSSE` càng thấp thì tính chính xác của thuật toán áp dụng càng cao."
      ],
      "id": "2ce20682"
    },
    {
      "cell_type": "markdown",
      "metadata": {
        "heading_collapsed": true,
        "id": "e6f803e7"
      },
      "source": [
        "# Hướng giải quyết - `LightGBM Regressor (tuya)`"
      ],
      "id": "e6f803e7"
    },
    {
      "cell_type": "markdown",
      "metadata": {
        "hidden": true,
        "id": "fa8d827c"
      },
      "source": [
        "`LightGBM` có kết quả `score` là `0.67749 (private score)`. Trong tổng số `5.558 đội` tham gia cuộc thi thì với số điểm này và vị trí thứ `458` hướng giải quyết này lọt vào `top 9% trên bảng private leaderboard`.\n",
        "![tuya-kaggle](https://drive.google.com/uc?export=view&id=1AQyGcWC44Sd-pE6XlINApXohYCBNHJGQ)"
      ],
      "id": "fa8d827c"
    },
    {
      "cell_type": "markdown",
      "metadata": {
        "hidden": true,
        "id": "ec4e532a"
      },
      "source": [
        "So sánh `LightGBM` với các thuật toán khác với dùng một input đầu vào,\n",
        "\n",
        "![comparasion](https://drive.google.com/uc?export=view&id=1d__XDCMRvmY_d2kMzsUxMXI4RKpZ8hL4)\n",
        "![comparasion2](https://drive.google.com/uc?export=view&id=1UKKa7lIMNXJJ_0rrpysArlmXIdADK9mG)\n",
        "\n",
        "Quan sát các lần submit của các thuật toán, thì dễ dàng nhận ra `LightGBM` cho kết quả tốt nhất."
      ],
      "id": "ec4e532a"
    },
    {
      "cell_type": "markdown",
      "metadata": {
        "hidden": true,
        "id": "d41376a1"
      },
      "source": [
        "## Feature Engineering and Data Preprocessing"
      ],
      "id": "d41376a1"
    },
    {
      "cell_type": "code",
      "metadata": {
        "id": "Ip75kNSJFiFx",
        "colab": {
          "base_uri": "https://localhost:8080/"
        },
        "outputId": "f0e80127-15cb-4b3e-9033-e3df454c41d6"
      },
      "source": [
        "!pip install downcast"
      ],
      "id": "Ip75kNSJFiFx",
      "execution_count": null,
      "outputs": [
        {
          "output_type": "stream",
          "name": "stdout",
          "text": [
            "Collecting downcast\n",
            "  Downloading downcast-0.0.8-py3-none-any.whl (3.3 kB)\n",
            "Installing collected packages: downcast\n",
            "Successfully installed downcast-0.0.8\n"
          ]
        }
      ]
    },
    {
      "cell_type": "code",
      "metadata": {
        "hidden": true,
        "id": "b8820437"
      },
      "source": [
        "import pickle\n",
        "import numpy as np\n",
        "from matplotlib import pyplot as plt\n",
        "import seaborn as sns\n",
        "import plotly.express as px\n",
        "from downcast import reduce\n",
        "from sklearn.preprocessing import LabelEncoder\n",
        "import warnings\n",
        "warnings.filterwarnings(\"ignore\")\n",
        "from tqdm import tqdm"
      ],
      "id": "b8820437",
      "execution_count": null,
      "outputs": []
    },
    {
      "cell_type": "markdown",
      "metadata": {
        "hidden": true,
        "id": "73d488b5"
      },
      "source": [
        "- Replace 'NaN' values by 'no_event' in event columns"
      ],
      "id": "73d488b5"
    },
    {
      "cell_type": "code",
      "metadata": {
        "hidden": true,
        "id": "02228744"
      },
      "source": [
        "cat=['event_name_1','event_type_1','event_name_2','event_type_2']\n",
        "for i in cat:\n",
        "  calendar_[i].fillna('no_event',inplace=True)"
      ],
      "id": "02228744",
      "execution_count": null,
      "outputs": []
    },
    {
      "cell_type": "markdown",
      "metadata": {
        "hidden": true,
        "id": "874745d3"
      },
      "source": [
        "- Adding feature 'is_weekend' which tells about that day is weekend or not"
      ],
      "id": "874745d3"
    },
    {
      "cell_type": "code",
      "metadata": {
        "hidden": true,
        "id": "4ca63a08"
      },
      "source": [
        "f=lambda x: 1 if x<=2 else 0\n",
        "#https://stackoverflow.com/questions/21608228/conditional-replace-pandas\n",
        "calendar_['is_weekend']=calendar_['wday'].map(f) \n",
        "calendar_['is_weekend']=calendar_['is_weekend'].astype(np.int8)"
      ],
      "id": "4ca63a08",
      "execution_count": null,
      "outputs": []
    },
    {
      "cell_type": "markdown",
      "metadata": {
        "hidden": true,
        "id": "6a3ba48e"
      },
      "source": [
        "- Adding feature 'month_day' which tells day of the month"
      ],
      "id": "6a3ba48e"
    },
    {
      "cell_type": "code",
      "metadata": {
        "hidden": true,
        "id": "1f48bdcf"
      },
      "source": [
        "m=calendar_[\"date\"].tolist()\n",
        "m=[i.split(\"-\")[2] for i in m]\n",
        "calendar_[\"month_day\"]=m\n",
        "calendar_['month_day']=calendar_['month_day'].astype(np.int8)"
      ],
      "id": "1f48bdcf",
      "execution_count": null,
      "outputs": []
    },
    {
      "cell_type": "markdown",
      "metadata": {
        "hidden": true,
        "id": "396e0c64"
      },
      "source": [
        "- Adding feature 'month_week_number' which tells which week of the month"
      ],
      "id": "396e0c64"
    },
    {
      "cell_type": "code",
      "metadata": {
        "hidden": true,
        "id": "ab7b2fc6"
      },
      "source": [
        "#https://stackoverflow.com/questions/3806473/python-week-number-of-the-month\n",
        "calendar_['month_week_number']=(calendar_['month_day']-1) // 7 + 1 \n",
        "calendar_['month_week_number']=calendar_['month_week_number'].astype(np.int8)"
      ],
      "id": "ab7b2fc6",
      "execution_count": null,
      "outputs": []
    },
    {
      "cell_type": "markdown",
      "metadata": {
        "hidden": true,
        "id": "c51204dd"
      },
      "source": [
        "- Adding feature 'events_per_day' which tells us number of events on particular day"
      ],
      "id": "c51204dd"
    },
    {
      "cell_type": "code",
      "metadata": {
        "hidden": true,
        "id": "ea8a8373"
      },
      "source": [
        "f=lambda x: 0 if x=='no_event' else 1\n",
        "#https://stackoverflow.com/questions/21608228/conditional-replace-pandas\n",
        "calendar_['events_per_day']=calendar_['event_type_1'].map(f) \n",
        "#https://www.kite.com/python/answers/how-to-get-the-indices-of-rows-in-a-pandas-dataframe-which-satisfy-a-given-condition-in-python\n",
        "index=calendar_.index \n",
        "indices=index[calendar_['event_type_2']!='no_event'].tolist()\n",
        "for i in indices:\n",
        "  calendar_['events_per_day'][i]+=1\n",
        "calendar_['events_per_day']=calendar_['events_per_day'].astype(np.int8)"
      ],
      "id": "ea8a8373",
      "execution_count": null,
      "outputs": []
    },
    {
      "cell_type": "code",
      "metadata": {
        "hidden": true,
        "id": "412940d6"
      },
      "source": [
        "calendar_=reduce(calendar_)"
      ],
      "id": "412940d6",
      "execution_count": null,
      "outputs": []
    },
    {
      "cell_type": "code",
      "metadata": {
        "hidden": true,
        "id": "173891cd",
        "colab": {
          "base_uri": "https://localhost:8080/",
          "height": 215
        },
        "outputId": "ed751522-1e58-4c59-aecb-69f6d27b0eca"
      },
      "source": [
        "calendar_.head(3)"
      ],
      "id": "173891cd",
      "execution_count": null,
      "outputs": [
        {
          "output_type": "execute_result",
          "data": {
            "text/html": [
              "<div>\n",
              "<style scoped>\n",
              "    .dataframe tbody tr th:only-of-type {\n",
              "        vertical-align: middle;\n",
              "    }\n",
              "\n",
              "    .dataframe tbody tr th {\n",
              "        vertical-align: top;\n",
              "    }\n",
              "\n",
              "    .dataframe thead th {\n",
              "        text-align: right;\n",
              "    }\n",
              "</style>\n",
              "<table border=\"1\" class=\"dataframe\">\n",
              "  <thead>\n",
              "    <tr style=\"text-align: right;\">\n",
              "      <th></th>\n",
              "      <th>date</th>\n",
              "      <th>wm_yr_wk</th>\n",
              "      <th>weekday</th>\n",
              "      <th>wday</th>\n",
              "      <th>month</th>\n",
              "      <th>year</th>\n",
              "      <th>d</th>\n",
              "      <th>event_name_1</th>\n",
              "      <th>event_type_1</th>\n",
              "      <th>event_name_2</th>\n",
              "      <th>event_type_2</th>\n",
              "      <th>snap_CA</th>\n",
              "      <th>snap_TX</th>\n",
              "      <th>snap_WI</th>\n",
              "      <th>is_weekend</th>\n",
              "      <th>month_day</th>\n",
              "      <th>month_week_number</th>\n",
              "      <th>events_per_day</th>\n",
              "    </tr>\n",
              "  </thead>\n",
              "  <tbody>\n",
              "    <tr>\n",
              "      <th>0</th>\n",
              "      <td>2011-01-29</td>\n",
              "      <td>11101</td>\n",
              "      <td>Saturday</td>\n",
              "      <td>1</td>\n",
              "      <td>1</td>\n",
              "      <td>2011</td>\n",
              "      <td>d_1</td>\n",
              "      <td>no_event</td>\n",
              "      <td>no_event</td>\n",
              "      <td>no_event</td>\n",
              "      <td>no_event</td>\n",
              "      <td>0</td>\n",
              "      <td>0</td>\n",
              "      <td>0</td>\n",
              "      <td>1</td>\n",
              "      <td>29</td>\n",
              "      <td>5</td>\n",
              "      <td>0</td>\n",
              "    </tr>\n",
              "    <tr>\n",
              "      <th>1</th>\n",
              "      <td>2011-01-30</td>\n",
              "      <td>11101</td>\n",
              "      <td>Sunday</td>\n",
              "      <td>2</td>\n",
              "      <td>1</td>\n",
              "      <td>2011</td>\n",
              "      <td>d_2</td>\n",
              "      <td>no_event</td>\n",
              "      <td>no_event</td>\n",
              "      <td>no_event</td>\n",
              "      <td>no_event</td>\n",
              "      <td>0</td>\n",
              "      <td>0</td>\n",
              "      <td>0</td>\n",
              "      <td>1</td>\n",
              "      <td>30</td>\n",
              "      <td>5</td>\n",
              "      <td>0</td>\n",
              "    </tr>\n",
              "    <tr>\n",
              "      <th>2</th>\n",
              "      <td>2011-01-31</td>\n",
              "      <td>11101</td>\n",
              "      <td>Monday</td>\n",
              "      <td>3</td>\n",
              "      <td>1</td>\n",
              "      <td>2011</td>\n",
              "      <td>d_3</td>\n",
              "      <td>no_event</td>\n",
              "      <td>no_event</td>\n",
              "      <td>no_event</td>\n",
              "      <td>no_event</td>\n",
              "      <td>0</td>\n",
              "      <td>0</td>\n",
              "      <td>0</td>\n",
              "      <td>0</td>\n",
              "      <td>31</td>\n",
              "      <td>5</td>\n",
              "      <td>0</td>\n",
              "    </tr>\n",
              "  </tbody>\n",
              "</table>\n",
              "</div>"
            ],
            "text/plain": [
              "        date  wm_yr_wk   weekday  ...  month_day  month_week_number  events_per_day\n",
              "0 2011-01-29     11101  Saturday  ...         29                  5               0\n",
              "1 2011-01-30     11101    Sunday  ...         30                  5               0\n",
              "2 2011-01-31     11101    Monday  ...         31                  5               0\n",
              "\n",
              "[3 rows x 18 columns]"
            ]
          },
          "metadata": {},
          "execution_count": 23
        }
      ]
    },
    {
      "cell_type": "code",
      "metadata": {
        "hidden": true,
        "id": "b8b1397f"
      },
      "source": [
        "sales_train_evaluation_=reduce(sales_train_evaluation_)"
      ],
      "id": "b8b1397f",
      "execution_count": null,
      "outputs": []
    },
    {
      "cell_type": "code",
      "metadata": {
        "hidden": true,
        "id": "d54b4ae0"
      },
      "source": [
        "sell_prices_=reduce(sell_prices_)"
      ],
      "id": "d54b4ae0",
      "execution_count": null,
      "outputs": []
    },
    {
      "cell_type": "code",
      "metadata": {
        "hidden": true,
        "id": "3ec4a58d",
        "colab": {
          "base_uri": "https://localhost:8080/"
        },
        "outputId": "dc9c4536-c936-463d-c142-17ceeac40ca4"
      },
      "source": [
        "calendar_['date'].nunique()"
      ],
      "id": "3ec4a58d",
      "execution_count": null,
      "outputs": [
        {
          "output_type": "execute_result",
          "data": {
            "text/plain": [
              "1969"
            ]
          },
          "metadata": {},
          "execution_count": 26
        }
      ]
    },
    {
      "cell_type": "markdown",
      "metadata": {
        "hidden": true,
        "id": "3835b529"
      },
      "source": [
        "- No of days data present is 1969"
      ],
      "id": "3835b529"
    },
    {
      "cell_type": "code",
      "metadata": {
        "hidden": true,
        "id": "a4c6b69f",
        "colab": {
          "base_uri": "https://localhost:8080/"
        },
        "outputId": "ae33f76f-f023-4945-fee4-e6014d88b35f"
      },
      "source": [
        "sales_train_evaluation_[['id','item_id','dept_id','cat_id','store_id','state_id']].nunique()"
      ],
      "id": "a4c6b69f",
      "execution_count": null,
      "outputs": [
        {
          "output_type": "execute_result",
          "data": {
            "text/plain": [
              "id          30490\n",
              "item_id      3049\n",
              "dept_id         7\n",
              "cat_id          3\n",
              "store_id       10\n",
              "state_id        3\n",
              "dtype: int64"
            ]
          },
          "metadata": {},
          "execution_count": 27
        }
      ]
    },
    {
      "cell_type": "markdown",
      "metadata": {
        "hidden": true,
        "id": "eb91830d"
      },
      "source": [
        "### Melting\n",
        "\n",
        "- To make analysis of data in table easier we can reshape the data into a more computer-friendly form using pandas in Python. pandas.melt() is one of the function to do so\n",
        "- pandas.melt() unpivots a DataFrame from wide format to long format.\n",
        "- melt() function is useful to massage a DataFrame into a format where one or more columns are identifier variables while all other columns considered measured variables are unpivoted to the row axis leaving just two non-identifier columns variable and value."
      ],
      "id": "eb91830d"
    },
    {
      "cell_type": "code",
      "metadata": {
        "hidden": true,
        "id": "67a0e842"
      },
      "source": [
        "#https://pandas.pydata.org/docs/reference/api/pandas.melt.html\n",
        "#https://pandas.pydata.org/docs/reference/api/pandas.DataFrame.merge.html\n",
        "sales=pd.melt(sales_train_evaluation_,id_vars=['id','item_id','dept_id','cat_id','store_id','state_id'],var_name='d',value_name='demand')\n",
        "sales=pd.merge(sales,calendar_,on='d',how='left')\n",
        "sales=pd.merge(sales,sell_prices_,on=['item_id','store_id','wm_yr_wk'],how='left')"
      ],
      "id": "67a0e842",
      "execution_count": null,
      "outputs": []
    },
    {
      "cell_type": "code",
      "metadata": {
        "hidden": true,
        "id": "39559e26",
        "colab": {
          "base_uri": "https://localhost:8080/",
          "height": 215
        },
        "outputId": "a96eb528-cadb-4b9a-d3d2-13901dea56c5"
      },
      "source": [
        "sales.head(3)"
      ],
      "id": "39559e26",
      "execution_count": null,
      "outputs": [
        {
          "output_type": "execute_result",
          "data": {
            "text/html": [
              "<div>\n",
              "<style scoped>\n",
              "    .dataframe tbody tr th:only-of-type {\n",
              "        vertical-align: middle;\n",
              "    }\n",
              "\n",
              "    .dataframe tbody tr th {\n",
              "        vertical-align: top;\n",
              "    }\n",
              "\n",
              "    .dataframe thead th {\n",
              "        text-align: right;\n",
              "    }\n",
              "</style>\n",
              "<table border=\"1\" class=\"dataframe\">\n",
              "  <thead>\n",
              "    <tr style=\"text-align: right;\">\n",
              "      <th></th>\n",
              "      <th>id</th>\n",
              "      <th>item_id</th>\n",
              "      <th>dept_id</th>\n",
              "      <th>cat_id</th>\n",
              "      <th>store_id</th>\n",
              "      <th>state_id</th>\n",
              "      <th>d</th>\n",
              "      <th>demand</th>\n",
              "      <th>date</th>\n",
              "      <th>wm_yr_wk</th>\n",
              "      <th>weekday</th>\n",
              "      <th>wday</th>\n",
              "      <th>month</th>\n",
              "      <th>year</th>\n",
              "      <th>event_name_1</th>\n",
              "      <th>event_type_1</th>\n",
              "      <th>event_name_2</th>\n",
              "      <th>event_type_2</th>\n",
              "      <th>snap_CA</th>\n",
              "      <th>snap_TX</th>\n",
              "      <th>snap_WI</th>\n",
              "      <th>is_weekend</th>\n",
              "      <th>month_day</th>\n",
              "      <th>month_week_number</th>\n",
              "      <th>events_per_day</th>\n",
              "      <th>sell_price</th>\n",
              "    </tr>\n",
              "  </thead>\n",
              "  <tbody>\n",
              "    <tr>\n",
              "      <th>0</th>\n",
              "      <td>HOBBIES_1_001_CA_1_evaluation</td>\n",
              "      <td>HOBBIES_1_001</td>\n",
              "      <td>HOBBIES_1</td>\n",
              "      <td>HOBBIES</td>\n",
              "      <td>CA_1</td>\n",
              "      <td>CA</td>\n",
              "      <td>d_1</td>\n",
              "      <td>0</td>\n",
              "      <td>2011-01-29</td>\n",
              "      <td>11101</td>\n",
              "      <td>Saturday</td>\n",
              "      <td>1</td>\n",
              "      <td>1</td>\n",
              "      <td>2011</td>\n",
              "      <td>no_event</td>\n",
              "      <td>no_event</td>\n",
              "      <td>no_event</td>\n",
              "      <td>no_event</td>\n",
              "      <td>0</td>\n",
              "      <td>0</td>\n",
              "      <td>0</td>\n",
              "      <td>1</td>\n",
              "      <td>29</td>\n",
              "      <td>5</td>\n",
              "      <td>0</td>\n",
              "      <td>NaN</td>\n",
              "    </tr>\n",
              "    <tr>\n",
              "      <th>1</th>\n",
              "      <td>HOBBIES_1_002_CA_1_evaluation</td>\n",
              "      <td>HOBBIES_1_002</td>\n",
              "      <td>HOBBIES_1</td>\n",
              "      <td>HOBBIES</td>\n",
              "      <td>CA_1</td>\n",
              "      <td>CA</td>\n",
              "      <td>d_1</td>\n",
              "      <td>0</td>\n",
              "      <td>2011-01-29</td>\n",
              "      <td>11101</td>\n",
              "      <td>Saturday</td>\n",
              "      <td>1</td>\n",
              "      <td>1</td>\n",
              "      <td>2011</td>\n",
              "      <td>no_event</td>\n",
              "      <td>no_event</td>\n",
              "      <td>no_event</td>\n",
              "      <td>no_event</td>\n",
              "      <td>0</td>\n",
              "      <td>0</td>\n",
              "      <td>0</td>\n",
              "      <td>1</td>\n",
              "      <td>29</td>\n",
              "      <td>5</td>\n",
              "      <td>0</td>\n",
              "      <td>NaN</td>\n",
              "    </tr>\n",
              "    <tr>\n",
              "      <th>2</th>\n",
              "      <td>HOBBIES_1_003_CA_1_evaluation</td>\n",
              "      <td>HOBBIES_1_003</td>\n",
              "      <td>HOBBIES_1</td>\n",
              "      <td>HOBBIES</td>\n",
              "      <td>CA_1</td>\n",
              "      <td>CA</td>\n",
              "      <td>d_1</td>\n",
              "      <td>0</td>\n",
              "      <td>2011-01-29</td>\n",
              "      <td>11101</td>\n",
              "      <td>Saturday</td>\n",
              "      <td>1</td>\n",
              "      <td>1</td>\n",
              "      <td>2011</td>\n",
              "      <td>no_event</td>\n",
              "      <td>no_event</td>\n",
              "      <td>no_event</td>\n",
              "      <td>no_event</td>\n",
              "      <td>0</td>\n",
              "      <td>0</td>\n",
              "      <td>0</td>\n",
              "      <td>1</td>\n",
              "      <td>29</td>\n",
              "      <td>5</td>\n",
              "      <td>0</td>\n",
              "      <td>NaN</td>\n",
              "    </tr>\n",
              "  </tbody>\n",
              "</table>\n",
              "</div>"
            ],
            "text/plain": [
              "                              id        item_id  ... events_per_day sell_price\n",
              "0  HOBBIES_1_001_CA_1_evaluation  HOBBIES_1_001  ...              0        NaN\n",
              "1  HOBBIES_1_002_CA_1_evaluation  HOBBIES_1_002  ...              0        NaN\n",
              "2  HOBBIES_1_003_CA_1_evaluation  HOBBIES_1_003  ...              0        NaN\n",
              "\n",
              "[3 rows x 26 columns]"
            ]
          },
          "metadata": {},
          "execution_count": 29
        }
      ]
    },
    {
      "cell_type": "markdown",
      "source": [
        "**Lược bớt dữ liệu trước ngày 1-1-2014 = d_1069**"
      ],
      "metadata": {
        "id": "MvlO4UgpsaQ7"
      },
      "id": "MvlO4UgpsaQ7"
    },
    {
      "cell_type": "code",
      "source": [
        "sales.drop(sales.index[sales[\"wm_yr_wk\"]<11349], inplace=True)"
      ],
      "metadata": {
        "id": "98w9c6ZYsaQ7"
      },
      "execution_count": null,
      "outputs": [],
      "id": "98w9c6ZYsaQ7"
    },
    {
      "cell_type": "code",
      "source": [
        "sales.info()"
      ],
      "metadata": {
        "colab": {
          "base_uri": "https://localhost:8080/"
        },
        "outputId": "4f2ceec8-c4f4-401f-95ce-40cc07b2a42b",
        "id": "d6QpKWIfsaQ7"
      },
      "execution_count": null,
      "outputs": [
        {
          "output_type": "stream",
          "name": "stdout",
          "text": [
            "<class 'pandas.core.frame.DataFrame'>\n",
            "Int64Index: 26739730 entries, 32441360 to 59181089\n",
            "Data columns (total 26 columns):\n",
            " #   Column             Dtype         \n",
            "---  ------             -----         \n",
            " 0   id                 category      \n",
            " 1   item_id            category      \n",
            " 2   dept_id            category      \n",
            " 3   cat_id             category      \n",
            " 4   store_id           category      \n",
            " 5   state_id           category      \n",
            " 6   d                  object        \n",
            " 7   demand             int16         \n",
            " 8   date               datetime64[ns]\n",
            " 9   wm_yr_wk           int16         \n",
            " 10  weekday            category      \n",
            " 11  wday               int8          \n",
            " 12  month              int8          \n",
            " 13  year               int16         \n",
            " 14  event_name_1       category      \n",
            " 15  event_type_1       category      \n",
            " 16  event_name_2       category      \n",
            " 17  event_type_2       category      \n",
            " 18  snap_CA            int8          \n",
            " 19  snap_TX            int8          \n",
            " 20  snap_WI            int8          \n",
            " 21  is_weekend         int8          \n",
            " 22  month_day          int8          \n",
            " 23  month_week_number  int8          \n",
            " 24  events_per_day     int8          \n",
            " 25  sell_price         float16       \n",
            "dtypes: category(11), datetime64[ns](1), float16(1), int16(3), int8(9), object(1)\n",
            "memory usage: 1.3+ GB\n"
          ]
        }
      ],
      "id": "d6QpKWIfsaQ7"
    },
    {
      "cell_type": "markdown",
      "metadata": {
        "hidden": true,
        "id": "JviMpFkasaQ7"
      },
      "source": [
        "- cột `sell_price` chứa rất nhiều biến Nan nên điền vào chỗ Nan bằng giá trị mean."
      ],
      "id": "JviMpFkasaQ7"
    },
    {
      "cell_type": "code",
      "metadata": {
        "hidden": true,
        "id": "yUPaxlXGsaQ7"
      },
      "source": [
        "sales['sell_price']=sales['sell_price'].fillna(sales.groupby('id')['sell_price'].transform('mean'))"
      ],
      "execution_count": null,
      "outputs": [],
      "id": "yUPaxlXGsaQ7"
    },
    {
      "cell_type": "code",
      "metadata": {
        "hidden": true,
        "colab": {
          "base_uri": "https://localhost:8080/",
          "height": 215
        },
        "outputId": "10ef569c-f9f3-4361-969d-d23eebc1484f",
        "id": "iVt4sfPosaQ7"
      },
      "source": [
        "sales.head(3)"
      ],
      "execution_count": null,
      "outputs": [
        {
          "output_type": "execute_result",
          "data": {
            "text/html": [
              "<div>\n",
              "<style scoped>\n",
              "    .dataframe tbody tr th:only-of-type {\n",
              "        vertical-align: middle;\n",
              "    }\n",
              "\n",
              "    .dataframe tbody tr th {\n",
              "        vertical-align: top;\n",
              "    }\n",
              "\n",
              "    .dataframe thead th {\n",
              "        text-align: right;\n",
              "    }\n",
              "</style>\n",
              "<table border=\"1\" class=\"dataframe\">\n",
              "  <thead>\n",
              "    <tr style=\"text-align: right;\">\n",
              "      <th></th>\n",
              "      <th>id</th>\n",
              "      <th>item_id</th>\n",
              "      <th>dept_id</th>\n",
              "      <th>cat_id</th>\n",
              "      <th>store_id</th>\n",
              "      <th>state_id</th>\n",
              "      <th>d</th>\n",
              "      <th>demand</th>\n",
              "      <th>date</th>\n",
              "      <th>wm_yr_wk</th>\n",
              "      <th>weekday</th>\n",
              "      <th>wday</th>\n",
              "      <th>month</th>\n",
              "      <th>year</th>\n",
              "      <th>event_name_1</th>\n",
              "      <th>event_type_1</th>\n",
              "      <th>event_name_2</th>\n",
              "      <th>event_type_2</th>\n",
              "      <th>snap_CA</th>\n",
              "      <th>snap_TX</th>\n",
              "      <th>snap_WI</th>\n",
              "      <th>is_weekend</th>\n",
              "      <th>month_day</th>\n",
              "      <th>month_week_number</th>\n",
              "      <th>events_per_day</th>\n",
              "      <th>sell_price</th>\n",
              "    </tr>\n",
              "  </thead>\n",
              "  <tbody>\n",
              "    <tr>\n",
              "      <th>32441360</th>\n",
              "      <td>HOBBIES_1_001_CA_1_evaluation</td>\n",
              "      <td>HOBBIES_1_001</td>\n",
              "      <td>HOBBIES_1</td>\n",
              "      <td>HOBBIES</td>\n",
              "      <td>CA_1</td>\n",
              "      <td>CA</td>\n",
              "      <td>d_1065</td>\n",
              "      <td>0</td>\n",
              "      <td>2013-12-28</td>\n",
              "      <td>11349</td>\n",
              "      <td>Saturday</td>\n",
              "      <td>1</td>\n",
              "      <td>12</td>\n",
              "      <td>2013</td>\n",
              "      <td>no_event</td>\n",
              "      <td>no_event</td>\n",
              "      <td>no_event</td>\n",
              "      <td>no_event</td>\n",
              "      <td>0</td>\n",
              "      <td>0</td>\n",
              "      <td>0</td>\n",
              "      <td>1</td>\n",
              "      <td>28</td>\n",
              "      <td>4</td>\n",
              "      <td>0</td>\n",
              "      <td>8.257812</td>\n",
              "    </tr>\n",
              "    <tr>\n",
              "      <th>32441361</th>\n",
              "      <td>HOBBIES_1_002_CA_1_evaluation</td>\n",
              "      <td>HOBBIES_1_002</td>\n",
              "      <td>HOBBIES_1</td>\n",
              "      <td>HOBBIES</td>\n",
              "      <td>CA_1</td>\n",
              "      <td>CA</td>\n",
              "      <td>d_1065</td>\n",
              "      <td>0</td>\n",
              "      <td>2013-12-28</td>\n",
              "      <td>11349</td>\n",
              "      <td>Saturday</td>\n",
              "      <td>1</td>\n",
              "      <td>12</td>\n",
              "      <td>2013</td>\n",
              "      <td>no_event</td>\n",
              "      <td>no_event</td>\n",
              "      <td>no_event</td>\n",
              "      <td>no_event</td>\n",
              "      <td>0</td>\n",
              "      <td>0</td>\n",
              "      <td>0</td>\n",
              "      <td>1</td>\n",
              "      <td>28</td>\n",
              "      <td>4</td>\n",
              "      <td>0</td>\n",
              "      <td>3.970703</td>\n",
              "    </tr>\n",
              "    <tr>\n",
              "      <th>32441362</th>\n",
              "      <td>HOBBIES_1_003_CA_1_evaluation</td>\n",
              "      <td>HOBBIES_1_003</td>\n",
              "      <td>HOBBIES_1</td>\n",
              "      <td>HOBBIES</td>\n",
              "      <td>CA_1</td>\n",
              "      <td>CA</td>\n",
              "      <td>d_1065</td>\n",
              "      <td>0</td>\n",
              "      <td>2013-12-28</td>\n",
              "      <td>11349</td>\n",
              "      <td>Saturday</td>\n",
              "      <td>1</td>\n",
              "      <td>12</td>\n",
              "      <td>2013</td>\n",
              "      <td>no_event</td>\n",
              "      <td>no_event</td>\n",
              "      <td>no_event</td>\n",
              "      <td>no_event</td>\n",
              "      <td>0</td>\n",
              "      <td>0</td>\n",
              "      <td>0</td>\n",
              "      <td>1</td>\n",
              "      <td>28</td>\n",
              "      <td>4</td>\n",
              "      <td>0</td>\n",
              "      <td>2.970703</td>\n",
              "    </tr>\n",
              "  </tbody>\n",
              "</table>\n",
              "</div>"
            ],
            "text/plain": [
              "                                     id  ... sell_price\n",
              "32441360  HOBBIES_1_001_CA_1_evaluation  ...   8.257812\n",
              "32441361  HOBBIES_1_002_CA_1_evaluation  ...   3.970703\n",
              "32441362  HOBBIES_1_003_CA_1_evaluation  ...   2.970703\n",
              "\n",
              "[3 rows x 26 columns]"
            ]
          },
          "metadata": {},
          "execution_count": 27
        }
      ],
      "id": "iVt4sfPosaQ7"
    },
    {
      "cell_type": "code",
      "metadata": {
        "hidden": true,
        "id": "l_FQbje9saQ7"
      },
      "source": [
        "sales=reduce(sales)"
      ],
      "execution_count": null,
      "outputs": [],
      "id": "l_FQbje9saQ7"
    },
    {
      "cell_type": "code",
      "source": [
        "with open('melted_smaller_data.pkl','wb') as f:\n",
        "     pickle.dump(sales,f)"
      ],
      "metadata": {
        "id": "FvRe_DeMsaQ8"
      },
      "execution_count": null,
      "outputs": [],
      "id": "FvRe_DeMsaQ8"
    },
    {
      "cell_type": "markdown",
      "metadata": {
        "hidden": true,
        "id": "a97f1966"
      },
      "source": [
        "### Lags\n",
        "\n",
        "- Lag features are the classical way that time series forecasting problems are transformed into supervised learning problems.\n",
        "- Lag is expressed in a time unit & corresponds to the amount of data history we allow the model to use when making the prediction.\n",
        "- Here we have applied Lags on 'demand' column.\n",
        "- The maximum Lags taken is 70 days"
      ],
      "id": "a97f1966"
    },
    {
      "cell_type": "code",
      "metadata": {
        "hidden": true,
        "colab": {
          "base_uri": "https://localhost:8080/"
        },
        "outputId": "e2337f1e-8fd1-4976-b7fe-a80db3d86a6e",
        "id": "vZHjqKWqsaQ8"
      },
      "source": [
        "#https://stackoverflow.com/questions/20410312/how-to-create-a-lagged-data-structure-using-pandas-dataframe\n",
        "lags=[7,14,21,28]\n",
        "for i in tqdm(lags):\n",
        "  sales['lag_'+str(i)]=sales.groupby(['id'])['demand'].shift(i)\n",
        "  sales[\"sell_price_lag_\" + str(i)] = sales.groupby([\"id\"])[\"sell_price\"].shift(i)"
      ],
      "execution_count": null,
      "outputs": [
        {
          "output_type": "stream",
          "name": "stderr",
          "text": [
            "100%|██████████| 4/4 [00:10<00:00,  2.55s/it]\n"
          ]
        }
      ],
      "id": "vZHjqKWqsaQ8"
    },
    {
      "cell_type": "code",
      "metadata": {
        "hidden": true,
        "colab": {
          "base_uri": "https://localhost:8080/",
          "height": 215
        },
        "outputId": "7b5ca145-32a9-42de-d482-a5e6dc0d5c25",
        "id": "9mriUkZQsaQ9"
      },
      "source": [
        "sales.head(3)"
      ],
      "execution_count": null,
      "outputs": [
        {
          "output_type": "execute_result",
          "data": {
            "text/html": [
              "<div>\n",
              "<style scoped>\n",
              "    .dataframe tbody tr th:only-of-type {\n",
              "        vertical-align: middle;\n",
              "    }\n",
              "\n",
              "    .dataframe tbody tr th {\n",
              "        vertical-align: top;\n",
              "    }\n",
              "\n",
              "    .dataframe thead th {\n",
              "        text-align: right;\n",
              "    }\n",
              "</style>\n",
              "<table border=\"1\" class=\"dataframe\">\n",
              "  <thead>\n",
              "    <tr style=\"text-align: right;\">\n",
              "      <th></th>\n",
              "      <th>id</th>\n",
              "      <th>item_id</th>\n",
              "      <th>dept_id</th>\n",
              "      <th>cat_id</th>\n",
              "      <th>store_id</th>\n",
              "      <th>state_id</th>\n",
              "      <th>d</th>\n",
              "      <th>demand</th>\n",
              "      <th>date</th>\n",
              "      <th>wm_yr_wk</th>\n",
              "      <th>weekday</th>\n",
              "      <th>wday</th>\n",
              "      <th>month</th>\n",
              "      <th>year</th>\n",
              "      <th>event_name_1</th>\n",
              "      <th>event_type_1</th>\n",
              "      <th>event_name_2</th>\n",
              "      <th>event_type_2</th>\n",
              "      <th>snap_CA</th>\n",
              "      <th>snap_TX</th>\n",
              "      <th>snap_WI</th>\n",
              "      <th>is_weekend</th>\n",
              "      <th>month_day</th>\n",
              "      <th>month_week_number</th>\n",
              "      <th>events_per_day</th>\n",
              "      <th>sell_price</th>\n",
              "      <th>lag_7</th>\n",
              "      <th>sell_price_lag_7</th>\n",
              "      <th>lag_14</th>\n",
              "      <th>sell_price_lag_14</th>\n",
              "      <th>lag_21</th>\n",
              "      <th>sell_price_lag_21</th>\n",
              "      <th>lag_28</th>\n",
              "      <th>sell_price_lag_28</th>\n",
              "    </tr>\n",
              "  </thead>\n",
              "  <tbody>\n",
              "    <tr>\n",
              "      <th>32441360</th>\n",
              "      <td>HOBBIES_1_001_CA_1_evaluation</td>\n",
              "      <td>HOBBIES_1_001</td>\n",
              "      <td>HOBBIES_1</td>\n",
              "      <td>HOBBIES</td>\n",
              "      <td>CA_1</td>\n",
              "      <td>CA</td>\n",
              "      <td>d_1065</td>\n",
              "      <td>0</td>\n",
              "      <td>2013-12-28</td>\n",
              "      <td>11349</td>\n",
              "      <td>Saturday</td>\n",
              "      <td>1</td>\n",
              "      <td>12</td>\n",
              "      <td>2013</td>\n",
              "      <td>no_event</td>\n",
              "      <td>no_event</td>\n",
              "      <td>no_event</td>\n",
              "      <td>no_event</td>\n",
              "      <td>0</td>\n",
              "      <td>0</td>\n",
              "      <td>0</td>\n",
              "      <td>1</td>\n",
              "      <td>28</td>\n",
              "      <td>4</td>\n",
              "      <td>0</td>\n",
              "      <td>8.257812</td>\n",
              "      <td>NaN</td>\n",
              "      <td>NaN</td>\n",
              "      <td>NaN</td>\n",
              "      <td>NaN</td>\n",
              "      <td>NaN</td>\n",
              "      <td>NaN</td>\n",
              "      <td>NaN</td>\n",
              "      <td>NaN</td>\n",
              "    </tr>\n",
              "    <tr>\n",
              "      <th>32441361</th>\n",
              "      <td>HOBBIES_1_002_CA_1_evaluation</td>\n",
              "      <td>HOBBIES_1_002</td>\n",
              "      <td>HOBBIES_1</td>\n",
              "      <td>HOBBIES</td>\n",
              "      <td>CA_1</td>\n",
              "      <td>CA</td>\n",
              "      <td>d_1065</td>\n",
              "      <td>0</td>\n",
              "      <td>2013-12-28</td>\n",
              "      <td>11349</td>\n",
              "      <td>Saturday</td>\n",
              "      <td>1</td>\n",
              "      <td>12</td>\n",
              "      <td>2013</td>\n",
              "      <td>no_event</td>\n",
              "      <td>no_event</td>\n",
              "      <td>no_event</td>\n",
              "      <td>no_event</td>\n",
              "      <td>0</td>\n",
              "      <td>0</td>\n",
              "      <td>0</td>\n",
              "      <td>1</td>\n",
              "      <td>28</td>\n",
              "      <td>4</td>\n",
              "      <td>0</td>\n",
              "      <td>3.970703</td>\n",
              "      <td>NaN</td>\n",
              "      <td>NaN</td>\n",
              "      <td>NaN</td>\n",
              "      <td>NaN</td>\n",
              "      <td>NaN</td>\n",
              "      <td>NaN</td>\n",
              "      <td>NaN</td>\n",
              "      <td>NaN</td>\n",
              "    </tr>\n",
              "    <tr>\n",
              "      <th>32441362</th>\n",
              "      <td>HOBBIES_1_003_CA_1_evaluation</td>\n",
              "      <td>HOBBIES_1_003</td>\n",
              "      <td>HOBBIES_1</td>\n",
              "      <td>HOBBIES</td>\n",
              "      <td>CA_1</td>\n",
              "      <td>CA</td>\n",
              "      <td>d_1065</td>\n",
              "      <td>0</td>\n",
              "      <td>2013-12-28</td>\n",
              "      <td>11349</td>\n",
              "      <td>Saturday</td>\n",
              "      <td>1</td>\n",
              "      <td>12</td>\n",
              "      <td>2013</td>\n",
              "      <td>no_event</td>\n",
              "      <td>no_event</td>\n",
              "      <td>no_event</td>\n",
              "      <td>no_event</td>\n",
              "      <td>0</td>\n",
              "      <td>0</td>\n",
              "      <td>0</td>\n",
              "      <td>1</td>\n",
              "      <td>28</td>\n",
              "      <td>4</td>\n",
              "      <td>0</td>\n",
              "      <td>2.970703</td>\n",
              "      <td>NaN</td>\n",
              "      <td>NaN</td>\n",
              "      <td>NaN</td>\n",
              "      <td>NaN</td>\n",
              "      <td>NaN</td>\n",
              "      <td>NaN</td>\n",
              "      <td>NaN</td>\n",
              "      <td>NaN</td>\n",
              "    </tr>\n",
              "  </tbody>\n",
              "</table>\n",
              "</div>"
            ],
            "text/plain": [
              "                                     id  ... sell_price_lag_28\n",
              "32441360  HOBBIES_1_001_CA_1_evaluation  ...               NaN\n",
              "32441361  HOBBIES_1_002_CA_1_evaluation  ...               NaN\n",
              "32441362  HOBBIES_1_003_CA_1_evaluation  ...               NaN\n",
              "\n",
              "[3 rows x 34 columns]"
            ]
          },
          "metadata": {},
          "execution_count": 29
        }
      ],
      "id": "9mriUkZQsaQ9"
    },
    {
      "cell_type": "markdown",
      "metadata": {
        "hidden": true,
        "id": "c4385fad"
      },
      "source": [
        "### Rolling-Mean\n",
        "\n",
        "- Rolling is a very useful operation for time series data.\n",
        "- Rolling means creating a rolling window with a specified size & perform calculations on data in this window which of course rolls through data.\n",
        "- Here we have computing Rolling-Mean on 'demand' column.\n",
        "- The maximum Window size taken is 42"
      ],
      "id": "c4385fad"
    },
    {
      "cell_type": "code",
      "metadata": {
        "hidden": true,
        "colab": {
          "base_uri": "https://localhost:8080/"
        },
        "outputId": "5e08ae16-69ca-413f-ff29-a4fe276d1e5a",
        "id": "D7wa-pWXsaQ9"
      },
      "source": [
        "#https://stackoverflow.com/questions/13996302/python-rolling-functions-for-groupby-object\n",
        "##https://www.geeksforgeeks.org/python-pandas-dataframe-transform/\n",
        "window=[7,14,21,28]\n",
        "for i in tqdm(window):\n",
        "  sales['rolling_mean_'+str(i)]=sales.groupby(['id'])['demand'].transform(lambda s: s.rolling(i).mean())\n",
        "  sales['rolling_mean_'+str(i)+\"_lag_\"+str(i)] = sales.groupby(\"id\")['rolling_mean_'+str(i)].shift(i)\n",
        "  sales['sell_price_rolling_mean_'+str(i)] = sales.groupby(['id'])['sell_price'].transform(lambda x: x.rolling(i).mean())"
      ],
      "execution_count": null,
      "outputs": [
        {
          "output_type": "stream",
          "name": "stderr",
          "text": [
            "100%|██████████| 4/4 [2:21:40<00:00, 2125.08s/it]\n"
          ]
        }
      ],
      "id": "D7wa-pWXsaQ9"
    },
    {
      "cell_type": "code",
      "source": [
        "sales.head(5)"
      ],
      "metadata": {
        "colab": {
          "base_uri": "https://localhost:8080/",
          "height": 313
        },
        "outputId": "0704d307-306f-420f-e3b9-6eab47c47be8",
        "id": "BzYPmzS8saQ-"
      },
      "execution_count": null,
      "outputs": [
        {
          "output_type": "execute_result",
          "data": {
            "text/html": [
              "<div>\n",
              "<style scoped>\n",
              "    .dataframe tbody tr th:only-of-type {\n",
              "        vertical-align: middle;\n",
              "    }\n",
              "\n",
              "    .dataframe tbody tr th {\n",
              "        vertical-align: top;\n",
              "    }\n",
              "\n",
              "    .dataframe thead th {\n",
              "        text-align: right;\n",
              "    }\n",
              "</style>\n",
              "<table border=\"1\" class=\"dataframe\">\n",
              "  <thead>\n",
              "    <tr style=\"text-align: right;\">\n",
              "      <th></th>\n",
              "      <th>id</th>\n",
              "      <th>item_id</th>\n",
              "      <th>dept_id</th>\n",
              "      <th>cat_id</th>\n",
              "      <th>store_id</th>\n",
              "      <th>state_id</th>\n",
              "      <th>d</th>\n",
              "      <th>demand</th>\n",
              "      <th>date</th>\n",
              "      <th>wm_yr_wk</th>\n",
              "      <th>weekday</th>\n",
              "      <th>wday</th>\n",
              "      <th>month</th>\n",
              "      <th>year</th>\n",
              "      <th>event_name_1</th>\n",
              "      <th>event_type_1</th>\n",
              "      <th>event_name_2</th>\n",
              "      <th>event_type_2</th>\n",
              "      <th>snap_CA</th>\n",
              "      <th>snap_TX</th>\n",
              "      <th>snap_WI</th>\n",
              "      <th>is_weekend</th>\n",
              "      <th>month_day</th>\n",
              "      <th>month_week_number</th>\n",
              "      <th>events_per_day</th>\n",
              "      <th>sell_price</th>\n",
              "      <th>lag_7</th>\n",
              "      <th>sell_price_lag_7</th>\n",
              "      <th>lag_14</th>\n",
              "      <th>sell_price_lag_14</th>\n",
              "      <th>lag_21</th>\n",
              "      <th>sell_price_lag_21</th>\n",
              "      <th>lag_28</th>\n",
              "      <th>sell_price_lag_28</th>\n",
              "      <th>rolling_mean_7</th>\n",
              "      <th>rolling_mean_7_lag_7</th>\n",
              "      <th>sell_price_rolling_mean_7</th>\n",
              "      <th>rolling_mean_14</th>\n",
              "      <th>rolling_mean_14_lag_14</th>\n",
              "      <th>sell_price_rolling_mean_14</th>\n",
              "      <th>rolling_mean_21</th>\n",
              "      <th>rolling_mean_21_lag_21</th>\n",
              "      <th>sell_price_rolling_mean_21</th>\n",
              "      <th>rolling_mean_28</th>\n",
              "      <th>rolling_mean_28_lag_28</th>\n",
              "      <th>sell_price_rolling_mean_28</th>\n",
              "    </tr>\n",
              "  </thead>\n",
              "  <tbody>\n",
              "    <tr>\n",
              "      <th>32441360</th>\n",
              "      <td>HOBBIES_1_001_CA_1_evaluation</td>\n",
              "      <td>HOBBIES_1_001</td>\n",
              "      <td>HOBBIES_1</td>\n",
              "      <td>HOBBIES</td>\n",
              "      <td>CA_1</td>\n",
              "      <td>CA</td>\n",
              "      <td>d_1065</td>\n",
              "      <td>0</td>\n",
              "      <td>2013-12-28</td>\n",
              "      <td>11349</td>\n",
              "      <td>Saturday</td>\n",
              "      <td>1</td>\n",
              "      <td>12</td>\n",
              "      <td>2013</td>\n",
              "      <td>no_event</td>\n",
              "      <td>no_event</td>\n",
              "      <td>no_event</td>\n",
              "      <td>no_event</td>\n",
              "      <td>0</td>\n",
              "      <td>0</td>\n",
              "      <td>0</td>\n",
              "      <td>1</td>\n",
              "      <td>28</td>\n",
              "      <td>4</td>\n",
              "      <td>0</td>\n",
              "      <td>8.257812</td>\n",
              "      <td>NaN</td>\n",
              "      <td>NaN</td>\n",
              "      <td>NaN</td>\n",
              "      <td>NaN</td>\n",
              "      <td>NaN</td>\n",
              "      <td>NaN</td>\n",
              "      <td>NaN</td>\n",
              "      <td>NaN</td>\n",
              "      <td>NaN</td>\n",
              "      <td>NaN</td>\n",
              "      <td>NaN</td>\n",
              "      <td>NaN</td>\n",
              "      <td>NaN</td>\n",
              "      <td>NaN</td>\n",
              "      <td>NaN</td>\n",
              "      <td>NaN</td>\n",
              "      <td>NaN</td>\n",
              "      <td>NaN</td>\n",
              "      <td>NaN</td>\n",
              "      <td>NaN</td>\n",
              "    </tr>\n",
              "    <tr>\n",
              "      <th>32441361</th>\n",
              "      <td>HOBBIES_1_002_CA_1_evaluation</td>\n",
              "      <td>HOBBIES_1_002</td>\n",
              "      <td>HOBBIES_1</td>\n",
              "      <td>HOBBIES</td>\n",
              "      <td>CA_1</td>\n",
              "      <td>CA</td>\n",
              "      <td>d_1065</td>\n",
              "      <td>0</td>\n",
              "      <td>2013-12-28</td>\n",
              "      <td>11349</td>\n",
              "      <td>Saturday</td>\n",
              "      <td>1</td>\n",
              "      <td>12</td>\n",
              "      <td>2013</td>\n",
              "      <td>no_event</td>\n",
              "      <td>no_event</td>\n",
              "      <td>no_event</td>\n",
              "      <td>no_event</td>\n",
              "      <td>0</td>\n",
              "      <td>0</td>\n",
              "      <td>0</td>\n",
              "      <td>1</td>\n",
              "      <td>28</td>\n",
              "      <td>4</td>\n",
              "      <td>0</td>\n",
              "      <td>3.970703</td>\n",
              "      <td>NaN</td>\n",
              "      <td>NaN</td>\n",
              "      <td>NaN</td>\n",
              "      <td>NaN</td>\n",
              "      <td>NaN</td>\n",
              "      <td>NaN</td>\n",
              "      <td>NaN</td>\n",
              "      <td>NaN</td>\n",
              "      <td>NaN</td>\n",
              "      <td>NaN</td>\n",
              "      <td>NaN</td>\n",
              "      <td>NaN</td>\n",
              "      <td>NaN</td>\n",
              "      <td>NaN</td>\n",
              "      <td>NaN</td>\n",
              "      <td>NaN</td>\n",
              "      <td>NaN</td>\n",
              "      <td>NaN</td>\n",
              "      <td>NaN</td>\n",
              "      <td>NaN</td>\n",
              "    </tr>\n",
              "    <tr>\n",
              "      <th>32441362</th>\n",
              "      <td>HOBBIES_1_003_CA_1_evaluation</td>\n",
              "      <td>HOBBIES_1_003</td>\n",
              "      <td>HOBBIES_1</td>\n",
              "      <td>HOBBIES</td>\n",
              "      <td>CA_1</td>\n",
              "      <td>CA</td>\n",
              "      <td>d_1065</td>\n",
              "      <td>0</td>\n",
              "      <td>2013-12-28</td>\n",
              "      <td>11349</td>\n",
              "      <td>Saturday</td>\n",
              "      <td>1</td>\n",
              "      <td>12</td>\n",
              "      <td>2013</td>\n",
              "      <td>no_event</td>\n",
              "      <td>no_event</td>\n",
              "      <td>no_event</td>\n",
              "      <td>no_event</td>\n",
              "      <td>0</td>\n",
              "      <td>0</td>\n",
              "      <td>0</td>\n",
              "      <td>1</td>\n",
              "      <td>28</td>\n",
              "      <td>4</td>\n",
              "      <td>0</td>\n",
              "      <td>2.970703</td>\n",
              "      <td>NaN</td>\n",
              "      <td>NaN</td>\n",
              "      <td>NaN</td>\n",
              "      <td>NaN</td>\n",
              "      <td>NaN</td>\n",
              "      <td>NaN</td>\n",
              "      <td>NaN</td>\n",
              "      <td>NaN</td>\n",
              "      <td>NaN</td>\n",
              "      <td>NaN</td>\n",
              "      <td>NaN</td>\n",
              "      <td>NaN</td>\n",
              "      <td>NaN</td>\n",
              "      <td>NaN</td>\n",
              "      <td>NaN</td>\n",
              "      <td>NaN</td>\n",
              "      <td>NaN</td>\n",
              "      <td>NaN</td>\n",
              "      <td>NaN</td>\n",
              "      <td>NaN</td>\n",
              "    </tr>\n",
              "    <tr>\n",
              "      <th>32441363</th>\n",
              "      <td>HOBBIES_1_004_CA_1_evaluation</td>\n",
              "      <td>HOBBIES_1_004</td>\n",
              "      <td>HOBBIES_1</td>\n",
              "      <td>HOBBIES</td>\n",
              "      <td>CA_1</td>\n",
              "      <td>CA</td>\n",
              "      <td>d_1065</td>\n",
              "      <td>10</td>\n",
              "      <td>2013-12-28</td>\n",
              "      <td>11349</td>\n",
              "      <td>Saturday</td>\n",
              "      <td>1</td>\n",
              "      <td>12</td>\n",
              "      <td>2013</td>\n",
              "      <td>no_event</td>\n",
              "      <td>no_event</td>\n",
              "      <td>no_event</td>\n",
              "      <td>no_event</td>\n",
              "      <td>0</td>\n",
              "      <td>0</td>\n",
              "      <td>0</td>\n",
              "      <td>1</td>\n",
              "      <td>28</td>\n",
              "      <td>4</td>\n",
              "      <td>0</td>\n",
              "      <td>4.640625</td>\n",
              "      <td>NaN</td>\n",
              "      <td>NaN</td>\n",
              "      <td>NaN</td>\n",
              "      <td>NaN</td>\n",
              "      <td>NaN</td>\n",
              "      <td>NaN</td>\n",
              "      <td>NaN</td>\n",
              "      <td>NaN</td>\n",
              "      <td>NaN</td>\n",
              "      <td>NaN</td>\n",
              "      <td>NaN</td>\n",
              "      <td>NaN</td>\n",
              "      <td>NaN</td>\n",
              "      <td>NaN</td>\n",
              "      <td>NaN</td>\n",
              "      <td>NaN</td>\n",
              "      <td>NaN</td>\n",
              "      <td>NaN</td>\n",
              "      <td>NaN</td>\n",
              "      <td>NaN</td>\n",
              "    </tr>\n",
              "    <tr>\n",
              "      <th>32441364</th>\n",
              "      <td>HOBBIES_1_005_CA_1_evaluation</td>\n",
              "      <td>HOBBIES_1_005</td>\n",
              "      <td>HOBBIES_1</td>\n",
              "      <td>HOBBIES</td>\n",
              "      <td>CA_1</td>\n",
              "      <td>CA</td>\n",
              "      <td>d_1065</td>\n",
              "      <td>0</td>\n",
              "      <td>2013-12-28</td>\n",
              "      <td>11349</td>\n",
              "      <td>Saturday</td>\n",
              "      <td>1</td>\n",
              "      <td>12</td>\n",
              "      <td>2013</td>\n",
              "      <td>no_event</td>\n",
              "      <td>no_event</td>\n",
              "      <td>no_event</td>\n",
              "      <td>no_event</td>\n",
              "      <td>0</td>\n",
              "      <td>0</td>\n",
              "      <td>0</td>\n",
              "      <td>1</td>\n",
              "      <td>28</td>\n",
              "      <td>4</td>\n",
              "      <td>0</td>\n",
              "      <td>3.080078</td>\n",
              "      <td>NaN</td>\n",
              "      <td>NaN</td>\n",
              "      <td>NaN</td>\n",
              "      <td>NaN</td>\n",
              "      <td>NaN</td>\n",
              "      <td>NaN</td>\n",
              "      <td>NaN</td>\n",
              "      <td>NaN</td>\n",
              "      <td>NaN</td>\n",
              "      <td>NaN</td>\n",
              "      <td>NaN</td>\n",
              "      <td>NaN</td>\n",
              "      <td>NaN</td>\n",
              "      <td>NaN</td>\n",
              "      <td>NaN</td>\n",
              "      <td>NaN</td>\n",
              "      <td>NaN</td>\n",
              "      <td>NaN</td>\n",
              "      <td>NaN</td>\n",
              "      <td>NaN</td>\n",
              "    </tr>\n",
              "  </tbody>\n",
              "</table>\n",
              "</div>"
            ],
            "text/plain": [
              "                                     id  ... sell_price_rolling_mean_28\n",
              "32441360  HOBBIES_1_001_CA_1_evaluation  ...                        NaN\n",
              "32441361  HOBBIES_1_002_CA_1_evaluation  ...                        NaN\n",
              "32441362  HOBBIES_1_003_CA_1_evaluation  ...                        NaN\n",
              "32441363  HOBBIES_1_004_CA_1_evaluation  ...                        NaN\n",
              "32441364  HOBBIES_1_005_CA_1_evaluation  ...                        NaN\n",
              "\n",
              "[5 rows x 46 columns]"
            ]
          },
          "metadata": {},
          "execution_count": 35
        }
      ],
      "id": "BzYPmzS8saQ-"
    },
    {
      "cell_type": "code",
      "source": [
        "with open('original_lag_win_data.pkl','wb') as f:\n",
        "     pickle.dump(sales,f)"
      ],
      "metadata": {
        "id": "gP_W1tPbsaQ-"
      },
      "execution_count": null,
      "outputs": [],
      "id": "gP_W1tPbsaQ-"
    },
    {
      "cell_type": "markdown",
      "metadata": {
        "hidden": true,
        "id": "453ca50f"
      },
      "source": [
        "- Drop all 'NaN' in 'rolling_ mean' features"
      ],
      "id": "453ca50f"
    },
    {
      "cell_type": "code",
      "source": [
        "sales.dropna(inplace=True)"
      ],
      "metadata": {
        "id": "UD365PlRxD0K"
      },
      "id": "UD365PlRxD0K",
      "execution_count": null,
      "outputs": []
    },
    {
      "cell_type": "code",
      "metadata": {
        "hidden": true,
        "id": "7ec95146"
      },
      "source": [
        "sales=reduce(sales)"
      ],
      "id": "7ec95146",
      "execution_count": null,
      "outputs": []
    },
    {
      "cell_type": "code",
      "metadata": {
        "hidden": true,
        "colab": {
          "base_uri": "https://localhost:8080/",
          "height": 163
        },
        "outputId": "73ba1ae5-96e2-439e-cb12-c2f53811360b",
        "id": "1aXac4XFsaQ_"
      },
      "source": [
        "df.head(3)"
      ],
      "execution_count": null,
      "outputs": [
        {
          "output_type": "execute_result",
          "data": {
            "text/html": [
              "<div>\n",
              "<style scoped>\n",
              "    .dataframe tbody tr th:only-of-type {\n",
              "        vertical-align: middle;\n",
              "    }\n",
              "\n",
              "    .dataframe tbody tr th {\n",
              "        vertical-align: top;\n",
              "    }\n",
              "\n",
              "    .dataframe thead th {\n",
              "        text-align: right;\n",
              "    }\n",
              "</style>\n",
              "<table border=\"1\" class=\"dataframe\">\n",
              "  <thead>\n",
              "    <tr style=\"text-align: right;\">\n",
              "      <th></th>\n",
              "      <th>demand</th>\n",
              "      <th>wm_yr_wk</th>\n",
              "      <th>wday</th>\n",
              "      <th>month</th>\n",
              "      <th>year</th>\n",
              "      <th>snap_CA</th>\n",
              "      <th>snap_TX</th>\n",
              "      <th>snap_WI</th>\n",
              "      <th>is_weekend</th>\n",
              "      <th>month_day</th>\n",
              "      <th>month_week_number</th>\n",
              "      <th>events_per_day</th>\n",
              "      <th>sell_price</th>\n",
              "      <th>lag_7</th>\n",
              "      <th>sell_price_lag_7</th>\n",
              "      <th>lag_14</th>\n",
              "      <th>sell_price_lag_14</th>\n",
              "      <th>lag_21</th>\n",
              "      <th>sell_price_lag_21</th>\n",
              "      <th>lag_28</th>\n",
              "      <th>sell_price_lag_28</th>\n",
              "      <th>rolling_mean_7</th>\n",
              "      <th>rolling_mean_7_lag_7</th>\n",
              "      <th>sell_price_rolling_mean_7</th>\n",
              "      <th>rolling_mean_14</th>\n",
              "      <th>rolling_mean_14_lag_14</th>\n",
              "      <th>sell_price_rolling_mean_14</th>\n",
              "      <th>rolling_mean_21</th>\n",
              "      <th>rolling_mean_21_lag_21</th>\n",
              "      <th>sell_price_rolling_mean_21</th>\n",
              "      <th>rolling_mean_28</th>\n",
              "      <th>rolling_mean_28_lag_28</th>\n",
              "      <th>sell_price_rolling_mean_28</th>\n",
              "      <th>event_name_1_</th>\n",
              "      <th>event_type_1_</th>\n",
              "      <th>event_name_2_</th>\n",
              "      <th>event_type_2_</th>\n",
              "      <th>id_</th>\n",
              "      <th>item_id_</th>\n",
              "      <th>dept_id_</th>\n",
              "      <th>cat_id_</th>\n",
              "      <th>store_id_</th>\n",
              "      <th>state_id_</th>\n",
              "      <th>day</th>\n",
              "    </tr>\n",
              "  </thead>\n",
              "  <tbody>\n",
              "    <tr>\n",
              "      <th>34118310</th>\n",
              "      <td>1</td>\n",
              "      <td>11403</td>\n",
              "      <td>7</td>\n",
              "      <td>2</td>\n",
              "      <td>2014</td>\n",
              "      <td>0</td>\n",
              "      <td>0</td>\n",
              "      <td>0</td>\n",
              "      <td>0</td>\n",
              "      <td>21</td>\n",
              "      <td>3</td>\n",
              "      <td>0</td>\n",
              "      <td>8.257812</td>\n",
              "      <td>0.0</td>\n",
              "      <td>8.257812</td>\n",
              "      <td>1.0</td>\n",
              "      <td>8.257812</td>\n",
              "      <td>0.0</td>\n",
              "      <td>8.257812</td>\n",
              "      <td>0.0</td>\n",
              "      <td>8.257812</td>\n",
              "      <td>0.856934</td>\n",
              "      <td>0.285645</td>\n",
              "      <td>8.257812</td>\n",
              "      <td>0.571289</td>\n",
              "      <td>0.285645</td>\n",
              "      <td>8.257812</td>\n",
              "      <td>0.476074</td>\n",
              "      <td>0.333252</td>\n",
              "      <td>8.257812</td>\n",
              "      <td>0.428467</td>\n",
              "      <td>0.357178</td>\n",
              "      <td>8.257812</td>\n",
              "      <td>30</td>\n",
              "      <td>4</td>\n",
              "      <td>2</td>\n",
              "      <td>2</td>\n",
              "      <td>14370</td>\n",
              "      <td>1437</td>\n",
              "      <td>3</td>\n",
              "      <td>1</td>\n",
              "      <td>0</td>\n",
              "      <td>0</td>\n",
              "      <td>1120</td>\n",
              "    </tr>\n",
              "    <tr>\n",
              "      <th>34118311</th>\n",
              "      <td>0</td>\n",
              "      <td>11403</td>\n",
              "      <td>7</td>\n",
              "      <td>2</td>\n",
              "      <td>2014</td>\n",
              "      <td>0</td>\n",
              "      <td>0</td>\n",
              "      <td>0</td>\n",
              "      <td>0</td>\n",
              "      <td>21</td>\n",
              "      <td>3</td>\n",
              "      <td>0</td>\n",
              "      <td>3.970703</td>\n",
              "      <td>0.0</td>\n",
              "      <td>3.970703</td>\n",
              "      <td>0.0</td>\n",
              "      <td>3.970703</td>\n",
              "      <td>0.0</td>\n",
              "      <td>3.970703</td>\n",
              "      <td>0.0</td>\n",
              "      <td>3.970703</td>\n",
              "      <td>0.142822</td>\n",
              "      <td>0.000000</td>\n",
              "      <td>3.970703</td>\n",
              "      <td>0.071411</td>\n",
              "      <td>0.142822</td>\n",
              "      <td>3.970703</td>\n",
              "      <td>0.142822</td>\n",
              "      <td>0.000000</td>\n",
              "      <td>3.970703</td>\n",
              "      <td>0.107117</td>\n",
              "      <td>0.035706</td>\n",
              "      <td>3.970703</td>\n",
              "      <td>30</td>\n",
              "      <td>4</td>\n",
              "      <td>2</td>\n",
              "      <td>2</td>\n",
              "      <td>14380</td>\n",
              "      <td>1438</td>\n",
              "      <td>3</td>\n",
              "      <td>1</td>\n",
              "      <td>0</td>\n",
              "      <td>0</td>\n",
              "      <td>1120</td>\n",
              "    </tr>\n",
              "    <tr>\n",
              "      <th>34118312</th>\n",
              "      <td>1</td>\n",
              "      <td>11403</td>\n",
              "      <td>7</td>\n",
              "      <td>2</td>\n",
              "      <td>2014</td>\n",
              "      <td>0</td>\n",
              "      <td>0</td>\n",
              "      <td>0</td>\n",
              "      <td>0</td>\n",
              "      <td>21</td>\n",
              "      <td>3</td>\n",
              "      <td>0</td>\n",
              "      <td>2.970703</td>\n",
              "      <td>1.0</td>\n",
              "      <td>2.970703</td>\n",
              "      <td>3.0</td>\n",
              "      <td>2.970703</td>\n",
              "      <td>0.0</td>\n",
              "      <td>2.970703</td>\n",
              "      <td>0.0</td>\n",
              "      <td>2.970703</td>\n",
              "      <td>0.571289</td>\n",
              "      <td>0.571289</td>\n",
              "      <td>2.970703</td>\n",
              "      <td>0.571289</td>\n",
              "      <td>0.214233</td>\n",
              "      <td>2.970703</td>\n",
              "      <td>0.523926</td>\n",
              "      <td>0.000000</td>\n",
              "      <td>2.970703</td>\n",
              "      <td>0.392822</td>\n",
              "      <td>0.000000</td>\n",
              "      <td>2.970703</td>\n",
              "      <td>30</td>\n",
              "      <td>4</td>\n",
              "      <td>2</td>\n",
              "      <td>2</td>\n",
              "      <td>14390</td>\n",
              "      <td>1439</td>\n",
              "      <td>3</td>\n",
              "      <td>1</td>\n",
              "      <td>0</td>\n",
              "      <td>0</td>\n",
              "      <td>1120</td>\n",
              "    </tr>\n",
              "  </tbody>\n",
              "</table>\n",
              "</div>"
            ],
            "text/plain": [
              "          demand  wm_yr_wk  wday  month  ...  cat_id_  store_id_  state_id_   day\n",
              "34118310       1     11403     7      2  ...        1          0          0  1120\n",
              "34118311       0     11403     7      2  ...        1          0          0  1120\n",
              "34118312       1     11403     7      2  ...        1          0          0  1120\n",
              "\n",
              "[3 rows x 44 columns]"
            ]
          },
          "metadata": {},
          "execution_count": 50
        }
      ],
      "id": "1aXac4XFsaQ_"
    },
    {
      "cell_type": "markdown",
      "metadata": {
        "hidden": true,
        "id": "04a391e5"
      },
      "source": [
        "### Label-Encoding\n",
        "\n",
        "- Encoding refers to converting the labels into numeric form so as to convert it into the machine-readable form.\n",
        "- Machine learning algorithms can then decide in a better way on how those labels must be operated.\n",
        "- It is an important pre-processing step for the structured dataset in supervised learning"
      ],
      "id": "04a391e5"
    },
    {
      "cell_type": "code",
      "metadata": {
        "hidden": true,
        "colab": {
          "base_uri": "https://localhost:8080/"
        },
        "outputId": "ed2575cb-dac6-4070-bc7b-cc354aba8fb9",
        "id": "X7yV-0HhsaQ_"
      },
      "source": [
        "#https://www.mygreatlearning.com/blog/label-encoding-in-python/\n",
        "labelencoder=LabelEncoder() \n",
        "category=['event_name_1','event_type_1','event_name_2','event_type_2','id','item_id','dept_id','cat_id','store_id','state_id']\n",
        "for i in tqdm(category):\n",
        "  sales[i+'_']=labelencoder.fit_transform(sales[i])"
      ],
      "execution_count": null,
      "outputs": [
        {
          "output_type": "stream",
          "name": "stderr",
          "text": [
            "100%|██████████| 10/10 [01:00<00:00,  6.04s/it]\n"
          ]
        }
      ],
      "id": "X7yV-0HhsaQ_"
    },
    {
      "cell_type": "markdown",
      "metadata": {
        "hidden": true,
        "id": "4vkBgYiTsaRA"
      },
      "source": [
        "- Drop all the categorical columns bcoz we already added coresponding columns with label-encoding"
      ],
      "id": "4vkBgYiTsaRA"
    },
    {
      "cell_type": "code",
      "metadata": {
        "hidden": true,
        "id": "5WRBkBUrsaRA"
      },
      "source": [
        "sales=sales.drop(['event_name_1','event_type_1','event_name_2','event_type_2','id','item_id','dept_id','cat_id','store_id','state_id'],axis = 1)"
      ],
      "execution_count": null,
      "outputs": [],
      "id": "5WRBkBUrsaRA"
    },
    {
      "cell_type": "code",
      "metadata": {
        "hidden": true,
        "colab": {
          "base_uri": "https://localhost:8080/",
          "height": 215
        },
        "outputId": "8592d349-d151-4b69-953b-c12e67a79478",
        "id": "mQXhQkZKsaRA"
      },
      "source": [
        "sales.head(3)"
      ],
      "execution_count": null,
      "outputs": [
        {
          "output_type": "execute_result",
          "data": {
            "text/html": [
              "<div>\n",
              "<style scoped>\n",
              "    .dataframe tbody tr th:only-of-type {\n",
              "        vertical-align: middle;\n",
              "    }\n",
              "\n",
              "    .dataframe tbody tr th {\n",
              "        vertical-align: top;\n",
              "    }\n",
              "\n",
              "    .dataframe thead th {\n",
              "        text-align: right;\n",
              "    }\n",
              "</style>\n",
              "<table border=\"1\" class=\"dataframe\">\n",
              "  <thead>\n",
              "    <tr style=\"text-align: right;\">\n",
              "      <th></th>\n",
              "      <th>d</th>\n",
              "      <th>demand</th>\n",
              "      <th>date</th>\n",
              "      <th>wm_yr_wk</th>\n",
              "      <th>weekday</th>\n",
              "      <th>wday</th>\n",
              "      <th>month</th>\n",
              "      <th>year</th>\n",
              "      <th>snap_CA</th>\n",
              "      <th>snap_TX</th>\n",
              "      <th>snap_WI</th>\n",
              "      <th>is_weekend</th>\n",
              "      <th>month_day</th>\n",
              "      <th>month_week_number</th>\n",
              "      <th>events_per_day</th>\n",
              "      <th>sell_price</th>\n",
              "      <th>lag_7</th>\n",
              "      <th>sell_price_lag_7</th>\n",
              "      <th>lag_14</th>\n",
              "      <th>sell_price_lag_14</th>\n",
              "      <th>lag_21</th>\n",
              "      <th>sell_price_lag_21</th>\n",
              "      <th>lag_28</th>\n",
              "      <th>sell_price_lag_28</th>\n",
              "      <th>rolling_mean_7</th>\n",
              "      <th>rolling_mean_7_lag_7</th>\n",
              "      <th>sell_price_rolling_mean_7</th>\n",
              "      <th>rolling_mean_14</th>\n",
              "      <th>rolling_mean_14_lag_14</th>\n",
              "      <th>sell_price_rolling_mean_14</th>\n",
              "      <th>rolling_mean_21</th>\n",
              "      <th>rolling_mean_21_lag_21</th>\n",
              "      <th>sell_price_rolling_mean_21</th>\n",
              "      <th>rolling_mean_28</th>\n",
              "      <th>rolling_mean_28_lag_28</th>\n",
              "      <th>sell_price_rolling_mean_28</th>\n",
              "      <th>event_name_1_</th>\n",
              "      <th>event_type_1_</th>\n",
              "      <th>event_name_2_</th>\n",
              "      <th>event_type_2_</th>\n",
              "      <th>id_</th>\n",
              "      <th>item_id_</th>\n",
              "      <th>dept_id_</th>\n",
              "      <th>cat_id_</th>\n",
              "      <th>store_id_</th>\n",
              "      <th>state_id_</th>\n",
              "    </tr>\n",
              "  </thead>\n",
              "  <tbody>\n",
              "    <tr>\n",
              "      <th>34118310</th>\n",
              "      <td>d_1120</td>\n",
              "      <td>1</td>\n",
              "      <td>2014-02-21</td>\n",
              "      <td>11403</td>\n",
              "      <td>Friday</td>\n",
              "      <td>7</td>\n",
              "      <td>2</td>\n",
              "      <td>2014</td>\n",
              "      <td>0</td>\n",
              "      <td>0</td>\n",
              "      <td>0</td>\n",
              "      <td>0</td>\n",
              "      <td>21</td>\n",
              "      <td>3</td>\n",
              "      <td>0</td>\n",
              "      <td>8.257812</td>\n",
              "      <td>0.0</td>\n",
              "      <td>8.257812</td>\n",
              "      <td>1.0</td>\n",
              "      <td>8.257812</td>\n",
              "      <td>0.0</td>\n",
              "      <td>8.257812</td>\n",
              "      <td>0.0</td>\n",
              "      <td>8.257812</td>\n",
              "      <td>0.856934</td>\n",
              "      <td>0.285645</td>\n",
              "      <td>8.257812</td>\n",
              "      <td>0.571289</td>\n",
              "      <td>0.285645</td>\n",
              "      <td>8.257812</td>\n",
              "      <td>0.476074</td>\n",
              "      <td>0.333252</td>\n",
              "      <td>8.257812</td>\n",
              "      <td>0.428467</td>\n",
              "      <td>0.357178</td>\n",
              "      <td>8.257812</td>\n",
              "      <td>30</td>\n",
              "      <td>4</td>\n",
              "      <td>2</td>\n",
              "      <td>2</td>\n",
              "      <td>14370</td>\n",
              "      <td>1437</td>\n",
              "      <td>3</td>\n",
              "      <td>1</td>\n",
              "      <td>0</td>\n",
              "      <td>0</td>\n",
              "    </tr>\n",
              "    <tr>\n",
              "      <th>34118311</th>\n",
              "      <td>d_1120</td>\n",
              "      <td>0</td>\n",
              "      <td>2014-02-21</td>\n",
              "      <td>11403</td>\n",
              "      <td>Friday</td>\n",
              "      <td>7</td>\n",
              "      <td>2</td>\n",
              "      <td>2014</td>\n",
              "      <td>0</td>\n",
              "      <td>0</td>\n",
              "      <td>0</td>\n",
              "      <td>0</td>\n",
              "      <td>21</td>\n",
              "      <td>3</td>\n",
              "      <td>0</td>\n",
              "      <td>3.970703</td>\n",
              "      <td>0.0</td>\n",
              "      <td>3.970703</td>\n",
              "      <td>0.0</td>\n",
              "      <td>3.970703</td>\n",
              "      <td>0.0</td>\n",
              "      <td>3.970703</td>\n",
              "      <td>0.0</td>\n",
              "      <td>3.970703</td>\n",
              "      <td>0.142822</td>\n",
              "      <td>0.000000</td>\n",
              "      <td>3.970703</td>\n",
              "      <td>0.071411</td>\n",
              "      <td>0.142822</td>\n",
              "      <td>3.970703</td>\n",
              "      <td>0.142822</td>\n",
              "      <td>0.000000</td>\n",
              "      <td>3.970703</td>\n",
              "      <td>0.107117</td>\n",
              "      <td>0.035706</td>\n",
              "      <td>3.970703</td>\n",
              "      <td>30</td>\n",
              "      <td>4</td>\n",
              "      <td>2</td>\n",
              "      <td>2</td>\n",
              "      <td>14380</td>\n",
              "      <td>1438</td>\n",
              "      <td>3</td>\n",
              "      <td>1</td>\n",
              "      <td>0</td>\n",
              "      <td>0</td>\n",
              "    </tr>\n",
              "    <tr>\n",
              "      <th>34118312</th>\n",
              "      <td>d_1120</td>\n",
              "      <td>1</td>\n",
              "      <td>2014-02-21</td>\n",
              "      <td>11403</td>\n",
              "      <td>Friday</td>\n",
              "      <td>7</td>\n",
              "      <td>2</td>\n",
              "      <td>2014</td>\n",
              "      <td>0</td>\n",
              "      <td>0</td>\n",
              "      <td>0</td>\n",
              "      <td>0</td>\n",
              "      <td>21</td>\n",
              "      <td>3</td>\n",
              "      <td>0</td>\n",
              "      <td>2.970703</td>\n",
              "      <td>1.0</td>\n",
              "      <td>2.970703</td>\n",
              "      <td>3.0</td>\n",
              "      <td>2.970703</td>\n",
              "      <td>0.0</td>\n",
              "      <td>2.970703</td>\n",
              "      <td>0.0</td>\n",
              "      <td>2.970703</td>\n",
              "      <td>0.571289</td>\n",
              "      <td>0.571289</td>\n",
              "      <td>2.970703</td>\n",
              "      <td>0.571289</td>\n",
              "      <td>0.214233</td>\n",
              "      <td>2.970703</td>\n",
              "      <td>0.523926</td>\n",
              "      <td>0.000000</td>\n",
              "      <td>2.970703</td>\n",
              "      <td>0.392822</td>\n",
              "      <td>0.000000</td>\n",
              "      <td>2.970703</td>\n",
              "      <td>30</td>\n",
              "      <td>4</td>\n",
              "      <td>2</td>\n",
              "      <td>2</td>\n",
              "      <td>14390</td>\n",
              "      <td>1439</td>\n",
              "      <td>3</td>\n",
              "      <td>1</td>\n",
              "      <td>0</td>\n",
              "      <td>0</td>\n",
              "    </tr>\n",
              "  </tbody>\n",
              "</table>\n",
              "</div>"
            ],
            "text/plain": [
              "               d  demand       date  ...  cat_id_ store_id_  state_id_\n",
              "34118310  d_1120       1 2014-02-21  ...        1         0          0\n",
              "34118311  d_1120       0 2014-02-21  ...        1         0          0\n",
              "34118312  d_1120       1 2014-02-21  ...        1         0          0\n",
              "\n",
              "[3 rows x 46 columns]"
            ]
          },
          "metadata": {},
          "execution_count": 24
        }
      ],
      "id": "mQXhQkZKsaRA"
    },
    {
      "cell_type": "code",
      "metadata": {
        "hidden": true,
        "id": "PWifs8hjsaRA"
      },
      "source": [
        "sales=reduce(sales)"
      ],
      "execution_count": null,
      "outputs": [],
      "id": "PWifs8hjsaRA"
    },
    {
      "cell_type": "markdown",
      "metadata": {
        "hidden": true,
        "id": "rOihc5H6saRA"
      },
      "source": [
        "- Removed '_' from 'd' column values so that we can convert Categorical feature into Numerical feature easily"
      ],
      "id": "rOihc5H6saRA"
    },
    {
      "cell_type": "code",
      "metadata": {
        "hidden": true,
        "id": "129r-CeTsaRA"
      },
      "source": [
        "l=[]\n",
        "for i in sales['d']:\n",
        "  l.append(i.split('_')[1])\n",
        "sales['day']=l\n",
        "#https://stackoverflow.com/questions/15891038/change-column-type-in-pandas\n",
        "sales['day']=sales['day'].astype(np.int16)"
      ],
      "execution_count": null,
      "outputs": [],
      "id": "129r-CeTsaRA"
    },
    {
      "cell_type": "markdown",
      "metadata": {
        "hidden": true,
        "id": "919257cb"
      },
      "source": [
        "### Droping duplicate columns\n",
        "\n",
        "- Since 'weekday' is represented by 'wday' & 'd' is represented by 'day'.\n",
        "- We already have 'month','year' thats why 'date' is also duplicate column."
      ],
      "id": "919257cb"
    },
    {
      "cell_type": "code",
      "metadata": {
        "hidden": true,
        "id": "q4MpOAgusaRB"
      },
      "source": [
        "sales=sales.drop(['d','date','weekday'],axis=1)"
      ],
      "execution_count": null,
      "outputs": [],
      "id": "q4MpOAgusaRB"
    },
    {
      "cell_type": "code",
      "source": [
        "data_final=reduce(sales)"
      ],
      "metadata": {
        "id": "USMhDVv6saRB"
      },
      "execution_count": null,
      "outputs": [],
      "id": "USMhDVv6saRB"
    },
    {
      "cell_type": "code",
      "metadata": {
        "hidden": true,
        "colab": {
          "base_uri": "https://localhost:8080/"
        },
        "outputId": "070773ef-912b-4ac3-c37d-01f45b674d03",
        "id": "KrwJfJKjsaRB"
      },
      "source": [
        "data_final.info()"
      ],
      "execution_count": null,
      "outputs": [
        {
          "output_type": "stream",
          "name": "stdout",
          "text": [
            "<class 'pandas.core.frame.DataFrame'>\n",
            "Int64Index: 25062780 entries, 34118310 to 59181089\n",
            "Data columns (total 44 columns):\n",
            " #   Column                      Dtype  \n",
            "---  ------                      -----  \n",
            " 0   demand                      int16  \n",
            " 1   wm_yr_wk                    int16  \n",
            " 2   wday                        int8   \n",
            " 3   month                       int8   \n",
            " 4   year                        int16  \n",
            " 5   snap_CA                     int8   \n",
            " 6   snap_TX                     int8   \n",
            " 7   snap_WI                     int8   \n",
            " 8   is_weekend                  int8   \n",
            " 9   month_day                   int8   \n",
            " 10  month_week_number           int8   \n",
            " 11  events_per_day              int8   \n",
            " 12  sell_price                  float16\n",
            " 13  lag_7                       float16\n",
            " 14  sell_price_lag_7            float16\n",
            " 15  lag_14                      float16\n",
            " 16  sell_price_lag_14           float16\n",
            " 17  lag_21                      float16\n",
            " 18  sell_price_lag_21           float16\n",
            " 19  lag_28                      float16\n",
            " 20  sell_price_lag_28           float16\n",
            " 21  rolling_mean_7              float16\n",
            " 22  rolling_mean_7_lag_7        float16\n",
            " 23  sell_price_rolling_mean_7   float16\n",
            " 24  rolling_mean_14             float16\n",
            " 25  rolling_mean_14_lag_14      float16\n",
            " 26  sell_price_rolling_mean_14  float16\n",
            " 27  rolling_mean_21             float16\n",
            " 28  rolling_mean_21_lag_21      float16\n",
            " 29  sell_price_rolling_mean_21  float16\n",
            " 30  rolling_mean_28             float16\n",
            " 31  rolling_mean_28_lag_28      float16\n",
            " 32  sell_price_rolling_mean_28  float16\n",
            " 33  event_name_1_               int8   \n",
            " 34  event_type_1_               int8   \n",
            " 35  event_name_2_               int8   \n",
            " 36  event_type_2_               int8   \n",
            " 37  id_                         int16  \n",
            " 38  item_id_                    int16  \n",
            " 39  dept_id_                    int8   \n",
            " 40  cat_id_                     int8   \n",
            " 41  store_id_                   int8   \n",
            " 42  state_id_                   int8   \n",
            " 43  day                         int16  \n",
            "dtypes: float16(21), int16(6), int8(17)\n",
            "memory usage: 1.8 GB\n"
          ]
        }
      ],
      "id": "KrwJfJKjsaRB"
    },
    {
      "cell_type": "code",
      "source": [
        "with open('drop_all_nan_data.pkl','wb') as f:\n",
        "     pickle.dump(sales,f)"
      ],
      "metadata": {
        "id": "KES_Rn0dsaRB"
      },
      "execution_count": null,
      "outputs": [],
      "id": "KES_Rn0dsaRB"
    },
    {
      "cell_type": "markdown",
      "metadata": {
        "id": "jz0p0KrMWUeb"
      },
      "source": [
        "## ML Models"
      ],
      "id": "jz0p0KrMWUeb"
    },
    {
      "cell_type": "code",
      "metadata": {
        "id": "P7gOPX5yXkQt"
      },
      "source": [
        "with open('drop_all_nan_data.pkl','rb') as f:\n",
        "     data_final=pickle.load(f)"
      ],
      "execution_count": null,
      "outputs": [],
      "id": "P7gOPX5yXkQt"
    },
    {
      "cell_type": "code",
      "metadata": {
        "colab": {
          "base_uri": "https://localhost:8080/"
        },
        "outputId": "ef6e63b1-6354-4f8c-eeda-4bebe82bb802",
        "id": "D5Lpg3juXkQt"
      },
      "source": [
        "data_final.shape"
      ],
      "execution_count": null,
      "outputs": [
        {
          "output_type": "execute_result",
          "data": {
            "text/plain": [
              "(25062780, 44)"
            ]
          },
          "metadata": {},
          "execution_count": 5
        }
      ],
      "id": "D5Lpg3juXkQt"
    },
    {
      "cell_type": "code",
      "metadata": {
        "id": "jXQcC7j9XkQv"
      },
      "source": [
        "df = data_final"
      ],
      "execution_count": null,
      "outputs": [],
      "id": "jXQcC7j9XkQv"
    },
    {
      "cell_type": "markdown",
      "metadata": {
        "id": "056QacQRXkQv"
      },
      "source": [
        "* Divide data into Train/Test/Validation \n",
        "\n",
        "  * Train: Till d_1885\n",
        "\n",
        "  * Validation: From d_1886 to d_1914\n",
        "\n",
        "  * Test: From d_1914 to d_1941"
      ],
      "id": "056QacQRXkQv"
    },
    {
      "cell_type": "code",
      "metadata": {
        "colab": {
          "base_uri": "https://localhost:8080/"
        },
        "outputId": "7ce26149-852b-4636-bd58-ebdda7ae189c",
        "id": "-ks_gXz-XkQv"
      },
      "source": [
        "l=[]\n",
        "for i in range(1886,1914):\n",
        "  l.append(i)\n",
        "\n",
        "x_train=df.loc[df['day']<=1885]\n",
        "x_valid=df.loc[df['day'].isin(l)]\n",
        "x_test=df.loc[df['day']>=1914]\n",
        "\n",
        "y_train=x_train['demand']\n",
        "y_valid=x_valid['demand']\n",
        "y_test=x_test['demand']\n",
        "\n",
        "x_train=x_train.drop(['demand'],axis=1)\n",
        "x_valid=x_valid.drop(['demand'],axis=1)\n",
        "x_test=x_test.drop(['demand'],axis=1)\n",
        "\n",
        "print(\"x_train {}\".format(x_train.shape),\"  y_train {}\".format(y_train.shape))\n",
        "print(\"\\nx_valid {}\".format(x_valid.shape),\"  y_valid {}\".format(y_valid.shape))\n",
        "print(\"\\nx_test {}\".format(x_test.shape),\"  y_test {}\".format(y_test.shape))"
      ],
      "execution_count": null,
      "outputs": [
        {
          "output_type": "stream",
          "name": "stdout",
          "text": [
            "x_train (23355340, 43)   y_train (23355340,)\n",
            "\n",
            "x_valid (853720, 43)   y_valid (853720,)\n",
            "\n",
            "x_test (853720, 43)   y_test (853720,)\n"
          ]
        }
      ],
      "id": "-ks_gXz-XkQv"
    },
    {
      "cell_type": "code",
      "source": [
        "import sys\n",
        "%reset_selective -f \"^df$\"\n",
        "%reset_selective -f \"^data_final$\""
      ],
      "metadata": {
        "id": "jhd-FjKIyaIM"
      },
      "id": "jhd-FjKIyaIM",
      "execution_count": null,
      "outputs": []
    },
    {
      "cell_type": "markdown",
      "metadata": {
        "heading_collapsed": true,
        "hidden": true,
        "id": "47e18b23"
      },
      "source": [
        "## LightGBM Regressor"
      ],
      "id": "47e18b23"
    },
    {
      "cell_type": "markdown",
      "metadata": {
        "hidden": true,
        "id": "68d0e100"
      },
      "source": [
        "`LightGBM` là một khung tăng cường độ dốc gradient dựa trên thuật toán cây phân cấp.\n",
        "\n",
        "`LightGBM` phát triển cây theo chiều dọc trong khi các thuật toán cây khác phát triển theo chiều ngang. Nghĩa là LightGBM sẽ phát triển theo nút lá, còn các thuật toán sẽ phát triển hết các node trên các cấp. Nó sẽ chọn lá với delta loss lớn nhất để phát triển, khi phát triển như vậy thì leaf-wise sẽ giảm thiểu tổn thất nhiều hơn so với level-wise.\n",
        "\n",
        "Cây ở LGBM xây dựng theo nhiều lần và mỗi cây mới được sử dụng để sửa “lỗi” \n",
        "của các cây trước đó. Như vậy sẽ nhanh chóng và mạnh mẽ, tuy nhiên cũng dễ bị over-fitting.\n",
        "\n",
        "![leaf-wise](https://drive.google.com/uc?export=view&id=1gW5hO0yp0l_-AAFuPQh9Bh52t3cmnFvg)\n",
        "![level-wise](https://drive.google.com/uc?export=view&id=1XxRzXrnyCYGlAlSarKlVxQp2-RFGWBOy)"
      ],
      "id": "68d0e100"
    },
    {
      "cell_type": "markdown",
      "metadata": {
        "hidden": true,
        "id": "23813fd8"
      },
      "source": [
        "`LightGBM` bắt đầu bằng từ light bởi vì tốc độ của nó rất nhanh. Kèm theo đó lightGBM có thể xử lý được dữ liệu lớn mà chỉ tiêu tốn ít bộ nhớ (RAM) để chạy nó. Và một lý do nữa mà khiến nó phổ biến là vì thuật toán tập trung vào sự chính xác của kết quả.\n",
        "\n",
        "Và điều đặt biệt lưu ý là không nên sử dụng LightGBM với lượng dữ liệu nhỏ, vì lightGBM rất dễ xảy ra hiện tượng overfiting với các tập dữ liệu có kích thước nhỏ. Dùng cho data hơn 10,000 dòng.\n",
        "\n",
        "LightGBM có hơn 100 tham số."
      ],
      "id": "23813fd8"
    },
    {
      "cell_type": "markdown",
      "metadata": {
        "hidden": true,
        "id": "38fe1075"
      },
      "source": [
        "### Control parameters\n",
        "\n",
        "- `max_depth`: độ sâu lớn nhất của cây, tham số này giúm xử lý vấn đề overfiting. Bất khi nào bạn thấy model của bạn bị overfiting hãy giảm tham số này.\n",
        "- `min_data_in_leaf`: số lượng dữ liệu nhỏ nhất mà một lá có thể có. Nó cũng được dùng để giải quyết overfiting.\n",
        "- `feature_fraction`: dùng để tăng cường. Ví dụ: 0.8 nghĩa là LightGBM sẽ chọn ra 80% các tham số ngẫu nhiên cho mỗi lần build tree.\n",
        "- `bagging_fraction`: dùng để chỉ định phần dữ liệu sẽ được sử dụng cho mỗi lần lặp lại và thường được sử dụng để tăng tốc quá trình đào tạo.\n",
        "- `early_stopping_round`: Tham số này thì dùng để tăng tốc độ phân tích cho mô hình. Mô hình sẽ ngừng đào tạo nếu một chỉ số của một dữ liệu không cải thiện trong số vòng của tham số Early_stopping_round đã đặt, giúp không lặp lại quá trình đào tạo nhiều lần mà không có kết quả cải thiện.\n",
        "- `lambda`: lambda chỉ định chính quy hóa. Giá trị nằm trong khoảng từ 0 đến 1. Nhằm tránh Overfitting.\n",
        "- `min_gain_to_split`: dùng để xác định mức tăng tối thiểu để thực hiện phân tách nhánh. Nó có thể được sử dụng để kiểm soát số lượng phân tách mà có hiệu quả trong cây.\n",
        "- `max_cat_group`: Khi số lượng phân loại là lớn, việc tìm kiếm điểm phân tách trên đó dễ gây ra hiện tượng over-fitting. Vì vậy, LightGBM hợp nhất chúng thành các nhóm ‘max_cat_group’ và tìm các điểm phân tách trên ranh giới nhóm, mặc định: 64."
      ],
      "id": "38fe1075"
    },
    {
      "cell_type": "markdown",
      "metadata": {
        "hidden": true,
        "id": "c5ac1a76"
      },
      "source": [
        "### Core parameters"
      ],
      "id": "c5ac1a76"
    },
    {
      "cell_type": "markdown",
      "metadata": {
        "id": "qzwoNGCaJQ5z"
      },
      "source": [
        "- `Task`: Tham số để chỉ định tác vụ bạn muốn thực hiện trên dữ liệu, có thể là huấn luyện hoặc dự đoán.\n",
        "- `application`: Đây là tham số quan trọng nhất và chỉ định ứng dụng cho mô hình của bạn, tức là bài toán hồi quy hay bài toán phân loại. LightGBM theo mặc định sẽ coi mô hình là một mô hình hồi quy.\n",
        "- `boosting`: xác định loại thuật toán bạn muốn chạy, mặc định là: gdbt\n",
        "- `num_boost_round`: Số lần lặp lại thúc đẩy, thường là 100 trở lên.\n",
        "- `learning_rate`: Điều này quyết định tác động của mỗi cây đến kết quả cuối cùng. GBM hoạt động bằng cách bắt đầu với ước tính ban đầu được cập nhật bằng cách sử dụng đầu ra của mỗi cây. Tham số này kiểm soát mức độ của thay đổi này trong các ước tính. Giá trị thường là: 0,1, 0,001, 0,003…\n",
        "- `num_leaves`: số lá trong toàn bộ cây, mặc định: 31\n",
        "- `device`: CPU hoặc GPU.\n"
      ],
      "id": "qzwoNGCaJQ5z"
    },
    {
      "cell_type": "markdown",
      "metadata": {
        "id": "2FcwSa-1Wtvv"
      },
      "source": [
        "### Train"
      ],
      "id": "2FcwSa-1Wtvv"
    },
    {
      "cell_type": "code",
      "source": [
        "from lightgbm import LGBMRegressor"
      ],
      "metadata": {
        "id": "RIBWCou7XkQv"
      },
      "execution_count": null,
      "outputs": [],
      "id": "RIBWCou7XkQv"
    },
    {
      "cell_type": "code",
      "source": [
        "def rmse(pred,value):\n",
        "    return np.sqrt(((pred-value)**2).mean())"
      ],
      "metadata": {
        "id": "HyUKn5MYXkQw"
      },
      "execution_count": null,
      "outputs": [],
      "id": "HyUKn5MYXkQw"
    },
    {
      "cell_type": "code",
      "source": [
        "learning_rate=0.034 \n",
        "max_depth=66 \n",
        "num_leaves=224\n",
        "lgb=LGBMRegressor(learning_rate=learning_rate,max_depth=max_depth,num_leaves=num_leaves)\n",
        "lgb.fit(x_train,y_train)\n",
        "y_pred=lgb.predict(x_valid)\n",
        "print(\"learning_rate: {}\".format(learning_rate),\"  max_depth: {}\".format(max_depth),\"  num_leaves: {}\".format(num_leaves),\"  Rmse: {}\".format(rmse(y_pred,y_valid)))"
      ],
      "metadata": {
        "colab": {
          "base_uri": "https://localhost:8080/"
        },
        "id": "0royIDWQuH1l",
        "outputId": "6fd58a99-65e2-4d33-ad4a-af211d9cc21f"
      },
      "execution_count": null,
      "outputs": [
        {
          "output_type": "stream",
          "name": "stdout",
          "text": [
            "learning_rate: 0.034   max_depth: 66   num_leaves: 224   Rmse: 1.737202791091725\n"
          ]
        }
      ],
      "id": "0royIDWQuH1l"
    },
    {
      "cell_type": "code",
      "source": [
        "sales_train_eval=pd.read_csv('sales_train_evaluation.csv')"
      ],
      "metadata": {
        "id": "T16sf0gsXkQw"
      },
      "execution_count": null,
      "outputs": [],
      "id": "T16sf0gsXkQw"
    },
    {
      "cell_type": "code",
      "metadata": {
        "id": "5efZdYFAXkQw"
      },
      "source": [
        "s1=pd.DataFrame()\n",
        "s2=pd.DataFrame()\n",
        "s1['id']=sales_train_eval['id'] \n",
        "j=1\n",
        "for i in range(1914,1942):\n",
        "  s1['F'+str(j)]=lgb.predict(x_test[x_test['day']==(i)]) \n",
        "  j+=1\n",
        "s1[\"id\"]=s1[\"id\"].apply(lambda x: x.replace('evaluation','validation'))\n",
        "s2=s1.copy()\n",
        "s2[\"id\"]=s1[\"id\"].apply(lambda x: x.replace('validation','evaluation'))\n",
        "submit_LGBM_Regressor_=pd.concat([s1,s2]).reset_index().drop(['index'],axis=1)"
      ],
      "execution_count": null,
      "outputs": [],
      "id": "5efZdYFAXkQw"
    },
    {
      "cell_type": "code",
      "metadata": {
        "colab": {
          "base_uri": "https://localhost:8080/",
          "height": 226
        },
        "id": "tfirvBhtXkQx",
        "outputId": "fdb7c759-3c1c-41aa-d5c9-6920c75391a5"
      },
      "source": [
        "submit_LGBM_Regressor_.head()"
      ],
      "execution_count": null,
      "outputs": [
        {
          "output_type": "execute_result",
          "data": {
            "text/html": [
              "<div>\n",
              "<style scoped>\n",
              "    .dataframe tbody tr th:only-of-type {\n",
              "        vertical-align: middle;\n",
              "    }\n",
              "\n",
              "    .dataframe tbody tr th {\n",
              "        vertical-align: top;\n",
              "    }\n",
              "\n",
              "    .dataframe thead th {\n",
              "        text-align: right;\n",
              "    }\n",
              "</style>\n",
              "<table border=\"1\" class=\"dataframe\">\n",
              "  <thead>\n",
              "    <tr style=\"text-align: right;\">\n",
              "      <th></th>\n",
              "      <th>id</th>\n",
              "      <th>F1</th>\n",
              "      <th>F2</th>\n",
              "      <th>F3</th>\n",
              "      <th>F4</th>\n",
              "      <th>F5</th>\n",
              "      <th>F6</th>\n",
              "      <th>F7</th>\n",
              "      <th>F8</th>\n",
              "      <th>F9</th>\n",
              "      <th>F10</th>\n",
              "      <th>F11</th>\n",
              "      <th>F12</th>\n",
              "      <th>F13</th>\n",
              "      <th>F14</th>\n",
              "      <th>F15</th>\n",
              "      <th>F16</th>\n",
              "      <th>F17</th>\n",
              "      <th>F18</th>\n",
              "      <th>F19</th>\n",
              "      <th>F20</th>\n",
              "      <th>F21</th>\n",
              "      <th>F22</th>\n",
              "      <th>F23</th>\n",
              "      <th>F24</th>\n",
              "      <th>F25</th>\n",
              "      <th>F26</th>\n",
              "      <th>F27</th>\n",
              "      <th>F28</th>\n",
              "    </tr>\n",
              "  </thead>\n",
              "  <tbody>\n",
              "    <tr>\n",
              "      <th>0</th>\n",
              "      <td>HOBBIES_1_001_CA_1_validation</td>\n",
              "      <td>0.962114</td>\n",
              "      <td>0.784472</td>\n",
              "      <td>0.674091</td>\n",
              "      <td>0.546998</td>\n",
              "      <td>0.557242</td>\n",
              "      <td>1.025453</td>\n",
              "      <td>1.735815</td>\n",
              "      <td>1.441079</td>\n",
              "      <td>1.395087</td>\n",
              "      <td>1.380657</td>\n",
              "      <td>1.270061</td>\n",
              "      <td>1.336490</td>\n",
              "      <td>1.535940</td>\n",
              "      <td>0.858100</td>\n",
              "      <td>0.962114</td>\n",
              "      <td>1.145610</td>\n",
              "      <td>1.145610</td>\n",
              "      <td>1.017762</td>\n",
              "      <td>1.336490</td>\n",
              "      <td>2.033009</td>\n",
              "      <td>1.870575</td>\n",
              "      <td>1.239836</td>\n",
              "      <td>0.915599</td>\n",
              "      <td>0.784472</td>\n",
              "      <td>1.161034</td>\n",
              "      <td>1.336490</td>\n",
              "      <td>1.025453</td>\n",
              "      <td>1.188545</td>\n",
              "    </tr>\n",
              "    <tr>\n",
              "      <th>1</th>\n",
              "      <td>HOBBIES_1_002_CA_1_validation</td>\n",
              "      <td>0.179332</td>\n",
              "      <td>0.311821</td>\n",
              "      <td>0.179332</td>\n",
              "      <td>0.179332</td>\n",
              "      <td>0.179332</td>\n",
              "      <td>0.186215</td>\n",
              "      <td>0.186215</td>\n",
              "      <td>0.179332</td>\n",
              "      <td>0.045677</td>\n",
              "      <td>0.179332</td>\n",
              "      <td>0.179332</td>\n",
              "      <td>0.179332</td>\n",
              "      <td>0.186215</td>\n",
              "      <td>0.186215</td>\n",
              "      <td>0.179332</td>\n",
              "      <td>0.179332</td>\n",
              "      <td>0.045677</td>\n",
              "      <td>0.045677</td>\n",
              "      <td>0.045677</td>\n",
              "      <td>0.186215</td>\n",
              "      <td>0.523919</td>\n",
              "      <td>0.560891</td>\n",
              "      <td>0.674091</td>\n",
              "      <td>0.710303</td>\n",
              "      <td>0.710303</td>\n",
              "      <td>0.726050</td>\n",
              "      <td>0.691800</td>\n",
              "      <td>0.348576</td>\n",
              "    </tr>\n",
              "    <tr>\n",
              "      <th>2</th>\n",
              "      <td>HOBBIES_1_003_CA_1_validation</td>\n",
              "      <td>0.699350</td>\n",
              "      <td>0.546998</td>\n",
              "      <td>0.546998</td>\n",
              "      <td>0.674091</td>\n",
              "      <td>0.557242</td>\n",
              "      <td>0.855051</td>\n",
              "      <td>0.865374</td>\n",
              "      <td>0.713671</td>\n",
              "      <td>0.698241</td>\n",
              "      <td>0.546998</td>\n",
              "      <td>0.431177</td>\n",
              "      <td>0.692022</td>\n",
              "      <td>0.691800</td>\n",
              "      <td>1.025453</td>\n",
              "      <td>0.818286</td>\n",
              "      <td>0.784472</td>\n",
              "      <td>0.915599</td>\n",
              "      <td>0.918648</td>\n",
              "      <td>0.810729</td>\n",
              "      <td>0.855051</td>\n",
              "      <td>0.693325</td>\n",
              "      <td>0.560891</td>\n",
              "      <td>0.546998</td>\n",
              "      <td>0.431177</td>\n",
              "      <td>0.674091</td>\n",
              "      <td>0.938808</td>\n",
              "      <td>1.188545</td>\n",
              "      <td>1.025453</td>\n",
              "    </tr>\n",
              "    <tr>\n",
              "      <th>3</th>\n",
              "      <td>HOBBIES_1_004_CA_1_validation</td>\n",
              "      <td>1.866811</td>\n",
              "      <td>1.598674</td>\n",
              "      <td>1.730672</td>\n",
              "      <td>1.846180</td>\n",
              "      <td>2.122545</td>\n",
              "      <td>1.708925</td>\n",
              "      <td>2.428445</td>\n",
              "      <td>2.569789</td>\n",
              "      <td>2.486811</td>\n",
              "      <td>2.088530</td>\n",
              "      <td>1.841154</td>\n",
              "      <td>1.746958</td>\n",
              "      <td>2.419191</td>\n",
              "      <td>2.014817</td>\n",
              "      <td>1.376051</td>\n",
              "      <td>1.377608</td>\n",
              "      <td>1.472240</td>\n",
              "      <td>1.598769</td>\n",
              "      <td>1.556359</td>\n",
              "      <td>1.880300</td>\n",
              "      <td>1.203968</td>\n",
              "      <td>1.264362</td>\n",
              "      <td>1.017762</td>\n",
              "      <td>1.017762</td>\n",
              "      <td>1.264502</td>\n",
              "      <td>1.225569</td>\n",
              "      <td>1.713982</td>\n",
              "      <td>2.779683</td>\n",
              "    </tr>\n",
              "    <tr>\n",
              "      <th>4</th>\n",
              "      <td>HOBBIES_1_005_CA_1_validation</td>\n",
              "      <td>1.720958</td>\n",
              "      <td>1.454432</td>\n",
              "      <td>1.634733</td>\n",
              "      <td>1.769416</td>\n",
              "      <td>1.744584</td>\n",
              "      <td>1.878419</td>\n",
              "      <td>1.750705</td>\n",
              "      <td>1.571466</td>\n",
              "      <td>1.930121</td>\n",
              "      <td>1.597919</td>\n",
              "      <td>1.364622</td>\n",
              "      <td>1.745434</td>\n",
              "      <td>2.559212</td>\n",
              "      <td>2.451189</td>\n",
              "      <td>1.994795</td>\n",
              "      <td>1.730672</td>\n",
              "      <td>1.847030</td>\n",
              "      <td>1.957236</td>\n",
              "      <td>1.746958</td>\n",
              "      <td>1.870575</td>\n",
              "      <td>1.362632</td>\n",
              "      <td>1.087053</td>\n",
              "      <td>0.915599</td>\n",
              "      <td>0.674091</td>\n",
              "      <td>0.431177</td>\n",
              "      <td>0.695071</td>\n",
              "      <td>1.028502</td>\n",
              "      <td>1.031992</td>\n",
              "    </tr>\n",
              "  </tbody>\n",
              "</table>\n",
              "</div>"
            ],
            "text/plain": [
              "                              id        F1  ...       F27       F28\n",
              "0  HOBBIES_1_001_CA_1_validation  0.962114  ...  1.025453  1.188545\n",
              "1  HOBBIES_1_002_CA_1_validation  0.179332  ...  0.691800  0.348576\n",
              "2  HOBBIES_1_003_CA_1_validation  0.699350  ...  1.188545  1.025453\n",
              "3  HOBBIES_1_004_CA_1_validation  1.866811  ...  1.713982  2.779683\n",
              "4  HOBBIES_1_005_CA_1_validation  1.720958  ...  1.028502  1.031992\n",
              "\n",
              "[5 rows x 29 columns]"
            ]
          },
          "metadata": {},
          "execution_count": 13
        }
      ],
      "id": "tfirvBhtXkQx"
    },
    {
      "cell_type": "code",
      "metadata": {
        "id": "MfFqZYLwXkQx"
      },
      "source": [
        "submit_LGBM_Regressor_.to_csv(\"submit_LGBM_Regressor_test_3.csv\",index=False)"
      ],
      "execution_count": null,
      "outputs": [],
      "id": "MfFqZYLwXkQx"
    },
    {
      "cell_type": "markdown",
      "source": [
        "## Submit Kaggle"
      ],
      "metadata": {
        "id": "KQ249Knlymyb"
      },
      "id": "KQ249Knlymyb"
    },
    {
      "cell_type": "code",
      "source": [
        "from google.colab import files\n",
        "files.upload()"
      ],
      "metadata": {
        "id": "lneMFujTZpQB",
        "outputId": "97873d86-67a2-434c-ebdd-4433a36985b2",
        "colab": {
          "base_uri": "https://localhost:8080/",
          "height": 93,
          "resources": {
            "http://localhost:8080/nbextensions/google.colab/files.js": {
              "data": "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",
              "ok": true,
              "headers": [
                [
                  "content-type",
                  "application/javascript"
                ]
              ],
              "status": 200,
              "status_text": ""
            }
          }
        }
      },
      "execution_count": null,
      "outputs": [
        {
          "output_type": "display_data",
          "data": {
            "text/html": [
              "\n",
              "     <input type=\"file\" id=\"files-4e9128f5-eec7-4e92-a31f-65c26bb57b9d\" name=\"files[]\" multiple disabled\n",
              "        style=\"border:none\" />\n",
              "     <output id=\"result-4e9128f5-eec7-4e92-a31f-65c26bb57b9d\">\n",
              "      Upload widget is only available when the cell has been executed in the\n",
              "      current browser session. Please rerun this cell to enable.\n",
              "      </output>\n",
              "      <script src=\"/nbextensions/google.colab/files.js\"></script> "
            ],
            "text/plain": [
              "<IPython.core.display.HTML object>"
            ]
          },
          "metadata": {}
        },
        {
          "output_type": "stream",
          "name": "stdout",
          "text": [
            "Saving kaggle.json to kaggle (2).json\n"
          ]
        },
        {
          "output_type": "execute_result",
          "data": {
            "text/plain": [
              "{'kaggle.json': b'{\"username\":\"thnhha\",\"key\":\"62e775b3f610ae3936ca8f0076bc5e46\"}'}"
            ]
          },
          "metadata": {},
          "execution_count": 19
        }
      ],
      "id": "lneMFujTZpQB"
    },
    {
      "cell_type": "code",
      "source": [
        "!mkdir -p ~/.kaggle\n",
        "!cp kaggle.json ~/.kaggle/"
      ],
      "metadata": {
        "id": "wbYcqB_3aNlh"
      },
      "execution_count": null,
      "outputs": [],
      "id": "wbYcqB_3aNlh"
    },
    {
      "cell_type": "code",
      "source": [
        "!kaggle competitions submit -c m5-forecasting-accuracy -f submit_LGBM_Regressor_test_3.csv -m \"Message\""
      ],
      "metadata": {
        "colab": {
          "base_uri": "https://localhost:8080/"
        },
        "id": "v8_cG7d6XiZ1",
        "outputId": "3cc2095b-ce24-4c9e-c58d-7837a184b7c7"
      },
      "execution_count": null,
      "outputs": [
        {
          "output_type": "stream",
          "name": "stdout",
          "text": [
            "Warning: Looks like you're using an outdated API Version, please consider updating (server 1.5.12 / client 1.5.4)\n",
            "100% 33.1M/33.1M [00:07<00:00, 4.35MB/s]\n",
            "Successfully submitted to M5 Forecasting - Accuracy"
          ]
        }
      ],
      "id": "v8_cG7d6XiZ1"
    },
    {
      "cell_type": "markdown",
      "source": [
        "**Private Score:** Cải thiện tốt nhất hiện tại: 0.67380.\n",
        "Thời gian Feature ít hơn 2 tiếng.<br>\n",
        "Điểm gốc tác giả: 0.67749"
      ],
      "metadata": {
        "id": "r1j6ldlmy1nS"
      },
      "id": "r1j6ldlmy1nS"
    },
    {
      "cell_type": "markdown",
      "source": [
        "![private_score](https://drive.google.com/uc?export=view&id=1yhV5v8hV400gxy0b3__5yQ1DrkFobu25)"
      ],
      "metadata": {
        "id": "e0XRrskD1gvP"
      },
      "id": "e0XRrskD1gvP"
    }
  ]
}